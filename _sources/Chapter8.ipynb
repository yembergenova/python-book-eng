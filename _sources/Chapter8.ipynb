{
 "cells": [
  {
   "cell_type": "markdown",
   "id": "3edd889f",
   "metadata": {},
   "source": [
    "# Graph Shortest Paths\n"
   ]
  },
  {
   "cell_type": "markdown",
   "id": "156ac1cb",
   "metadata": {},
   "source": [
    "<h2> 1. Motivation/Intuition</h2>"
   ]
  },
  {
   "cell_type": "markdown",
   "id": "cd1f5911",
   "metadata": {},
   "source": [
    "With many practical uses, determining the shortest path within a graph is a basic computer science problem. Shortest path algorithms are essential to many tasks, such as using a GPS to navigate through a city, optimizing routes in a logistics network, and figuring out the quickest method to deliver data over the internet."
   ]
  },
  {
   "cell_type": "markdown",
   "id": "ac4c7770",
   "metadata": {},
   "source": [
    "<h3><font color='black'>Real world examples:</font></h3>\n"
   ]
  },
  {
   "cell_type": "markdown",
   "id": "3b131e70",
   "metadata": {},
   "source": [
    "<b> GPS Navigation: </b> When you use a GPS device to find the quickest route to your destination, it relies on shortest path algorithms to compute the best path through the road network. \n",
    "\n",
    "<b> Network Routing: </b> The internet uses shortest path algorithms to direct data packets efficiently from source to destination, ensuring quick and reliable communication.\n",
    "\n",
    "<b> Logistics and Supply Chain Management: </b> Companies like Amazon and FedEx use these algorithms to optimize delivery routes, minimizing costs and delivery times"
   ]
  },
  {
   "cell_type": "markdown",
   "id": "3aaafb53",
   "metadata": {},
   "source": [
    "<h2> 2. Concept 1: Dijkstra's Algorithm </h2>"
   ]
  },
  {
   "cell_type": "markdown",
   "id": "2617b7e4",
   "metadata": {},
   "source": [
    "<h3> 2.1. Intuition </h3>\n"
   ]
  },
  {
   "cell_type": "markdown",
   "id": "7b9d0f78",
   "metadata": {},
   "source": [
    "Dijkstra's algorithm is a greedy algorithm designed to find the shortest path from a single source node to all other nodes in a weighted graph with non-negative weights.The goal is to examine paths according to their distance from the source, making sure that the shortest path for a node remains constant after it has been identified.\n",
    "\n",
    "Imagine it as navigating a map with each city as a node and the highways connecting them as edges with weights representing the distances between them. You always opt to travel to the closest city you haven't yet visited, starting from your current location and updating your shortest known paths along the way.\n",
    "\n",
    "The idea is to generate a SPT (shortest path tree) with a given source as a root. Maintain an Adjacency Matrix with two sets, \n",
    "\n",
    "- one set contains vertices included in the shortest-path tree\n",
    "\n",
    "- other set includes vertices not yet included in the shortest-path tree. "
   ]
  },
  {
   "cell_type": "markdown",
   "id": "84c07d8b",
   "metadata": {},
   "source": [
    "<h3> 2.2. Example </h3>"
   ]
  },
  {
   "cell_type": "markdown",
   "id": "e68eb48b",
   "metadata": {},
   "source": [
    "Consider below graph and <i> src = 0 </i>"
   ]
  },
  {
   "cell_type": "markdown",
   "id": "aa262f43",
   "metadata": {},
   "source": [
    "<center>\n",
    "<img src=\"https://media.geeksforgeeks.org/wp-content/uploads/20240111182238/Working-of-Dijkstras-Algorithm-768.jpg\" width=750>\n",
    "</center>"
   ]
  },
  {
   "cell_type": "markdown",
   "id": "ab007975",
   "metadata": {},
   "source": [
    "<b> Step 1: </b>\n",
    "\n",
    "- The set sptSet is initially empty and distances assigned to vertices are {0, INF, INF, INF, INF, INF, INF, INF} where INF indicates infinite. \n",
    "\n",
    "- Now pick the vertex with a minimum distance value. The vertex 0 is picked, include it in sptSet. So sptSet becomes {0}. After including 0 to sptSet, update distance values of its adjacent vertices. \n",
    "\n",
    "- Adjacent vertices of 0 are 1 and 7. The distance values of 1 and 7 are updated as 4 and 8. \n",
    "\n",
    "The following subgraph shows vertices and their distance values, only the vertices with finite distance values are shown. The vertices included in SPT are shown in green colour."
   ]
  },
  {
   "cell_type": "markdown",
   "id": "22f5d53d",
   "metadata": {},
   "source": [
    "<center>\n",
    "<img src=\"https://media.geeksforgeeks.org/wp-content/uploads/20231121131452/6.jpg\" width=750>\n",
    "</center>"
   ]
  },
  {
   "cell_type": "markdown",
   "id": "fb42eb10",
   "metadata": {},
   "source": [
    "<b> Step 2: </b>\n",
    "\n",
    "-Pick the vertex with minimum distance value and not already included in SPT (not in sptSET). The vertex 1 is picked and added to sptSet.\n",
    "\n",
    "-So sptSet now becomes {0, 1}. Update the distance values of adjacent vertices of 1. \n",
    "\n",
    "-The distance value of vertex 2 becomes 12.\n"
   ]
  },
  {
   "cell_type": "markdown",
   "id": "430b40b9",
   "metadata": {},
   "source": [
    "<center>\n",
    "<img src=\"https://media.geeksforgeeks.org/wp-content/uploads/20231121131946/4.jpg\" width=750>\n",
    "</center>"
   ]
  },
  {
   "cell_type": "markdown",
   "id": "fa359261",
   "metadata": {},
   "source": [
    "<b> Step 3: </b> \n",
    "\n",
    "-Pick the vertex with minimum distance value and not already included in SPT (not in sptSET). Vertex 7 is picked. So sptSet now becomes {0, 1, 7}. \n",
    "\n",
    "-Update the distance values of adjacent vertices of 7. The distance value of vertex 6 and 8 becomes finite (15 and 9 respectively). "
   ]
  },
  {
   "cell_type": "markdown",
   "id": "d5a00b46",
   "metadata": {},
   "source": [
    "<center>\n",
    "<img src=\"https://media.geeksforgeeks.org/wp-content/uploads/20231121132026/5.jpg\" width=750>\n",
    "</center>"
   ]
  },
  {
   "cell_type": "markdown",
   "id": "aa7c121a",
   "metadata": {},
   "source": [
    "<b> Step 4: </b>\n",
    "\n",
    "-Pick the vertex with minimum distance value and not already included in SPT (not in sptSET). Vertex 6 is picked. So sptSet now becomes {0, 1, 7, 6}. \n",
    "\n",
    "-Update the distance values of adjacent vertices of 6. The distance value of vertex 5 and 8 are updated."
   ]
  },
  {
   "cell_type": "markdown",
   "id": "72093d55",
   "metadata": {},
   "source": [
    "<center>\n",
    "<img src=\"https://media.geeksforgeeks.org/wp-content/uploads/20231121132105/3-(1).jpg\" width=750>\n",
    "</center>"
   ]
  },
  {
   "cell_type": "markdown",
   "id": "83346aa0",
   "metadata": {},
   "source": [
    "We repeat the above steps until sptSet includes all vertices of the given graph. Finally, we get the following Shortest Path Tree (SPT)."
   ]
  },
  {
   "cell_type": "markdown",
   "id": "842d800c",
   "metadata": {},
   "source": [
    "<center>\n",
    "<img src=\"https://media.geeksforgeeks.org/wp-content/uploads/20231121132145/2-(2).jpg\" width=750>\n",
    "</center>"
   ]
  },
  {
   "cell_type": "markdown",
   "id": "17d09dcd",
   "metadata": {},
   "source": [
    "<h3> 2.3 Code </h3>"
   ]
  },
  {
   "cell_type": "code",
   "execution_count": 12,
   "id": "190e48e9",
   "metadata": {},
   "outputs": [
    {
     "name": "stdout",
     "output_type": "stream",
     "text": [
      "Vertex \tDistance from Source\n",
      "0 \t 0\n",
      "1 \t 4\n",
      "2 \t 12\n",
      "3 \t 19\n",
      "4 \t 21\n",
      "5 \t 11\n",
      "6 \t 9\n",
      "7 \t 8\n",
      "8 \t 14\n"
     ]
    }
   ],
   "source": [
    "# Python program for Dijkstra's single\n",
    "# source shortest path algorithm. The program is\n",
    "# for adjacency matrix representation of the graph\n",
    "\n",
    "# Library for INT_MAX\n",
    "import sys\n",
    "\n",
    "\n",
    "class Graph():\n",
    "\n",
    "    def __init__(self, vertices):\n",
    "        self.V = vertices\n",
    "        self.graph = [[0 for column in range(vertices)]\n",
    "                      for row in range(vertices)]\n",
    "\n",
    "    def printSolution(self, dist):\n",
    "        print(\"Vertex \\tDistance from Source\")\n",
    "        for node in range(self.V):\n",
    "            print(node, \"\\t\", dist[node])\n",
    "\n",
    "    # A utility function to find the vertex with\n",
    "    # minimum distance value, from the set of vertices\n",
    "    # not yet included in shortest path tree\n",
    "    def minDistance(self, dist, sptSet):\n",
    "\n",
    "        # Initialize minimum distance for next node\n",
    "        min = sys.maxsize\n",
    "\n",
    "        # Search not nearest vertex not in the\n",
    "        # shortest path tree\n",
    "        for u in range(self.V):\n",
    "            if dist[u] < min and sptSet[u] == False:\n",
    "                min = dist[u]\n",
    "                min_index = u\n",
    "\n",
    "        return min_index\n",
    "\n",
    "    # Function that implements Dijkstra's single source\n",
    "    # shortest path algorithm for a graph represented\n",
    "    # using adjacency matrix representation\n",
    "    def dijkstra(self, src):\n",
    "\n",
    "        dist = [sys.maxsize] * self.V\n",
    "        dist[src] = 0\n",
    "        sptSet = [False] * self.V\n",
    "\n",
    "        for cout in range(self.V):\n",
    "\n",
    "            # Pick the minimum distance vertex from\n",
    "            # the set of vertices not yet processed.\n",
    "            # x is always equal to src in first iteration\n",
    "            x = self.minDistance(dist, sptSet)\n",
    "\n",
    "            # Put the minimum distance vertex in the\n",
    "            # shortest path tree\n",
    "            sptSet[x] = True\n",
    "\n",
    "            # Update dist value of the adjacent vertices\n",
    "            # of the picked vertex only if the current\n",
    "            # distance is greater than new distance and\n",
    "            # the vertex in not in the shortest path tree\n",
    "            for y in range(self.V):\n",
    "                if self.graph[x][y] > 0 and sptSet[y] == False and \\\n",
    "                        dist[y] > dist[x] + self.graph[x][y]:\n",
    "                    dist[y] = dist[x] + self.graph[x][y]\n",
    "\n",
    "        self.printSolution(dist)\n",
    "\n",
    "\n",
    "# Driver's code\n",
    "if __name__ == \"__main__\":\n",
    "    g = Graph(9)\n",
    "    g.graph = [[0, 4, 0, 0, 0, 0, 0, 8, 0],\n",
    "               [4, 0, 8, 0, 0, 0, 0, 11, 0],\n",
    "               [0, 8, 0, 7, 0, 4, 0, 0, 2],\n",
    "               [0, 0, 7, 0, 9, 14, 0, 0, 0],\n",
    "               [0, 0, 0, 9, 0, 10, 0, 0, 0],\n",
    "               [0, 0, 4, 14, 10, 0, 2, 0, 0],\n",
    "               [0, 0, 0, 0, 0, 2, 0, 1, 6],\n",
    "               [8, 11, 0, 0, 0, 0, 1, 0, 7],\n",
    "               [0, 0, 2, 0, 0, 0, 6, 7, 0]\n",
    "               ]\n",
    "\n",
    "    g.dijkstra(0)\n",
    "\n"
   ]
  },
  {
   "cell_type": "markdown",
   "id": "be16cb8d",
   "metadata": {},
   "source": [
    "<h2> 3. Concept 2: Bellman-Ford Algorithm </h2>"
   ]
  },
  {
   "cell_type": "markdown",
   "id": "87debddd",
   "metadata": {},
   "source": [
    "<h3> 3.1 Intuition </h1>"
   ]
  },
  {
   "cell_type": "markdown",
   "id": "abcb28b1",
   "metadata": {},
   "source": [
    "Bellman-Ford is another algorithm for finding the shortest paths from a single source to all other nodes in a graph. It can handle graphs with negative weights, unlike Dijkstra's. In order to update the shortest path estimates, iteratively relaxing each edge in the graph is how it operates.\n",
    "\n",
    "Bellman-Ford is very helpful in identifying negative weight cycles, which are cycles in which the overall weight is negative. The technique can detect the existence of such cycles, which is important for applications such as financial modeling and certain optimization issues."
   ]
  },
  {
   "cell_type": "markdown",
   "id": "0eece400",
   "metadata": {},
   "source": [
    "<h3> 3.2 Example </h3> "
   ]
  },
  {
   "cell_type": "markdown",
   "id": "74145c7f",
   "metadata": {},
   "source": [
    "Let’s suppose we have a graph which is given below and we want to find whether there exists a negative cycle or not using Bellman-Ford."
   ]
  },
  {
   "cell_type": "markdown",
   "id": "2f0c5c71",
   "metadata": {},
   "source": [
    "<center>\n",
    "<img src=\"https://media.geeksforgeeks.org/wp-content/uploads/20230816131246/Bellman-Ford-To-Detect-A-Negative-Cycle-In-A-Graph.png\" width=750>\n",
    "</center>"
   ]
  },
  {
   "cell_type": "markdown",
   "id": "c6fee555",
   "metadata": {},
   "source": [
    "<b> Step 1: </b> Initialize a distance array Dist[] to store the shortest distance for each vertex from the source vertex. Initially distance of source will be 0 and Distance of other vertices will be INFINITY."
   ]
  },
  {
   "cell_type": "markdown",
   "id": "2336aef2",
   "metadata": {},
   "source": [
    "<center>\n",
    "<img src=\"https://media.geeksforgeeks.org/wp-content/uploads/20230816131322/file.png\" width=750>\n",
    "</center>"
   ]
  },
  {
   "cell_type": "markdown",
   "id": "dc673c3d",
   "metadata": {},
   "source": [
    "<b> Step 2: </b> Start relaxing the edges, during 1st Relaxation:\n",
    "\n",
    "Current Distance of B > (Distance of A) + (Weight of A to B) i.e. Infinity > 0 + 5\n",
    "\n",
    "- Therefore, Dist[B] = 5"
   ]
  },
  {
   "cell_type": "markdown",
   "id": "176225c9",
   "metadata": {},
   "source": [
    "<center>\n",
    "<img src=\"https://media.geeksforgeeks.org/wp-content/uploads/20230816153449/file.png\" width=750>\n",
    "</center>"
   ]
  },
  {
   "cell_type": "markdown",
   "id": "f02a9be2",
   "metadata": {},
   "source": [
    "<b> Step 3: </b> \n",
    "During 2nd Relaxation:\n",
    "\n",
    "Current Distance of D > (Distance of B) + (Weight of B to D) i.e. Infinity > 5 + 2\n",
    "\n",
    "- Dist[D] = 7\n",
    "\n",
    "Current Distance of C > (Distance of B) + (Weight of B to C) i.e. Infinity > 5 + 1\n",
    "\n",
    "- Dist[C] = 6"
   ]
  },
  {
   "cell_type": "markdown",
   "id": "cdb9ec47",
   "metadata": {},
   "source": [
    "<center>\n",
    "<img src=\"https://media.geeksforgeeks.org/wp-content/uploads/20230816131450/file.png\" width=750>\n",
    "</center>"
   ]
  },
  {
   "cell_type": "markdown",
   "id": "598c8a83",
   "metadata": {},
   "source": [
    "<b> Step 4: </b>  During 3rd Relaxation:\n",
    "\n",
    "Current Distance of F > (Distance of D ) + (Weight of D to F) i.e. Infinity > 7 + 2\n",
    "\n",
    "- Dist[F] = 9\n",
    "\n",
    "Current Distance of E > (Distance of C ) + (Weight of C to E) i.e. Infinity > 6 + 1\n",
    "\n",
    "- Dist[E] = 7"
   ]
  },
  {
   "cell_type": "markdown",
   "id": "01b6968e",
   "metadata": {},
   "source": [
    "<center>\n",
    "<img src=\"https://media.geeksforgeeks.org/wp-content/uploads/20230816132008/file.png\" width=750>\n",
    "</center>"
   ]
  },
  {
   "cell_type": "markdown",
   "id": "2c7d35aa",
   "metadata": {},
   "source": [
    "<b> Step 5: </b> During 4th Relaxation:\n",
    "\n",
    "Current Distance of D > (Distance of E) + (Weight of E to D) i.e. 7 > 7 + (-1)\n",
    "\n",
    "- Dist[D] = 6\n",
    "\n",
    "Current Distance of E > (Distance of F ) + (Weight of F to E) i.e. 7 > 9 + (-3)\n",
    "\n",
    "- Dist[E] = 6"
   ]
  },
  {
   "cell_type": "markdown",
   "id": "fbafb193",
   "metadata": {},
   "source": [
    "<center>\n",
    "<img src=\"https://media.geeksforgeeks.org/wp-content/uploads/20230816132039/file.png\" width=750>\n",
    "</center>"
   ]
  },
  {
   "cell_type": "markdown",
   "id": "0e27e3d4",
   "metadata": {},
   "source": [
    "<b> Step 6: </b> During 5th Relaxation:\n",
    "\n",
    "Current Distance of F > (Distance of D) + (Weight of D to F) i.e. 9 > 6 + 2\n",
    "- Dist[F] = 8\n",
    "\n",
    "Current Distance of D > (Distance of E ) + (Weight of E to D) i.e. 6 > 6 + (-1)\n",
    "- Dist[D] = 5\n",
    "\n",
    "Since the graph h 6 vertices, So during the 5th relaxation the shortest distance for all the vertices should have been calculated."
   ]
  },
  {
   "cell_type": "markdown",
   "id": "461784df",
   "metadata": {},
   "source": [
    "<center>\n",
    "<img src=\"https://media.geeksforgeeks.org/wp-content/uploads/20230816132100/file.png\" width=750>\n",
    "</center>"
   ]
  },
  {
   "cell_type": "markdown",
   "id": "6833ebda",
   "metadata": {},
   "source": [
    "<b> Step 7: </b> Now the final relaxation i.e. the 6th relaxation should indicate the presence of negative cycle if there is any changes in the distance array of 5th relaxation.\n",
    "\n",
    "During the 6th relaxation, following changes can be seen:\n",
    "\n",
    "Current Distance of E > (Distance of F) + (Weight of F to E) i.e. 6 > 8 + (-3)\n",
    "- Dist[E]=5\n",
    "\n",
    "Current Distance of F > (Distance of D ) + (Weight of D to F) i.e. 8 > 5 + 2\n",
    "- Dist[F]=7\n",
    "\n",
    "Since, we observer changes in the Distance array Hence ,we can conclude the presence of a negative cycle in the graph."
   ]
  },
  {
   "cell_type": "markdown",
   "id": "042a84d1",
   "metadata": {},
   "source": [
    "<center>\n",
    "<img src=\"https://media.geeksforgeeks.org/wp-content/uploads/20230816132118/file.png\" width=750>\n",
    "</center>"
   ]
  },
  {
   "cell_type": "markdown",
   "id": "cdfd8ba5",
   "metadata": {},
   "source": [
    "<b> Result:</b> A negative cycle (D->F->E) exists in the graph."
   ]
  },
  {
   "cell_type": "markdown",
   "id": "56cf55b3",
   "metadata": {},
   "source": [
    "<h3> 3.3 Code </h3>"
   ]
  },
  {
   "cell_type": "code",
   "execution_count": 15,
   "id": "af251c9b",
   "metadata": {},
   "outputs": [
    {
     "name": "stdout",
     "output_type": "stream",
     "text": [
      "Vertex Distance from Source\n",
      "0\t\t0\n",
      "1\t\t-1\n",
      "2\t\t2\n",
      "3\t\t-2\n",
      "4\t\t1\n"
     ]
    }
   ],
   "source": [
    "# Python3 program for Bellman-Ford's single source\n",
    "# shortest path algorithm.\n",
    "\n",
    "# Class to represent a graph\n",
    "\n",
    "class Graph:\n",
    "\n",
    "    def __init__(self, vertices):\n",
    "        self.V = vertices  # No. of vertices\n",
    "        self.graph = []\n",
    "\n",
    "    # function to add an edge to graph\n",
    "    def addEdge(self, u, v, w):\n",
    "        self.graph.append([u, v, w])\n",
    "\n",
    "    # utility function used to print the solution\n",
    "    def printArr(self, dist):\n",
    "        print(\"Vertex Distance from Source\")\n",
    "        for i in range(self.V):\n",
    "            print(\"{0}\\t\\t{1}\".format(i, dist[i]))\n",
    "\n",
    "    # The main function that finds shortest distances from src to\n",
    "    # all other vertices using Bellman-Ford algorithm. The function\n",
    "    # also detects negative weight cycle\n",
    "    def BellmanFord(self, src):\n",
    "\n",
    "        # Step 1: Initialize distances from src to all other vertices\n",
    "        # as INFINITE\n",
    "        dist = [float(\"Inf\")] * self.V\n",
    "        dist[src] = 0\n",
    "\n",
    "        # Step 2: Relax all edges |V| - 1 times. A simple shortest\n",
    "        # path from src to any other vertex can have at-most |V| - 1\n",
    "        # edges\n",
    "        for _ in range(self.V - 1):\n",
    "            # Update dist value and parent index of the adjacent vertices of\n",
    "            # the picked vertex. Consider only those vertices which are still in\n",
    "            # queue\n",
    "            for u, v, w in self.graph:\n",
    "                if dist[u] != float(\"Inf\") and dist[u] + w < dist[v]:\n",
    "                    dist[v] = dist[u] + w\n",
    "\n",
    "        # Step 3: check for negative-weight cycles. The above step\n",
    "        # guarantees shortest distances if graph doesn't contain\n",
    "        # negative weight cycle. If we get a shorter path, then there\n",
    "        # is a cycle.\n",
    "\n",
    "        for u, v, w in self.graph:\n",
    "            if dist[u] != float(\"Inf\") and dist[u] + w < dist[v]:\n",
    "                print(\"Graph contains negative weight cycle\")\n",
    "                return\n",
    "\n",
    "        # print all distance\n",
    "        self.printArr(dist)\n",
    "\n",
    "\n",
    "# Driver's code\n",
    "if __name__ == '__main__':\n",
    "    g = Graph(5)\n",
    "    g.addEdge(0, 1, -1)\n",
    "    g.addEdge(0, 2, 4)\n",
    "    g.addEdge(1, 2, 3)\n",
    "    g.addEdge(1, 3, 2)\n",
    "    g.addEdge(1, 4, 2)\n",
    "    g.addEdge(3, 2, 5)\n",
    "    g.addEdge(3, 1, 1)\n",
    "    g.addEdge(4, 3, -3)\n",
    "\n",
    "    # function call\n",
    "    g.BellmanFord(0)\n",
    "\n",
    "# Initially, Contributed by Neelam Yadav\n",
    "# Later On, Edited by Himanshu Garg\n"
   ]
  },
  {
   "cell_type": "markdown",
   "id": "bd88377c",
   "metadata": {},
   "source": [
    "<h2> 4. Leetcode Problems related to this topic: </h2>\n"
   ]
  },
  {
   "cell_type": "markdown",
   "id": "45ef0b09",
   "metadata": {},
   "source": [
    "<h3> 4.1 Problem 1: Evaluate Division </h3>"
   ]
  },
  {
   "cell_type": "markdown",
   "id": "e6b76553",
   "metadata": {},
   "source": [
    "<h3> 4.1.1 Problem Statement </h3>"
   ]
  },
  {
   "cell_type": "markdown",
   "id": "a81cdd0c",
   "metadata": {},
   "source": [
    "You are given an array of variable pairs <i> equations </i> and an array of real numbers <i> values, </i> where <i>equations[i] = [Ai, Bi]</i> and <i>values[i] </i>represent the equation  <i> Ai / Bi = values[i]. </i> Each <i> Ai or Bi </i> is a string that represents a single variable.\n",
    "\n",
    "You are also given some <i> queries </i>, where <i>queries[j] = [Cj, Dj] </i>represents the jth query where you must find the answer for <i>Cj / Dj = ?</i>.\n",
    "\n",
    "Return the answers to all <i>queries</i>. If a single answer cannot be determined, return <b>-1.0. </b>\n",
    "\n",
    "<b>Note:</b> The input is always valid. You may assume that evaluating the queries will not result in division by zero and that there is no contradiction.\n",
    "\n",
    "<b>Note: </b>The variables that do not occur in the list of equations are undefined, so the answer cannot be determined for them."
   ]
  },
  {
   "cell_type": "markdown",
   "id": "4ffdec2a",
   "metadata": {},
   "source": [
    "<h3> 4.1.2 Intuition </h3>"
   ]
  },
  {
   "cell_type": "markdown",
   "id": "6addcd8d",
   "metadata": {},
   "source": [
    "The problem can be viewed as finding a path in a graph from the dividend node to the divisor node while keeping track of the product of the edge values. Each node represents a variable, and the edge values represent the division results between variables. By performing a BFS, we can explore all possible paths and find the division result if it exists.\n",
    "\n",
    "By building the graph and using BFS, we can efficiently evaluate the division queries by traversing the graph and multiplying the edge values encountered along the way. If the query variables are not present in the graph or if the destination variable is not reachable from the source variable, we return -1 to indicate that the division result is not possible.\n",
    "\n",
    "<b>For example: </b>\n",
    "\n",
    "Input: equations = [[\"a\",\"b\"],[\"b\",\"c\"]], values = [2.0,3.0], queries = [[\"a\",\"c\"],[\"b\",\"a\"],[\"a\",\"e\"],[\"a\",\"a\"],[\"x\",\"x\"]]\n",
    "\n",
    "Output: [6.00000,0.50000,-1.00000,1.00000,-1.00000]\n",
    "\n",
    "Explanation: \n",
    "\n",
    "Given: a / b = 2.0, b / c = 3.0\n",
    "\n",
    "queries are: \n",
    "\n",
    "\\begin{align}\n",
    "\\frac{a}{c} = \\frac{a}{b} * \\frac{b}{c} = 6; && \\frac{b}{a} = \\frac{1}{2}; && \\frac{a}{e} = -1; && \\frac{a}{a} = 1; && \\frac{x}{x}  = -1 \n",
    "\\end{align}\n",
    "\n",
    "<i> x is not present, therefore it is -1</i>\n",
    "\n",
    "\n",
    "return: [6.0, 0.5, -1.0, 1.0, -1.0 ]\n",
    "note: x is undefined => -1.0\n",
    "\n",
    "<b>Building the Graph:</b>\n",
    "\n",
    "- We first construct the graph from the given equations and values using an adjacency list representation.\n",
    "\n",
    "<b>DFS Implementation:</b>\n",
    "\n",
    "- The dfs method performs the depth-first search, accumulating the product of weights along the path and updating the answer when the destination node is reached.\n",
    "\n",
    "<b>Handling Queries:</b>\n",
    "\n",
    "- For each query, we initiate a DFS from the dividend node to the divisor node, if they exist in the graph. We use a set to keep track of visited nodes to avoid cycles."
   ]
  },
  {
   "cell_type": "markdown",
   "id": "0d48d6cf",
   "metadata": {},
   "source": [
    "<h3> 4.1.3 Code <h3>"
   ]
  },
  {
   "cell_type": "code",
   "execution_count": 23,
   "id": "add77ddd",
   "metadata": {},
   "outputs": [],
   "source": [
    "from typing import List\n",
    "\n",
    "class Solution:\n",
    "    def dfs(self, node: str, dest: str, gr: dict, vis: set, ans: List[float], temp: float) -> None:\n",
    "        if node in vis:\n",
    "            return\n",
    "\n",
    "        vis.add(node)\n",
    "        if node == dest:\n",
    "            ans[0] = temp\n",
    "            return\n",
    "\n",
    "        for ne, val in gr[node].items():\n",
    "            self.dfs(ne, dest, gr, vis, ans, temp * val)\n",
    "\n",
    "    def buildGraph(self, equations: List[List[str]], values: List[float]) -> dict:\n",
    "        gr = {}\n",
    "\n",
    "        for i in range(len(equations)):\n",
    "            dividend, divisor = equations[i]\n",
    "            value = values[i]\n",
    "\n",
    "            if dividend not in gr:\n",
    "                gr[dividend] = {}\n",
    "            if divisor not in gr:\n",
    "                gr[divisor] = {}\n",
    "\n",
    "            gr[dividend][divisor] = value\n",
    "            gr[divisor][dividend] = 1.0 / value\n",
    "\n",
    "        return gr\n",
    "\n",
    "    def calcEquation(self, equations: List[List[str]], values: List[float], queries: List[List[str]]) -> List[float]:\n",
    "        gr = self.buildGraph(equations, values)\n",
    "        finalAns = []\n",
    "\n",
    "        for query in queries:\n",
    "            dividend, divisor = query\n",
    "\n",
    "            if dividend not in gr or divisor not in gr:\n",
    "                finalAns.append(-1.0)\n",
    "            else:\n",
    "                vis = set()\n",
    "                ans = [-1.0]\n",
    "                temp = 1.0\n",
    "                self.dfs(dividend, divisor, gr, vis, ans, temp)\n",
    "                finalAns.append(ans[0])\n",
    "\n",
    "        return finalAns"
   ]
  },
  {
   "cell_type": "markdown",
   "id": "a85c790b",
   "metadata": {},
   "source": [
    "<h3> 4.2 Problem 2: Cheapest Flights Within K Stops </h3>"
   ]
  },
  {
   "cell_type": "markdown",
   "id": "1e2f39f4",
   "metadata": {},
   "source": [
    "<h3> 4.2.1 Problem Statement </h3>"
   ]
  },
  {
   "cell_type": "markdown",
   "id": "d8c2a5c9",
   "metadata": {},
   "source": [
    "There are <i>n</i> cities connected by some number of flights. You are given an array \"flights\" where <i>flights[i] = [fromi, toi, pricei]</i> indicates that there is a flight from city <i>fromi</i> to city <i>toi</i> with cost <i>pricei</i>.\n",
    "\n",
    "You are also given three integers <i>src, dst, and k,</i> return the cheapest price from <i>src to dst</i> with at most <i>k </i>stops. If there is no such route, return <b>-1</b>."
   ]
  },
  {
   "cell_type": "markdown",
   "id": "70e1f5b5",
   "metadata": {},
   "source": [
    "<b> Example: </b>\n",
    "\n",
    "<img src=\"https://assets.leetcode.com/uploads/2022/03/18/cheapest-flights-within-k-stops-3drawio.png\" width=300>\n",
    "\n",
    "<b>Input:</b> n = 4, flights = [[0,1,100],[1,2,100],[2,0,100],[1,3,600],[2,3,200]], src = 0, dst = 3, k = 1\n",
    "\n",
    "<b>Output:</b> 700\n",
    "\n",
    "<b>Explanation:</b>\n",
    "\n",
    "The graph is shown above.\n",
    "The optimal path with at most 1 stop from city 0 to 3 is marked in red and has cost 100 + 600 = 700.\n",
    "Note that the path through cities [0,1,2,3] is cheaper but is invalid because it uses 2 stops."
   ]
  },
  {
   "cell_type": "markdown",
   "id": "6a4c7165",
   "metadata": {},
   "source": [
    "<h3> 4.2.2 Intuition </h3>"
   ]
  },
  {
   "cell_type": "markdown",
   "id": "48387725",
   "metadata": {},
   "source": [
    "<b>Graph Representation:</b>\n",
    "\n",
    "- We represent the flight routes as a graph where cities are nodes, and direct flights between them are directed edges with weights (prices).\n",
    "- The flights input is converted into a dictionary (frs) where each key is a source city, and its value is a list of tuples representing the destination city and the flight price. A set (tos) is also used to keep track of all possible destination cities.\n",
    "\n",
    "<b>Early Exit:</b>\n",
    "- Before proceeding with the algorithm, we check if the source city (src) has any outgoing flights and if the destination city (dst) is reachable by any incoming flight. If either condition is not met, we can return -1 early, indicating that no valid route exists.\n",
    "\n",
    "<b>Initialization:</b>\n",
    "\n",
    "- We initialize the cheapest variable to keep track of the minimum cost found. Initially, it is set to infinity (float('inf')) because we haven't found any route yet.\n",
    "- We start our search from the source city (src) and initialize a list (l) with all direct flights from the source. Each entry in l is a list containing the destination city, the current price to get there, and the number of stops made.\n",
    "\n",
    "<b>Depth-First Search (DFS) with Pruning:</b>\n",
    "\n",
    "- We use a while loop to explore the possible routes in a depth-first manner.\n",
    "- In each iteration, we pop a route from the list l. This gives us the current city (to), the total price to reach there (price), and the number of stops made (stop).\n",
    "- If the current price exceeds the cheapest price found so far, we skip this route as it cannot provide a cheaper solution.\n",
    "- If we reach the destination city (dst), we update the cheapest price if the current route's price is lower.\n",
    "- If we haven't reached the destination and haven't exceeded the allowed number of stops (k), we extend our search by adding all possible next steps (flights) from the current city to the list l.\n",
    "\n",
    "<b>Result:</b>\n",
    "\n",
    "After exploring all possible routes within the allowed number of stops, we return the cheapest price found. If no valid route was found, we return -1"
   ]
  },
  {
   "cell_type": "markdown",
   "id": "4a4b7429",
   "metadata": {},
   "source": [
    "<h3> 4.2.3 Code </h3>"
   ]
  },
  {
   "cell_type": "code",
   "execution_count": 27,
   "id": "6d5a7df1",
   "metadata": {},
   "outputs": [],
   "source": [
    "class Solution(object):\n",
    "    def findCheapestPrice(self, n, flights, src, dst, k):\n",
    "        NO_ROUTE = -1\n",
    "        frs, tos = defaultdict(list), set() ## convert flights to dictionary/set form\n",
    "        flights.sort(key=lambda x:x[2], reverse=True)\n",
    "        for fr,to,price in flights:\n",
    "            frs[fr].append([to, price])\n",
    "            tos.add(to)\n",
    "        if src not in frs or dst not in tos: return NO_ROUTE ## early exit\n",
    "        \n",
    "        cheapest, l = float('inf'), [[t,p,0] for t,p in frs[src]]\n",
    "        while l: ## dfs\n",
    "            to, price, stop = l.pop()\n",
    "            if price>=cheapest: continue\n",
    "            if to==dst: \n",
    "                cheapest = price\n",
    "            elif stop<k and to in frs:\n",
    "                for t,p in frs[to]:\n",
    "                    if price+p<cheapest:\n",
    "                        l += [[t, price+p, stop+1]]\n",
    "        return cheapest if cheapest!=float('inf') else NO_ROUTE"
   ]
  },
  {
   "cell_type": "markdown",
   "id": "40bda50c",
   "metadata": {},
   "source": [
    "<h3> 4.3 Problem 3 : Reachable Nodes In Subdivided Graph</h3>"
   ]
  },
  {
   "cell_type": "markdown",
   "id": "c72b6116",
   "metadata": {},
   "source": [
    "<h3> 4.3.1 Problem Statement</h3>"
   ]
  },
  {
   "cell_type": "markdown",
   "id": "830001ba",
   "metadata": {},
   "source": [
    "You are given an undirected graph (the \"original graph\") with n nodes labeled from 0 to n - 1. You decide to subdivide each edge in the graph into a chain of nodes, with the number of new nodes varying between each edge.\n",
    "\n",
    "The graph is given as a 2D array of <i>edges</i> where <i>edges[i] = [ui, vi, cnti]</i> indicates that there is an edge between nodes <i>ui</i> and <i>vi </i>in the original graph, and <i>cnti</i> is the total number of new nodes that you will subdivide the edge into. Note that <i>cnti == 0</i> means you will not subdivide the edge.\n",
    "\n",
    "To subdivide the edge <i>[ui, vi]</i>, replace it with <i>(cnti + 1)</i> new edges and cnti new nodes. The new nodes are <i>x1, x2, ..., xcnti,</i> and the new edges are <i>[ui, x1], [x1, x2], [x2, x3], ..., [xcnti-1, xcnti], [xcnti, vi]</i>.\n",
    "\n",
    "In this new graph, you want to know how many nodes are reachable from the node 0, where a node is reachable if the distance is <i>maxMoves</i> or less.\n",
    "\n",
    "Given the original graph and <i>maxMoves</i>, return the number of nodes that are reachable from node 0 in the new graph\n",
    "\n",
    "<b> Example: </b>\n",
    "<img src=\"https://s3-lc-upload.s3.amazonaws.com/uploads/2018/08/01/origfinal.png\" width=600> \n",
    "\n",
    "<b>Input:</b> edges = [[0,1,10],[0,2,1],[1,2,2]], maxMoves = 6, n = 3\n",
    "\n",
    "<b>Output:</b> 13\n",
    "\n",
    "<b>Explanation:</b> The edge subdivisions are shown in the image above.\n",
    "The nodes that are reachable are highlighted in yellow."
   ]
  },
  {
   "cell_type": "markdown",
   "id": "a87ad59d",
   "metadata": {},
   "source": [
    "<h3> 4.3.2 Intuition </h3>"
   ]
  },
  {
   "cell_type": "markdown",
   "id": "8a93ee8f",
   "metadata": {},
   "source": [
    "<b>Initialize the Graph:</b>\n",
    "\n",
    "- Convert the edge list into an adjacency matrix (graph) where each cell represents the number of intermediate nodes along the edge.\n",
    "\n",
    "<b>Priority Queue Initialization:</b>\n",
    "\n",
    "- Initialize a priority queue with the starting node and the total moves available (M). The moves are stored as negative values to simulate a max-heap using Python’s heapq.\n",
    "\n",
    "<b>Graph Traversal:</b>\n",
    "\n",
    "- Pop the node with the highest remaining moves from the priority queue.\n",
    "- If this node has already been visited, skip it.\n",
    "- Mark the node as visited and increment the result counter.\n",
    "- For each neighboring node, if it hasn’t been visited and there are enough moves to traverse the edge, push the neighbor into the priority queue with updated moves.\n",
    "- Update the result by counting the reachable intermediate nodes along each edge.\n",
    "\n",
    "<b>Return the Result:</b>\n",
    "\n",
    "- After processing all nodes that can be reached within the given moves, return the total count of reachable nodes."
   ]
  },
  {
   "cell_type": "markdown",
   "id": "e533db97",
   "metadata": {},
   "source": [
    "<h3> 4.3.3 Code <h3>"
   ]
  },
  {
   "cell_type": "code",
   "execution_count": 28,
   "id": "22f6ba58",
   "metadata": {},
   "outputs": [],
   "source": [
    "import heapq\n",
    "\n",
    "class Solution:\n",
    "    def reachableNodes(self, edges, M, N):\n",
    "        graph = [[-1] * N for _ in range(N)]\n",
    "        for edge in edges:\n",
    "            graph[edge[0]][edge[1]] = edge[2]\n",
    "            graph[edge[1]][edge[0]] = edge[2]\n",
    "        \n",
    "        result = 0\n",
    "        pq = [(-M, 0)]\n",
    "        visited = [False] * N\n",
    "        \n",
    "        while pq:\n",
    "            move, start = heapq.heappop(pq)\n",
    "            move = -move\n",
    "            \n",
    "            if visited[start]:\n",
    "                continue\n",
    "            \n",
    "            visited[start] = True\n",
    "            result += 1\n",
    "            \n",
    "            for i in range(N):\n",
    "                if graph[start][i] > -1:\n",
    "                    if move > graph[start][i] and not visited[i]:\n",
    "                        heapq.heappush(pq, (-(move - graph[start][i] - 1), i))\n",
    "                    graph[i][start] -= min(move, graph[start][i])\n",
    "                    result += min(move, graph[start][i])\n",
    "        \n",
    "        return result"
   ]
  },
  {
   "cell_type": "markdown",
   "id": "168e0445",
   "metadata": {},
   "source": [
    "<h3> Conclusion <h3>"
   ]
  },
  {
   "cell_type": "markdown",
   "id": "93a3951a",
   "metadata": {},
   "source": [
    "A key component of computer science, graph algorithms provide sophisticated answers to a broad range of real-world issues. You can overcome obstacles in both academic and professional settings by becoming an expert in these algorithms and their applications. Continuing with the exploration and experimentation of graph algorithms, we hope you will build upon the groundwork covered in this chapter.\n",
    "\n",
    "Understanding graph algorithms of shortest path problems has wide-ranging applications in various fields as Transportation and Logistics, Computer Networks, Social Networks and Economics and Finance. Furthemore, even though we have discussed a number of significant graph algorithmic themes, there are still a ton of more complex subjects to delve into as Graph theory and Machine Learning using Graphs.\n"
   ]
  },
  {
   "cell_type": "markdown",
   "id": "58692407",
   "metadata": {},
   "source": [
    "<h3> Concepts/Topics/Materials to read next </h3>"
   ]
  },
  {
   "cell_type": "markdown",
   "id": "52d175d1",
   "metadata": {},
   "source": [
    "https://www.geeksforgeeks.org/dijkstras-shortest-path-algorithm-greedy-algo-7/\n",
    "    \n",
    "https://www.geeksforgeeks.org/bellman-ford-algorithm-dp-23/\n",
    "    \n",
    "https://ieeexplore.ieee.org/abstract/document/1565664"
   ]
  },
  {
   "cell_type": "code",
   "execution_count": null,
   "id": "ac9b8e8a",
   "metadata": {},
   "outputs": [],
   "source": []
  }
 ],
 "metadata": {
  "kernelspec": {
   "display_name": "Python 3 (ipykernel)",
   "language": "python",
   "name": "python3"
  },
  "language_info": {
   "codemirror_mode": {
    "name": "ipython",
    "version": 3
   },
   "file_extension": ".py",
   "mimetype": "text/x-python",
   "name": "python",
   "nbconvert_exporter": "python",
   "pygments_lexer": "ipython3",
   "version": "3.9.12"
  }
 },
 "nbformat": 4,
 "nbformat_minor": 5
}

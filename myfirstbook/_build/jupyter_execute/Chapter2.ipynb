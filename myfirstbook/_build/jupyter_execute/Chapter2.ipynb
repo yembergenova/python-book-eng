{
 "cells": [
  {
   "cell_type": "markdown",
   "metadata": {
    "id": "JaXRL_7HeBhi"
   },
   "source": [
    "# **Report Final. Algorithms**"
   ]
  },
  {
   "cell_type": "markdown",
   "metadata": {
    "id": "XoNMP198uQBa"
   },
   "source": [
    "**There** are many practical uses of algorithms. The most popular - sorting. It has many types. Some faster, some simplier and etc. One of them - **Bubble sort**, which just swapping two neighbors. It is the most simpliest, but the worst in time complexity(O(n^2)).\n",
    "\n",
    "Pure implementation of **bubble sort** algorithm in Python\n",
    "\n",
    "param collection: some mutable ordered collection with heterogeneous comparable\n",
    "items inside\n",
    "\n",
    "return: the same collection ordered by ascending"
   ]
  },
  {
   "cell_type": "markdown",
   "metadata": {
    "id": "D8-Mk9n1vy3Z"
   },
   "source": [
    "**Examples:**\n",
    "\n",
    "bubble_sort_iterative([0, 5, 2, 3, 2])\n",
    "\n",
    "*[0, 2, 2, 3, 5]*\n",
    "\n",
    "bubble_sort_iterative([])\n",
    "\n",
    "*[]*\n",
    "\n",
    "bubble_sort_iterative([-2, -45, -5])\n",
    "\n",
    "*[-45, -5, -2]*\n",
    "\n",
    "bubble_sort_iterative([-23, 0, 6, -4, 34])\n",
    "\n",
    "*[-23, -4, 0, 6, 34]*"
   ]
  },
  {
   "cell_type": "code",
   "execution_count": 1,
   "metadata": {
    "colab": {
     "base_uri": "https://localhost:8080/"
    },
    "executionInfo": {
     "elapsed": 4,
     "status": "ok",
     "timestamp": 1715673615791,
     "user": {
      "displayName": "Dias Almagambetov",
      "userId": "10860054383355712458"
     },
     "user_tz": -300
    },
    "id": "ZS5Pls-Vdvgl",
    "outputId": "2e6aeee9-10f7-4c7e-e578-2cfdfe1a48d2"
   },
   "outputs": [
    {
     "name": "stdout",
     "output_type": "stream",
     "text": [
      "[1, 3, 4, 5, 5, 6]\n"
     ]
    }
   ],
   "source": [
    "def bubble_sort_iterative(collection: list) -> list:\n",
    "    length = len(collection)\n",
    "    for i in reversed(range(length)):\n",
    "        swapped = False\n",
    "        for j in range(i):\n",
    "            if collection[j] > collection[j + 1]:\n",
    "                swapped = True\n",
    "                collection[j], collection[j + 1] = collection[j + 1], collection[j]\n",
    "        if not swapped:\n",
    "            break  # Stop iteration if the collection is sorted.\n",
    "    return collection\n",
    "\n",
    "x = [1, 5, 5, 4, 3, 6]\n",
    "x = bubble_sort_iterative(x)\n",
    "print(x)"
   ]
  },
  {
   "cell_type": "markdown",
   "metadata": {
    "id": "y3GJZ5m0eRcH"
   },
   "source": [
    "Concept 2"
   ]
  },
  {
   "cell_type": "markdown",
   "metadata": {
    "id": "3hemwo-Kwlwy"
   },
   "source": [
    "Another type - **Merge sort**. It is faster, about O(nlogn), but is more space requires to solve it."
   ]
  },
  {
   "cell_type": "markdown",
   "metadata": {
    "id": "Vj6Ux9TCxlzG"
   },
   "source": [
    "Examples:\n",
    "\n",
    "merge_sort([0, 5, 3, 2, 2])\n",
    "\n",
    "[0, 2, 2, 3, 5]\n",
    "\n",
    "merge_sort([-2, -5, -45])\n",
    "\n",
    "[-45, -5, -2]\n"
   ]
  },
  {
   "cell_type": "code",
   "execution_count": 2,
   "metadata": {
    "colab": {
     "base_uri": "https://localhost:8080/"
    },
    "executionInfo": {
     "elapsed": 4,
     "status": "ok",
     "timestamp": 1715673641336,
     "user": {
      "displayName": "Dias Almagambetov",
      "userId": "10860054383355712458"
     },
     "user_tz": -300
    },
    "id": "-4nJOnVAeRcI",
    "outputId": "38229fc8-fd8a-4d41-8376-ed3e9aa391bb"
   },
   "outputs": [
    {
     "name": "stdout",
     "output_type": "stream",
     "text": [
      "[1, 3, 4, 5, 5, 6]\n"
     ]
    }
   ],
   "source": [
    "def merge_sort(collection: list) -> list:\n",
    "\n",
    "    def merge(left: list, right: list) -> list:\n",
    "        \"\"\"\n",
    "        Merge two sorted lists into a single sorted list.\n",
    "\n",
    "        :param left: Left collection\n",
    "        :param right: Right collection\n",
    "        :return: Merged result\n",
    "        \"\"\"\n",
    "        result = []\n",
    "        while left and right:\n",
    "            result.append(left.pop(0) if left[0] <= right[0] else right.pop(0))\n",
    "        result.extend(left)\n",
    "        result.extend(right)\n",
    "        return result\n",
    "\n",
    "    if len(collection) <= 1:\n",
    "        return collection\n",
    "    mid_index = len(collection) // 2\n",
    "    return merge(merge_sort(collection[:mid_index]), merge_sort(collection[mid_index:]))\n",
    "\n",
    "x = [1, 5, 5, 4, 3, 6]\n",
    "x = merge_sort(x)\n",
    "print(x)"
   ]
  },
  {
   "cell_type": "markdown",
   "metadata": {
    "id": "fik4CIAOsSp5"
   },
   "source": [
    "Problem 1"
   ]
  },
  {
   "cell_type": "markdown",
   "metadata": {
    "id": "FLlSc1Xx0gp8"
   },
   "source": [
    "Given an array of integers nums, sort the array in ascending order and return it.\n",
    "\n",
    "You must solve the problem **without using any built-in functions in O(nlog(n))** time complexity and with **the smallest space complexity possible**."
   ]
  },
  {
   "cell_type": "markdown",
   "metadata": {
    "id": "MKlhG2ZEIk15"
   },
   "source": [
    "Example 1:\n",
    "\n",
    "Input: nums = [5,2,3,1]\n",
    "\n",
    "Output: [1,2,3,5]\n",
    "\n",
    "Explanation: After sorting the array, the positions of some numbers are not changed (for example, 2 and 3), while the positions of other numbers are changed (for example, 1 and 5).\n",
    "\n",
    "Example 2:\n",
    "\n",
    "Input: nums = [5,1,1,2,0,0]\n",
    "\n",
    "Output: [0,0,1,1,2,5]\n",
    "\n",
    "---\n",
    "\n",
    "\n",
    "\n",
    "Constraints:\n",
    "\n",
    "1 <= nums.length <= 5 * 104\n",
    "\n",
    "-5 * 104 <= nums[i] <= 5 * 104"
   ]
  },
  {
   "cell_type": "code",
   "execution_count": 3,
   "metadata": {
    "id": "JxG2U5a3soSV"
   },
   "outputs": [],
   "source": [
    "from typing import List\n",
    "\n",
    "class Solution:\n",
    "    def sortArray(self, collection: List[int]) -> List[int]:\n",
    "        length = len(collection)\n",
    "        for i in reversed(range(length)):\n",
    "            swapped = False\n",
    "            for j in range(i):\n",
    "                if collection[j] > collection[j + 1]:\n",
    "                    swapped = True\n",
    "                    collection[j], collection[j + 1] = collection[j + 1], collection[j]\n",
    "            if not swapped:\n",
    "                break\n",
    "        return collection\n"
   ]
  },
  {
   "cell_type": "markdown",
   "metadata": {
    "id": "7lGxoXp0sS-c"
   },
   "source": [
    "Problem 2\n",
    "\n",
    "Given an array nums with n objects colored red, white, or blue, sort them in-place so that objects of the same color are adjacent, with the colors in the order red, white, and blue.\n",
    "\n",
    "We will use the integers 0, 1, and 2 to represent the color red, white, and blue, respectively.\n",
    "\n",
    "You must solve this problem without using the library's sort function."
   ]
  },
  {
   "cell_type": "markdown",
   "metadata": {
    "id": "2RyoTmX5KpMe"
   },
   "source": [
    "Example 1:\n",
    "\n",
    "Input: nums = [2,0,2,1,1,0]\n",
    "Output: [0,0,1,1,2,2]\n",
    "\n",
    "Example 2:\n",
    "\n",
    "Input: nums = [2,0,1]\n",
    "Output: [0,1,2]\n",
    "\n",
    "---\n",
    "\n",
    "\n",
    "\n",
    "Constraints:\n",
    "\n",
    "n == nums.length\n",
    "\n",
    "1 <= n <= 300\n",
    "\n",
    "nums[i] -> 0, 1, or(немесе, или) 2."
   ]
  },
  {
   "cell_type": "code",
   "execution_count": 4,
   "metadata": {
    "id": "wnloovp-so9f"
   },
   "outputs": [],
   "source": [
    "class Solution:\n",
    "    def sortColors(self, nums: list[int]) -> list[int]:\n",
    "        for s in range(len(nums)):\n",
    "            min_idx = s\n",
    "\n",
    "            for i in range(s + 1, len(nums)):\n",
    "\n",
    "                if nums[i] < nums[min_idx]:\n",
    "                    min_idx = i\n",
    "\n",
    "            (nums[s], nums[min_idx]) = (nums[min_idx], nums[s])\n",
    "        return nums"
   ]
  },
  {
   "cell_type": "markdown",
   "metadata": {
    "id": "zICKEFW_sTHQ"
   },
   "source": [
    "Problem 3\n",
    "\n",
    "Given the head of a linked list, return the list after sorting it in ascending order.\n"
   ]
  },
  {
   "cell_type": "markdown",
   "metadata": {
    "id": "BKSG7pP_JZZQ"
   },
   "source": [
    "Example 1:\n",
    "\n",
    "Input: head = [4,2,1,3]\n",
    "Output: [1,2,3,4]\n",
    "\n",
    "Example 2:\n",
    "\n",
    "Input: head = [-1,5,3,4,0]\n",
    "Output: [-1,0,3,4,5]\n",
    "\n",
    "Example 3:\n",
    "\n",
    "Input: head = []\n",
    "Output: []\n",
    "\n",
    "---\n",
    "\n",
    "\n",
    "\n",
    "\n",
    "Constraints:\n",
    "\n",
    "The number of nodes in the list is in the range [0, 5 * 104].\n",
    "\n",
    "-105 <= Node.val <= 105"
   ]
  },
  {
   "cell_type": "code",
   "execution_count": 5,
   "metadata": {
    "id": "HdP6RDc4spn_"
   },
   "outputs": [],
   "source": [
    "from typing import Optional\n",
    "# Definition for singly-linked list.\n",
    "# class ListNode:\n",
    "#     def __init__(self, val=0, next=None):\n",
    "#         self.val = val\n",
    "#         self.next = next\n",
    "\n",
    "class ListNode:\n",
    "    def __init__(self, val=0, next: Optional['ListNode'] = None):\n",
    "        self.val = val\n",
    "        self.next = next\n",
    "\n",
    "\n",
    "class Solution:\n",
    "    def sortList(self, h: Optional[ListNode]) -> Optional[ListNode]:\n",
    "        if h == None or h.next == None:\n",
    "            return h\n",
    "\n",
    "        def getMiddle(head):\n",
    "            if (head == None):\n",
    "                return head\n",
    "\n",
    "            slow = head\n",
    "            fast = head\n",
    "\n",
    "            while (fast.next != None and\n",
    "                fast.next.next != None):\n",
    "                slow = slow.next\n",
    "                fast = fast.next.next\n",
    "\n",
    "            return slow\n",
    "\n",
    "        # get the middle of the list.\n",
    "        middle = getMiddle(h)\n",
    "        nexttomiddle = middle.next\n",
    "\n",
    "        # set the next of middle node to None.\n",
    "        middle.next = None\n",
    "\n",
    "        # Apply mergeSort on left list.\n",
    "        left = self.sortList(h)\n",
    "\n",
    "        # Apply mergeSort on right list.\n",
    "        right = self.sortList(nexttomiddle)\n",
    "\n",
    "        # Merge the left and right lists.\n",
    "        sortedlist = self.sortedMerge(left, right)\n",
    "        return sortedlist\n",
    "    def sortedMerge(self, a, b):\n",
    "        result = None\n",
    "\n",
    "        if a == None:\n",
    "            return b\n",
    "        if b == None:\n",
    "            return a\n",
    "\n",
    "        if a.val <= b.val:\n",
    "            result = a\n",
    "            result.next = self.sortedMerge(a.next, b)\n",
    "        else:\n",
    "            result = b\n",
    "            result.next = self.sortedMerge(a, b.next)\n",
    "        return result"
   ]
  },
  {
   "cell_type": "markdown",
   "metadata": {
    "id": "veV9MxSashMx"
   },
   "source": [
    "**Conclusion**"
   ]
  },
  {
   "cell_type": "markdown",
   "metadata": {
    "id": "6InRloAhs3e4"
   },
   "source": [
    "The algorithms is the most effective methods to solve everything. From sorting to finding. There are many examples and uses in practice. The programming languages does not matter.\n"
   ]
  },
  {
   "cell_type": "markdown",
   "metadata": {
    "id": "vrEZH4pWslV_"
   },
   "source": [
    "Materials to read.\n",
    "\n",
    "\n",
    "\n",
    "---\n",
    "\n",
    "\n",
    "\n",
    "*   Algorithms, 4th Edition by Robert Sedgewick and Kevin Wayne\n",
    "\n",
    "*   “Algorithms Unlocked” by Thomas H. Cormen\n",
    "\n",
    "*   “The Algorithm Design Manual” by Steven S. Skiena\n",
    "\n",
    "*   “Introduction to Algorithms” by Thomas H. Cormen, Charles E. Leiserson, Ronald L. Rivest, and Clifford Stein\n",
    "\n",
    "\n",
    "\n",
    "\n"
   ]
  }
 ],
 "metadata": {
  "colab": {
   "authorship_tag": "ABX9TyO50bmfygHNGxjxx64uLwTB",
   "provenance": []
  },
  "kernelspec": {
   "display_name": "Python 3 (ipykernel)",
   "language": "python",
   "name": "python3"
  },
  "language_info": {
   "codemirror_mode": {
    "name": "ipython",
    "version": 3
   },
   "file_extension": ".py",
   "mimetype": "text/x-python",
   "name": "python",
   "nbconvert_exporter": "python",
   "pygments_lexer": "ipython3",
   "version": "3.10.13"
  },
  "toc": {
   "base_numbering": 1,
   "nav_menu": {},
   "number_sections": true,
   "sideBar": true,
   "skip_h1_title": false,
   "title_cell": "Table of Contents",
   "title_sidebar": "Contents",
   "toc_cell": false,
   "toc_position": {},
   "toc_section_display": true,
   "toc_window_display": false
  }
 },
 "nbformat": 4,
 "nbformat_minor": 1
}
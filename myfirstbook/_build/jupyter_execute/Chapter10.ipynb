{
 "cells": [
  {
   "cell_type": "markdown",
   "metadata": {
    "id": "uP60HYyUcIvS"
   },
   "source": [
    "# 10. Dynamic programming"
   ]
  },
  {
   "cell_type": "markdown",
   "metadata": {
    "id": "wJFN9ij4cMLx"
   },
   "source": [
    "## 10.1 About Dynamic programming"
   ]
  },
  {
   "cell_type": "markdown",
   "metadata": {
    "id": "gxm8m6XEccO2"
   },
   "source": [
    "Dynamic programming (DP) is a method used in algorithm design to solve problems by breaking them down into simpler subproblems and solving each subproblem just once, storing its solution. This technique is particularly useful for problems with overlapping subproblems and optimal substructure, meaning the solution to the problem can be composed of solutions to its subproblems. By storing the solutions to these subproblems, DP avoids redundant calculations, significantly improving efficiency.\n",
    "\n",
    "There are two main approaches to dynamic programming: the top-down approach, known as memoization, and the bottom-up approach, known as tabulation. In memoization, the problem is solved recursively, and results of solved subproblems are stored for future use. In tabulation, the problem is solved iteratively, building up solutions from the smallest subproblems to the overall problem. Both approaches help transform exponential time complexity problems into polynomial time complexity problems.\n",
    "\n",
    "Dynamic programming is widely used to solve various algorithmic problems such as the Fibonacci sequence, the knapsack problem, and the longest common subsequence. These problems benefit from the efficiency and optimal solutions provided by DP, making it a fundamental technique in computer science for tackling complex computational challenges.\n",
    "\n",
    "And in this chapter we will consider two concepts of DP and three LeetCode problems for better understanding.\n",
    "\n",
    "<img src=\"assets/dynamic-programming.png\" alt=\"DynamicProgrammingImage\"/>"
   ]
  },
  {
   "cell_type": "markdown",
   "metadata": {
    "id": "A9_fRiOnEUhk"
   },
   "source": [
    "---"
   ]
  },
  {
   "cell_type": "markdown",
   "metadata": {
    "id": "jbA8G7ZNcns0"
   },
   "source": [
    "## 10.2 Concept 1: Fibonacci Sequence"
   ]
  },
  {
   "cell_type": "markdown",
   "metadata": {
    "id": "imBGm5hYcrHb"
   },
   "source": [
    "### 10.2.1 Intuition\n",
    "\n"
   ]
  },
  {
   "cell_type": "markdown",
   "metadata": {
    "id": "b3wGm4Gdc85E"
   },
   "source": [
    "The Fibonacci sequence is a perfect example to illustrate dynamic programming. The nth Fibonacci number is the sum of the (n-1)th and (n-2)th Fibonacci numbers. In a naive recursive approach, the same subproblems are solved multiple times, leading to an exponential time complexity. Dynamic programming optimizes this by storing the results of subproblems and reusing them when needed.\n",
    "\n",
    "**Steps to Solve Fibonacci Sequence Using Dynamic Programming:**\n",
    "\n",
    "1.   **Identify the Base Cases:**\n",
    "  *   The first two Fibonacci numbers are given: F(0) = 0 and F(1) = 1.\n",
    "2.   **Define the Recurrence Relation:**\n",
    "  *   For n > 1, F(n) = F(n-1) + F(n-2).\n",
    "3.   **Store the Results of Subproblems:**\n",
    "  *   Use an array or list to store the Fibonacci numbers up to the nth number.\n",
    "4.   **Build the Solution Bottom-Up:**\n",
    "  *   Start from the base cases and use the recurrence relation to fill up the array until you reach the nth number.\n",
    "\n",
    "It is defined as follows:\n",
    "\n",
    "*   `F(0) = 0`\n",
    "*   `F(1) = 1`\n",
    "*   `F(n) = F(n-1) + F(n-2) for n > 1`\n",
    "\n",
    "The 0 and 1 are the default values that starts the Fibonacci Sequence. And after that come the last two elements. And so on until the assigned number.\n",
    "\n",
    "<img src=\"assets/FIBONACCI-SERIES.png\" alt=\"GeeksForGeeksFibonacciSequenceImage\"/>"
   ]
  },
  {
   "cell_type": "markdown",
   "metadata": {
    "id": "mRAPP64zdKIl"
   },
   "source": [
    "### 10.2.2 Example"
   ]
  },
  {
   "cell_type": "markdown",
   "metadata": {
    "id": "gZn20vBHdP_c"
   },
   "source": [
    "Let's look at the step-by-step visualization of how the code works for n = 10:\n",
    "\n",
    "* `i = 2`: `fib = [0, 1, 1]` (1 + 0)\n",
    "* `i = 3`: `fib = [0, 1, 1, 2]` (1 + 1)\n",
    "* `i = 4`: `fib = [0, 1, 1, 2, 3]` (2 + 1)\n",
    "* `i = 5`: `fib = [0, 1, 1, 2, 3, 5]` (3 + 2)\n",
    "* `i = 6`: `fib = [0, 1, 1, 2, 3, 5, 8]` (5 + 3)\n",
    "* `i = 7`: `fib = [0, 1, 1, 2, 3, 5, 8, 13]` (8 + 5)\n",
    "* `i = 8`: `fib = [0, 1, 1, 2, 3, 5, 8, 13, 21]` (13 + 8)\n",
    "* `i = 9`: `fib = [0, 1, 1, 2, 3, 5, 8, 13, 21, 34]` (21 + 13)\n",
    "* `i = 10`: `fib = [0, 1, 1, 2, 3, 5, 8, 13, 21, 34, 55]` (34 + 21)\n",
    "\n",
    "So the result to the 10th Fibonacci's number is **55**.\n",
    "\n",
    "<img src=\"assets/fibonacci_terms.gif\" alt=\"fibonacciTermsImage\"/>\n"
   ]
  },
  {
   "cell_type": "markdown",
   "metadata": {
    "id": "geS640bVdRMB"
   },
   "source": [
    "### 10.2.3 Code"
   ]
  },
  {
   "cell_type": "code",
   "execution_count": 1,
   "metadata": {
    "colab": {
     "base_uri": "https://localhost:8080/"
    },
    "id": "bh8GxM14dWT3",
    "outputId": "8afe167d-c90f-4ef7-8d25-710d71aea635"
   },
   "outputs": [
    {
     "name": "stdout",
     "output_type": "stream",
     "text": [
      "55\n"
     ]
    }
   ],
   "source": [
    "def fibonacci(n):\n",
    "    if n <= 1:\n",
    "        return n\n",
    "    fib = [0, 1]\n",
    "    for i in range(2, n + 1):\n",
    "        fib.append(fib[i-1] + fib[i-2])\n",
    "    return fib[n]\n",
    "\n",
    "# Test\n",
    "print(fibonacci(10))  # Output: 55"
   ]
  },
  {
   "cell_type": "markdown",
   "metadata": {
    "id": "hkQ-20ftESZ6"
   },
   "source": [
    "---"
   ]
  },
  {
   "cell_type": "markdown",
   "metadata": {
    "id": "HcoyHhVkdlOu"
   },
   "source": [
    "## 10.3 Concept 2: Knapsack problem"
   ]
  },
  {
   "cell_type": "markdown",
   "metadata": {
    "id": "fjhSRDTedlOw"
   },
   "source": [
    "### 10.3.1 Intuition\n",
    "\n"
   ]
  },
  {
   "cell_type": "markdown",
   "metadata": {
    "id": "Tzao93QXdlOw"
   },
   "source": [
    "In the Knapsack problem, the goal is to maximize the value of items that can be placed in a knapsack of limited capacity. A naive recursive approach would involve trying all possible subsets of items, which leads to an exponential time complexity. Dynamic programming optimizes this by breaking the problem into smaller subproblems and storing the results to avoid redundant calculations.\n",
    "\n",
    "\n",
    "**Steps to Solve the Knapsack Problem Using Dynamic Programming:**\n",
    "\n",
    "1.   **Identify the Base Cases:**\n",
    "  *   When there are no items or the capacity of the knapsack is 0, the maximum value is 0.\n",
    "2.   **Define the Recurrence Relation:**\n",
    "  *   For each item, decide whether to include it in the knapsack or not. The value of the knapsack at a given capacity is the maximum of these two choices:\n",
    "    * Include the item: Add its value to the value of the remaining capacity.\n",
    "    * Exclude the item: The value remains the same as without the item.\n",
    "3.   **Store the Results of Subproblems:**\n",
    "  *   Use a 2D array to store the maximum value for each item and each capacity.\n",
    "4.   **Build the Solution Bottom-Up:**\n",
    "  *   Start from the smallest subproblems (e.g., no items or zero capacity) and use the recurrence relation to fill up the array until the full problem is solved."
   ]
  },
  {
   "cell_type": "markdown",
   "metadata": {
    "id": "ivRm7fWBdlOw"
   },
   "source": [
    "### 10.3.2 Example"
   ]
  },
  {
   "cell_type": "markdown",
   "metadata": {
    "id": "AnbRuVF7dlOw"
   },
   "source": [
    "Given weights and values of 𝑛 items, put these items in a knapsack of capacity 𝑊 to get the maximum total value in the knapsack.\n",
    "\n",
    "<img src=\"assets/Knapsack Problem.png\" alt=\"Knapsack problem image\"/>"
   ]
  },
  {
   "cell_type": "markdown",
   "metadata": {
    "id": "Ve2eJ4o9dlOx"
   },
   "source": [
    "### 10.3.3 Code"
   ]
  },
  {
   "cell_type": "code",
   "execution_count": 2,
   "metadata": {
    "colab": {
     "base_uri": "https://localhost:8080/"
    },
    "id": "t55MVnHhdlOx",
    "outputId": "a4327f03-a0c3-437e-f89d-9b277c152624"
   },
   "outputs": [
    {
     "name": "stdout",
     "output_type": "stream",
     "text": [
      "50\n"
     ]
    }
   ],
   "source": [
    "def knapsack(W, wt, val, n):\n",
    "    K = [[0 for x in range(W + 1)] for x in range(n + 1)]\n",
    "    for i in range(n + 1):\n",
    "        for w in range(W + 1):\n",
    "            if i == 0 or w == 0:\n",
    "                K[i][w] = 0\n",
    "            elif wt[i-1] <= w:\n",
    "                K[i][w] = max(val[i-1] + K[i-1][w-wt[i-1]], K[i-1][w])\n",
    "            else:\n",
    "                K[i][w] = K[i-1][w]\n",
    "    return K[n][W]\n",
    "\n",
    "# Test\n",
    "values = [10, 20, 30]\n",
    "weights = [1, 1, 1]\n",
    "capacity = 2\n",
    "n = len(values)\n",
    "print(knapsack(capacity, weights, values, n))  # Output: 50"
   ]
  },
  {
   "cell_type": "markdown",
   "metadata": {
    "id": "mM0v-NKKEWYD"
   },
   "source": [
    "---"
   ]
  },
  {
   "cell_type": "markdown",
   "metadata": {
    "id": "ymf4xkuNfV0u"
   },
   "source": [
    "## 10.4 LeetCode Problems related to \"Dynamic programming\""
   ]
  },
  {
   "cell_type": "markdown",
   "metadata": {
    "id": "w_jM3e4gdxT2"
   },
   "source": [
    "### 10.4.1 Problem 1: Climbing Stairs"
   ]
  },
  {
   "cell_type": "markdown",
   "metadata": {
    "id": "YWLE4Z1Wd5GM"
   },
   "source": [
    "#### 10.4.1.1 Problem statement"
   ]
  },
  {
   "cell_type": "markdown",
   "metadata": {
    "id": "KyQtMynyd-ov"
   },
   "source": [
    "You are climbing a staircase. It takes 𝑛 steps to reach the top. Each time you can either climb 1 or 2 steps. In how many distinct ways can you climb to the top?\n",
    "\n",
    "It is the 70th problem on LeetCode. [Here](https://leetcode.com/problems/climbing-stairs/description/) is the link."
   ]
  },
  {
   "cell_type": "markdown",
   "metadata": {
    "id": "515r1h4deHte"
   },
   "source": [
    "### 10.4.1.2 Intuition"
   ]
  },
  {
   "cell_type": "markdown",
   "metadata": {
    "id": "S7McIknyeJ80"
   },
   "source": [
    "This problem can be broken down into smaller subproblems, similar to the Fibonacci sequence."
   ]
  },
  {
   "cell_type": "markdown",
   "metadata": {
    "id": "9ENlN_7peKZB"
   },
   "source": [
    "#### 10.4.1.3 Code"
   ]
  },
  {
   "cell_type": "code",
   "execution_count": 3,
   "metadata": {
    "colab": {
     "base_uri": "https://localhost:8080/"
    },
    "id": "-3b7oqVjefkp",
    "outputId": "e05b573c-8653-4549-9520-18d82b93ef6f"
   },
   "outputs": [
    {
     "name": "stdout",
     "output_type": "stream",
     "text": [
      "8\n"
     ]
    }
   ],
   "source": [
    "def climbStairs(n):\n",
    "    if n <= 2:\n",
    "        return n\n",
    "\n",
    "    dp = [0] * (n + 1)\n",
    "    dp[1] = 1\n",
    "    dp[2] = 2\n",
    "\n",
    "    for i in range(3, n + 1):\n",
    "        dp[i] = dp[i - 1] + dp[i - 2]\n",
    "\n",
    "    return dp[n]\n",
    "\n",
    "# Test\n",
    "print(climbStairs(5))  # Output: 8"
   ]
  },
  {
   "cell_type": "markdown",
   "metadata": {
    "id": "I2D0RXvcEYAC"
   },
   "source": [
    "---"
   ]
  },
  {
   "cell_type": "markdown",
   "metadata": {
    "id": "k49w9DwzeZQK"
   },
   "source": [
    "### 10.4.2 Problem 2: House Robber"
   ]
  },
  {
   "cell_type": "markdown",
   "metadata": {
    "id": "PjpTUWUteZQK"
   },
   "source": [
    "#### 10.4.2.1 Problem statement"
   ]
  },
  {
   "cell_type": "markdown",
   "metadata": {
    "id": "gHj6TpXweZQQ"
   },
   "source": [
    "You are a professional robber planning to rob houses along a street. Each house has a certain amount of money stashed, the only constraint stopping you from robbing each of them is that adjacent houses have security systems connected and **it will automatically contact the police if two adjacent houses were broken into on the same night**.\n",
    "\n",
    "Given an integer array `nums` representing the amount of money of each house, return *the maximum amount of money you can rob tonight* **without alerting the police**.\n",
    "\n",
    "It is the 198th problem on LeetCode. [Here](https://leetcode.com/problems/house-robber/description/) is the link."
   ]
  },
  {
   "cell_type": "markdown",
   "metadata": {
    "id": "1M7AI-OneZQQ"
   },
   "source": [
    "#### 10.4.2.1 Intuition"
   ]
  },
  {
   "cell_type": "markdown",
   "metadata": {
    "id": "kys_T3fHeZQQ"
   },
   "source": [
    "This problem can be solved using dynamic programming by deciding whether to rob each house or not based on the maximum money that can be robbed up to that point."
   ]
  },
  {
   "cell_type": "markdown",
   "metadata": {
    "id": "-NNQP-U8eZQQ"
   },
   "source": [
    "#### 10.4.2.3 Code"
   ]
  },
  {
   "cell_type": "code",
   "execution_count": 4,
   "metadata": {
    "colab": {
     "base_uri": "https://localhost:8080/"
    },
    "id": "C5rAfPTEgIdg",
    "outputId": "5826bfcd-1af6-4985-9b30-0ed4c9de6956"
   },
   "outputs": [
    {
     "name": "stdout",
     "output_type": "stream",
     "text": [
      "12\n"
     ]
    }
   ],
   "source": [
    "def rob(nums):\n",
    "    if not nums:\n",
    "        return 0\n",
    "    if len(nums) <= 2:\n",
    "        return max(nums)\n",
    "    dp = [0] * len(nums)\n",
    "    dp[0], dp[1] = nums[0], max(nums[0], nums[1])\n",
    "    for i in range(2, len(nums)):\n",
    "        dp[i] = max(dp[i-1], dp[i-2] + nums[i])\n",
    "    return dp[-1]\n",
    "\n",
    "# Test\n",
    "print(rob([2,7,9,3,1]))  # Output: 12"
   ]
  },
  {
   "cell_type": "markdown",
   "metadata": {
    "id": "JIMiM2hqEZIw"
   },
   "source": [
    "---"
   ]
  },
  {
   "cell_type": "markdown",
   "metadata": {
    "id": "L0YTBxr7eaPB"
   },
   "source": [
    "### 10.4.3 Problem 3: Coin Change"
   ]
  },
  {
   "cell_type": "markdown",
   "metadata": {
    "id": "y_tRnXBGeaPC"
   },
   "source": [
    "#### 10.4.3.1 Problem statement"
   ]
  },
  {
   "cell_type": "markdown",
   "metadata": {
    "id": "KLZ7FPNreaPH"
   },
   "source": [
    "You are given an integer array `coins` representing coins of different denominations and an integer `amount` representing a total amount of money.\n",
    "\n",
    "Return *the fewest number of coins that you need to make up that amount*. If that amount of money cannot be made up by any combination of the coins, return `-1`.\n",
    "\n",
    "You may assume that you have an infinite number of each kind of coin.\n",
    "\n",
    "It is the 322nd problem on LeetCode. [Here](https://leetcode.com/problems/coin-change/description/) is the link."
   ]
  },
  {
   "cell_type": "markdown",
   "metadata": {
    "id": "M9yLIVYNeaPH"
   },
   "source": [
    "#### 10.4.3.2 Intuition"
   ]
  },
  {
   "cell_type": "markdown",
   "metadata": {
    "id": "uEkAHJVseaPH"
   },
   "source": [
    "This problem can be solved using dynamic programming by iteratively finding the minimum coins required for each amount up to the target."
   ]
  },
  {
   "cell_type": "markdown",
   "metadata": {
    "id": "z0R2FwjUeaPH"
   },
   "source": [
    "#### 10.4.3.3 Code"
   ]
  },
  {
   "cell_type": "code",
   "execution_count": 5,
   "metadata": {
    "colab": {
     "base_uri": "https://localhost:8080/"
    },
    "id": "9A9VTftHet8K",
    "outputId": "c7a5f501-386e-4a35-dea0-75e1b79145aa"
   },
   "outputs": [
    {
     "name": "stdout",
     "output_type": "stream",
     "text": [
      "3\n"
     ]
    }
   ],
   "source": [
    "def coinChange(coins, amount):\n",
    "    dp = [float('inf')] * (amount + 1)\n",
    "    dp[0] = 0\n",
    "    for coin in coins:\n",
    "        for x in range(coin, amount + 1):\n",
    "            dp[x] = min(dp[x], dp[x - coin] + 1)\n",
    "    return dp[amount] if dp[amount] != float('inf') else -1\n",
    "\n",
    "# Test\n",
    "print(coinChange([1, 2, 5], 11))  # Output: 3"
   ]
  },
  {
   "cell_type": "markdown",
   "metadata": {
    "id": "73iGEXBvEaGx"
   },
   "source": [
    "---"
   ]
  },
  {
   "cell_type": "markdown",
   "metadata": {
    "id": "KkuL2bxnfGlA"
   },
   "source": [
    "## 10.5 Conclusion"
   ]
  },
  {
   "cell_type": "markdown",
   "metadata": {
    "id": "LWH2WKv9fIkV"
   },
   "source": [
    "Dynamic programming is a powerful and versatile technique for solving complex problems by breaking them down into simpler subproblems and storing their solutions to avoid redundant computations. Throughout this chapter, we have explored fundamental concepts and applications of dynamic programming through a variety of problems and examples.\n",
    "\n",
    "**Previously Studied Materials Recap:**\n",
    "\n",
    "* **Fibonacci Sequence:** This classic problem introduced us to the basic principles of dynamic programming, demonstrating how to efficiently compute the n-th Fibonacci number using memoization and tabulation.\n",
    "* **Climbing Stairs:** This problem extended the idea of the Fibonacci sequence, where we calculated the number of distinct ways to climb a staircase with a given number of steps.\n",
    "* **Knapsack Problem:** This optimization problem illustrated how to make the most of limited resources, teaching us the importance of state representation and transition.\n",
    "* **Coin Change:** Through this problem, we learned how to determine the minimum number of coins needed to make a specific amount, emphasizing the use of a bottom-up approach.\n",
    "* **House Robber:** This problem showed how to maximize profit under constraints, highlighting the value of considering non-adjacent elements in our state transitions.\n",
    "\n",
    "If you want to pursue the field of dynamic programming, you can still consider and solve problems such as:\n",
    "\n",
    "* Unique Paths\n",
    "* Longest Increasing Subsequence\n",
    "* Palindrome Partitioning II\n",
    "\n",
    "All those problems you can find in LeetCode."
   ]
  },
  {
   "cell_type": "markdown",
   "metadata": {
    "id": "6tqR8pAdEbf-"
   },
   "source": [
    "---"
   ]
  },
  {
   "cell_type": "markdown",
   "metadata": {
    "id": "JSecwJBJfK8f"
   },
   "source": [
    "## 10.6 What to read next"
   ]
  },
  {
   "cell_type": "markdown",
   "metadata": {
    "id": "lsrmj9zRfNv5"
   },
   "source": [
    "After mastering the basics of dynamic programming through problems like the Fibonacci sequence, climbing stairs, the knapsack problem, coin change, and house robber, it's important to expand your knowledge and delve deeper into more advanced topics. These concepts build on the foundation you've established and introduce new techniques and applications of dynamic programming. By exploring the following topics, you'll gain a more comprehensive understanding of how to approach and solve a wider variety of problems using dynamic programming.\n",
    "\n",
    "#### 1. Memoization vs Tabulation\n",
    "\n",
    "**Why Read This?**\n",
    "\n",
    "Understanding the difference between memoization and tabulation is crucial for mastering dynamic programming. Both are techniques used to optimize recursive algorithms by storing the results of subproblems:\n",
    "\n",
    "- **Memoization:** A top-down approach where you solve the problem recursively and store the results of subproblems in a data structure (usually a dictionary or array) to avoid redundant calculations.\n",
    "- **Tabulation:** A bottom-up approach where you iteratively solve all possible subproblems and store the results in a table (usually an array), filling it in a systematic manner.\n",
    "\n",
    "**Importance:**\n",
    "- Helps in choosing the right approach based on the problem's characteristics.\n",
    "- Enhances understanding of different dynamic programming strategies and their applications.\n",
    "\n",
    "#### 2. Longest Common Subsequence (LCS)\n",
    "\n",
    "**Why Read This?**\n",
    "\n",
    "The LCS problem is a classic dynamic programming problem that finds the longest subsequence common to two sequences. It's fundamental for understanding how to compare and find patterns in strings:\n",
    "\n",
    "- **Problem Statement:** Given two sequences, find the length of their longest common subsequence.\n",
    "- **Applications:** Text comparison, DNA sequence analysis, file difference utilities.\n",
    "\n",
    "**Importance:**\n",
    "- Introduces concepts of sequence alignment and comparison.\n",
    "- Provides a deeper understanding of dynamic programming applied to string problems.\n",
    "\n",
    "#### 3. Edit Distance\n",
    "\n",
    "**Why Read This?**\n",
    "\n",
    "The Edit Distance problem measures how dissimilar two strings are by counting the minimum number of operations required to transform one string into the other. It's a vital problem in dynamic programming with many practical applications:\n",
    "\n",
    "- **Problem Statement:** Given two strings, find the minimum number of operations (insertions, deletions, substitutions) needed to convert one string into the other.\n",
    "- **Applications:** Spell checking, DNA sequence alignment, natural language processing.\n",
    "\n",
    "**Importance:**\n",
    "- Enhances understanding of dynamic programming in the context of text transformation and alignment.\n",
    "- Demonstrates the practical utility of dynamic programming in real-world applications.\n",
    "\n",
    "#### 4. Dynamic Programming on Trees\n",
    "\n",
    "**Why Read This?**\n",
    "\n",
    "Dynamic programming on trees involves applying DP techniques to tree data structures. This is essential for solving problems where the structure of the input data is hierarchical:\n",
    "\n",
    "- **Problem Statement:** Solve optimization problems where the input is represented as a tree (e.g., finding the maximum path sum in a tree).\n",
    "- **Applications:** Network design, organizational hierarchy optimization, computational biology.\n",
    "\n",
    "**Importance:**\n",
    "- Expands the application of dynamic programming to non-linear data structures.\n",
    "- Provides insight into solving complex hierarchical problems efficiently.\n",
    "\n",
    "#### 5. Maximum Subarray Problem\n",
    "\n",
    "**Why Read This?**\n",
    "\n",
    "The Maximum Subarray Problem is another classic problem in dynamic programming that finds the contiguous subarray within a one-dimensional array with the maximum sum:\n",
    "\n",
    "- **Problem Statement:** Given an array of integers, find the contiguous subarray with the maximum sum.\n",
    "- **Applications:** Financial analysis (e.g., finding the period with the maximum profit), signal processing.\n",
    "\n",
    "**Importance:**\n",
    "- Demonstrates a simple yet powerful application of dynamic programming.\n",
    "- Helps in understanding how to handle and optimize problems involving arrays and sequences.\n",
    "\n",
    "Exploring these topics after learning the basics of dynamic programming will deepen your understanding and equip you with the skills to tackle a wider range of problems. Each of these topics represents a different type of problem or application where dynamic programming can be effectively utilized, helping you build a strong foundation in both theory and practical applications.\n"
   ]
  }
 ],
 "metadata": {
  "colab": {
   "collapsed_sections": [
    "ymf4xkuNfV0u"
   ],
   "provenance": []
  },
  "kernelspec": {
   "display_name": "Python 3 (ipykernel)",
   "language": "python",
   "name": "python3"
  },
  "language_info": {
   "codemirror_mode": {
    "name": "ipython",
    "version": 3
   },
   "file_extension": ".py",
   "mimetype": "text/x-python",
   "name": "python",
   "nbconvert_exporter": "python",
   "pygments_lexer": "ipython3",
   "version": "3.10.13"
  }
 },
 "nbformat": 4,
 "nbformat_minor": 4
}
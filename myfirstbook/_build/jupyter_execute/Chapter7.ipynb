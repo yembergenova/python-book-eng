{
 "cells": [
  {
   "cell_type": "markdown",
   "metadata": {
    "id": "DzOBSJiL9S8r"
   },
   "source": [
    "# **Chapter: Graph Traversals**\n",
    "\n",
    "ID: 231107008\n",
    "\n",
    "Name and Surname: Nazerke Makhsatbekkyzy"
   ]
  },
  {
   "cell_type": "markdown",
   "metadata": {
    "id": "ZzatI96Z9cb5"
   },
   "source": [
    "### **TABLE OF CONTENTS:**\n",
    "*   Understanding Graph Traversal in Computer Science\n",
    "*   Breadth-First Search (BFS)\n",
    "*   Depth-First Search (DFS)\n",
    "*   Comparing BFS and DFS Graph Traversal Approaches\n",
    "*   Exploring Different Graph Traversal Algorithms\n",
    "*   The Applications of Graph Traversal in Computer Science\n",
    "*   Tips for Solving Problems with Graph Traversal Algorithms\n",
    "*   Leetcode Problems related to Graph Traversals\n",
    "*   Conclusion\n",
    "*   References\n",
    "*   Useful links\n",
    "\n"
   ]
  },
  {
   "cell_type": "markdown",
   "metadata": {
    "id": "xd47lUygADZp"
   },
   "source": [
    "## **Understanding Graph Traversal in Computer Science**"
   ]
  },
  {
   "cell_type": "markdown",
   "metadata": {
    "id": "oS810uaUNXaV"
   },
   "source": [
    "In mathematics and computer science, a graph is a collection of nodes (also known as vertices) and edges that connect pairs of nodes. These edges may be directed or undirected, and they may have weights assigned to them. Graphs are a fundamental data structure used to represent various relationships between objects.\n",
    "\n",
    "Graph traversal refers to the process of visiting, or exploring, all the vertices of a graph, ensuring each vertex is visited exactly once. A fundamental technique in computer science, graph traversal has application in various fields, from internet network routing and social networks to creating a tree spanning a computer network."
   ]
  },
  {
   "cell_type": "markdown",
   "metadata": {
    "id": "FM1Ljp14AI_l"
   },
   "source": [
    "#### **The Definition of Graph Traversal**\n",
    "\n",
    "*In computer science,*\n",
    "\n",
    "> Graph traversal, as the term suggests, is a technique used for traversing or visiting every vertex of a graph. In other words, it's a systematic method of exploring every vertex (node or point) in a graph data structure.\n",
    "\n",
    "\n",
    "Visually a graph traversal is typically drawn as a decision tree, as shown in Fig. 1.\n",
    "\n",
    "<img src=\"https://b2316719.smushcdn.com/2316719/wp-content/uploads/2022/11/image-6-768x444.png?lossy=1&strip=1&webp=1\" width=\"600\">\n",
    "\n",
    "Figure 1: Example of nodes to traverse in a graph, visualized as a decision tree.\n"
   ]
  },
  {
   "cell_type": "markdown",
   "metadata": {
    "id": "NXiE-fg8BhAc"
   },
   "source": [
    "When traversing all the nodes through a graph, regardless of the algorithm used, we can face the following issues:\n",
    "There may be cases in which the graph is not connected, therefore not all nodes can be reached.\n",
    "\n",
    "In the case of cyclic (starts and ends at the same node) graphs, we should make sure that cycles do not cause the algorithm to go into an infinite loop.\n",
    "We may need to visit some nodes more than once, since we do not know if a node has already been seen, before transitioning to it.\n",
    "\n",
    "Graph traversal algorithms can solve the second and third problems by flagging vertices as visited when appropriate:\n",
    "1.   at first, no node is flagged as visited;\n",
    "2.   when the node is visited, we flag it as visited during the traversal;\n",
    "3.   a flagged node is not visited a second time. This keeps the program from going into an infinite loop when it encounters a cycle.\n",
    "\n",
    "Traversing a graph is, without a doubt, one of the most useful processes when dealing with graphs. In this blog we will describe the two most frequent methods when traversing a graph:\n",
    "*   Depth first search (DFS)\n",
    "*   Breadth first search (BFS)\n"
   ]
  },
  {
   "cell_type": "markdown",
   "metadata": {
    "id": "qX6l_LkeB3JM"
   },
   "source": [
    "#### **Key Terminology in Graph Traversal**\n",
    "\n",
    "In order to have a solid understanding of graph traversal, it is crucial to understand a few key terms:\n",
    "\n",
    "*Vertex:* A point or an individual node in a graph.\n",
    "\n",
    "*Edge:* A connection between two vertices.\n",
    "\n",
    "*Root:* The vertex from which the traversal starts.\n",
    "\n",
    "*BFS:* Breadth-First Search is a method for exploring the vertex level by level.\n",
    "\n",
    "*DFS:* Depth-First Search is a method for exploring the vertex deeply before moving to the next level."
   ]
  },
  {
   "cell_type": "markdown",
   "metadata": {
    "id": "ouVaACQACeFy"
   },
   "source": [
    "#### **The Role of Graph Traversal in Data Structures**\n",
    "\n",
    "Graph traversal plays a pivotal role in data structures and its applications. An algorithm like DFS can be used to create a tree, called a DFS tree, or we can detect cycles in a graph. BFS can be used to find the shortest path in a graph.\n",
    "For example, in a social networking site, graph traversal techniques like BFS or DFS could be used to find out the connection – or path – between two people.\n"
   ]
  },
  {
   "cell_type": "markdown",
   "metadata": {
    "id": "Lu2-IEGBCj1h"
   },
   "source": [
    "## **Breadth-First Search (BFS)**"
   ]
  },
  {
   "cell_type": "markdown",
   "metadata": {
    "id": "td0x2qAPCtOd"
   },
   "source": [
    "**Explanation and Algorithm**\n",
    "\n",
    "Breadth-First Search (BFS) is a fundamental graph traversal algorithm that explores all the vertices of a graph in breadthward motion. It starts from a selected node (or vertex) and explores all its neighbors at the present depth before moving on to nodes at the next depth level.\n",
    "\n",
    "**Algorithm:**\n",
    "1. Begin with a starting node, mark it as visited, and enqueue it in a queue.\n",
    "2. While the queue is not empty:\n",
    "Dequeue a node from the queue.\n",
    "Visit and process the node.\n",
    "Enqueue all unvisited neighbors of the node.\n",
    "3. Continue this process until all nodes are visited.\n",
    "\n",
    "**HOW DOES IT WORK CONCEPTUALLY?**\n",
    "\n",
    "The BFS algorithm starts by searching a start node, followed by its adjacent nodes, then all nodes that can be reached by a path from the start node containing two edges, three edges, and so on.\n",
    "In the example below from Fig. 3, the root node would be node “0”; we traverse in width through node “1”, followed by node “2”. Once we have traversed through all nodes in the first depth level, we move to the second depth level, starting with node “3”, and moving through nodes “4”, “5”, and “6”.\n",
    "\n",
    "<img src=\"https://b2316719.smushcdn.com/2316719/wp-content/uploads/2022/11/dfs_animated-1.gif?lossy=1&strip=1&webp=1\" width=\"600\">\n",
    "\n",
    "Figure 2: DFS Algorithm, step by step (example #1)"
   ]
  },
  {
   "cell_type": "markdown",
   "metadata": {
    "id": "G78mLfXnyvyb"
   },
   "source": [
    "#### **Example #1**"
   ]
  },
  {
   "cell_type": "code",
   "execution_count": 1,
   "metadata": {
    "colab": {
     "base_uri": "https://localhost:8080/"
    },
    "id": "WWZDPyVO9Q5J",
    "outputId": "22e1c8d4-848f-48a8-8929-15a52f006dd8"
   },
   "outputs": [
    {
     "name": "stdout",
     "output_type": "stream",
     "text": [
      "BFS Traversal:\n",
      "Traversing node 0 at depth 0\n",
      "Traversing node 1 at depth 1\n",
      "Traversing node 2 at depth 1\n",
      "Traversing node 3 at depth 2\n",
      "Traversing node 4 at depth 2\n",
      "Traversing node 5 at depth 3\n",
      "Traversing node 6 at depth 3\n"
     ]
    }
   ],
   "source": [
    "from collections import deque\n",
    "\n",
    "def bfs(graph, start):\n",
    "    visited = set()                     # Set to store visited nodes\n",
    "    queue = deque([(start, 0)])         # Initialize queue with starting node and its depth\n",
    "    visited.add(start)                  # Mark starting node as visited\n",
    "\n",
    "    while queue:                        # Continue until queue is empty\n",
    "        node, depth = queue.popleft()   # Dequeue a node and its depth from the queue\n",
    "        print(f\"Traversing node {node} at depth {depth}\")  # Print the traversed node and its depth\n",
    "\n",
    "        for neighbor in graph[node]:    # Explore neighbors of the current node\n",
    "            if neighbor not in visited: # If neighbor is not visited\n",
    "                queue.append((neighbor, depth + 1))  # Enqueue the neighbor with its depth\n",
    "                visited.add(neighbor)   # Mark neighbor as visited\n",
    "\n",
    "# Example graph represented as an adjacency list\n",
    "graph = {\n",
    "    '0': ['1', '2'],\n",
    "    '1': [],\n",
    "    '2': ['3', '4'],\n",
    "    '3': [],\n",
    "    '4': ['5', '6'],\n",
    "    '5': [],\n",
    "    '6': []\n",
    "}\n",
    "\n",
    "print(\"BFS Traversal:\")\n",
    "bfs(graph, '0')    # Perform BFS starting from node '0'"
   ]
  },
  {
   "cell_type": "markdown",
   "metadata": {
    "id": "iuUNEp8ExzH6"
   },
   "source": [
    "Explanation of the provided code:\n",
    "\n",
    "1. **Importing Libraries**: The code starts by importing the `deque` class from the `collections` module. This is used to implement the queue data structure efficiently.\n",
    "\n",
    "2. **Defining the BFS Function**: The `bfs` function takes two arguments: `graph`, which represents the graph as an adjacency list, and `start`, which specifies the starting node for the BFS traversal.\n",
    "\n",
    "3. **Initialization**: Inside the `bfs` function, a set called `visited` is initialized to keep track of visited nodes. The `queue` is initialized as a deque containing tuples `(start, 0)`, where `start` is the starting node and `0` is the depth of the starting node.\n",
    "\n",
    "4. **BFS Traversal**: The while loop continues until the queue is empty. At each iteration, a node and its depth are dequeued from the front of the queue using `popleft()`.\n",
    "\n",
    "5. **Printing the Traversed Node**: The traversed node and its depth are printed to demonstrate the BFS traversal order.\n",
    "\n",
    "6. **Exploring Neighbors**: For each neighbor of the current node, if the neighbor has not been visited, it is added to the queue along with its depth (depth + 1), and marked as visited.\n",
    "\n",
    "7. **Example Graph**: The example graph is represented as an adjacency list where each node is a key, and its adjacent nodes are stored as values in a list.\n",
    "\n",
    "8. **Calling the BFS Function**: Finally, the BFS function is called with the example graph and the starting node '0' to perform the BFS traversal.\n",
    "\n",
    "This code demonstrates how BFS traverses the graph in breadth-first order, starting from the root node and exploring all nodes at each level before moving to the next level. The depth of each node is printed during traversal to illustrate the BFS approach."
   ]
  },
  {
   "cell_type": "markdown",
   "metadata": {
    "id": "_GfLR0i-y1oH"
   },
   "source": [
    "#### **Example #2 BFS Traversal of a Directed Graph**\n"
   ]
  },
  {
   "cell_type": "markdown",
   "metadata": {
    "id": "TWaR1SLSyCVt"
   },
   "source": [
    "Consider the following directed graph:\n",
    "\n",
    "```\n",
    "   0 --> 1 --> 2\n",
    "   |     |     |\n",
    "   v     v     v\n",
    "   3 --> 4 --> 5\n",
    "```\n",
    "We will perform BFS traversal starting from node 0."
   ]
  },
  {
   "cell_type": "code",
   "execution_count": 2,
   "metadata": {
    "colab": {
     "base_uri": "https://localhost:8080/",
     "height": 730
    },
    "id": "FuRSfn_U3nQh",
    "outputId": "45a59cc3-6172-4599-ad1d-8cad9976f028"
   },
   "outputs": [
    {
     "ename": "ModuleNotFoundError",
     "evalue": "No module named 'networkx'",
     "output_type": "error",
     "traceback": [
      "\u001b[0;31m---------------------------------------------------------------------------\u001b[0m",
      "\u001b[0;31mModuleNotFoundError\u001b[0m                       Traceback (most recent call last)",
      "Cell \u001b[0;32mIn[2], line 1\u001b[0m\n\u001b[0;32m----> 1\u001b[0m \u001b[38;5;28;01mimport\u001b[39;00m \u001b[38;5;21;01mnetworkx\u001b[39;00m \u001b[38;5;28;01mas\u001b[39;00m \u001b[38;5;21;01mnx\u001b[39;00m\n\u001b[1;32m      2\u001b[0m \u001b[38;5;28;01mimport\u001b[39;00m \u001b[38;5;21;01mmatplotlib\u001b[39;00m\u001b[38;5;21;01m.\u001b[39;00m\u001b[38;5;21;01mpyplot\u001b[39;00m \u001b[38;5;28;01mas\u001b[39;00m \u001b[38;5;21;01mplt\u001b[39;00m\n\u001b[1;32m      3\u001b[0m \u001b[38;5;28;01mfrom\u001b[39;00m \u001b[38;5;21;01mcollections\u001b[39;00m \u001b[38;5;28;01mimport\u001b[39;00m deque\n",
      "\u001b[0;31mModuleNotFoundError\u001b[0m: No module named 'networkx'"
     ]
    }
   ],
   "source": [
    "import networkx as nx\n",
    "import matplotlib.pyplot as plt\n",
    "from collections import deque\n",
    "\n",
    "def bfs(graph, start):\n",
    "    visited = set()                     # Set to store visited nodes\n",
    "    queue = deque([start])              # Initialize queue with starting node\n",
    "    visited.add(start)                  # Mark starting node as visited\n",
    "\n",
    "    G = nx.Graph()                      # Create an undirected graph object\n",
    "    G.add_nodes_from(graph.keys())      # Add nodes to the graph\n",
    "\n",
    "    while queue:                        # Continue until queue is empty\n",
    "        node = queue.popleft()          # Dequeue a node from the queue\n",
    "\n",
    "        for neighbor in graph[node]:    # Explore neighbors of the current node\n",
    "            if neighbor not in visited: # If neighbor is not visited\n",
    "                queue.append(neighbor)  # Enqueue the neighbor\n",
    "                visited.add(neighbor)   # Mark neighbor as visited\n",
    "                G.add_edge(node, neighbor)  # Add edge to the graph\n",
    "\n",
    "    return G\n",
    "\n",
    "# Example graph represented as an adjacency list\n",
    "graph = {\n",
    "    '0': ['1', '3'],\n",
    "    '1': ['2', '4'],\n",
    "    '2': ['5'],\n",
    "    '3': ['4'],\n",
    "    '4': ['5'],\n",
    "    '5': []\n",
    "}\n",
    "\n",
    "start_node = '0'\n",
    "print(\"BFS Traversal:\")\n",
    "bfs_graph = bfs(graph, start_node)    # Get the BFS traversal graph\n",
    "pos = nx.spring_layout(bfs_graph)     # Calculate node positions\n",
    "\n",
    "# Draw the graph\n",
    "nx.draw(bfs_graph, pos, with_labels=True, node_size=1000, node_color='skyblue', font_size=12, font_weight='bold', arrowsize=20)\n",
    "\n",
    "# Show the graph\n",
    "plt.title(\"BFS Traversal Graph\")\n",
    "plt.show()"
   ]
  },
  {
   "cell_type": "code",
   "execution_count": null,
   "metadata": {
    "id": "5LFqZPU7ycRO"
   },
   "outputs": [],
   "source": [
    "from collections import deque\n",
    "\n",
    "def bfs(graph, start):\n",
    "    visited = set()                     # Set to store visited nodes\n",
    "    queue = deque([start])              # Initialize queue with starting node\n",
    "    visited.add(start)                  # Mark starting node as visited\n",
    "\n",
    "    while queue:                        # Continue until queue is empty\n",
    "        node = queue.popleft()          # Dequeue a node from the queue\n",
    "        print(node, end=\" \")            # Print the traversed node\n",
    "\n",
    "        for neighbor in graph[node]:    # Explore neighbors of the current node\n",
    "            if neighbor not in visited: # If neighbor is not visited\n",
    "                queue.append(neighbor)  # Enqueue the neighbor\n",
    "                visited.add(neighbor)   # Mark neighbor as visited\n",
    "\n",
    "# Example graph represented as an adjacency list\n",
    "graph = {\n",
    "    '0': ['1', '3'],\n",
    "    '1': ['2', '4'],\n",
    "    '2': ['5'],\n",
    "    '3': ['4'],\n",
    "    '4': ['5'],\n",
    "    '5': []\n",
    "}\n",
    "\n",
    "print(\"BFS Traversal:\")\n",
    "bfs(graph, '0')    # Perform BFS starting from node '0'"
   ]
  },
  {
   "cell_type": "markdown",
   "metadata": {
    "id": "Na1xzclLyd8K"
   },
   "source": [
    "**Explanation:**\n",
    "\n",
    "1. **Importing Libraries**: We import the `deque` class from the `collections` module to implement the queue efficiently.\n",
    "\n",
    "2. **Defining the BFS Function**: The `bfs` function takes two arguments: `graph`, which represents the graph as an adjacency list, and `start`, which specifies the starting node for the BFS traversal.\n",
    "\n",
    "3. **Initialization**: Inside the `bfs` function, we initialize a set called `visited` to keep track of visited nodes. The `queue` is initialized as a deque containing the starting node.\n",
    "\n",
    "4. **BFS Traversal**: We perform BFS traversal using a while loop that continues until the queue is empty. At each iteration, we dequeue a node from the front of the queue and print it.\n",
    "\n",
    "5. **Exploring Neighbors**: For each neighbor of the current node, if the neighbor has not been visited, we enqueue it and mark it as visited.\n",
    "\n",
    "6. **Example Graph**: The example graph is represented as an adjacency list where each node is a key, and its adjacent nodes are stored as values in a list.\n",
    "\n",
    "7. **Calling the BFS Function**: Finally, we call the `bfs` function with the example graph and the starting node `'0'` to perform the BFS traversal.\n",
    "\n",
    "This code demonstrates how BFS traversal explores nodes level by level, starting from the root node (`'0'`) and visiting all its neighbors before moving to the next level. The traversal order is `0 1 3 2 4 5`."
   ]
  },
  {
   "cell_type": "markdown",
   "metadata": {
    "id": "Ny5iZpkIGx30"
   },
   "source": [
    "#### **Applications and Use Cases**\n",
    "\n",
    "*   Shortest Path: BFS finds the shortest path in unweighted graphs, where the number of edges measures the path length.\n",
    "*   Network Broadcasting: It’s employed in network routing algorithms to broadcast messages to all nodes efficiently.\n",
    "*   Web Crawling: Search engines like Google use BFS to index web pages by following links from one page to another.\n"
   ]
  },
  {
   "cell_type": "markdown",
   "metadata": {
    "id": "Z1OnXkSBG7vT"
   },
   "source": [
    "## **Depth-First Search (DFS)**"
   ]
  },
  {
   "cell_type": "markdown",
   "metadata": {
    "id": "miBVd7tUHBnn"
   },
   "source": [
    "**Explanation and Algorithm**\n",
    "\n",
    "Depth-first search (DFS) is another fundamental graph traversal algorithm that explores all the vertices of a graph by going as deep as possible along each branch before backtracking. It starts from a selected node and explores as far as possible along each branch before moving back.\n",
    "\n",
    "**Algorithm:**\n",
    "1. Begin with a starting node and mark it as visited.\n",
    "2. For each unvisited neighbor of the node:\n",
    "Recur with the neighbor as the new starting node.\n",
    "3. Continue this process until all nodes are visited.\n",
    "\n",
    "**HOW DOES IT WORK CONCEPTUALLY?**\n",
    "\n",
    "The DFS algorithm starts at the root (top) node of a tree and goes as far as it can down a given branch (path), then backtracks until it finds an unexplored path, and then explores it. The algorithm does this until the entire graph has been explored.\n",
    "\n",
    "In the example shown in Fig. 2, the root node would be node “0”; we traverse in depth through node “1”, followed by node “3”. Once we reach the node, we move one level up to node “1” and traverse through all other connected nodes, in this case, node “4”. Once we have covered all connected nodes, we move again one level up, to node “0” and traverse all other connected nodes, in this case, node “2”. As we traverse through deeper nodes, we traverse through nodes “5” and “6”, covering all connected nodes.\n",
    "\n",
    "<img src=\"https://b2316719.smushcdn.com/2316719/wp-content/uploads/2022/11/bfs_animated-1.gif?lossy=1&strip=1&webp=1\" width=\"600\">\n",
    "\n",
    "Figure 3: BFS Algorithm, step by step (example #1)"
   ]
  },
  {
   "cell_type": "markdown",
   "metadata": {
    "id": "rRd_qru5zT6F"
   },
   "source": [
    "#### **Example #1**"
   ]
  },
  {
   "cell_type": "code",
   "execution_count": null,
   "metadata": {
    "colab": {
     "base_uri": "https://localhost:8080/"
    },
    "id": "TKp__nEyHlbJ",
    "outputId": "43524d6a-e3e2-48f9-bd09-eac042991b48"
   },
   "outputs": [
    {
     "name": "stdout",
     "output_type": "stream",
     "text": [
      "DFS Traversal:\n",
      "0 1 3 4 2 5 6 "
     ]
    }
   ],
   "source": [
    "def dfs(graph, start, visited=None):\n",
    "    if visited is None:\n",
    "        visited = set()                     # Set to store visited nodes\n",
    "    visited.add(start)                      # Mark current node as visited\n",
    "    print(start, end=\" \")                   # Print the traversed node\n",
    "\n",
    "    for neighbor in graph[start]:           # Explore neighbors of the current node\n",
    "        if neighbor not in visited:         # If neighbor is not visited\n",
    "            dfs(graph, neighbor, visited)   # Recursively call DFS for the neighbor\n",
    "\n",
    "# Example graph represented as an adjacency list\n",
    "graph = {\n",
    "    '0': ['1', '2'],\n",
    "    '1': ['3', '4'],\n",
    "    '2': ['5', '6'],\n",
    "    '3': [],\n",
    "    '4': [],\n",
    "    '5': [],\n",
    "    '6': []\n",
    "}\n",
    "\n",
    "print(\"DFS Traversal:\")\n",
    "dfs(graph, '0')    # Perform DFS starting from node '0'"
   ]
  },
  {
   "cell_type": "markdown",
   "metadata": {
    "id": "crvhlFi1zZxZ"
   },
   "source": [
    "**Explanation:**\n",
    "\n",
    "1. **Defining the DFS Function**: The `dfs` function takes three arguments: `graph`, which represents the graph as an adjacency list, `start`, which specifies the starting node for the DFS traversal, and `visited`, which is a set to keep track of visited nodes. If `visited` is not provided, it is initialized as an empty set.\n",
    "\n",
    "2. **Base Case**: If the current node (`start`) has not been visited, it is added to the `visited` set and printed as the traversed node.\n",
    "\n",
    "3. **Recursive Exploration**: For each neighbor of the current node, if the neighbor has not been visited, the `dfs` function is recursively called for that neighbor.\n",
    "\n",
    "4. **Example Graph**: The example graph is represented as an adjacency list where each node is a key, and its adjacent nodes are stored as values in a list.\n",
    "\n",
    "5. **Calling the DFS Function**: Finally, we call the `dfs` function with the example graph and the starting node `'0'` to perform the DFS traversal.\n",
    "\n",
    "This code demonstrates how DFS traversal explores nodes depth-first, starting from the root node (`'0'`) and traversing as far down each branch as possible before backtracking. The traversal order is `0 1 3 4 2 5 6`."
   ]
  },
  {
   "cell_type": "markdown",
   "metadata": {
    "id": "r8vOmM_wzi-5"
   },
   "source": [
    "#### **Example #2 DFS Traversal of a Directed Graph**"
   ]
  },
  {
   "cell_type": "markdown",
   "metadata": {
    "id": "Z2hL8ls6zngF"
   },
   "source": [
    "Consider the following directed graph:\n",
    "```\n",
    "   0 --> 1 --> 2\n",
    "   |     |     |\n",
    "   v     v     v\n",
    "   3 --> 4 --> 5\n",
    "```\n",
    "We will perform DFS traversal starting from node 0."
   ]
  },
  {
   "cell_type": "code",
   "execution_count": null,
   "metadata": {
    "colab": {
     "base_uri": "https://localhost:8080/",
     "height": 574
    },
    "id": "eCNStjpT3xZc",
    "outputId": "5bc67373-8ad1-4f22-92a6-3c48b09020d8"
   },
   "outputs": [
    {
     "name": "stdout",
     "output_type": "stream",
     "text": [
      "DFS Traversal:\n",
      "0 1 2 5 4 3 "
     ]
    },
    {
     "data": {
      "image/png": "[encoded data removed]",
      "text/plain": [
       "<Figure size 640x480 with 1 Axes>"
      ]
     },
     "metadata": {},
     "output_type": "display_data"
    }
   ],
   "source": [
    "import networkx as nx\n",
    "import matplotlib.pyplot as plt\n",
    "\n",
    "def dfs(graph, start, visited=None, visited_list=None):\n",
    "    if visited is None:\n",
    "        visited = set()                     # Set to store visited nodes\n",
    "    if visited_list is None:\n",
    "        visited_list = []                   # List to store visited nodes in order\n",
    "    visited.add(start)                      # Mark current node as visited\n",
    "    visited_list.append(start)              # Add current node to visited list\n",
    "    print(start, end=\" \")                   # Print the traversed node\n",
    "\n",
    "    for neighbor in graph[start]:           # Explore neighbors of the current node\n",
    "        if neighbor not in visited:         # If neighbor is not visited\n",
    "            dfs(graph, neighbor, visited, visited_list)   # Recursively call DFS for the neighbor\n",
    "\n",
    "    return visited_list\n",
    "\n",
    "# Example graph represented as an adjacency list\n",
    "graph = {\n",
    "    '0': ['1', '3'],\n",
    "    '1': ['2', '4'],\n",
    "    '2': ['5'],\n",
    "    '3': ['4'],\n",
    "    '4': ['5'],\n",
    "    '5': []\n",
    "}\n",
    "\n",
    "start_node = '0'\n",
    "print(\"DFS Traversal:\")\n",
    "visited_list = dfs(graph, start_node)    # Perform DFS starting from node '0'\n",
    "\n",
    "# Create a directed graph object for the DFS traversal\n",
    "G_dfs = nx.Graph()\n",
    "G_dfs.add_nodes_from(graph.keys())  # Add nodes to the graph\n",
    "\n",
    "# Add edges based on the DFS traversal order\n",
    "for i in range(len(visited_list) - 1):\n",
    "    G_dfs.add_edge(visited_list[i], visited_list[i + 1])\n",
    "\n",
    "# Draw the graph\n",
    "pos_dfs = nx.spring_layout(G_dfs)\n",
    "nx.draw(G_dfs, pos_dfs, with_labels=True, node_size=1000, node_color='lightcoral', font_size=12, font_weight='bold', arrowsize=20)\n",
    "\n",
    "# Show the graph\n",
    "plt.title(\"DFS Traversal Graph\")\n",
    "plt.show()"
   ]
  },
  {
   "cell_type": "code",
   "execution_count": null,
   "metadata": {
    "colab": {
     "base_uri": "https://localhost:8080/"
    },
    "id": "FEbI-lnDz3AG",
    "outputId": "3ad99669-5b2f-4fc3-8be0-b397f7205a42"
   },
   "outputs": [
    {
     "name": "stdout",
     "output_type": "stream",
     "text": [
      "DFS Traversal:\n",
      "0 1 2 5 4 3 "
     ]
    }
   ],
   "source": [
    "def dfs(graph, start, visited=None):\n",
    "    if visited is None:\n",
    "        visited = set()                     # Set to store visited nodes\n",
    "    visited.add(start)                      # Mark current node as visited\n",
    "    print(start, end=\" \")                   # Print the traversed node\n",
    "\n",
    "    for neighbor in graph[start]:           # Explore neighbors of the current node\n",
    "        if neighbor not in visited:         # If neighbor is not visited\n",
    "            dfs(graph, neighbor, visited)   # Recursively call DFS for the neighbor\n",
    "\n",
    "# Example graph represented as an adjacency list\n",
    "graph = {\n",
    "    '0': ['1', '3'],\n",
    "    '1': ['2', '4'],\n",
    "    '2': ['5'],\n",
    "    '3': ['4'],\n",
    "    '4': ['5'],\n",
    "    '5': []\n",
    "}\n",
    "\n",
    "print(\"DFS Traversal:\")\n",
    "dfs(graph, '0')    # Perform DFS starting from node '0'"
   ]
  },
  {
   "cell_type": "markdown",
   "metadata": {
    "id": "vpEROM-yz6ei"
   },
   "source": [
    "**Explanation:**\n",
    "\n",
    "1. **Defining the DFS Function**: The `dfs` function takes three arguments: `graph`, which represents the graph as an adjacency list, `start`, which specifies the starting node for the DFS traversal, and `visited`, which is a set to keep track of visited nodes. If `visited` is not provided, it is initialized as an empty set.\n",
    "\n",
    "2. **Base Case**: If the current node (`start`) has not been visited, it is added to the `visited` set and printed as the traversed node.\n",
    "\n",
    "3. **Recursive Exploration**: For each neighbor of the current node, if the neighbor has not been visited, the `dfs` function is recursively called for that neighbor.\n",
    "\n",
    "4. **Example Graph**: The example graph is represented as an adjacency list where each node is a key, and its adjacent nodes are stored as values in a list.\n",
    "\n",
    "5. **Calling the DFS Function**: Finally, we call the `dfs` function with the example graph and the starting node `'0'` to perform the DFS traversal.\n",
    "\n",
    "This code demonstrates how DFS traversal explores nodes depth-first, starting from the root node (`'0'`) and traversing as far down each branch as possible before backtracking. The traversal order is `0 1 2 5 4 3`."
   ]
  },
  {
   "cell_type": "markdown",
   "metadata": {
    "id": "xTqjHXrHHkUK"
   },
   "source": [
    "#### **Applications and Use Cases**\n",
    "* Cycle Detection: DFS can detect cycles in a graph, essential in tasks like deadlock detection.\n",
    "* Topological Sorting: It’s used to sort the vertices of a directed acyclic graph (DAG) in a linear order.\n",
    "* Maze Solving: DFS can be used to find a path through a maze by exploring possible routes.\n",
    "* Strongly Connected Components: In directed graphs, DFS is used to find strongly connected components, which are sets of nodes where each node is reachable from every other node.\n",
    "\n",
    "These two techniques are used extensively in a variety of scenarios. For instance, when finding the shortest path between two points in an unweighted graph or level order traversal of a tree, BFS is used. On the other hand, DFS is the preferred method when performing tasks like Topological Sorting or detecting a cycle in a graph."
   ]
  },
  {
   "cell_type": "markdown",
   "metadata": {
    "id": "0Hu_m4vhHnST"
   },
   "source": [
    "## **Comparing BFS and DFS Graph Traversal Approaches**"
   ]
  },
  {
   "cell_type": "markdown",
   "metadata": {
    "id": "FmnG2nDiNjr_"
   },
   "source": [
    "While BFS and DFS are both effective graph traversal methods, they have distinct characteristics and use-cases. Here's is a comparative overview of BFS and DFS:\n",
    "\n",
    "| Criteria            | BFS                                | DFS                                                |\n",
    "|---------------------|------------------------------------|----------------------------------------------------|\n",
    "| Traversal Order     | Vertex level by level              | Depth first, retraces when hits a dead end         |\n",
    "| Data Structure Used | Queue                              | Stack                                              |\n",
    "| Example of Use Case | Shortest path in an unweighted graph | Topological Sorting, detecting a cycle in a graph |\n"
   ]
  },
  {
   "cell_type": "markdown",
   "metadata": {
    "id": "sIb9V1Tk0L1v"
   },
   "source": [
    "#### **Example**"
   ]
  },
  {
   "cell_type": "markdown",
   "metadata": {
    "id": "abiiqrwO0PwH"
   },
   "source": [
    "Consider the following undirected graph:\n",
    "```\n",
    "   0\n",
    "  / \\\n",
    " 1---2\n",
    " |   |\n",
    " 3---4\n",
    "\n",
    "```\n",
    "We'll perform BFS and DFS traversal starting from node 0 and observe the traversal order."
   ]
  },
  {
   "cell_type": "code",
   "execution_count": null,
   "metadata": {
    "colab": {
     "base_uri": "https://localhost:8080/"
    },
    "id": "mkhAMviN0Zkw",
    "outputId": "25588cca-3f2e-4530-977a-d016d51414df"
   },
   "outputs": [
    {
     "name": "stdout",
     "output_type": "stream",
     "text": [
      "BFS Traversal:\n",
      "0 1 2 3 4 \n",
      "\n",
      "0 1 2 4 3 "
     ]
    }
   ],
   "source": [
    "from collections import deque\n",
    "\n",
    "def bfs(graph, start):\n",
    "    visited = set()                     # Set to store visited nodes\n",
    "    queue = deque([start])              # Initialize queue with starting node\n",
    "    visited.add(start)                  # Mark starting node as visited\n",
    "\n",
    "    print(\"BFS Traversal:\")\n",
    "    while queue:                        # Continue until queue is empty\n",
    "        node = queue.popleft()          # Dequeue a node from the front of the queue\n",
    "        print(node, end=\" \")            # Print the traversed node\n",
    "\n",
    "        for neighbor in graph[node]:    # Explore neighbors of the current node\n",
    "            if neighbor not in visited: # If neighbor is not visited\n",
    "                queue.append(neighbor)  # Enqueue the neighbor\n",
    "                visited.add(neighbor)   # Mark neighbor as visited\n",
    "\n",
    "def dfs(graph, start, visited=None):\n",
    "    if visited is None:\n",
    "        visited = set()                     # Set to store visited nodes\n",
    "    visited.add(start)                      # Mark current node as visited\n",
    "    print(start, end=\" \")                   # Print the traversed node\n",
    "\n",
    "    for neighbor in graph[start]:           # Explore neighbors of the current node\n",
    "        if neighbor not in visited:         # If neighbor is not visited\n",
    "            dfs(graph, neighbor, visited)   # Recursively call DFS for the neighbor\n",
    "\n",
    "# Example graph represented as an adjacency list\n",
    "graph = {\n",
    "    '0': ['1', '2'],\n",
    "    '1': ['0', '2', '3'],\n",
    "    '2': ['0', '1', '4'],\n",
    "    '3': ['1', '4'],\n",
    "    '4': ['2', '3']\n",
    "}\n",
    "\n",
    "bfs(graph, '0')    # Perform BFS starting from node '0'\n",
    "print(\"\\n\")\n",
    "dfs(graph, '0')    # Perform DFS starting from node '0'"
   ]
  },
  {
   "cell_type": "markdown",
   "metadata": {
    "id": "yzpwTHbh0buV"
   },
   "source": [
    "**Explanation:**\n",
    "\n",
    "1. **Defining BFS and DFS Functions**: We define `bfs` and `dfs` functions to perform BFS and DFS traversal, respectively. Both functions take the graph represented as an adjacency list and the starting node as input.\n",
    "\n",
    "2. **BFS Traversal**: In the `bfs` function, we use a queue to implement BFS traversal. We start by enqueueing the starting node and mark it as visited. Then, we continue dequeuing nodes from the queue, visiting their neighbors, and enqueueing unvisited neighbors until the queue is empty. We print the traversal order as we visit each node.\n",
    "\n",
    "3. **DFS Traversal**: In the `dfs` function, we use recursion to implement DFS traversal. We start by marking the current node as visited and print it. Then, we recursively call DFS for each unvisited neighbor of the current node. This results in traversing nodes in depth-first order, printing the traversal order as we visit each node.\n",
    "\n",
    "4. **Example Graph**: We represent the example graph as an adjacency list where each node is a key, and its adjacent nodes are stored as values in a list.\n",
    "\n",
    "5. **Performing Traversals**: Finally, we call both BFS and DFS functions with the example graph and the starting node `'0'` to compare their traversal orders. We observe the difference in traversal order between BFS and DFS approaches."
   ]
  },
  {
   "cell_type": "markdown",
   "metadata": {
    "id": "EG-8uq7RIblt"
   },
   "source": [
    "## **Exploring Different Graph Traversal Algorithms**"
   ]
  },
  {
   "cell_type": "markdown",
   "metadata": {
    "id": "egEwMWl1IlGI"
   },
   "source": [
    "There exist numerous algorithms for traversing graphs, born out of the diversity of problems that use graphs as their core data structure. While Breadth-First Search (BFS) and Depth-First Search (DFS) are the most prominent and fundamental methods, other useful algorithms include Dijkstra's algorithm, A* Search, Bellman-Ford algorithm, and Floyd-Warshall algorithm."
   ]
  },
  {
   "cell_type": "markdown",
   "metadata": {
    "id": "eAzkUXeXN8Q4"
   },
   "source": [
    "### **Fundamentals of Graph Traversal Algorithms**"
   ]
  },
  {
   "cell_type": "markdown",
   "metadata": {
    "id": "aLhSYlF8Ny_S"
   },
   "source": [
    "\n",
    "Understanding graph traversal requires an insight into the fundamentals of these algorithms and how they work."
   ]
  },
  {
   "cell_type": "markdown",
   "metadata": {
    "id": "J9Ud6oeKOAwo"
   },
   "source": [
    "### **Shortest Path Algorithms**"
   ]
  },
  {
   "cell_type": "markdown",
   "metadata": {
    "id": "FUDZ0w03OKz5"
   },
   "source": [
    "#### **Dijkstra’s Algorithm**"
   ]
  },
  {
   "cell_type": "markdown",
   "metadata": {
    "id": "09QVHrHzOUTR"
   },
   "source": [
    "**Explanation and Algorithm**\n",
    "\n",
    "Dijkstra’s Algorithm is a widely used and efficient algorithm for finding the shortest path between nodes in a weighted graph. It works by maintaining a set of tentative distances to every node and iteratively updating these distances based on the actual distances found.\n",
    "\n",
    "Algorithm:\n",
    "1. Initialize a distance table with tentative distances to all nodes, setting the space to the starting node as 0 and all others as infinity.\n",
    "2. Set the starting node as the current node.\n",
    "3. For each neighbor of the current node, calculate its tentative distance and update the distance table if a shorter path is found.\n",
    "4. Mark the current node as visited.\n",
    "5. Select the unvisited node with the smallest tentative distance, set it as the new current node, and repeat steps 3–5.\n",
    "6. Continue this process until the destination node is marked as visited or until all nodes have been called.\n",
    "\n",
    "**Applications and Use Cases**\n",
    "* Navigation and Maps: Dijkstra’s Algorithm is used in GPS systems to find the shortest route between two locations.\n",
    "* Networking and Routing: It’s employed in determining the optimal path for data transmission in computer networks.\n",
    "* Transportation and Logistics: Dijkstra’s Algorithm helps optimize routes for delivery services and public transportation."
   ]
  },
  {
   "cell_type": "markdown",
   "metadata": {
    "id": "8OpzjHSC16v5"
   },
   "source": [
    "**Example of Dijkstra's algorithm applied to find the shortest paths from a single source node to all other nodes in a weighted directed graph:**\n",
    "\n",
    "The problem is finding the shortest paths from a single source node to all other nodes in a weighted directed graph. This is achieved using Dijkstra's algorithm, which efficiently computes the shortest distances from the specified source node to all other nodes in the graph. The algorithm takes as input the graph represented as an adjacency list with weighted edges and the start node, and it outputs a dictionary containing the shortest distances from the start node to each node in the graph. The code demonstrates the application of Dijkstra's algorithm to find the shortest distances from a specified source node 'A' to all other nodes in the example graph."
   ]
  },
  {
   "cell_type": "code",
   "execution_count": null,
   "metadata": {
    "colab": {
     "base_uri": "https://localhost:8080/",
     "height": 539
    },
    "id": "-jeGZh9H1F1E",
    "outputId": "a5cf3d7e-80f5-4086-988f-196f9ff7a311"
   },
   "outputs": [
    {
     "data": {
      "image/png": "[encoded data removed]",
      "text/plain": [
       "<Figure size 640x480 with 1 Axes>"
      ]
     },
     "metadata": {},
     "output_type": "display_data"
    }
   ],
   "source": [
    "import networkx as nx\n",
    "import matplotlib.pyplot as plt\n",
    "\n",
    "# Example graph represented as an adjacency list with weighted edges\n",
    "graph = {\n",
    "    'A': {'B': 5, 'C': 3},\n",
    "    'B': {'D': 6, 'E': 2},\n",
    "    'C': {'B': 1, 'D': 1},\n",
    "    'D': {'F': 3},\n",
    "    'E': {'D': 1},\n",
    "    'F': {}\n",
    "}\n",
    "\n",
    "# Create a directed graph object\n",
    "G = nx.DiGraph()\n",
    "\n",
    "# Add nodes and edges to the graph\n",
    "for node, neighbors in graph.items():\n",
    "    for neighbor, weight in neighbors.items():\n",
    "        G.add_edge(node, neighbor, weight=weight)\n",
    "\n",
    "# Draw the graph\n",
    "pos = nx.spring_layout(G)\n",
    "nx.draw(G, pos, with_labels=True, node_size=1000, node_color='skyblue', font_size=12, font_weight='bold', arrowsize=20)\n",
    "\n",
    "# Add edge labels\n",
    "edge_labels = nx.get_edge_attributes(G, 'weight')\n",
    "nx.draw_networkx_edge_labels(G, pos, edge_labels=edge_labels)\n",
    "\n",
    "# Show the graph\n",
    "plt.title(\"Dijkstra's algorithm\")\n",
    "plt.show()"
   ]
  },
  {
   "cell_type": "markdown",
   "metadata": {
    "id": "fm1RDwII1L2b"
   },
   "source": [
    "**Code:**"
   ]
  },
  {
   "cell_type": "code",
   "execution_count": null,
   "metadata": {
    "colab": {
     "base_uri": "https://localhost:8080/"
    },
    "id": "n2y4TQZmK3wO",
    "outputId": "bfa9ddd5-a7f6-467f-d14a-8e5c18acd6fd"
   },
   "outputs": [
    {
     "name": "stdout",
     "output_type": "stream",
     "text": [
      "Shortest distances from node A using Dijkstra's algorithm:\n",
      "To node A: 0\n",
      "To node B: 4\n",
      "To node C: 3\n",
      "To node D: 4\n",
      "To node E: 6\n",
      "To node F: 7\n"
     ]
    }
   ],
   "source": [
    "import heapq\n",
    "\n",
    "def dijkstra(graph, start):\n",
    "    # Initialize distances to all nodes as infinity\n",
    "    distances = {node: float('inf') for node in graph}\n",
    "    distances[start] = 0  # Distance from start node to itself is 0\n",
    "\n",
    "    # Priority queue to store nodes with their distances\n",
    "    pq = [(0, start)]  # Priority queue with (distance, node) pairs\n",
    "\n",
    "    while pq:\n",
    "        current_distance, current_node = heapq.heappop(pq)  # Pop node with smallest distance\n",
    "        # If we have already found a shorter path to the current node, skip it\n",
    "        if current_distance > distances[current_node]:\n",
    "            continue\n",
    "\n",
    "        # Explore neighbors of the current node\n",
    "        for neighbor, weight in graph[current_node].items():\n",
    "            distance = current_distance + weight\n",
    "            # If the new distance is shorter than the existing one, update the distance\n",
    "            if distance < distances[neighbor]:\n",
    "                distances[neighbor] = distance\n",
    "                heapq.heappush(pq, (distance, neighbor))  # Push neighbor with its updated distance to the priority queue\n",
    "\n",
    "    return distances\n",
    "\n",
    "# Example graph represented as an adjacency list with weighted edges\n",
    "graph = {\n",
    "    'A': {'B': 5, 'C': 3},\n",
    "    'B': {'D': 6, 'E': 2},\n",
    "    'C': {'B': 1, 'D': 1},\n",
    "    'D': {'F': 3},\n",
    "    'E': {'D': 1},\n",
    "    'F': {}\n",
    "}\n",
    "\n",
    "start_node = 'A'\n",
    "print(f\"Shortest distances from node {start_node} using Dijkstra's algorithm:\")\n",
    "distances = dijkstra(graph, start_node)\n",
    "for node, distance in distances.items():\n",
    "    print(f\"To node {node}: {distance}\")"
   ]
  },
  {
   "cell_type": "markdown",
   "metadata": {
    "id": "TAg-HIDM1Tsq"
   },
   "source": [
    "**Explanation:**\n",
    "\n",
    "1. **Defining Dijkstra's Function**: We define the `dijkstra` function that takes the graph represented as an adjacency list and the start node as input. This function computes and returns the shortest distances from the start node to all other nodes in the graph.\n",
    "\n",
    "2. **Initialization**: We initialize a dictionary called `distances` to store the shortest distances to all nodes. Initially, distances to all nodes except the start node are set to infinity. The distance from the start node to itself is set to 0.\n",
    "\n",
    "3. **Priority Queue**: We use a priority queue implemented with a heap to keep track of nodes and their distances. Nodes are prioritized based on their distances, with nodes having smaller distances given higher priority.\n",
    "\n",
    "4. **Main Loop**: In each iteration of the main loop, we pop the node with the smallest distance from the priority queue. We explore its neighbors and update their distances if a shorter path is found through the current node.\n",
    "\n",
    "5. **Updating Distances**: If the new distance to a neighbor node is shorter than its existing distance, we update the distance and push the neighbor node with its updated distance to the priority queue.\n",
    "\n",
    "6. **Return**: After traversing all nodes, we return the `distances` dictionary containing the shortest distances from the start node to all other nodes in the graph.\n",
    "\n",
    "7. **Example Graph**: We provide an example graph represented as an adjacency list with weighted edges.\n",
    "\n",
    "8. **Performing Dijkstra's Algorithm**: Finally, we call the `dijkstra` function with the example graph and the start node `'A'` to compute the shortest distances from node `'A'`. The shortest distances to all other nodes are printed as the output."
   ]
  },
  {
   "cell_type": "markdown",
   "metadata": {
    "id": "NJWnz5xKJNw8"
   },
   "source": [
    "#### **Bellman-Ford Algorithm**"
   ]
  },
  {
   "cell_type": "markdown",
   "metadata": {
    "id": "dnGoxRtaOYCG"
   },
   "source": [
    "**Explanation and Algorithm**\n",
    "\n",
    "The Bellman-Ford Algorithm finds the shortest paths in weighted graphs, even with opposing weight edges. It works by iteratively relaxing the edges in the chart.\n",
    "\n",
    "**Algorithm:**\n",
    "1. Initialize distance values to all nodes as infinity and set the distance to the starting node as 0.\n",
    "2. Relax all edges (repeat |V| — 1 times):\n",
    "For each edge (u, v) with weight w, if dist[u] + w < dist[v], update dist[v] = dist[u] + w.\n",
    "3. Check for negative-weight cycles:\n",
    "If any relaxation step further reduces the distance, a negative-weight cycle exists.\n",
    "\n",
    "**Applications and Use Cases**\n",
    "* Routing in Networks: The Bellman-Ford algorithm is used in routing protocols like RIP (Routing Information Protocol) for finding the shortest path in computer networks.\n",
    "* Arbitrage Detection: It’s employed in financial markets to detect opportunities for arbitrage by identifying negative-weight cycles in currency exchange rates.\n",
    "* Traffic Engineering: Bellman-Ford can be used in traffic engineering to find optimal routes for data transmission in networks with varying link costs.\n"
   ]
  },
  {
   "cell_type": "markdown",
   "metadata": {
    "id": "9oJa6rKK2WJT"
   },
   "source": [
    "**Description:**\n",
    "\n",
    "The Bellman-Ford algorithm addresses the problem of finding the shortest paths from a single source node to all other nodes in a weighted directed graph, even in the presence of negative edge weights or cycles. It is particularly useful when dealing with graphs that may contain negative edge weights.\n",
    "\n",
    "**Graph:**\n",
    "\n",
    "Consider the following weighted directed graph:"
   ]
  },
  {
   "cell_type": "code",
   "execution_count": null,
   "metadata": {
    "colab": {
     "base_uri": "https://localhost:8080/",
     "height": 539
    },
    "id": "L_XHc9Gg25A5",
    "outputId": "f82f8c87-9857-4d89-dfe2-7a2c804bc964"
   },
   "outputs": [
    {
     "data": {
      "image/png": "[encoded data removed]",
      "text/plain": [
       "<Figure size 640x480 with 1 Axes>"
      ]
     },
     "metadata": {},
     "output_type": "display_data"
    }
   ],
   "source": [
    "import networkx as nx\n",
    "import matplotlib.pyplot as plt\n",
    "\n",
    "# Example graph represented as an adjacency list with weighted edges\n",
    "graph = {\n",
    "    '0': {'1': 2, '3': 1},\n",
    "    '1': {'2': 4, '4': 1},\n",
    "    '2': {'5': 3},\n",
    "    '3': {'4': 1},\n",
    "    '4': {'2': 3, '5': 3},\n",
    "    '5': {}\n",
    "}\n",
    "\n",
    "# Create a directed graph object\n",
    "G = nx.DiGraph()\n",
    "\n",
    "# Add nodes and edges to the graph\n",
    "for node, neighbors in graph.items():\n",
    "    for neighbor, weight in neighbors.items():\n",
    "        G.add_edge(node, neighbor, weight=weight)\n",
    "\n",
    "# Draw the graph\n",
    "pos = nx.spring_layout(G)\n",
    "nx.draw(G, pos, with_labels=True, node_size=1000, node_color='skyblue', font_size=12, font_weight='bold', arrowsize=20)\n",
    "\n",
    "# Add edge labels\n",
    "edge_labels = nx.get_edge_attributes(G, 'weight')\n",
    "nx.draw_networkx_edge_labels(G, pos, edge_labels=edge_labels)\n",
    "\n",
    "# Show the graph\n",
    "plt.title(\"Bellman-Ford Algorithm\")\n",
    "plt.show()"
   ]
  },
  {
   "cell_type": "markdown",
   "metadata": {
    "id": "MERcIcRc3DXD"
   },
   "source": [
    "**Code and Explanation:**"
   ]
  },
  {
   "cell_type": "code",
   "execution_count": null,
   "metadata": {
    "id": "dRW88xI63GUl"
   },
   "outputs": [],
   "source": [
    "def bellman_ford(graph, start):\n",
    "    # Step 1: Initialize distances from start node to all other nodes as infinity\n",
    "    distances = {node: float('inf') for node in graph}\n",
    "    distances[start] = 0  # Distance from start node to itself is 0\n",
    "\n",
    "    # Step 2: Relax edges repeatedly\n",
    "    for _ in range(len(graph) - 1):\n",
    "        for node in graph:\n",
    "            for neighbor, weight in graph[node].items():\n",
    "                # Relax the edge if a shorter path is found\n",
    "                if distances[node] + weight < distances[neighbor]:\n",
    "                    distances[neighbor] = distances[node] + weight\n",
    "\n",
    "    # Step 3: Check for negative cycles\n",
    "    for node in graph:\n",
    "        for neighbor, weight in graph[node].items():\n",
    "            # If relaxing an edge still reduces the distance, a negative cycle exists\n",
    "            if distances[node] + weight < distances[neighbor]:\n",
    "                raise ValueError(\"Graph contains a negative cycle\")\n",
    "\n",
    "    return distances\n",
    "\n",
    "# Example graph represented as an adjacency list with weighted edges\n",
    "graph = {\n",
    "    '0': {'1': 2, '3': 1},\n",
    "    '1': {'2': 4, '4': 1},\n",
    "    '2': {'5': 3},\n",
    "    '3': {'4': 1},\n",
    "    '4': {'2': 3, '5': 3},\n",
    "    '5': {}\n",
    "}\n",
    "\n",
    "start_node = '0'\n",
    "print(f\"Shortest distances from node {start_node} using Bellman-Ford algorithm:\")\n",
    "distances = bellman_ford(graph, start_node)\n",
    "for node, distance in distances.items():\n",
    "    print(f\"To node {node}: {distance}\")"
   ]
  },
  {
   "cell_type": "markdown",
   "metadata": {
    "id": "-j42axck3HvM"
   },
   "source": [
    "**Explanation:**\n",
    "\n",
    "1. **Defining the Bellman-Ford Function**: The `bellman_ford` function takes the graph represented as an adjacency list and the start node as input. It computes and returns the shortest distances from the start node to all other nodes in the graph.\n",
    "\n",
    "2. **Initialization**: We initialize a dictionary called `distances` to store the shortest distances to all nodes. Initially, distances to all nodes except the start node are set to infinity. The distance from the start node to itself is set to 0.\n",
    "\n",
    "3. **Relaxing Edges**: We relax each edge repeatedly for `|V| - 1` iterations, where `|V|` is the number of nodes in the graph. In each iteration, we check each edge and update the distance if a shorter path is found.\n",
    "\n",
    "4. **Negative Cycle Detection**: After relaxing all edges, we check for negative cycles. If relaxing an edge still reduces the distance, it means a negative cycle exists in the graph.\n",
    "\n",
    "5. **Example Graph**: We provide an example graph represented as an adjacency list with weighted edges.\n",
    "\n",
    "6. **Performing Bellman-Ford Algorithm**: Finally, we call the `bellman_ford` function with the example graph and the start node `'0'` to compute the shortest distances from node `'0'`. The shortest distances to all other nodes are printed as the output."
   ]
  },
  {
   "cell_type": "markdown",
   "metadata": {
    "id": "eiJtYhYCK4Jd"
   },
   "source": [
    "### **Minimum Spanning Tree**"
   ]
  },
  {
   "cell_type": "markdown",
   "metadata": {
    "id": "GAep4lgGOfAd"
   },
   "source": [
    "#### **Prim’s Algorithm**"
   ]
  },
  {
   "cell_type": "markdown",
   "metadata": {
    "id": "ovfRgNlHOhyr"
   },
   "source": [
    "\n",
    "**Explanation and Algorithm**\n",
    "Prim’s Algorithm is a widely used algorithm for finding the minimum spanning tree of a weighted undirected graph. It starts from an arbitrary node and iteratively adds the closest unvisited node to the tree, ensuring that it forms a minimum-spanning tree.\n",
    "\n",
    "**Algorithm:**\n",
    "1. Initialize a tree with a single node (any arbitrary node).\n",
    "2. While there are still nodes not in the tree:\n",
    "Find the minimum-weight edge that connects a node in the tree to a node outside the tree.\n",
    "Add the node with the minimum-weight edge to the tree.\n",
    "3. Continue this process until all nodes are in the tree.\n",
    "\n",
    "**Applications and Use Cases**\n",
    "* Network Design: Prim’s Algorithm is used in designing cost-efficient networks, such as electrical grids or computer networks.\n",
    "* Cluster Analysis: It’s employed in grouping related data points in applications like data mining and machine learning.\n",
    "* Approximation Algorithms: Prim’s Algorithm is used as a building block in approximation algorithms for solving optimization problems."
   ]
  },
  {
   "cell_type": "markdown",
   "metadata": {
    "id": "1EARoFoe4NlU"
   },
   "source": [
    "**Description:**\n",
    "\n",
    "Prim's algorithm addresses the problem of finding the minimum spanning tree (MST) of a connected, undirected graph. The minimum spanning tree is a subset of the edges of the graph that forms a tree, connecting all the vertices together with the minimum possible total edge weight.\n",
    "\n",
    "**Graph:**\n",
    "\n",
    "Consider the following undirected graph:\n",
    "```\n",
    "   0 --1--> 1 --3--> 2\n",
    "   |           |     |\n",
    "   v           v     v\n",
    "   3 ---2--->  4 --4--> 5\n",
    "\n",
    "```"
   ]
  },
  {
   "cell_type": "code",
   "execution_count": null,
   "metadata": {
    "colab": {
     "base_uri": "https://localhost:8080/",
     "height": 539
    },
    "id": "vZPr8miC4ZP8",
    "outputId": "1646b37a-db5c-4ecd-869d-dec15ec003f4"
   },
   "outputs": [
    {
     "data": {
      "image/png": "[encoded data removed]",
      "text/plain": [
       "<Figure size 640x480 with 1 Axes>"
      ]
     },
     "metadata": {},
     "output_type": "display_data"
    }
   ],
   "source": [
    "import networkx as nx\n",
    "import matplotlib.pyplot as plt\n",
    "\n",
    "# Example graph represented as an adjacency list with weighted edges\n",
    "graph = {\n",
    "    '0': {'1': 1, '3': 2},\n",
    "    '1': {'0': 1, '2': 3, '4': 3},\n",
    "    '2': {'1': 3, '5': 4},\n",
    "    '3': {'0': 2, '4': 2},\n",
    "    '4': {'1': 3, '3': 2, '5': 4},\n",
    "    '5': {'2': 4, '4': 4}\n",
    "}\n",
    "\n",
    "# Create a graph object\n",
    "G = nx.Graph()\n",
    "\n",
    "# Add nodes and edges to the graph\n",
    "for node, neighbors in graph.items():\n",
    "    for neighbor, weight in neighbors.items():\n",
    "        G.add_edge(node, neighbor, weight=weight)\n",
    "\n",
    "# Draw the graph\n",
    "pos = nx.spring_layout(G)\n",
    "nx.draw(G, pos, with_labels=True, node_size=1000, node_color='skyblue', font_size=12, font_weight='bold', arrowsize=20)\n",
    "\n",
    "# Add edge labels\n",
    "edge_labels = nx.get_edge_attributes(G, 'weight')\n",
    "nx.draw_networkx_edge_labels(G, pos, edge_labels=edge_labels)\n",
    "\n",
    "# Show the graph\n",
    "plt.title(\"Prim’s Algorithm\")\n",
    "plt.show()\n"
   ]
  },
  {
   "cell_type": "markdown",
   "metadata": {
    "id": "WAtOpcjR49mT"
   },
   "source": [
    "**Code:**"
   ]
  },
  {
   "cell_type": "code",
   "execution_count": null,
   "metadata": {
    "colab": {
     "base_uri": "https://localhost:8080/"
    },
    "id": "lLQz4I7sLIJN",
    "outputId": "9bd3e184-da26-4cb1-f73f-db285c53937b"
   },
   "outputs": [
    {
     "name": "stdout",
     "output_type": "stream",
     "text": [
      "Minimum Spanning Tree Edges:\n",
      "('0', '1', 1)\n",
      "('0', '3', 2)\n",
      "('3', '4', 2)\n",
      "('1', '2', 3)\n",
      "('2', '5', 4)\n"
     ]
    }
   ],
   "source": [
    "import heapq\n",
    "\n",
    "def prim(graph):\n",
    "    mst = []                                    # Initialize minimum spanning tree\n",
    "    visited = set()                             # Set to store visited nodes\n",
    "    start_node = list(graph.keys())[0]          # Start from any node in the graph\n",
    "    visited.add(start_node)                     # Mark starting node as visited\n",
    "    min_heap = [(weight, start_node, neighbor) for neighbor, weight in graph[start_node].items()]\n",
    "    heapq.heapify(min_heap)                     # Initialize min heap with edges connected to starting node\n",
    "\n",
    "    while min_heap:\n",
    "        weight, u, v = heapq.heappop(min_heap)  # Pop edge with minimum weight\n",
    "        if v not in visited:                    # If the destination node is not visited\n",
    "            visited.add(v)                      # Mark destination node as visited\n",
    "            mst.append((u, v, weight))          # Add edge to the minimum spanning tree\n",
    "\n",
    "            for neighbor, weight in graph[v].items():\n",
    "                if neighbor not in visited:\n",
    "                    heapq.heappush(min_heap, (weight, v, neighbor))  # Add edges connected to the visited node to the min heap\n",
    "\n",
    "    return mst\n",
    "\n",
    "# Example graph represented as an adjacency list with weighted edges\n",
    "graph = {\n",
    "    '0': {'1': 1, '3': 2},\n",
    "    '1': {'0': 1, '2': 3, '4': 3},\n",
    "    '2': {'1': 3, '5': 4},\n",
    "    '3': {'0': 2, '4': 2},\n",
    "    '4': {'1': 3, '3': 2, '5': 4},\n",
    "    '5': {'2': 4, '4': 4}\n",
    "}\n",
    "\n",
    "# Perform Prim's algorithm to find the minimum spanning tree\n",
    "mst_edges = prim(graph)\n",
    "print(\"Minimum Spanning Tree Edges:\")\n",
    "for edge in mst_edges:\n",
    "    print(edge)\n"
   ]
  },
  {
   "cell_type": "markdown",
   "metadata": {
    "id": "0tiWQl674_3n"
   },
   "source": [
    "**Explanation:**\n",
    "\n",
    "1. **Defining Prim's Algorithm Function**: The `prim` function takes the graph represented as an adjacency list as input. It computes and returns the minimum spanning tree of the graph using Prim's algorithm.\n",
    "\n",
    "2. **Initialization**: We initialize an empty list `mst` to store the edges of the minimum spanning tree, and a set `visited` to store the visited nodes during the algorithm.\n",
    "\n",
    "3. **Starting Node Selection**: We select any node in the graph as the starting node (`start_node`). In this implementation, we select the first node in the adjacency list.\n",
    "\n",
    "4. **Main Loop**: We maintain a min heap `min_heap` to keep track of edges with minimum weights connected to visited nodes. We iteratively select the edge with the minimum weight from the min heap, add it to the minimum spanning tree, mark its destination node as visited, and add edges connected to the visited node to the min heap if they lead to unvisited nodes.\n",
    "\n",
    "5. **Example Graph**: We provide an example graph represented as an adjacency list with weighted edges.\n",
    "\n",
    "6. **Performing Prim's Algorithm**: Finally, we call the `prim` function with the example graph to compute the minimum spanning tree. We then create a graph object for the minimum spanning tree and draw it using NetworkX and Matplotlib libraries. The resulting graph displays the minimum spanning tree generated by Prim's algorithm."
   ]
  },
  {
   "cell_type": "markdown",
   "metadata": {
    "id": "lP8QyqhuLIZo"
   },
   "source": [
    "#### **Kruskal’s Algorithm**"
   ]
  },
  {
   "cell_type": "markdown",
   "metadata": {
    "id": "6nzKbOpHOmGq"
   },
   "source": [
    "**Explanation and Algorithm**\n",
    "\n",
    "Kruskal’s Algorithm is another method for finding the minimum spanning tree of a weighted undirected graph. Instead of starting from a node, it initially treats each node as a separate tree and then iteratively merges the most diminutive trees.\n",
    "\n",
    "**Algorithm:**\n",
    "1. Initialize a forest where each node is a separate tree.\n",
    "2. While there are more than one tree in the forest:\n",
    "Find the most minor edge that connects two distinct trees.\n",
    "Merge the two trees into one.\n",
    "3. Continue this process until only one tree remains in the forest.\n",
    "\n",
    "**Applications and Use Cases**\n",
    "* Circuit Design: Kruskal’s Algorithm is used in designing electrical circuits to connect components cost-efficiently.\n",
    "* Transportation Networks: It’s employed in designing optimal routes for transportation systems, such as road networks and railways.\n",
    "* Molecular Biology: Kruskal’s Algorithm is used in computational biology for analyzing genetic sequences and constructing evolutionary trees.\n"
   ]
  },
  {
   "cell_type": "markdown",
   "metadata": {
    "id": "zunOBSMa5MUl"
   },
   "source": [
    "**Description:**\n",
    "\n",
    "Kruskal’s algorithm addresses the problem of finding the minimum spanning tree (MST) of a connected, undirected graph. The minimum spanning tree is a subset of the edges of the graph that forms a tree, connecting all the vertices together with the minimum possible total edge weight.\n",
    "\n",
    "**Graph:**\n",
    "\n",
    "Consider the following undirected graph:\n",
    "```\n",
    "   0 --1--> 1 --3--> 2\n",
    "   |           |     |\n",
    "   v           v     v\n",
    "   3 ---2--->  4 --4--> 5\n",
    "```"
   ]
  },
  {
   "cell_type": "code",
   "execution_count": null,
   "metadata": {
    "colab": {
     "base_uri": "https://localhost:8080/",
     "height": 539
    },
    "id": "mAErRO7vLTJ6",
    "outputId": "9fa907f7-855e-4314-98dc-bdcb7e597741"
   },
   "outputs": [
    {
     "data": {
      "image/png": "[encoded data removed]",
      "text/plain": [
       "<Figure size 640x480 with 1 Axes>"
      ]
     },
     "metadata": {},
     "output_type": "display_data"
    }
   ],
   "source": [
    "import networkx as nx\n",
    "import matplotlib.pyplot as plt\n",
    "\n",
    "# Example graph represented as an adjacency list with weighted edges\n",
    "graph = {\n",
    "    '0': {'1': 1, '3': 2},\n",
    "    '1': {'0': 1, '2': 3, '4': 3},\n",
    "    '2': {'1': 3, '5': 4},\n",
    "    '3': {'0': 2, '4': 2},\n",
    "    '4': {'1': 3, '3': 2, '5': 4},\n",
    "    '5': {'2': 4, '4': 4}\n",
    "}\n",
    "\n",
    "# Create a graph object\n",
    "G = nx.Graph()\n",
    "\n",
    "# Add nodes and edges to the graph\n",
    "for node, neighbors in graph.items():\n",
    "    for neighbor, weight in neighbors.items():\n",
    "        G.add_edge(node, neighbor, weight=weight)\n",
    "\n",
    "# Draw the graph\n",
    "pos = nx.spring_layout(G)\n",
    "nx.draw(G, pos, with_labels=True, node_size=1000, node_color='skyblue', font_size=12, font_weight='bold', arrowsize=20)\n",
    "\n",
    "# Add edge labels\n",
    "edge_labels = nx.get_edge_attributes(G, 'weight')\n",
    "nx.draw_networkx_edge_labels(G, pos, edge_labels=edge_labels)\n",
    "\n",
    "# Show the graph\n",
    "plt.title(\"Kruskal's algorithm\")\n",
    "plt.show()"
   ]
  },
  {
   "cell_type": "markdown",
   "metadata": {
    "id": "jo9QI3_p5iZ-"
   },
   "source": [
    "**Code:**"
   ]
  },
  {
   "cell_type": "code",
   "execution_count": null,
   "metadata": {
    "colab": {
     "base_uri": "https://localhost:8080/"
    },
    "id": "6is58rLI5j19",
    "outputId": "6e7bbdb2-2eb6-4933-bb8e-b7060582b94d"
   },
   "outputs": [
    {
     "name": "stdout",
     "output_type": "stream",
     "text": [
      "Minimum Spanning Tree Edges:\n",
      "('0', '1', 1)\n",
      "('0', '3', 2)\n",
      "('3', '4', 2)\n",
      "('1', '2', 3)\n",
      "('2', '5', 4)\n"
     ]
    }
   ],
   "source": [
    "def find(parent, i):\n",
    "    if parent[i] == i:\n",
    "        return i\n",
    "    return find(parent, parent[i])\n",
    "\n",
    "def union(parent, rank, x, y):\n",
    "    x_root = find(parent, x)\n",
    "    y_root = find(parent, y)\n",
    "\n",
    "    if rank[x_root] < rank[y_root]:\n",
    "        parent[x_root] = y_root\n",
    "    elif rank[x_root] > rank[y_root]:\n",
    "        parent[y_root] = x_root\n",
    "    else:\n",
    "        parent[y_root] = x_root\n",
    "        rank[x_root] += 1\n",
    "\n",
    "def kruskal(graph):\n",
    "    mst = []                                # Initialize minimum spanning tree\n",
    "    edges = []                              # List to store edges sorted by weight\n",
    "    parent = {}                             # Dictionary to store parent of each node\n",
    "    rank = {}                               # Dictionary to store rank of each node\n",
    "\n",
    "    # Sort edges by weight and initialize parent and rank dictionaries\n",
    "    for u in graph:\n",
    "        parent[u] = u\n",
    "        rank[u] = 0\n",
    "        for v, weight in graph[u].items():\n",
    "            edges.append((weight, u, v))\n",
    "    edges.sort()\n",
    "\n",
    "    # Iterate over sorted edges\n",
    "    for edge in edges:\n",
    "        weight, u, v = edge\n",
    "        u_parent = find(parent, u)\n",
    "        v_parent = find(parent, v)\n",
    "\n",
    "        # If including this edge does not create a cycle, add it to the minimum spanning tree\n",
    "        if u_parent != v_parent:\n",
    "            mst.append((u, v, weight))\n",
    "            union(parent, rank, u_parent, v_parent)\n",
    "\n",
    "    return mst\n",
    "\n",
    "# Example graph represented as an adjacency list with weighted edges\n",
    "graph = {\n",
    "    '0': {'1': 1, '3': 2},\n",
    "    '1': {'0': 1, '2': 3, '4': 3},\n",
    "    '2': {'1': 3, '5': 4},\n",
    "    '3': {'0': 2, '4': 2},\n",
    "    '4': {'1': 3, '3': 2, '5': 4},\n",
    "    '5': {'2': 4, '4': 4}\n",
    "}\n",
    "\n",
    "# Perform Kruskal's algorithm to find the minimum spanning tree\n",
    "mst_edges = kruskal(graph)\n",
    "print(\"Minimum Spanning Tree Edges:\")\n",
    "for edge in mst_edges:\n",
    "    print(edge)"
   ]
  },
  {
   "cell_type": "markdown",
   "metadata": {
    "id": "1TdZKVhD5oiP"
   },
   "source": [
    "**Explanation:**\n",
    "\n",
    "1. **Find Function**: The `find` function recursively finds the set representative (root) of the given element in the disjoint-set data structure.\n",
    "\n",
    "2. **Union Function**: The `union` function performs the union operation in the disjoint-set data structure by rank. It merges two sets based on their ranks to keep the tree height balanced.\n",
    "\n",
    "3. **Kruskal's Algorithm Function**: The `kruskal` function takes the graph represented as an adjacency list as input. It computes and returns the minimum spanning tree of the graph using Kruskal's algorithm.\n",
    "\n",
    "4. **Initialization**: We initialize an empty list `mst` to store the edges of the minimum spanning tree, and lists `edges`, `parent`, and `rank` to store edges sorted by weight, parent of each node, and rank of each node, respectively.\n",
    "\n",
    "5. **Sort Edges by Weight**: We sort the edges by weight in non-decreasing order and initialize the parent and rank dictionaries for each node.\n",
    "\n",
    "6. **Main Loop**: We iterate over the sorted edges and for each edge, we check if including it in the minimum spanning tree would create a cycle. If not, we add it to the minimum spanning tree and perform the union operation to merge the sets containing the edge endpoints.\n",
    "\n",
    "7. **Example Graph**: We provide an example graph represented as an adjacency list with weighted edges.\n",
    "\n",
    "8. **Performing Kruskal's Algorithm**: Finally, we call the `kruskal` function with the example graph to compute the minimum spanning tree. The resulting minimum spanning tree edges are printed as output."
   ]
  },
  {
   "cell_type": "markdown",
   "metadata": {
    "id": "3L12vtRjLTmd"
   },
   "source": [
    "### **Strongly Connected Components (SCCs)**"
   ]
  },
  {
   "cell_type": "markdown",
   "metadata": {
    "id": "FiOWlH13Orl0"
   },
   "source": [
    "####**Tarjan’s Algorithm**"
   ]
  },
  {
   "cell_type": "markdown",
   "metadata": {
    "id": "mi3YdbZOOtI1"
   },
   "source": [
    "**Explanation and Algorithm**\n",
    "\n",
    "Tarjan’s Algorithm is a robust algorithm to find strongly connected components (SCCs) in a directed graph. An SCC is a subset of nodes where every node is reachable from every other node within the subgroup.\n",
    "\n",
    "**Algorithm:**\n",
    "1. Perform a depth-first search (DFS) on the graph.\n",
    "2. Keep track of the order in which nodes are visited and assign each node a unique index and a low-link value.\n",
    "3. Use a stack to keep track of the nodes being explored.\n",
    "4. For each node, update its low-link value based on the lowest index reachable from the node.\n",
    "5. Suppose a node’s low-link value matches its index; pop nodes from the stack until the node is reached again. The popped nodes form an SCC.\n",
    "\n",
    "**Applications and Use Cases**\n",
    "* Compiler Design: Tarjan’s Algorithm is used in the compiler construction, particularly in the optimization phase for identifying independent components.\n",
    "* Graph Theory: It’s employed in various graph-related problems that detect strongly connected components.\n",
    "* Network Analysis: Tarjan’s Algorithm helps identify clusters of highly connected nodes in social networks, biological networks, and other complex systems.\n"
   ]
  },
  {
   "cell_type": "markdown",
   "metadata": {
    "id": "wiBP5XV76Rrr"
   },
   "source": [
    "**Description:**\n",
    "\n",
    "Tarjan's algorithm addresses the problem of finding strongly connected components (SCCs) in a directed graph. A strongly connected component is a set of vertices in a directed graph where each vertex is reachable from every other vertex within the same component.\n",
    "\n",
    "**Graph:**\n",
    "\n",
    "Consider the following directed graph:\n",
    "```\n",
    "   0 ---> 1\n",
    "   ^      |\n",
    "   |      |\n",
    "   3 <--- 2\n",
    "\n",
    "```"
   ]
  },
  {
   "cell_type": "code",
   "execution_count": null,
   "metadata": {
    "colab": {
     "base_uri": "https://localhost:8080/",
     "height": 556
    },
    "id": "s4GkqSsn6qLH",
    "outputId": "cf0f8d0c-2f46-400e-c00b-e927c5476822"
   },
   "outputs": [
    {
     "name": "stdout",
     "output_type": "stream",
     "text": [
      "Strongly Connected Components:\n"
     ]
    },
    {
     "data": {
      "image/png": "[encoded data removed]",
      "text/plain": [
       "<Figure size 640x480 with 1 Axes>"
      ]
     },
     "metadata": {},
     "output_type": "display_data"
    }
   ],
   "source": [
    "import networkx as nx\n",
    "import matplotlib.pyplot as plt\n",
    "\n",
    "def tarjan(graph):\n",
    "    def dfs(u):\n",
    "        nonlocal index, stack, low_link, on_stack, sccs\n",
    "        index += 1\n",
    "        low_link[u] = index\n",
    "        stack.append(u)\n",
    "        on_stack.add(u)\n",
    "\n",
    "        for v in graph[u]:\n",
    "            if low_link[v] == 0:\n",
    "                dfs(v)\n",
    "                low_link[u] = min(low_link[u], low_link[v])\n",
    "            elif v in on_stack:\n",
    "                low_link[u] = min(low_link[u], low_link[v])\n",
    "\n",
    "        if low_link[u] == index:\n",
    "            scc = []\n",
    "            while True:\n",
    "                v = stack.pop()\n",
    "                on_stack.remove(v)\n",
    "                scc.append(v)\n",
    "                if v == u:\n",
    "                    break\n",
    "            sccs.append(scc)\n",
    "\n",
    "    index = 0\n",
    "    stack = []\n",
    "    low_link = {node: 0 for node in graph}\n",
    "    on_stack = set()\n",
    "    sccs = []\n",
    "\n",
    "    for node in graph:\n",
    "        if low_link[node] == 0:\n",
    "            dfs(node)\n",
    "\n",
    "    return sccs\n",
    "\n",
    "# Example graph represented as an adjacency list\n",
    "graph = {\n",
    "    '0': ['1'],\n",
    "    '1': ['2'],\n",
    "    '2': ['3'],\n",
    "    '3': ['0']\n",
    "}\n",
    "\n",
    "# Find strongly connected components using Tarjan's algorithm\n",
    "sccs = tarjan(graph)\n",
    "print(\"Strongly Connected Components:\")\n",
    "for scc in sccs:\n",
    "    print(scc)\n",
    "\n",
    "# Create a directed graph object\n",
    "G = nx.DiGraph()\n",
    "\n",
    "# Add nodes and edges to the graph\n",
    "for node, neighbors in graph.items():\n",
    "    G.add_node(node)\n",
    "    for neighbor in neighbors:\n",
    "        G.add_edge(node, neighbor)\n",
    "\n",
    "# Draw the graph\n",
    "pos = nx.spring_layout(G)\n",
    "nx.draw(G, pos, with_labels=True, node_size=1000, node_color='lightblue', font_size=12, font_weight='bold', arrowsize=20)\n",
    "\n",
    "# Highlight strongly connected components\n",
    "for scc in sccs:\n",
    "    nx.draw_networkx_nodes(G, pos, nodelist=scc, node_color='orange', node_size=1000)\n",
    "\n",
    "# Show the graph\n",
    "plt.title(\"Directed Graph with Strongly Connected Components\")\n",
    "plt.show()"
   ]
  },
  {
   "cell_type": "markdown",
   "metadata": {
    "id": "hfkyOMGm6pt5"
   },
   "source": [
    "**Code:**"
   ]
  },
  {
   "cell_type": "code",
   "execution_count": null,
   "metadata": {
    "id": "H9xMxyspLndm"
   },
   "outputs": [],
   "source": [
    "def tarjan(graph):\n",
    "    def dfs(u):\n",
    "        nonlocal index, stack, low_link, on_stack, sccs\n",
    "        index += 1\n",
    "        low_link[u] = index\n",
    "        stack.append(u)\n",
    "        on_stack.add(u)\n",
    "\n",
    "        for v in graph[u]:\n",
    "            if low_link[v] == 0:\n",
    "                dfs(v)\n",
    "                low_link[u] = min(low_link[u], low_link[v])\n",
    "            elif v in on_stack:\n",
    "                low_link[u] = min(low_link[u], low_link[v])\n",
    "\n",
    "        if low_link[u] == index:\n",
    "            scc = []\n",
    "            while True:\n",
    "                v = stack.pop()\n",
    "                on_stack.remove(v)\n",
    "                scc.append(v)\n",
    "                if v == u:\n",
    "                    break\n",
    "            sccs.append(scc)\n",
    "\n",
    "    index = 0\n",
    "    stack = []\n",
    "    low_link = {node: 0 for node in graph}\n",
    "    on_stack = set()\n",
    "    sccs = []\n",
    "\n",
    "    for node in graph:\n",
    "        if low_link[node] == 0:\n",
    "            dfs(node)\n",
    "\n",
    "    return sccs\n",
    "\n",
    "# Example graph represented as an adjacency list\n",
    "graph = {\n",
    "    '0': ['1'],\n",
    "    '1': ['2'],\n",
    "    '2': ['3'],\n",
    "    '3': ['0']\n",
    "}\n",
    "\n",
    "# Find strongly connected components using Tarjan's algorithm\n",
    "sccs = tarjan(graph)\n",
    "print(\"Strongly Connected Components:\")\n",
    "for scc in sccs:\n",
    "    print(scc)"
   ]
  },
  {
   "cell_type": "markdown",
   "metadata": {
    "id": "_AHSqJNw6s5-"
   },
   "source": [
    "**Explanation:**\n",
    "\n",
    "1. **DFS Function**: The `dfs` function performs a depth-first search (DFS) traversal of the graph starting from a given node `u`. It assigns indices and low link values to each node and identifies strongly connected components during the traversal.\n",
    "\n",
    "2. **Main Algorithm**: The main algorithm initializes necessary variables and iterates through each node in the graph. For each unvisited node, it invokes the `dfs` function to identify strongly connected components.\n",
    "\n",
    "3. **Index and Low Link Values**: The `index` variable keeps track of the order of node discovery during the DFS traversal. The `low_link` dictionary stores the low link values for each node, which represent the smallest index of any node known to be reachable from the current node, including itself.\n",
    "\n",
    "4. **Stack and On Stack Set**: The `stack` data structure maintains the nodes visited in the current DFS traversal path. The `on_stack` set keeps track of nodes currently on the stack.\n",
    "\n",
    "5. **Strongly Connected Components**: When a node's low link value equals its index, it indicates the start of a strongly connected component. The algorithm pops nodes from the stack until reaching the starting node of the component, collecting the nodes into the `sccs` list.\n",
    "\n",
    "6. **Example Graph**: We provide an example graph represented as an adjacency list. The graph has a cycle and a backward edge, resulting in two strongly connected components.\n",
    "\n",
    "7. **Performing Tarjan's Algorithm**: Finally, we call the `tarjan` function with the example graph to find strongly connected components. The resulting strongly connected components are printed as output."
   ]
  },
  {
   "cell_type": "markdown",
   "metadata": {
    "id": "DQHh9zlxLn8-"
   },
   "source": [
    "#### **Kosaraju’s Algorithm**"
   ]
  },
  {
   "cell_type": "markdown",
   "metadata": {
    "id": "Kf5LPOyPOwBe"
   },
   "source": [
    "**Explanation and Algorithm**\n",
    "\n",
    "Kosaraju’s Algorithm is another efficient algorithm for finding strongly connected components in a directed graph. It operates in two passes: the first pass involves a DFS to determine the order of node traversal, and the second pass identifies the SCCs.\n",
    "\n",
    "**Algorithm:**\n",
    "1. Perform a depth-first search (DFS) on the reverse graph to get the finishing times of nodes.\n",
    "2. In the original chart, traverse nodes in reverse finishing time order and perform DFS to identify SCCs.\n",
    "\n",
    "**Applications and Use Cases**\n",
    "* Path Finding: Kosaraju’s Algorithm can be applied in GPS systems to find the optimal route between locations.\n",
    "* Natural Language Processing: It’s used in various applications like sentiment analysis, where understanding text structure is crucial.\n",
    "* Database Design: Kosaraju’s Algorithm aids in optimizing database queries by identifying dependencies between tables.\n"
   ]
  },
  {
   "cell_type": "markdown",
   "metadata": {
    "id": "fgkETuwG7A_9"
   },
   "source": [
    "**Description:**\n",
    "\n",
    "Kosaraju's algorithm is used to find all strongly connected components (SCCs) in a directed graph. An SCC is a subset of vertices in a graph where every vertex is reachable from every other vertex within the same component.\n",
    "\n",
    "**Graph:**\n",
    "\n",
    "Consider the following directed graph:\n",
    "```\n",
    "   0 ---> 1\n",
    "   |      ^\n",
    "   |      |\n",
    "   v      |\n",
    "   3 <--- 2\n",
    "\n",
    "```"
   ]
  },
  {
   "cell_type": "code",
   "execution_count": null,
   "metadata": {
    "colab": {
     "base_uri": "https://localhost:8080/",
     "height": 574
    },
    "id": "pGxHolK_L9Lx",
    "outputId": "289fd28f-9f77-40fa-af93-4e0a897fed7e"
   },
   "outputs": [
    {
     "name": "stdout",
     "output_type": "stream",
     "text": [
      "Strongly Connected Components:\n",
      "['0', '3', '2', '1']\n"
     ]
    },
    {
     "data": {
      "image/png": "[encoded data removed]",
      "text/plain": [
       "<Figure size 640x480 with 1 Axes>"
      ]
     },
     "metadata": {},
     "output_type": "display_data"
    }
   ],
   "source": [
    "import networkx as nx\n",
    "import matplotlib.pyplot as plt\n",
    "\n",
    "def kosaraju(graph):\n",
    "    def dfs(u, visited, stack):\n",
    "        visited.add(u)\n",
    "        for v in graph[u]:\n",
    "            if v not in visited:\n",
    "                dfs(v, visited, stack)\n",
    "        stack.append(u)\n",
    "\n",
    "    def dfs_reverse(u, visited, scc):\n",
    "        visited.add(u)\n",
    "        scc.append(u)\n",
    "        for v in graph_reverse[u]:\n",
    "            if v not in visited:\n",
    "                dfs_reverse(v, visited, scc)\n",
    "\n",
    "    # First DFS to fill the stack with vertices in order of their finishing times\n",
    "    stack = []\n",
    "    visited = set()\n",
    "    for node in graph:\n",
    "        if node not in visited:\n",
    "            dfs(node, visited, stack)\n",
    "\n",
    "    # Transpose the graph\n",
    "    graph_reverse = {node: [] for node in graph}\n",
    "    for u in graph:\n",
    "        for v in graph[u]:\n",
    "            graph_reverse[v].append(u)\n",
    "\n",
    "    # Second DFS to find SCCs\n",
    "    visited.clear()\n",
    "    sccs = []\n",
    "    while stack:\n",
    "        u = stack.pop()\n",
    "        if u not in visited:\n",
    "            scc = []\n",
    "            dfs_reverse(u, visited, scc)\n",
    "            sccs.append(scc)\n",
    "\n",
    "    return sccs\n",
    "\n",
    "# Example graph represented as an adjacency list\n",
    "graph = {\n",
    "    '0': ['1'],\n",
    "    '1': ['2'],\n",
    "    '2': ['3'],\n",
    "    '3': ['0']\n",
    "}\n",
    "\n",
    "# Find strongly connected components using Kosaraju's algorithm\n",
    "sccs = kosaraju(graph)\n",
    "print(\"Strongly Connected Components:\")\n",
    "for scc in sccs:\n",
    "    print(scc)\n",
    "\n",
    "# Create a directed graph object\n",
    "G = nx.DiGraph()\n",
    "\n",
    "# Add nodes and edges to the graph\n",
    "for node, neighbors in graph.items():\n",
    "    G.add_node(node)\n",
    "    for neighbor in neighbors:\n",
    "        G.add_edge(node, neighbor)\n",
    "\n",
    "# Draw the graph\n",
    "pos = nx.spring_layout(G)\n",
    "nx.draw(G, pos, with_labels=True, node_size=1000, node_color='lightblue', font_size=12, font_weight='bold', arrowsize=20)\n",
    "\n",
    "# Highlight strongly connected components\n",
    "for idx, scc in enumerate(sccs):\n",
    "    nx.draw_networkx_nodes(G, pos, nodelist=scc, node_color='orange', node_size=1000, label=f'SCC {idx+1}')\n",
    "\n",
    "# Show the graph\n",
    "plt.title(\"Directed Graph with Strongly Connected Components\")\n",
    "plt.legend()\n",
    "plt.show()"
   ]
  },
  {
   "cell_type": "markdown",
   "metadata": {
    "id": "UPqmBD4O7BrL"
   },
   "source": [
    "**Code:**"
   ]
  },
  {
   "cell_type": "code",
   "execution_count": null,
   "metadata": {
    "id": "K0VxSbAy7De1"
   },
   "outputs": [],
   "source": [
    "def kosaraju(graph):\n",
    "    def dfs(u, visited, stack):\n",
    "        visited.add(u)\n",
    "        for v in graph[u]:\n",
    "            if v not in visited:\n",
    "                dfs(v, visited, stack)\n",
    "        stack.append(u)\n",
    "\n",
    "    def dfs_reverse(u, visited, scc):\n",
    "        visited.add(u)\n",
    "        scc.append(u)\n",
    "        for v in graph_reverse[u]:\n",
    "            if v not in visited:\n",
    "                dfs_reverse(v, visited, scc)\n",
    "\n",
    "    # First DFS to fill the stack with vertices in order of their finishing times\n",
    "    stack = []\n",
    "    visited = set()\n",
    "    for node in graph:\n",
    "        if node not in visited:\n",
    "            dfs(node, visited, stack)\n",
    "\n",
    "    # Transpose the graph\n",
    "    graph_reverse = {node: [] for node in graph}\n",
    "    for u in graph:\n",
    "        for v in graph[u]:\n",
    "            graph_reverse[v].append(u)\n",
    "\n",
    "    # Second DFS to find SCCs\n",
    "    visited.clear()\n",
    "    sccs = []\n",
    "    while stack:\n",
    "        u = stack.pop()\n",
    "        if u not in visited:\n",
    "            scc = []\n",
    "            dfs_reverse(u, visited, scc)\n",
    "            sccs.append(scc)\n",
    "\n",
    "    return sccs\n",
    "\n",
    "# Example graph represented as an adjacency list\n",
    "graph = {\n",
    "    '0': ['1'],\n",
    "    '1': ['2'],\n",
    "    '2': ['3'],\n",
    "    '3': ['0']\n",
    "}\n",
    "\n",
    "# Find strongly connected components using Kosaraju's algorithm\n",
    "sccs = kosaraju(graph)\n",
    "print(\"Strongly Connected Components:\")\n",
    "for scc in sccs:\n",
    "    print(scc)"
   ]
  },
  {
   "cell_type": "markdown",
   "metadata": {
    "id": "5thfdpfk7D0j"
   },
   "source": [
    "**Explanation:**\n",
    "\n",
    "1. **DFS Functions**: The first DFS function (`dfs`) is used to fill the stack with vertices in order of their finishing times. The second DFS function (`dfs_reverse`) is used to find strongly connected components (SCCs) starting from a given vertex.\n",
    "\n",
    "2. **First DFS**: We perform a DFS traversal on the graph to fill the stack with vertices. The order in which vertices are added to the stack represents their finishing times in the reverse topological order.\n",
    "\n",
    "3. **Graph Transpose**: We transpose the graph to obtain the reverse of the original graph. This is done by reversing the direction of all edges in the graph.\n",
    "\n",
    "4. **Second DFS**: We perform another DFS traversal on the transposed graph starting from vertices in the order given by the stack. This allows us to identify strongly connected components efficiently.\n",
    "\n",
    "5. **Example Graph**: We provide an example graph represented as an adjacency list. The graph has a cycle and a backward edge, resulting in two strongly connected components.\n",
    "\n",
    "6. **Performing Kosaraju's Algorithm**: Finally, we call the `kosaraju` function with the example graph to find strongly connected components. The resulting strongly connected components are printed as output."
   ]
  },
  {
   "cell_type": "markdown",
   "metadata": {
    "id": "Z3SS_1XhL9kd"
   },
   "source": [
    "### **Flow Algorithms**"
   ]
  },
  {
   "cell_type": "markdown",
   "metadata": {
    "id": "1QOAoTyMO0Nt"
   },
   "source": [
    "#### **Ford-Fulkerson Algorithm for Maximum Flow**"
   ]
  },
  {
   "cell_type": "markdown",
   "metadata": {
    "id": "mJKFZAhUO2nK"
   },
   "source": [
    "**Explanation and Algorithm**\n",
    "\n",
    "The Ford-Fulkerson Algorithm is a fundamental algorithm for finding the maximum flow in a flow network. It operates by iteratively augmenting paths from the source to the sink until no more augmenting courses can be found.\n",
    "\n",
    "**Algorithm:**\n",
    "1. Start with an initial flow of zero.\n",
    "2. Find an augmenting path from the source to the sink using techniques like Breadth-First Search (BFS) or Depth-First Search (DFS).\n",
    "3. Determine the maximum additional flow that can be pushed through this path.\n",
    "4. Update the flow along the path.\n",
    "5. Repeat steps 2–4 until no more augmenting paths can be found.\n",
    "\n",
    "**Applications in Network Flows**\n",
    "* Transportation Networks: It’s used in optimizing transportation networks to maximize the flow of goods, ensuring efficient logistics.\n",
    "* Telecommunications: Ford-Fulkerson is employed in data routing for maximizing data transmission in communication networks.\n",
    "* Water Distribution Systems: It helps efficiently distribute water in pipelines to meet demand while minimizing waste."
   ]
  },
  {
   "cell_type": "markdown",
   "metadata": {
    "id": "crdYM4M57nhm"
   },
   "source": [
    "**Description:**\n",
    "\n",
    "The Ford-Fulkerson algorithm is used to find the maximum flow in a flow network, which is a directed graph where each edge has a capacity and represents a flow between two vertices.\n",
    "\n",
    "**Graph:**\n",
    "\n",
    "Consider the following flow network:\n",
    "```\n",
    "         1\n",
    "   (s) -------> (1)\n",
    "    | \\          | \\\n",
    " 5  |  \\4       4|  \\5\n",
    "    |   \\        |   \\\n",
    "   (2)  (3)     (4)   (t)\n",
    "    |    |       |    |\n",
    "    v    |1      v    |\n",
    "   (5) <---------(6)\n",
    "         3\n",
    "\n",
    "```"
   ]
  },
  {
   "cell_type": "code",
   "execution_count": null,
   "metadata": {
    "colab": {
     "base_uri": "https://localhost:8080/",
     "height": 556
    },
    "id": "9e1Pm-tsMTPh",
    "outputId": "965a7987-a958-4758-c54b-45d145b8c9a4"
   },
   "outputs": [
    {
     "name": "stdout",
     "output_type": "stream",
     "text": [
      "Maximum Flow: 10\n"
     ]
    },
    {
     "data": {
      "image/png": "[encoded data removed]",
      "text/plain": [
       "<Figure size 640x480 with 1 Axes>"
      ]
     },
     "metadata": {},
     "output_type": "display_data"
    }
   ],
   "source": [
    "import networkx as nx\n",
    "import matplotlib.pyplot as plt\n",
    "\n",
    "class FordFulkerson:\n",
    "    def __init__(self, graph, source, sink):\n",
    "        self.graph = graph\n",
    "        self.source = source\n",
    "        self.sink = sink\n",
    "        self.visited = set()\n",
    "\n",
    "    def dfs(self, node, path):\n",
    "        self.visited.add(node)\n",
    "        if node == self.sink:\n",
    "            return path\n",
    "        for neighbor, capacity in self.graph[node].items():\n",
    "            if neighbor not in self.visited and capacity > 0:\n",
    "                flow_path = self.dfs(neighbor, path + [(node, neighbor)])\n",
    "                if flow_path:\n",
    "                    return flow_path\n",
    "        return None\n",
    "\n",
    "    def max_flow(self):\n",
    "        max_flow = 0\n",
    "        path = self.dfs(self.source, [])\n",
    "        while path:\n",
    "            flow = min(self.graph[u][v] for u, v in path)\n",
    "            max_flow += flow\n",
    "            for u, v in path:\n",
    "                self.graph[u][v] -= flow\n",
    "                # Check if the reverse edge exists before updating its capacity\n",
    "                if v in self.graph and u in self.graph[v]:\n",
    "                    self.graph[v][u] += flow  # Residual capacity\n",
    "                else:\n",
    "                    self.graph[v][u] = flow\n",
    "            self.visited.clear()\n",
    "            path = self.dfs(self.source, [])\n",
    "        return max_flow\n",
    "\n",
    "# Example graph represented as an adjacency list with capacities\n",
    "graph = {\n",
    "    's': {'1': 5, '2': 5},\n",
    "    '1': {'t': 10, '3': 4},\n",
    "    '2': {'3': 4, '4': 5},\n",
    "    '3': {'t': 5, '6': 3},\n",
    "    '4': {'t': 5, '6': 5},\n",
    "    't': {}\n",
    "}\n",
    "\n",
    "# Create Ford-Fulkerson object with the graph, source, and sink\n",
    "ff = FordFulkerson(graph, 's', 't')\n",
    "\n",
    "# Find the maximum flow using Ford-Fulkerson algorithm\n",
    "max_flow = ff.max_flow()\n",
    "print(\"Maximum Flow:\", max_flow)\n",
    "\n",
    "# Create a directed graph object\n",
    "G = nx.DiGraph()\n",
    "\n",
    "# Add nodes and edges to the graph\n",
    "for node, neighbors in graph.items():\n",
    "    G.add_node(node)\n",
    "    for neighbor, capacity in neighbors.items():\n",
    "        G.add_edge(node, neighbor, capacity=capacity)\n",
    "\n",
    "# Create a mapping for edge labels (capacities)\n",
    "edge_labels = {(u, v): f\"{graph[u][v]}\" for u, v in G.edges()}\n",
    "\n",
    "# Draw the graph\n",
    "pos = nx.spring_layout(G)\n",
    "nx.draw(G, pos, with_labels=True, node_size=1000, node_color='lightblue', font_size=12, font_weight='bold', arrowsize=20)\n",
    "nx.draw_networkx_edge_labels(G, pos, edge_labels=edge_labels)\n",
    "\n",
    "# Show the graph\n",
    "plt.title(\"Flow Network with Maximum Flow\")\n",
    "plt.show()"
   ]
  },
  {
   "cell_type": "markdown",
   "metadata": {
    "id": "iBYG4oWs7qe7"
   },
   "source": [
    "**Code:**"
   ]
  },
  {
   "cell_type": "code",
   "execution_count": null,
   "metadata": {
    "colab": {
     "base_uri": "https://localhost:8080/"
    },
    "id": "UTPXqzgJ7sQi",
    "outputId": "4dff1eab-45eb-496b-868b-0e242a5af44a"
   },
   "outputs": [
    {
     "name": "stdout",
     "output_type": "stream",
     "text": [
      "Maximum Flow: 10\n"
     ]
    }
   ],
   "source": [
    "class FordFulkerson:\n",
    "    def __init__(self, graph, source, sink):\n",
    "        self.graph = graph\n",
    "        self.source = source\n",
    "        self.sink = sink\n",
    "        self.visited = set()\n",
    "\n",
    "    def dfs(self, node, path):\n",
    "        self.visited.add(node)\n",
    "        if node == self.sink:\n",
    "            return path\n",
    "        for neighbor, capacity in self.graph[node].items():\n",
    "            if neighbor not in self.visited and capacity > 0:\n",
    "                flow_path = self.dfs(neighbor, path + [(node, neighbor)])\n",
    "                if flow_path:\n",
    "                    return flow_path\n",
    "        return None\n",
    "\n",
    "    def max_flow(self):\n",
    "        max_flow = 0\n",
    "        path = self.dfs(self.source, [])\n",
    "        while path:\n",
    "            flow = min(self.graph[u][v] for u, v in path)\n",
    "            max_flow += flow\n",
    "            for u, v in path:\n",
    "                self.graph[u][v] -= flow\n",
    "                if v in self.graph and u in self.graph[v]:  # Check if reverse edge exists\n",
    "                    self.graph[v][u] += flow  # Update residual capacity\n",
    "                else:\n",
    "                    self.graph.setdefault(v, {})[u] = flow  # Add reverse edge if it doesn't exist\n",
    "            self.visited.clear()\n",
    "            path = self.dfs(self.source, [])\n",
    "        return max_flow\n",
    "\n",
    "# Example graph represented as an adjacency list with capacities\n",
    "graph = {\n",
    "    's': {'1': 5, '2': 5},\n",
    "    '1': {'t': 10, '3': 4},\n",
    "    '2': {'3': 4, '4': 5},\n",
    "    '3': {'t': 5, '6': 3},\n",
    "    '4': {'t': 5, '6': 5},\n",
    "    't': {}\n",
    "}\n",
    "\n",
    "# Create Ford-Fulkerson object with the graph, source, and sink\n",
    "ff = FordFulkerson(graph, 's', 't')\n",
    "\n",
    "# Find the maximum flow using Ford-Fulkerson algorithm\n",
    "max_flow = ff.max_flow()\n",
    "print(\"Maximum Flow:\", max_flow)"
   ]
  },
  {
   "cell_type": "markdown",
   "metadata": {
    "id": "BqkFb3hK7skL"
   },
   "source": [
    "**Explanation:**\n",
    "\n",
    "1. **Ford-Fulkerson Class**: The `FordFulkerson` class encapsulates the Ford-Fulkerson algorithm implementation. It takes the graph, source node, and sink node as input.\n",
    "\n",
    "2. **Depth-First Search (DFS)**: The `dfs` method performs a depth-first search (DFS) traversal to find an augmenting path from the source to the sink with positive capacities.\n",
    "\n",
    "3. **Max Flow Calculation**: The `max_flow` method iteratively finds augmenting paths using DFS and updates the flow in the graph until no more augmenting paths can be found.\n",
    "\n",
    "4. **Example Graph**: We provide an example flow network represented as an adjacency list with capacities. The source node is denoted by 's', and the sink node is denoted by 't'.\n",
    "\n",
    "5. **Performing Ford-Fulkerson Algorithm**: Finally, we create a `FordFulkerson` object with the example graph, source, and sink nodes, and then find the maximum flow using the `max_flow` method. The resulting maximum flow is printed as output."
   ]
  },
  {
   "cell_type": "markdown",
   "metadata": {
    "id": "S8Y-E6-vMToX"
   },
   "source": [
    "#### **Edmonds-Karp Algorithm**"
   ]
  },
  {
   "cell_type": "markdown",
   "metadata": {
    "id": "RqgDXLtqO6HR"
   },
   "source": [
    "**Explanation and Algorithm**\n",
    "\n",
    "The Edmonds-Karp Algorithm is a specific implementation of the Ford-Fulkerson Algorithm that uses Breadth-First Search (BFS) to find augmenting paths. This ensures that the shortest augmenting path is chosen at each iteration.\n",
    "\n",
    "**Algorithm:**\n",
    "1. Apply BFS to find the shortest augmenting path from source to sink.\n",
    "2. Determine the maximum additional flow that can be pushed through this path.\n",
    "3. Update the flow along the path.\n",
    "4. Repeat steps 1–3 until no more augmenting paths can be found.\n",
    "\n",
    "**Applications in Network Flows**\n",
    "* Max-Flow Min-Cut Theorem: The Edmonds-Karp algorithm is foundational in proving the Max-Flow Min-Cut theorem, which states that the maximum flow in a network is equal to the minimum capacity of a cut in the network.\n",
    "* Image Segmentation: It’s employed in computer vision for segmenting images based on region connectivity.\n",
    "* Network Design: Edmonds-Karp helps design cost-effective networks with optimal data flow."
   ]
  },
  {
   "cell_type": "markdown",
   "metadata": {
    "id": "i6VK9bvk8n2p"
   },
   "source": [
    "**Description:**\n",
    "\n",
    "The Edmonds-Karp algorithm is used to find the maximum flow in a flow network, which is a directed graph where each edge has a capacity and represents a flow between two vertices.\n",
    "\n",
    "**Graph:**\n",
    "\n",
    "Consider the following flow network:\n",
    "\n",
    "```\n",
    "         1\n",
    "   (s) -------> (1)\n",
    "    | \\          | \\\n",
    " 5  |  \\4       4|  \\5\n",
    "    |   \\        |   \\\n",
    "   (2)  (3)     (4)   (t)\n",
    "    |    |       |    |\n",
    "    v    |1      v    |\n",
    "   (5) <---------(6)\n",
    "         3\n",
    "```"
   ]
  },
  {
   "cell_type": "code",
   "execution_count": null,
   "metadata": {
    "colab": {
     "base_uri": "https://localhost:8080/",
     "height": 539
    },
    "id": "QTi-E0ppMjAj",
    "outputId": "09492096-83fc-460d-ecb5-ea9075621ec1"
   },
   "outputs": [
    {
     "data": {
      "image/png": "[encoded data removed]",
      "text/plain": [
       "<Figure size 640x480 with 1 Axes>"
      ]
     },
     "metadata": {},
     "output_type": "display_data"
    }
   ],
   "source": [
    "import networkx as nx\n",
    "import matplotlib.pyplot as plt\n",
    "\n",
    "# Create a directed graph object\n",
    "G = nx.DiGraph()\n",
    "\n",
    "# Add nodes and edges to the graph\n",
    "for node, neighbors in graph.items():\n",
    "    G.add_node(node)\n",
    "    for neighbor, capacity in neighbors.items():\n",
    "        G.add_edge(node, neighbor, capacity=capacity)\n",
    "\n",
    "# Create a mapping for edge labels (capacities)\n",
    "edge_labels = {(u, v): f\"{graph[u][v]}\" for u, v in G.edges()}\n",
    "\n",
    "# Draw the graph\n",
    "pos = nx.spring_layout(G)\n",
    "nx.draw(G, pos, with_labels=True, node_size=1000, node_color='lightblue', font_size=12, font_weight='bold', arrowsize=20)\n",
    "nx.draw_networkx_edge_labels(G, pos, edge_labels=edge_labels)\n",
    "\n",
    "# Show the graph\n",
    "plt.title(\"Flow Network\")\n",
    "plt.show()"
   ]
  },
  {
   "cell_type": "markdown",
   "metadata": {
    "id": "jItb8PD48oic"
   },
   "source": [
    "**Code:**"
   ]
  },
  {
   "cell_type": "code",
   "execution_count": null,
   "metadata": {
    "colab": {
     "base_uri": "https://localhost:8080/"
    },
    "id": "uC17qhoZ8qG5",
    "outputId": "e3329f31-3247-42ae-e7a8-ff58f5aec766"
   },
   "outputs": [
    {
     "name": "stdout",
     "output_type": "stream",
     "text": [
      "Maximum Flow: 10\n"
     ]
    }
   ],
   "source": [
    "from collections import deque\n",
    "\n",
    "class EdmondsKarp:\n",
    "    def __init__(self, graph, source, sink):\n",
    "        self.graph = graph\n",
    "        self.source = source\n",
    "        self.sink = sink\n",
    "        self.visited = set()\n",
    "\n",
    "    def bfs(self, parent):\n",
    "        queue = deque([self.source])\n",
    "        self.visited.clear()\n",
    "        self.visited.add(self.source)\n",
    "\n",
    "        while queue:\n",
    "            u = queue.popleft()\n",
    "            for v, capacity in self.graph[u].items():\n",
    "                if v not in self.visited and capacity > 0:\n",
    "                    queue.append(v)\n",
    "                    self.visited.add(v)\n",
    "                    parent[v] = u\n",
    "                    if v == self.sink:\n",
    "                        return True\n",
    "        return False\n",
    "\n",
    "    def max_flow(self):\n",
    "        max_flow = 0\n",
    "        parent = {node: None for node in self.graph}\n",
    "\n",
    "        while self.bfs(parent):\n",
    "            path_flow = float('inf')\n",
    "            s = self.sink\n",
    "            while s != self.source:\n",
    "                path_flow = min(path_flow, self.graph[parent[s]][s])\n",
    "                s = parent[s]\n",
    "            max_flow += path_flow\n",
    "            v = self.sink\n",
    "            while v != self.source:\n",
    "                u = parent[v]\n",
    "                self.graph[u][v] -= path_flow\n",
    "                # Ensure that both forward and reverse edges are properly updated\n",
    "                self.graph[v][u] = self.graph.get(v, {}).get(u, 0) + path_flow\n",
    "                v = parent[v]\n",
    "\n",
    "        return max_flow\n",
    "\n",
    "# Example graph represented as an adjacency list with capacities\n",
    "graph = {\n",
    "    's': {'1': 5, '2': 5},\n",
    "    '1': {'t': 10, '3': 4},\n",
    "    '2': {'3': 4, '4': 5},\n",
    "    '3': {'t': 5, '6': 3},\n",
    "    '4': {'t': 5, '6': 5},\n",
    "    't': {}\n",
    "}\n",
    "\n",
    "# Create Edmonds-Karp object with the graph, source, and sink\n",
    "ek = EdmondsKarp(graph, 's', 't')\n",
    "\n",
    "# Find the maximum flow using Edmonds-Karp algorithm\n",
    "max_flow = ek.max_flow()\n",
    "print(\"Maximum Flow:\", max_flow)"
   ]
  },
  {
   "cell_type": "markdown",
   "metadata": {
    "id": "5YZfUSAD8qlz"
   },
   "source": [
    "**Explanation:**\n",
    "\n",
    "- **Problem Description**: The Edmonds-Karp algorithm finds the maximum flow in a flow network, represented by a directed graph where each edge has a capacity.\n",
    "- **Graph**: The flow network graph is represented using an adjacency list with capacities between nodes.\n",
    "- **Plot**: The plot visualizes the flow network graph with node labels and edge capacities.\n",
    "- **Solution Code**: The EdmondsKarp class implements the Edmonds-Karp algorithm to find the maximum flow in the flow network graph.\n",
    "- **Explanation**: The algorithm uses breadth-first search (BFS) to find augmenting paths from the source to the sink in the graph. It updates the flow along the augmenting paths until no more augmenting paths can be found, resulting in the maximum flow."
   ]
  },
  {
   "cell_type": "markdown",
   "metadata": {
    "id": "Zx4EgZ75MnEQ"
   },
   "source": [
    "## **The Applications of Graph Traversal in Computer Science**"
   ]
  },
  {
   "cell_type": "markdown",
   "metadata": {
    "id": "YZw693BcO-h2"
   },
   "source": [
    "Graph traversal is a fundamental concept in computer science, finding a broad spectrum of applications. This integral algorithm finds its applications in various domains ranging from networking to relativistic physics to artificial intelligence, and beyond. Understanding graph traversal is more than an academic exercise; it is a practical tool that addresses real-world computational problems, making it a vital topic to learn and understand."
   ]
  },
  {
   "cell_type": "markdown",
   "metadata": {
    "id": "K-Y3qC-jMp5e"
   },
   "source": [
    "### **Real-World Applications of Graph Traversal**"
   ]
  },
  {
   "cell_type": "markdown",
   "metadata": {
    "id": "c9FpmgipPBij"
   },
   "source": [
    "Diving deep into the applications of graph traversal in real-world scenarios reveals its prominence. One of its prominent applications is in Network Routing. Network routers make use of graph traversal algorithms like Dijkstra's to discover the most expedient path for data packets between two network nodes. This routing essentially forms the backbone of the Internet and every local network.\n",
    "\n",
    "In the day-to-day operation of the web, routers use algorithms akin to Breadth-First Search (BFS) and Depth-First Search (DFS) to handle the non-static nature of networks, such as when a router becomes unavailable and a new route needs to be swiftly found. These algorithms help efficiently navigate such huge networks.\n",
    "\n",
    "Apart from networking, another common application of graph traversal algorithms is in the domain of web crawling. Search engines like Google utilise graph traversal algorithms to navigate the billions of interconnected websites to index the web. Essentially, a web crawler starts at one page (URL), explores all its linked pages, and continues this process infinitely to build a significant index of the Web. This process can be compared to a BFS or DFS search where the URLs represent the vertices and the hyperlinks represent the edges."
   ]
  },
  {
   "cell_type": "markdown",
   "metadata": {
    "id": "WteEL5EOMyrB"
   },
   "source": [
    "### **How Graph Traversal is Changing the Tech Industry**"
   ]
  },
  {
   "cell_type": "markdown",
   "metadata": {
    "id": "e2AjtwaVPKa6"
   },
   "source": [
    "Graph traversal algorithms underpin many advanced operations in the tech industry today. They are particularly impactful in Artificial Intelligence (AI), playing a major role in search algorithms, route planning, and decision making.\n",
    "\n",
    "For example, consider autonomous vehicles. They extensively use graph theory for route planning. They apply Dijkstra's algorithm or A* Search to graph data representing the real world's grid road structure to find the most effective route.\n",
    "\n",
    "Additionally, commercial games have grown in complexity by leaps and bounds, with many relying heavily on graph traversal algorithms. Games like World of Warcraft or Dragon Age utilise A* Search to assist Non-Player Characters (NPCs) in navigating complex, obstacle-filled maps. These algorithms calculate the shortest path from the NPC's location to its target destination, considering various data such as terrain, threats and objectives.\n",
    "\n",
    "In the data science industry, graph traversal applications exist in the detection of community structure in networks. Social media platforms, for instance, utilise graph traversal algorithms to identify tightly-knit groups of users. This information can be instrumental for targeted advertising, recommendations, and combating misinformation or span.\n",
    "\n",
    "Furthermore, algorithms like DFS can be used to determine connectivity in a network, in applications like tracing how malware or a virus can spread between computers. The operation of Bitcoin's Blockchain network itself is an example of distributed graph-based data structures that work using advanced graph traversal strategies.\n",
    "\n",
    "So, it's evident that graph traversal algorithms are paving a dramatic impact in the tech industry, breaking new ground for innovative technologies and transforming various fields from gaming, networking, to AI and data science."
   ]
  },
  {
   "cell_type": "markdown",
   "metadata": {
    "id": "6xOpDS71M5-Q"
   },
   "source": [
    "## **Tips for Solving Problems with Graph Traversal Algorithms**"
   ]
  },
  {
   "cell_type": "markdown",
   "metadata": {
    "id": "-TJTNhYKPD8O"
   },
   "source": [
    "Graph traversal problems can seem daunting at first. However, with a solid understanding of the underlying principles, the right approach, and a lot of practice, you can master these problems. Here are a few tips:\n",
    "* Understand the problem: Determine whether it's a graph traversal problem. Sometimes, it might not be all that apparent.\n",
    "* Identify the right traversal algorithm: Consider the nature of the graph (e.g., weighted, directed), the nature of the problem (e.g., shortest path, cycle detection), and choose between BFS, DFS, Dijkstra's, A* Search or other relevant algorithms accordingly.\n",
    "* Make sure to visit each node only once: While visiting each node, mark it as 'visited' to ensure you don't visit the same node more than once.\n",
    "* Understand recursion: If you're using DFS, ensure you understand how recursion works as it's a recursively defined algorithm.\n",
    "* Choose the right data structure: Depending on the problem requirements and the chosen traversal algorithm, select an appropriate data structure to efficiently store and manipulate graph nodes and edges. For example, use queues for BFS and stacks or recursion for DFS.\n",
    "* Handle graph representations: Be comfortable working with different graph representations such as adjacency matrices, adjacency lists, or edge lists. Understanding the strengths and weaknesses of each representation can help in optimizing traversal algorithms.\n",
    "* Consider edge cases: Be mindful of edge cases and special conditions in the problem statement. Test your implementation with various input sizes, including small, medium, and large graphs, to ensure its correctness and efficiency.\n",
    "* Optimize time and space complexity: Aim to optimize both time and space complexity of your traversal algorithm. Look for opportunities to reduce redundant computations, minimize memory usage, and improve overall efficiency.\n",
    "* Visualize the graph: Visualizing the graph and the traversal process can aid in understanding and debugging your implementation. Use graph visualization tools or draw diagrams to visualize the graph structure and traversal paths.\n",
    "* Understand algorithm limitations: Be aware of the limitations and assumptions of the chosen traversal algorithm. For example, BFS may not be suitable for graphs with cycles, and DFS may encounter stack overflow errors on deep recursive calls.\n",
    "* Practice: Abstract problems in computer science, especially those related to data structures and algorithms, are best learned through practice. Practice a variety of problems on different online platforms.\n",
    "* Learn from others: Engage with the community, participate in online forums, and study solutions provided by others. Analyze different approaches and learn from their strengths and weaknesses to improve your problem-solving skills.\n",
    "\n",
    "Remember, understanding the underlying concept is key to cracking graph traversal problems, and practice is essential to become adept at using these concepts."
   ]
  },
  {
   "cell_type": "markdown",
   "metadata": {
    "id": "QHpZq7ixNLQL"
   },
   "source": [
    "## **Leetcode Problems related to Graph Traversals**"
   ]
  },
  {
   "cell_type": "markdown",
   "metadata": {
    "id": "Iz-v_ttiALQa"
   },
   "source": [
    "### **Problem #1 Number of Provincies**\n",
    "\n",
    "[Link to problem description](https://leetcode.com/problems/number-of-provinces/description/)"
   ]
  },
  {
   "cell_type": "markdown",
   "metadata": {
    "id": "6Dgib75W-rMN"
   },
   "source": [
    "**Problem Statement:**\n",
    "\n",
    "There are n cities. Some of them are connected, while some are not. If city a is connected directly with city b, and city b is connected directly with city c, then city a is connected indirectly with city c.\n",
    "\n",
    "A province is a group of directly or indirectly connected cities and no other cities outside of the group.\n",
    "\n",
    "You are given an n x n matrix isConnected where isConnected[i][j] = 1 if the ith city and the jth city are directly connected, and isConnected[i][j] = 0 otherwise.\n",
    "\n",
    "Return the total number of provinces.\n",
    "\n",
    "**Example:**\n",
    "\n",
    "![Pr#1](https://assets.leetcode.com/users/images/4d3f201e-7106-4721-a990-321f335383a9_1691929198.4933982.png)\n",
    "\n",
    "**Explanation:**\n",
    "\n",
    "We can solve this problem with the help of BFS/DFS. So let's think about it:\n",
    "We can maintain a visited array which represents all the nodes. Mark all the nodes as 0(Unvisited).\n",
    "\n",
    "Then transverse all the nodes and if that node is unvisited, then consider it as a seprate graph(Provinces), and consider that node as a starting node and traverse that graph using DFS/BFS.\n",
    "\n",
    "DFS/BFS will help to mark all the nodes in a graph as visited.\n",
    "At last mantain a counter and count number of time DFS/BFS is called."
   ]
  },
  {
   "cell_type": "code",
   "execution_count": null,
   "metadata": {
    "colab": {
     "base_uri": "https://localhost:8080/"
    },
    "id": "D7NjFO5o_ZNI",
    "outputId": "0a2db245-9ec0-49ec-d577-958b35818d33"
   },
   "outputs": [
    {
     "name": "stdout",
     "output_type": "stream",
     "text": [
      "Number of connected components: 2\n"
     ]
    }
   ],
   "source": [
    "class Solution:\n",
    "    def dfs(self, adj, vis, node):\n",
    "        vis[node] = True\n",
    "        for a in adj[node]:\n",
    "            if not vis[a]:\n",
    "                self.dfs(adj, vis, a)\n",
    "\n",
    "    def findCircleNum(self, isConnected):\n",
    "        n = len(isConnected)\n",
    "\n",
    "        # converting adjacent matrix into adjacent list\n",
    "        adj = [[] for _ in range(n)]\n",
    "        for i in range(n):\n",
    "            for j in range(n):\n",
    "                if isConnected[i][j] and i != j:\n",
    "                    adj[i].append(j)\n",
    "                    adj[j].append(i)\n",
    "\n",
    "        # creating visited array and counter\n",
    "        vis = [False] * n\n",
    "        count = 0\n",
    "\n",
    "        for i in range(n):\n",
    "            if not vis[i]:\n",
    "                self.dfs(adj, vis, i)\n",
    "                count += 1\n",
    "        return count\n",
    "\n",
    "# Define the input adjacency matrix\n",
    "isConnected = [\n",
    "    [1, 1, 0],\n",
    "    [1, 1, 0],\n",
    "    [0, 0, 1]\n",
    "]\n",
    "\n",
    "# Create an instance of the Solution class\n",
    "sol = Solution()\n",
    "\n",
    "# Call the findCircleNum method and print the result\n",
    "result = sol.findCircleNum(isConnected)\n",
    "print(\"Number of connected components:\", result)"
   ]
  },
  {
   "cell_type": "markdown",
   "metadata": {
    "id": "w3Sp-2d0AOiL"
   },
   "source": [
    "### **Problem #2 Rotting Oranges**\n",
    "[Link to problem description](https://leetcode.com/problems/rotting-oranges/)\n"
   ]
  },
  {
   "cell_type": "markdown",
   "metadata": {
    "id": "eldlRYJEAa_h"
   },
   "source": [
    "**Problem Statement:**\n",
    "\n",
    "You are given an m x n grid where each cell can have one of three values:\n",
    "\n",
    "0 representing an empty cell,\n",
    "1 representing a fresh orange, or\n",
    "2 representing a rotten orange.\n",
    "\n",
    "Every minute, any fresh orange that is 4-directionally adjacent to a rotten orange becomes rotten.\n",
    "Return the minimum number of minutes that must elapse until no cell has a fresh orange. If this is impossible, return -1.\n",
    "\n",
    "**Explanation:**\n",
    "\n",
    "According to the problem statement, one rotten orange can cause 4 of its neighbors to rot, and those 4 neighbors, in the second iteration, can then cause their immediate neighbors to rot. This pattern is very similar to BFS. Let's discuss how we can solve this problem using BFS.\n",
    "\n",
    "Steps:\n",
    "\n",
    "1. First, create a queue to store all the rotten oranges.\n",
    "2. While the queue is not empty, pick a rotten orange from the queue and check in all four directions. If you find a fresh orange, make it rotten and add it to the queue.\n",
    "3. If you rot some oranges during this iteration, increment the day count.\n",
    "4. Repeat this process until queue is empty.\n",
    "\n",
    "To check whether we have been able to rot all the oranges in the end, maintain a count of the total number of oranges initially and a count of the total number of rotten oranges after the BFS (Breadth-First Search).\n",
    "If both counts are equal, it indicates that we have been able to rot all the oranges."
   ]
  },
  {
   "cell_type": "code",
   "execution_count": null,
   "metadata": {
    "colab": {
     "base_uri": "https://localhost:8080/"
    },
    "id": "SmCvm0G0A2R0",
    "outputId": "74239f72-b34b-49a0-9915-8fd7ad01c387"
   },
   "outputs": [
    {
     "name": "stdout",
     "output_type": "stream",
     "text": [
      "Time taken for all oranges to rot: 4\n"
     ]
    }
   ],
   "source": [
    "from collections import deque\n",
    "\n",
    "class Solution:\n",
    "    def orangesRotting(self, grid):\n",
    "        # Define utils arrays to navigate in all four directions\n",
    "        dx = [0, 0, 1, -1]\n",
    "        dy = [1, -1, 0, 0]\n",
    "\n",
    "        m = len(grid)\n",
    "        n = len(grid[0])\n",
    "        time = 0\n",
    "        totalOrg = 0\n",
    "        count = 0\n",
    "        q = deque()\n",
    "\n",
    "        # Building a queue for all the starting points\n",
    "        for i in range(m):\n",
    "            for j in range(n):\n",
    "                if grid[i][j] != 0:\n",
    "                    totalOrg += 1\n",
    "                if grid[i][j] == 2:\n",
    "                    q.append((i, j))\n",
    "\n",
    "        while q:\n",
    "            k = len(q)\n",
    "            count += k\n",
    "            while k > 0:\n",
    "                x, y = q.popleft()\n",
    "\n",
    "                # Technique to traverse in all four directions\n",
    "                for i in range(4):\n",
    "                    nx = x + dx[i]\n",
    "                    ny = y + dy[i]\n",
    "                    if nx < 0 or ny < 0 or nx >= m or ny >= n:\n",
    "                        continue\n",
    "                    # If orange is fresh, make it rotten and push it to queue\n",
    "                    if grid[nx][ny] == 1:\n",
    "                        grid[nx][ny] = 2\n",
    "                        q.append((nx, ny))\n",
    "                k -= 1\n",
    "            if q:\n",
    "                time += 1\n",
    "\n",
    "        # If count of rotten oranges is equal to total oranges then return time\n",
    "        if count == totalOrg:\n",
    "            return time\n",
    "\n",
    "        return -1\n",
    "\n",
    "# Example grid\n",
    "grid = [\n",
    "    [2,1,1],\n",
    "    [1,1,0],\n",
    "    [0,1,1]\n",
    "]\n",
    "\n",
    "# Create an instance of the Solution class\n",
    "sol = Solution()\n",
    "\n",
    "# Call the orangesRotting method and print the result\n",
    "result = sol.orangesRotting(grid)\n",
    "print(\"Time taken for all oranges to rot:\", result)"
   ]
  },
  {
   "cell_type": "markdown",
   "metadata": {
    "id": "jHAh9G-wBtG7"
   },
   "source": [
    "### **Problem #3 Flood Fill**\n",
    "[Link to problem description](https://leetcode.com/problems/flood-fill/description/)"
   ]
  },
  {
   "cell_type": "markdown",
   "metadata": {
    "id": "l6_jpUi1BtHI"
   },
   "source": [
    "**Problem Statement:**\n",
    "\n",
    "An image is represented by an m x n integer grid image where image[i][j] represents the pixel value of the image.\n",
    "\n",
    "You are also given three integers sr, sc, and color. You should perform a flood fill on the image starting from the pixel image[sr][sc].\n",
    "To perform a flood fill, consider the starting pixel, plus any pixels connected 4-directionally to the starting pixel of the same color as the starting pixel, plus any pixels connected 4-directionally to those pixels (also with the same color), and so on. Replace the color of all of the aforementioned pixels with color.\n",
    "\n",
    "Return the modified image after performing the flood fill.\n",
    "\n",
    "**Explanation:**\n",
    "\n",
    "If you are approaching this problem after solving the \"Rotten Oranges\" problem, it's likely that you are considering solving it using BFS.\n",
    "However, there's an important distinction between the two. In the Rotten Oranges problem, the objective is to determine the total time required to rot all the oranges, which imposes specific constraints.\n",
    "\n",
    "In this problem, however, such constraints are absent. This leads us to the conclusion that we can employ either BFS or DFS."
   ]
  },
  {
   "cell_type": "code",
   "execution_count": null,
   "metadata": {
    "colab": {
     "base_uri": "https://localhost:8080/"
    },
    "id": "UjOd-xn5BtHJ",
    "outputId": "7eadd9d2-0e36-4236-c76a-899777955049"
   },
   "outputs": [
    {
     "name": "stdout",
     "output_type": "stream",
     "text": [
      "Result after flood fill:\n",
      "[2, 2, 2]\n",
      "[2, 2, 0]\n",
      "[2, 0, 1]\n"
     ]
    }
   ],
   "source": [
    "from collections import deque\n",
    "\n",
    "class Solution:\n",
    "    def __init__(self):\n",
    "        # Define utils arrays to navigate in all four directions\n",
    "        self.dx = [0, 0, 1, -1]\n",
    "        self.dy = [1, -1, 0, 0]\n",
    "        self.dfsAns = []\n",
    "        self.bfsAns = []\n",
    "        self.n = 0\n",
    "        self.m = 0\n",
    "        self.initColor = 0\n",
    "        self.newColor = 0\n",
    "\n",
    "    def bfs(self, r, c):\n",
    "        q = deque()\n",
    "        q.append((r, c))\n",
    "        self.bfsAns[r][c] = self.newColor\n",
    "\n",
    "        while q:\n",
    "            x, y = q.popleft()\n",
    "            # Technique to traverse in all four directions\n",
    "            for i in range(4):\n",
    "                nx = x + self.dx[i]\n",
    "                ny = y + self.dy[i]\n",
    "                if nx < 0 or ny < 0 or nx >= self.n or ny >= self.m:\n",
    "                    continue\n",
    "                if self.bfsAns[nx][ny] == self.initColor and self.bfsAns[nx][ny] != self.newColor:\n",
    "                    self.bfsAns[nx][ny] = self.newColor\n",
    "                    q.append((nx, ny))\n",
    "\n",
    "    def dfs(self, r, c):\n",
    "        self.dfsAns[r][c] = self.newColor\n",
    "        for i in range(4):\n",
    "            nx = r + self.dx[i]\n",
    "            ny = c + self.dy[i]\n",
    "            if nx < 0 or ny < 0 or nx >= self.n or ny >= self.m:\n",
    "                continue\n",
    "            if self.dfsAns[nx][ny] == self.initColor and self.dfsAns[nx][ny] != self.newColor:\n",
    "                self.dfsAns[nx][ny] = self.newColor\n",
    "                self.dfs(nx, ny)\n",
    "\n",
    "    def floodFill(self, image, sr, sc, color):\n",
    "        # Building some global variable for code simplicity\n",
    "        self.dfsAns = [row[:] for row in image]\n",
    "        self.bfsAns = [row[:] for row in image]\n",
    "        self.n = len(image)\n",
    "        self.m = len(image[0])\n",
    "        self.initColor = image[sr][sc]\n",
    "        self.newColor = color\n",
    "\n",
    "        # Answer using BFS\n",
    "        self.bfs(sr, sc)\n",
    "\n",
    "        # Answer using DFS\n",
    "        self.dfs(sr, sc)\n",
    "\n",
    "        return self.bfsAns  # Return dfsAns in case of dfs\n",
    "\n",
    "# Example usage:\n",
    "image = [[1, 1, 1], [1, 1, 0], [1, 0, 1]]\n",
    "sr, sc = 1, 1\n",
    "color = 2\n",
    "\n",
    "sol = Solution()\n",
    "result = sol.floodFill(image, sr, sc, color)\n",
    "print(\"Result after flood fill:\")\n",
    "for row in result:\n",
    "    print(row)"
   ]
  },
  {
   "cell_type": "markdown",
   "metadata": {
    "id": "M6GfCqF9Err0"
   },
   "source": [
    "### **Problem #4 Surrounded Regions**\n",
    "[Link to problem description](https://leetcode.com/problems/surrounded-regions/description/)"
   ]
  },
  {
   "cell_type": "markdown",
   "metadata": {
    "id": "h7rPsad7Err_"
   },
   "source": [
    "**Problem Statement:**\n",
    "\n",
    "Given an m x n matrix board containing 'X' and 'O', capture all regions that are 4-directionally surrounded by 'X'.\n",
    "A region is captured by flipping all 'O's into 'X's in that surrounded region.\n",
    "\n",
    "**Explanation:**\n",
    "\n",
    "Upon careful analysis of the problem, it becomes evident that the boundary elements of the matrix cannot be encompassed by 'X'. As a result, our traversal should initiate from these boundary elements.\n",
    "We need to identify all the interconnected 'O' through this traversal process. Once the traversal is complete, the remaining 'O' that have not been connected to the boundaries can be replaced with 'X' .\n",
    "This process will effectively capture and transform the regions enclosed by 'X' into the desired outcome.\n",
    "We can use both BFS/DFS for this problem.\n",
    "\n",
    "**Steps:**\n",
    "\n",
    "1. Create a visited array and initialize it with 0.\n",
    "2. Do the boundry traversal of the matrix given.\n",
    "3. If you find 'O' then call DFS Funtion.\n",
    "*DFS Funtion will run through all the neighboring 'O' in all four direction and mark them as visited.*\n",
    "4. At last we can calculate our answer based on visited array as all the 1 is 'O' and remaining are 'X' ."
   ]
  },
  {
   "cell_type": "code",
   "execution_count": null,
   "metadata": {
    "id": "5E0hKvVFErsA"
   },
   "outputs": [],
   "source": [
    "class Solution:\n",
    "    def __init__(self):\n",
    "        self.dx = [0, 0, 1, -1]\n",
    "        self.dy = [1, -1, 0, 0]\n",
    "        self.n = 0\n",
    "        self.m = 0\n",
    "\n",
    "    def dfs(self, r, c, vis, board):\n",
    "        vis[r][c] = True\n",
    "        for i in range(4):\n",
    "            nx = r + self.dx[i]\n",
    "            ny = c + self.dy[i]\n",
    "            if nx < 0 or ny < 0 or nx >= self.n or ny >= self.m:\n",
    "                continue\n",
    "            if not vis[nx][ny] and board[nx][ny] == 'O':\n",
    "                self.dfs(nx, ny, vis, board)\n",
    "\n",
    "    def solve(self, board):\n",
    "        self.n = len(board)\n",
    "        self.m = len(board[0])\n",
    "        vis = [[False] * self.m for _ in range(self.n)]\n",
    "\n",
    "        # boundary traversal column\n",
    "        for i in range(self.n):\n",
    "            if not vis[i][0] and board[i][0] == 'O':\n",
    "                self.dfs(i, 0, vis, board)\n",
    "            if not vis[i][self.m - 1] and board[i][self.m - 1] == 'O':\n",
    "                self.dfs(i, self.m - 1, vis, board)\n",
    "\n",
    "        # boundary traversal row\n",
    "        for i in range(self.m):\n",
    "            if not vis[0][i] and board[0][i] == 'O':\n",
    "                self.dfs(0, i, vis, board)\n",
    "            if not vis[self.n - 1][i] and board[self.n - 1][i] == 'O':\n",
    "                self.dfs(self.n - 1, i, vis, board)\n",
    "\n",
    "        for i in range(self.n):\n",
    "            for j in range(self.m):\n",
    "                if not vis[i][j]:\n",
    "                    board[i][j] = 'X'"
   ]
  },
  {
   "cell_type": "markdown",
   "metadata": {
    "id": "C4boETmxFcm4"
   },
   "source": [
    "### **Problem #5 Number of Enclaves**\n",
    "[Link to problem description](https://leetcode.com/problems/number-of-enclaves/description/)"
   ]
  },
  {
   "cell_type": "markdown",
   "metadata": {
    "id": "x4dDYDgYFcnC"
   },
   "source": [
    "**Problem Statement:**\n",
    "\n",
    "You are given an m x n binary matrix grid, where 0 represents a sea cell and 1 represents a land cell.\n",
    "A move consists of walking from one land cell to another adjacent (4-directionally) land cell or walking off the boundary of the grid.\n",
    "Return the number of land cells in grid for which we cannot walk off the boundary of the grid in any number of moves.\n",
    "\n",
    "**Explanation:**\n",
    "\n",
    "This problem is very similar to surrounded region. We can follow the very same approch that we followed in surrounded region problem.\n",
    "\n",
    "**DFS Solution:**"
   ]
  },
  {
   "cell_type": "code",
   "execution_count": null,
   "metadata": {
    "id": "SVt_H0t8FcnC"
   },
   "outputs": [],
   "source": [
    "class Solution:\n",
    "    def __init__(self):\n",
    "        self.dx = [0, 0, 1, -1]\n",
    "        self.dy = [1, -1, 0, 0]\n",
    "        self.n = 0\n",
    "        self.m = 0\n",
    "\n",
    "    def dfs(self, r, c, vis, grid):\n",
    "        vis[r][c] = True\n",
    "        for i in range(4):\n",
    "            nx = r + self.dx[i]\n",
    "            ny = c + self.dy[i]\n",
    "            if nx < 0 or ny < 0 or nx >= self.n or ny >= self.m:\n",
    "                continue\n",
    "            if not vis[nx][ny] and grid[nx][ny] == 1:\n",
    "                self.dfs(nx, ny, vis, grid)\n",
    "\n",
    "    def numEnclaves(self, grid):\n",
    "        self.n = len(grid)\n",
    "        self.m = len(grid[0])\n",
    "        vis = [[False] * self.m for _ in range(self.n)]\n",
    "\n",
    "        # boundary traversal column\n",
    "        for i in range(self.n):\n",
    "            if not vis[i][0] and grid[i][0] == 1:\n",
    "                self.dfs(i, 0, vis, grid)\n",
    "            if not vis[i][self.m - 1] and grid[i][self.m - 1] == 1:\n",
    "                self.dfs(i, self.m - 1, vis, grid)\n",
    "\n",
    "        # boundary traversal row\n",
    "        for i in range(self.m):\n",
    "            if not vis[0][i] and grid[0][i] == 1:\n",
    "                self.dfs(0, i, vis, grid)\n",
    "            if not vis[self.n - 1][i] and grid[self.n - 1][i] == 1:\n",
    "                self.dfs(self.n - 1, i, vis, grid)\n",
    "\n",
    "        ans = 0\n",
    "        for i in range(self.n):\n",
    "            for j in range(self.m):\n",
    "                if not vis[i][j] and grid[i][j] == 1:\n",
    "                    ans += 1\n",
    "        return ans"
   ]
  },
  {
   "cell_type": "markdown",
   "metadata": {
    "id": "3ekR207jGD3y"
   },
   "source": [
    "**BFS Solution**"
   ]
  },
  {
   "cell_type": "code",
   "execution_count": null,
   "metadata": {
    "id": "JswWVq3xGHwf"
   },
   "outputs": [],
   "source": [
    "from collections import deque\n",
    "\n",
    "class Solution:\n",
    "    def __init__(self):\n",
    "        self.dx = [0, 0, 1, -1]\n",
    "        self.dy = [1, -1, 0, 0]\n",
    "        self.n = 0\n",
    "        self.m = 0\n",
    "\n",
    "    def dfs(self, r, c, vis, grid):\n",
    "        vis[r][c] = True\n",
    "        for i in range(4):\n",
    "            nx = r + self.dx[i]\n",
    "            ny = c + self.dy[i]\n",
    "            if nx < 0 or ny < 0 or nx >= self.n or ny >= self.m:\n",
    "                continue\n",
    "            if not vis[nx][ny] and grid[nx][ny] == 1:\n",
    "                self.dfs(nx, ny, vis, grid)\n",
    "\n",
    "    def numEnclaves(self, grid):\n",
    "        self.n = len(grid)\n",
    "        self.m = len(grid[0])\n",
    "        vis = [[False] * self.m for _ in range(self.n)]\n",
    "\n",
    "        q = deque()\n",
    "\n",
    "        # boundary traversal column\n",
    "        for i in range(self.n):\n",
    "            if not vis[i][0] and grid[i][0] == 1:\n",
    "                vis[i][0] = True\n",
    "                q.append((i, 0))\n",
    "            if not vis[i][self.m - 1] and grid[i][self.m - 1] == 1:\n",
    "                vis[i][self.m - 1] = True\n",
    "                q.append((i, self.m - 1))\n",
    "\n",
    "        # boundary traversal row\n",
    "        for i in range(self.m):\n",
    "            if not vis[0][i] and grid[0][i] == 1:\n",
    "                vis[0][i] = True\n",
    "                q.append((0, i))\n",
    "            if not vis[self.n - 1][i] and grid[self.n - 1][i] == 1:\n",
    "                vis[self.n - 1][i] = True\n",
    "                q.append((self.n - 1, i))\n",
    "\n",
    "        while q:\n",
    "            x, y = q.popleft()\n",
    "            for i in range(4):\n",
    "                nx = x + self.dx[i]\n",
    "                ny = y + self.dy[i]\n",
    "                if nx < 0 or ny < 0 or nx >= self.n or ny >= self.m:\n",
    "                    continue\n",
    "                if not vis[nx][ny] and grid[nx][ny] == 1:\n",
    "                    vis[nx][ny] = True\n",
    "                    q.append((nx, ny))\n",
    "\n",
    "        ans = 0\n",
    "        for i in range(self.n):\n",
    "            for j in range(self.m):\n",
    "                if not vis[i][j] and grid[i][j] == 1:\n",
    "                    ans += 1\n",
    "\n",
    "        return ans"
   ]
  },
  {
   "cell_type": "markdown",
   "metadata": {
    "id": "i0PiX4SXFc0c"
   },
   "source": [
    "### **Problem #6 Is Graph Bipartite?**\n",
    "[Link to problem description](https://leetcode.com/problems/is-graph-bipartite/description/)"
   ]
  },
  {
   "cell_type": "markdown",
   "metadata": {
    "id": "qEplICZvFc0c"
   },
   "source": [
    "**Problem Statement:**\n",
    "\n",
    "There is an undirected graph with n nodes, where each node is numbered between 0 and n - 1. You are given a 2D array graph, where graph[u] is an array of nodes that node u is adjacent to. More formally, for each v in graph[u], there is an undirected edge between node u and node v. The graph has the following properties:\n",
    "\n",
    "There are no self-edges (graph[u] does not contain u).\n",
    "There are no parallel edges (graph[u] does not contain duplicate values).\n",
    "If v is in graph[u], then u is in graph[v] (the graph is undirected).\n",
    "The graph may not be connected, meaning there may be two nodes u and v such that there is no path between them.\n",
    "A graph is bipartite if the nodes can be partitioned into two independent sets A and B such that every edge in the graph connects a node in set A and a node in set B.\n",
    "Return true if and only if it is bipartite.\n",
    "\n",
    "**Explanation:**\n",
    "\n",
    "A bipartite graph is a graph where nodes can be separated into two distinct sets, ensuring that neighboring nodes have different colors.\n",
    "Linear graphs are inherently bipartite, and graphs with even cycles are always guaranteed to be bipartite.\n",
    "\n",
    "**Steps:**\n",
    "\n",
    "1. Create a visited array which can store different value.\n",
    "-1 for unvisited.\n",
    "\n",
    "0 for first colour.\n",
    "\n",
    "1 for second colour.\n",
    "\n",
    "2. Do DFS traversal on graph for ever unvisited node we will inititate a dfs with initial color as 0.\n",
    "3. At any moment if we get a node which is already coloured with the same colour of current node we will return false."
   ]
  },
  {
   "cell_type": "code",
   "execution_count": null,
   "metadata": {
    "id": "N0DsK_JUFc0d"
   },
   "outputs": [],
   "source": [
    "class Solution:\n",
    "    def dfs(self, graph, node, col, color):\n",
    "        color[node] = col\n",
    "        for a in graph[node]:\n",
    "            if color[a] != -1 and color[a] == col:\n",
    "                return False\n",
    "            if color[a] == -1 and not self.dfs(graph, a, not col, color):\n",
    "                return False\n",
    "        return True\n",
    "\n",
    "    def isBipartite(self, graph):\n",
    "        n = len(graph)\n",
    "        color = [-1] * n\n",
    "\n",
    "        for i in range(n):\n",
    "            if color[i] == -1 and not self.dfs(graph, i, 0, color):\n",
    "                return False\n",
    "\n",
    "        return True"
   ]
  },
  {
   "cell_type": "markdown",
   "metadata": {
    "id": "GnWUlQKuFdA9"
   },
   "source": [
    "### **Problem #7 Number of Islands**\n",
    "[Link to problem description](https://leetcode.com/problems/number-of-islands/description/)"
   ]
  },
  {
   "cell_type": "markdown",
   "metadata": {
    "id": "x0ghRpJ6FdA9"
   },
   "source": [
    "**Problem Statement:**\n",
    "\n",
    "You are given an `m x n` 2D binary grid `grid`, representing a map where `'1'`s represent land and `'0'`s represent water. Your task is to count the number of islands in the grid. An island is surrounded by water and is formed by connecting adjacent lands horizontally or vertically. You may assume all four edges of the grid are surrounded by water.\n",
    "\n",
    "**Example:**\n",
    "\n",
    "```\n",
    "Example 1:\n",
    "\n",
    "Input: grid = [\n",
    "  [\"1\",\"1\",\"1\",\"1\",\"0\"],\n",
    "  [\"1\",\"1\",\"0\",\"1\",\"0\"],\n",
    "  [\"1\",\"1\",\"0\",\"0\",\"0\"],\n",
    "  [\"0\",\"0\",\"0\",\"0\",\"0\"]\n",
    "]\n",
    "Output: 1\n",
    "\n",
    "Example 2:\n",
    "\n",
    "Input: grid = [\n",
    "  [\"1\",\"1\",\"0\",\"0\",\"0\"],\n",
    "  [\"1\",\"1\",\"0\",\"0\",\"0\"],\n",
    "  [\"0\",\"0\",\"1\",\"0\",\"0\"],\n",
    "  [\"0\",\"0\",\"0\",\"1\",\"1\"]\n",
    "]\n",
    "Output: 3\n",
    "```\n",
    "\n",
    "**Constraints:**\n",
    "\n",
    "- `m == grid.length`\n",
    "- `n == grid[i].length`\n",
    "- `1 <= m, n <= 300`\n",
    "- `grid[i][j]` is `'0'` or `'1'`.\n",
    "\n",
    "**Explanation:**\n",
    "\n",
    "To solve this problem, we can use Depth-First Search (DFS) or Breadth-First Search (BFS) algorithms. We'll iterate through each cell of the grid, and whenever we encounter a land cell (i.e., `'1'`), we'll perform a DFS or BFS to explore and mark all adjacent land cells belonging to the same island.\n",
    "\n",
    "**Steps:**\n",
    "\n",
    "1. Initialize a variable `count` to store the number of islands.\n",
    "2. Iterate through each cell `(i, j)` in the grid.\n",
    "3. If `grid[i][j] == '1'`, perform DFS or BFS to mark all connected land cells and increment `count` by 1.\n",
    "4. Continue until all cells are visited.\n",
    "5. Return the `count` of islands.\n"
   ]
  },
  {
   "cell_type": "code",
   "execution_count": null,
   "metadata": {
    "id": "426JQMXHFdA-"
   },
   "outputs": [],
   "source": [
    "from typing import List\n",
    "\n",
    "class Solution:\n",
    "    def numIslands(self, grid: List[List[str]]) -> int:\n",
    "        if not grid:\n",
    "            return 0\n",
    "\n",
    "        def dfs(i, j):\n",
    "            if i < 0 or i >= len(grid) or j < 0 or j >= len(grid[0]) or grid[i][j] == '0':\n",
    "                return\n",
    "            grid[i][j] = '0'  # Mark current cell as visited\n",
    "            # Explore adjacent land cells\n",
    "            dfs(i + 1, j)\n",
    "            dfs(i - 1, j)\n",
    "            dfs(i, j + 1)\n",
    "            dfs(i, j - 1)\n",
    "\n",
    "        count = 0\n",
    "        for i in range(len(grid)):\n",
    "            for j in range(len(grid[0])):\n",
    "                if grid[i][j] == '1':\n",
    "                    count += 1  # Increment count for each new island\n",
    "                    dfs(i, j)   # Explore and mark all connected land cells\n",
    "        return count"
   ]
  },
  {
   "cell_type": "markdown",
   "metadata": {
    "id": "sK4mLmRGFdMX"
   },
   "source": [
    "### **Problem #8 Word Ladder**\n",
    "[Link to problem description](https://leetcode.com/problems/word-ladder/description/)"
   ]
  },
  {
   "cell_type": "markdown",
   "metadata": {
    "id": "R9vwvjW2FdMX"
   },
   "source": [
    "**Problem Statement:**\n",
    "\n",
    "Given a start word `beginWord`, an end word `endWord`, and a dictionary `wordList`, find the length of the shortest transformation sequence from `beginWord` to `endWord`, where:\n",
    "- Only one letter can be changed at a time.\n",
    "- Each transformed word must exist in the word list. Note that `beginWord` does not need to be in `wordList`.\n",
    "- Return 0 if there is no such transformation sequence.\n",
    "\n",
    "**Explanation:**\n",
    "\n",
    "The problem requires finding the shortest transformation sequence from `beginWord` to `endWord` while ensuring each intermediate word is present in the given `wordList`. This problem can be effectively solved using a breadth-first search (BFS) approach.\n",
    "\n",
    "**Steps:**\n",
    "\n",
    "1. Create a set `wordSet` from `wordList` for efficient word lookup.\n",
    "2. Check if `endWord` is not in `wordSet`. If not, return 0 as no transformation sequence is possible.\n",
    "3. Initialize a queue with `(beginWord, 1)` to store the current word and its level in the BFS traversal.\n",
    "4. Create a set `visited` to keep track of visited words and add `beginWord` to it.\n",
    "5. While the queue is not empty, pop the current word and its level.\n",
    "6. Generate all possible transformations of the current word by replacing each character with every lowercase letter from 'a' to 'z'.\n",
    "7. For each transformed word:\n",
    "   - If it exists in `wordSet` and has not been visited before, add it to the queue along with its level incremented by 1 and mark it as visited.\n",
    "   - Continue this process until `endWord` is reached or all possible transformations are exhausted.\n",
    "8. If `endWord` is reached, return its level. Otherwise, return 0 to indicate that no transformation sequence exists.\n"
   ]
  },
  {
   "cell_type": "code",
   "execution_count": null,
   "metadata": {
    "colab": {
     "base_uri": "https://localhost:8080/"
    },
    "id": "r5fY9xWOFdMX",
    "outputId": "9dc186f4-b5f6-4129-869b-1723e7a7ba97"
   },
   "outputs": [
    {
     "name": "stdout",
     "output_type": "stream",
     "text": [
      "5\n"
     ]
    }
   ],
   "source": [
    "from collections import deque\n",
    "\n",
    "class Solution:\n",
    "    def ladderLength(self, beginWord: str, endWord: str, wordList: List[str]) -> int:\n",
    "        wordSet = set(wordList)\n",
    "        if endWord not in wordSet:\n",
    "            return 0\n",
    "\n",
    "        queue = deque([(beginWord, 1)])  # Initialize queue with beginWord and its level\n",
    "        visited = set()\n",
    "        visited.add(beginWord)\n",
    "\n",
    "        while queue:\n",
    "            word, level = queue.popleft()\n",
    "            if word == endWord:\n",
    "                return level  # Return level if endWord is reached\n",
    "\n",
    "            # Generate all possible transformations of the current word\n",
    "            for i in range(len(word)):\n",
    "                for char in 'abcdefghijklmnopqrstuvwxyz':\n",
    "                    next_word = word[:i] + char + word[i+1:]\n",
    "                    if next_word in wordSet and next_word not in visited:\n",
    "                        queue.append((next_word, level + 1))\n",
    "                        visited.add(next_word)\n",
    "\n",
    "        return 0  # If no transformation sequence exists\n",
    "\n",
    "# Example usage:\n",
    "beginWord = \"hit\"\n",
    "endWord = \"cog\"\n",
    "wordList = [\"hot\", \"dot\", \"dog\", \"lot\", \"log\", \"cog\"]\n",
    "sol = Solution()\n",
    "print(sol.ladderLength(beginWord, endWord, wordList))  # Output: 5\n"
   ]
  },
  {
   "cell_type": "markdown",
   "metadata": {
    "id": "_TVlM8iIFdZX"
   },
   "source": [
    "### **Problem #9 Shortest Path in Binary Matrix**\n",
    "[Link to problem description](https://leetcode.com/problems/shortest-path-in-binary-matrix/description/)"
   ]
  },
  {
   "cell_type": "markdown",
   "metadata": {
    "id": "1eXC87yyFdZY"
   },
   "source": [
    "**Problem Statement:**\n",
    "\n",
    "Given an `n x n` binary matrix `grid`, find the length of the shortest clear path from the top-left cell `(0, 0)` to the bottom-right cell `(n - 1, n - 1)`. A clear path is defined as a path where:\n",
    "- All visited cells are `0`.\n",
    "- All adjacent cells of the path are 8-directionally connected (i.e., they are different and share an edge or a corner).\n",
    "\n",
    "Return `-1` if there is no clear path.\n",
    "\n",
    "**Explanation:**\n",
    "\n",
    "To solve this problem, we can use BFS traversal starting from the top-left cell `(0, 0)` and continue until we reach the bottom-right cell `(n - 1, n - 1)` or exhaust all possible paths. During the traversal, we keep track of the length of the clear path. We mark visited cells as `1` to avoid revisiting them.\n",
    "\n",
    "**Steps:**\n",
    "\n",
    "1. Check if the top-left and bottom-right cells are obstacles (`1`). If so, return `-1` as there is no clear path.\n",
    "2. Initialize a queue with the top-left cell `(0, 0)` and its distance as `1`.\n",
    "3. Create a set `visited` to keep track of visited cells and mark `(0, 0)` as visited.\n",
    "4. While the queue is not empty, pop the current cell and its distance.\n",
    "5. If the current cell is the bottom-right cell, return its distance as the length of the clear path.\n",
    "6. Generate all possible 8-directional neighbors of the current cell:\n",
    "   - If the neighbor is within the grid bounds and is not an obstacle (`1`), add it to the queue with its distance incremented by 1 and mark it as visited.\n",
    "7. If the queue is exhausted and the bottom-right cell is not reached, return `-1` as no clear path exists.\n"
   ]
  },
  {
   "cell_type": "code",
   "execution_count": null,
   "metadata": {
    "colab": {
     "base_uri": "https://localhost:8080/"
    },
    "id": "vYqpdiTkFdZY",
    "outputId": "fe98536b-56d3-4674-f8da-3b53ffdbd515"
   },
   "outputs": [
    {
     "name": "stdout",
     "output_type": "stream",
     "text": [
      "2\n",
      "4\n",
      "-1\n"
     ]
    }
   ],
   "source": [
    "from collections import deque\n",
    "\n",
    "class Solution:\n",
    "    def shortestPathBinaryMatrix(self, grid: List[List[int]]) -> int:\n",
    "        if grid[0][0] == 1 or grid[-1][-1] == 1:\n",
    "            return -1\n",
    "\n",
    "        n = len(grid)\n",
    "        queue = deque([(0, 0, 1)])  # Initialize queue with (row, col, distance)\n",
    "        visited = set([(0, 0)])  # Mark top-left cell as visited\n",
    "\n",
    "        while queue:\n",
    "            row, col, dist = queue.popleft()\n",
    "            if (row, col) == (n - 1, n - 1):\n",
    "                return dist\n",
    "\n",
    "            for dr in [-1, 0, 1]:\n",
    "                for dc in [-1, 0, 1]:\n",
    "                    if dr == 0 and dc == 0:\n",
    "                        continue\n",
    "                    nr, nc = row + dr, col + dc\n",
    "                    if 0 <= nr < n and 0 <= nc < n and grid[nr][nc] == 0 and (nr, nc) not in visited:\n",
    "                        queue.append((nr, nc, dist + 1))\n",
    "                        visited.add((nr, nc))\n",
    "\n",
    "        return -1\n",
    "\n",
    "# Example usage:\n",
    "grid1 = [[0, 1], [1, 0]]\n",
    "grid2 = [[0, 0, 0], [1, 1, 0], [1, 1, 0]]\n",
    "grid3 = [[1, 0, 0], [1, 1, 0], [1, 1, 0]]\n",
    "\n",
    "sol = Solution()\n",
    "print(sol.shortestPathBinaryMatrix(grid1))  # Output: 2\n",
    "print(sol.shortestPathBinaryMatrix(grid2))  # Output: 4\n",
    "print(sol.shortestPathBinaryMatrix(grid3))  # Output: -1"
   ]
  },
  {
   "cell_type": "markdown",
   "metadata": {
    "id": "FF87q1nyFdkS"
   },
   "source": [
    "### **Problem #10 Word Search**\n",
    "[Link to problem description](https://leetcode.com/problems/word-search/description/)"
   ]
  },
  {
   "cell_type": "markdown",
   "metadata": {
    "id": "Jk5esyCBFdkS"
   },
   "source": [
    "**Problem Statement:**\n",
    "\n",
    "Given an `m x n` grid of characters `board` and a string `word`, return true if `word` exists in the grid. The word can be constructed from letters of sequentially adjacent cells, where adjacent cells are horizontally or vertically neighboring. The same letter cell may not be used more than once.\n",
    "\n",
    "**Explanation:**\n",
    "\n",
    "To solve this problem, we can perform a DFS (Depth-First Search) traversal starting from each cell in the grid and check if we can construct the given word. We'll keep track of the visited cells to ensure that we don't revisit the same cell in the same word traversal.\n",
    "\n",
    "**Steps:**\n",
    "\n",
    "1. Iterate through each cell in the grid:\n",
    "   - If the current cell matches the first character of the word, perform DFS to check if the word can be formed starting from this cell.\n",
    "2. In the DFS traversal, at each step:\n",
    "   - Check if the current cell matches the corresponding character in the word.\n",
    "   - If it matches, mark the cell as visited and recursively explore its neighboring cells.\n",
    "   - If we reach the end of the word, return True.\n",
    "3. Return False if no matching word is found starting from any cell in the grid."
   ]
  },
  {
   "cell_type": "code",
   "execution_count": null,
   "metadata": {
    "colab": {
     "base_uri": "https://localhost:8080/"
    },
    "id": "4uVwYIfTFdkT",
    "outputId": "5dfa4e27-ce04-4669-e648-3554ce3e7ec1"
   },
   "outputs": [
    {
     "name": "stdout",
     "output_type": "stream",
     "text": [
      "True\n",
      "True\n",
      "False\n"
     ]
    }
   ],
   "source": [
    "class Solution:\n",
    "    def exist(self, board: List[List[str]], word: str) -> bool:\n",
    "        if not board:\n",
    "            return False\n",
    "\n",
    "        m, n = len(board), len(board[0])\n",
    "\n",
    "        def dfs(row, col, idx):\n",
    "            if idx == len(word):\n",
    "                return True\n",
    "\n",
    "            if row < 0 or row >= m or col < 0 or col >= n or board[row][col] != word[idx]:\n",
    "                return False\n",
    "\n",
    "            temp = board[row][col]\n",
    "            board[row][col] = '#'\n",
    "            directions = [(0, 1), (0, -1), (1, 0), (-1, 0)]\n",
    "            for dr, dc in directions:\n",
    "                if dfs(row + dr, col + dc, idx + 1):\n",
    "                    return True\n",
    "            board[row][col] = temp\n",
    "            return False\n",
    "\n",
    "        for i in range(m):\n",
    "            for j in range(n):\n",
    "                if dfs(i, j, 0):\n",
    "                    return True\n",
    "        return False\n",
    "\n",
    "# Example usage:\n",
    "board1 = [[\"A\",\"B\",\"C\",\"E\"],[\"S\",\"F\",\"C\",\"S\"],[\"A\",\"D\",\"E\",\"E\"]]\n",
    "board2 = [[\"A\",\"B\",\"C\",\"E\"],[\"S\",\"F\",\"C\",\"S\"],[\"A\",\"D\",\"E\",\"E\"]]\n",
    "board3 = [[\"A\",\"B\",\"C\",\"E\"],[\"S\",\"F\",\"C\",\"S\"],[\"A\",\"D\",\"E\",\"E\"]]\n",
    "word1 = \"ABCCED\"\n",
    "word2 = \"SEE\"\n",
    "word3 = \"ABCB\"\n",
    "\n",
    "sol = Solution()\n",
    "print(sol.exist(board1, word1))  # Output: True\n",
    "print(sol.exist(board2, word2))  # Output: True\n",
    "print(sol.exist(board3, word3))  # Output: False\n"
   ]
  },
  {
   "cell_type": "markdown",
   "metadata": {
    "id": "VarT4p30FduV"
   },
   "source": [
    "### **Problem #11 Symmetric Tree**\n",
    "[Link to problem description](https://leetcode.com/problems/symmetric-tree/description/)"
   ]
  },
  {
   "cell_type": "markdown",
   "metadata": {
    "id": "oBAqMnr0FduV"
   },
   "source": [
    "**Problem Statement:**\n",
    "\n",
    "Given the root of a binary tree, check whether it is a mirror of itself (i.e., symmetric around its center).\n",
    "\n",
    "**Explanation:**\n",
    "\n",
    "To solve this problem, we can use a recursive approach. Two trees are symmetric if:\n",
    "1. Their roots have the same value.\n",
    "2. The right subtree of the left tree is a mirror reflection of the left subtree of the right tree, and vice versa.\n",
    "\n",
    "**Steps:**\n",
    "\n",
    "1. Define a recursive helper function `isMirror` that takes two nodes as arguments and checks if they are symmetric.\n",
    "2. Base cases:\n",
    "   - If both nodes are null, return True (symmetric).\n",
    "   - If one node is null and the other is not, return False (not symmetric).\n",
    "   - If the values of the nodes are not equal, return False (not symmetric).\n",
    "3. Recursively check if the left subtree of one node is a mirror reflection of the right subtree of the other node, and vice versa.\n",
    "4. Return the result of the recursive checks."
   ]
  },
  {
   "cell_type": "code",
   "execution_count": null,
   "metadata": {
    "colab": {
     "base_uri": "https://localhost:8080/"
    },
    "id": "2TRKZqgSFduV",
    "outputId": "3119713b-d8b9-49b5-c261-2b0739e1fd47"
   },
   "outputs": [
    {
     "name": "stdout",
     "output_type": "stream",
     "text": [
      "True\n",
      "False\n"
     ]
    }
   ],
   "source": [
    "class TreeNode:\n",
    "    def __init__(self, val=0, left=None, right=None):\n",
    "        self.val = val\n",
    "        self.left = left\n",
    "        self.right = right\n",
    "\n",
    "class Solution:\n",
    "    def isSymmetric(self, root: TreeNode) -> bool:\n",
    "        def isMirror(node1, node2):\n",
    "            if not node1 and not node2:\n",
    "                return True\n",
    "            if not node1 or not node2:\n",
    "                return False\n",
    "            return (node1.val == node2.val) and \\\n",
    "                   isMirror(node1.left, node2.right) and \\\n",
    "                   isMirror(node1.right, node2.left)\n",
    "\n",
    "        return isMirror(root, root)\n",
    "\n",
    "# Example usage:\n",
    "root1 = TreeNode(1)\n",
    "root1.left = TreeNode(2, TreeNode(3), TreeNode(4))\n",
    "root1.right = TreeNode(2, TreeNode(4), TreeNode(3))\n",
    "\n",
    "root2 = TreeNode(1)\n",
    "root2.left = TreeNode(2, None, TreeNode(3))\n",
    "root2.right = TreeNode(2, None, TreeNode(3))\n",
    "\n",
    "sol = Solution()\n",
    "print(sol.isSymmetric(root1))  # Output: True\n",
    "print(sol.isSymmetric(root2))  # Output: False"
   ]
  },
  {
   "cell_type": "markdown",
   "metadata": {
    "id": "UMYSaTL6Fd4y"
   },
   "source": [
    "### **Problem #12 Path Sum**\n",
    "[Link to problem description](https://leetcode.com/problems/path-sum/description/)"
   ]
  },
  {
   "cell_type": "markdown",
   "metadata": {
    "id": "gsfjQl_OFd4z"
   },
   "source": [
    "**Problem Statement:**\n",
    "\n",
    "You are given the root of a binary tree and an integer `targetSum`. Your task is to determine whether the tree has a root-to-leaf path such that adding up all the values along the path equals `targetSum`.\n",
    "\n",
    "A leaf is a node with no children.\n",
    "\n",
    "**Examples:**\n",
    "\n",
    "Example 1:\n",
    "```\n",
    "Input:\n",
    "       5\n",
    "      / \\\n",
    "     4   8\n",
    "    /   / \\\n",
    "   11  13  4\n",
    "  /  \\      \\\n",
    " 7    2      1\n",
    "targetSum = 22\n",
    "\n",
    "Output: true\n",
    "\n",
    "Explanation: The root-to-leaf path with the target sum is [5, 4, 11, 2], which sums up to 22.\n",
    "```\n",
    "\n",
    "Example 2:\n",
    "```\n",
    "Input:\n",
    "    1\n",
    "   / \\\n",
    "  2   3\n",
    "targetSum = 5\n",
    "\n",
    "Output: false\n",
    "\n",
    "Explanation: There are two root-to-leaf paths: [1, 2] (sums up to 3) and [1, 3] (sums up to 4). None of them equals the targetSum 5.\n",
    "```\n",
    "\n",
    "Example 3:\n",
    "```\n",
    "Input:\n",
    "    []\n",
    "targetSum = 0\n",
    "\n",
    "Output: false\n",
    "\n",
    "Explanation: Since the tree is empty, there are no root-to-leaf paths, so the output is false.\n",
    "```\n",
    "\n",
    "**Constraints:**\n",
    "\n",
    "- The number of nodes in the tree is in the range [0, 5000].\n",
    "- Each node's value is in the range [-1000, 1000].\n",
    "- The `targetSum` is in the range [-1000, 1000]."
   ]
  },
  {
   "cell_type": "code",
   "execution_count": null,
   "metadata": {
    "id": "XtbFhMkuFd4z"
   },
   "outputs": [],
   "source": [
    "class Solution:\n",
    "    def hasPathSum(self, root, targetSum):\n",
    "        if not root:\n",
    "            return False\n",
    "        # Check if it's a leaf node\n",
    "        if not root.left and not root.right:\n",
    "            return targetSum == root.val\n",
    "        # Recursively check left and right subtrees\n",
    "        return self.hasPathSum(root.left, targetSum - root.val) or self.hasPathSum(root.right, targetSum - root.val)"
   ]
  },
  {
   "cell_type": "markdown",
   "metadata": {
    "id": "kZM1AgkkFeDr"
   },
   "source": [
    "### **Problem #13 Binary Tree Level Order Traversal**\n",
    "[Link to problem description](https://leetcode.com/problems/binary-tree-level-order-traversal/description/)"
   ]
  },
  {
   "cell_type": "markdown",
   "metadata": {
    "id": "_CatBxbDFeDs"
   },
   "source": [
    "**Problem Statement:**\n",
    "\n",
    "Given the root of a binary tree, return the level order traversal of its nodes' values, from left to right, level by level.\n",
    "\n",
    "**Explanation:**\n",
    "\n",
    "The level order traversal of a binary tree involves visiting all the nodes at each level, starting from the root and moving down level by level.\n",
    "\n",
    "**Steps:**\n",
    "\n",
    "1. Initialize an empty list to store the level order traversal result.\n",
    "2. Initialize a queue data structure to perform level-order traversal. Start by enqueueing the root node.\n",
    "3. While the queue is not empty, perform the following steps:\n",
    "   - Dequeue the current node from the queue.\n",
    "   - Add the value of the current node to the level's list.\n",
    "   - Enqueue the left child (if it exists).\n",
    "   - Enqueue the right child (if it exists).\n",
    "4. After processing all nodes at the current level, add the list containing the level's values to the result list.\n",
    "5. Repeat steps 3-4 until all levels have been traversed.\n",
    "6. Return the resulting list containing the level order traversal of the binary tree.\n",
    "\n",
    "**Example:**\n",
    "\n",
    "Consider the following binary tree:\n",
    "\n",
    "```\n",
    "     3\n",
    "    / \\\n",
    "   9  20\n",
    "     /  \\\n",
    "    15   7\n",
    "```\n",
    "\n",
    "The level order traversal of this tree would be `[[3], [9, 20], [15, 7]]`."
   ]
  },
  {
   "cell_type": "code",
   "execution_count": null,
   "metadata": {
    "id": "xq9j6XPYFeDs"
   },
   "outputs": [],
   "source": [
    "from collections import deque\n",
    "\n",
    "class Solution:\n",
    "    def levelOrder(self, root):\n",
    "        if not root:\n",
    "            return []\n",
    "\n",
    "        result = []\n",
    "        queue = deque([root])\n",
    "\n",
    "        while queue:\n",
    "            level_size = len(queue)\n",
    "            current_level = []\n",
    "\n",
    "            for _ in range(level_size):\n",
    "                node = queue.popleft()\n",
    "                current_level.append(node.val)\n",
    "\n",
    "                if node.left:\n",
    "                    queue.append(node.left)\n",
    "                if node.right:\n",
    "                    queue.append(node.right)\n",
    "\n",
    "            result.append(current_level)\n",
    "\n",
    "        return result"
   ]
  },
  {
   "cell_type": "markdown",
   "metadata": {
    "id": "vChmydOeFeRD"
   },
   "source": [
    "### **Problem #14 Pacific Atlantic Water Flow**\n",
    "[Link to problem description](https://leetcode.com/problems/pacific-atlantic-water-flow/description/)"
   ]
  },
  {
   "cell_type": "markdown",
   "metadata": {
    "id": "_QkswpncFeRE"
   },
   "source": [
    "**Problem Statement:**\n",
    "\n",
    "Given an \\( m \\times n \\) rectangular island that borders both the Pacific Ocean and Atlantic Ocean, represented by an integer matrix `heights` where `heights[r][c]` represents the height above sea level of the cell at coordinate \\((r, c)\\), return a 2D list of grid coordinates where rain water can flow from a cell to both the Pacific and Atlantic oceans.\n",
    "\n",
    "**Explanation:**\n",
    "\n",
    "The island is partitioned into a grid of square cells. Water can flow from any cell adjacent to an ocean into the ocean. Rain water can flow to neighboring cells directly north, south, east, and west if the neighboring cell's height is less than or equal to the current cell's height.\n",
    "\n",
    "**Steps:**\n",
    "\n",
    "1. Initialize two sets to store the coordinates of cells reachable from the Pacific Ocean and the Atlantic Ocean respectively.\n",
    "2. Perform depth-first search (DFS) from each cell bordering the Pacific Ocean and the Atlantic Ocean, marking all reachable cells.\n",
    "3. Iterate through all cells in the matrix and add the coordinates of cells that are reachable from both oceans to the result list.\n",
    "4. Return the result list.\n",
    "\n",
    "**Example:**\n",
    "\n",
    "Consider the following matrix `heights`:\n",
    "\n",
    "```\n",
    "[[1,2,2,3,5],\n",
    " [3,2,3,4,4],\n",
    " [2,4,5,3,1],\n",
    " [6,7,1,4,5],\n",
    " [5,1,1,2,4]]\n",
    "```\n",
    "\n",
    "The output should be `[[0,4],[1,3],[1,4],[2,2],[3,0],[3,1],[4,0]]`."
   ]
  },
  {
   "cell_type": "code",
   "execution_count": null,
   "metadata": {
    "id": "OPS2GOhEFeRE"
   },
   "outputs": [],
   "source": [
    "class Solution:\n",
    "    def pacificAtlantic(self, heights: List[List[int]]) -> List[List[int]]:\n",
    "        if not heights:\n",
    "            return []\n",
    "\n",
    "        m, n = len(heights), len(heights[0])\n",
    "        pacific = set()\n",
    "        atlantic = set()\n",
    "\n",
    "        def dfs(r, c, ocean):\n",
    "            if (r, c) in ocean:\n",
    "                return\n",
    "            ocean.add((r, c))\n",
    "\n",
    "            for dr, dc in [(0, 1), (0, -1), (1, 0), (-1, 0)]:\n",
    "                nr, nc = r + dr, c + dc\n",
    "                if 0 <= nr < m and 0 <= nc < n and heights[nr][nc] >= heights[r][c]:\n",
    "                    dfs(nr, nc, ocean)\n",
    "\n",
    "        for i in range(m):\n",
    "            dfs(i, 0, pacific)\n",
    "            dfs(i, n - 1, atlantic)\n",
    "\n",
    "        for j in range(n):\n",
    "            dfs(0, j, pacific)\n",
    "            dfs(m - 1, j, atlantic)\n",
    "\n",
    "        return list(pacific.intersection(atlantic))"
   ]
  },
  {
   "cell_type": "markdown",
   "metadata": {
    "id": "vPQ8RdpAFecY"
   },
   "source": [
    "### **Problem #15 Course Schedule**\n",
    "[Link to problem description](https://leetcode.com/problems/course-schedule/description/)"
   ]
  },
  {
   "cell_type": "markdown",
   "metadata": {
    "id": "eUrA8NOVFecY"
   },
   "source": [
    "**Problem Statement:**\n",
    "\n",
    "You are given a total of `numCourses` courses labeled from 0 to `numCourses - 1`. The array `prerequisites` indicates that you must take course `bi` first if you want to take course `ai`. Return true if you can finish all courses. Otherwise, return false.\n",
    "\n",
    "**Explanation:**\n",
    "\n",
    "For each course, check if its prerequisites can be satisfied. If a course has no prerequisites or all its prerequisites can be satisfied, then it can be taken. If there is a cycle in the prerequisites, then it is impossible to finish all courses.\n",
    "\n",
    "**Steps:**\n",
    "\n",
    "1. Create an adjacency list representing the prerequisites for each course.\n",
    "2. Perform depth-first search (DFS) on each course to detect cycles.\n",
    "3. Return true if there are no cycles, otherwise return false.\n",
    "\n",
    "**Example:**\n",
    "\n",
    "Consider the following input:\n",
    "\n",
    "```\n",
    "numCourses = 2\n",
    "prerequisites = [[1,0],[0,1]]\n",
    "```\n",
    "\n",
    "The output should be `false` because there is a cycle in the prerequisites.\n"
   ]
  },
  {
   "cell_type": "code",
   "execution_count": null,
   "metadata": {
    "id": "loYhYSf3FecZ"
   },
   "outputs": [],
   "source": [
    "class Solution:\n",
    "    def canFinish(self, numCourses: int, prerequisites: List[List[int]]) -> bool:\n",
    "        graph = [[] for _ in range(numCourses)]\n",
    "        visited = [0] * numCourses  # 0: not visited, 1: visiting, 2: visited\n",
    "\n",
    "        for course, prereq in prerequisites:\n",
    "            graph[course].append(prereq)\n",
    "\n",
    "        def hasCycle(course):\n",
    "            if visited[course] == 1:\n",
    "                return True\n",
    "            if visited[course] == 2:\n",
    "                return False\n",
    "\n",
    "            visited[course] = 1\n",
    "            for prereq in graph[course]:\n",
    "                if hasCycle(prereq):\n",
    "                    return True\n",
    "            visited[course] = 2\n",
    "            return False\n",
    "\n",
    "        for course in range(numCourses):\n",
    "            if hasCycle(course):\n",
    "                return False\n",
    "        return True"
   ]
  },
  {
   "cell_type": "markdown",
   "metadata": {
    "id": "vKkfBacRFemV"
   },
   "source": [
    "### **Problem #16 Network Delay Time**\n",
    "[Link to problem description](https://leetcode.com/problems/network-delay-time/description/)"
   ]
  },
  {
   "cell_type": "markdown",
   "metadata": {
    "id": "hq7IL7cWFemV"
   },
   "source": [
    "**Problem Statement:**\n",
    "\n",
    "You are given a network of `n` nodes labeled from 1 to `n`. The list `times` contains travel times as directed edges, where each tuple `times[i] = (ui, vi, wi)` represents a directed edge from node `ui` to node `vi` with a travel time of `wi`. We will send a signal from a given node `k`. Return the minimum time it takes for all the `n` nodes to receive the signal. If it is impossible for all the `n` nodes to receive the signal, return -1.\n",
    "\n",
    "**Explanation:**\n",
    "\n",
    "This problem can be solved using Dijkstra's algorithm to find the shortest path from the source node `k` to all other nodes. After finding the shortest paths, the maximum travel time among all paths is the minimum time it takes for all nodes to receive the signal.\n",
    "\n",
    "**Steps:**\n",
    "\n",
    "1. Create an adjacency list to represent the graph.\n",
    "2. Initialize a distance array with infinity for all nodes except the source node `k`.\n",
    "3. Use Dijkstra's algorithm to find the shortest paths from `k` to all other nodes.\n",
    "4. After finding the shortest paths, return the maximum travel time among all paths.\n",
    "\n",
    "**Example:**\n",
    "\n",
    "Consider the following input:\n",
    "\n",
    "```\n",
    "times = [[2,1,1],[2,3,1],[3,4,1]]\n",
    "n = 4\n",
    "k = 2\n",
    "```\n",
    "\n",
    "The output should be `2` because the signal travels from node 2 to node 1 with a time of 1 unit, then from node 1 to node 4 with a time of 1 unit. So, the total time taken is 2 units."
   ]
  },
  {
   "cell_type": "code",
   "execution_count": null,
   "metadata": {
    "id": "JDOtTSAHFemW"
   },
   "outputs": [],
   "source": [
    "import heapq\n",
    "\n",
    "class Solution:\n",
    "    def networkDelayTime(self, times: List[List[int]], n: int, k: int) -> int:\n",
    "        graph = collections.defaultdict(list)\n",
    "        for u, v, w in times:\n",
    "            graph[u].append((v, w))\n",
    "\n",
    "        dist = {node: float('inf') for node in range(1, n + 1)}\n",
    "        dist[k] = 0\n",
    "\n",
    "        pq = [(0, k)]\n",
    "        while pq:\n",
    "            d, node = heapq.heappop(pq)\n",
    "            if d > dist[node]:\n",
    "                continue\n",
    "            for nei, weight in graph[node]:\n",
    "                if (nd := d + weight) < dist[nei]:\n",
    "                    dist[nei] = nd\n",
    "                    heapq.heappush(pq, (nd, nei))\n",
    "\n",
    "        max_time = max(dist.values())\n",
    "        return max_time if max_time < float('inf') else -1"
   ]
  },
  {
   "cell_type": "markdown",
   "metadata": {
    "id": "lyTBH2xLFewi"
   },
   "source": [
    "### **Problem #17 Same Tree**\n",
    "[Link to problem description](https://leetcode.com/problems/same-tree/description/)"
   ]
  },
  {
   "cell_type": "markdown",
   "metadata": {
    "id": "WYW4OjEoFewi"
   },
   "source": [
    "**Problem Statement:**\n",
    "\n",
    "Given the roots of two binary trees `p` and `q`, we need to check if they are the same or not. Two binary trees are considered the same if they are structurally identical, and the nodes have the same value.\n",
    "\n",
    "**Explanation:**\n",
    "\n",
    "To solve this problem, we can perform a recursive traversal of both trees simultaneously. At each step, we check if the current nodes of both trees are equal in value. If they are, we recursively check their left and right subtrees. If both trees are structurally identical and their corresponding nodes have the same value, the function will return true; otherwise, it will return false.\n",
    "\n",
    "**Steps:**\n",
    "\n",
    "1. If both trees are empty, return true.\n",
    "2. If one of the trees is empty and the other is not, return false.\n",
    "3. If the values of the current nodes of both trees are not equal, return false.\n",
    "4. Recursively check if the left and right subtrees of both trees are the same.\n",
    "\n",
    "**Example:**\n",
    "\n",
    "Consider the following input:\n",
    "\n",
    "```\n",
    "p = [1,2,3]\n",
    "q = [1,2,3]\n",
    "```\n",
    "\n",
    "The output should be `true` because both trees have the same structure and values."
   ]
  },
  {
   "cell_type": "code",
   "execution_count": null,
   "metadata": {
    "id": "_kgIxQw7Fewj"
   },
   "outputs": [],
   "source": [
    "class Solution:\n",
    "    def isSameTree(self, p: TreeNode, q: TreeNode) -> bool:\n",
    "        if not p and not q:\n",
    "            return True\n",
    "        if not p or not q:\n",
    "            return False\n",
    "        if p.val != q.val:\n",
    "            return False\n",
    "        return self.isSameTree(p.left, q.left) and self.isSameTree(p.right, q.right)"
   ]
  },
  {
   "cell_type": "markdown",
   "metadata": {
    "id": "kIzAfEAmFe6P"
   },
   "source": [
    "### **Problem #18 Maximum Depth of Binary Tree**\n",
    "[Link to problem description](https://leetcode.com/problems/maximum-depth-of-binary-tree/description/)"
   ]
  },
  {
   "cell_type": "markdown",
   "metadata": {
    "id": "Ka9vjSnfFe6P"
   },
   "source": [
    "**Problem Statement:**\n",
    "\n",
    "Given the root of a binary tree, we need to return its maximum depth. The maximum depth of a binary tree is the number of nodes along the longest path from the root node down to the farthest leaf node.\n",
    "\n",
    "**Explanation:**\n",
    "\n",
    "To find the maximum depth of a binary tree, we can perform a recursive depth-first search (DFS) traversal of the tree. At each step, we calculate the depth of the left and right subtrees, and return the maximum depth among them. We add 1 to account for the current node being included in the path.\n",
    "\n",
    "**Steps:**\n",
    "\n",
    "1. If the root is None (i.e., the tree is empty), return 0.\n",
    "2. Recursively calculate the maximum depth of the left and right subtrees.\n",
    "3. Return the maximum depth among the left and right subtrees, plus 1 for the current node.\n",
    "\n",
    "**Example:**\n",
    "\n",
    "Consider the following input:\n",
    "\n",
    "```\n",
    "root = [3,9,20,null,null,15,7]\n",
    "```\n",
    "\n",
    "The output should be `3` because the maximum depth of the given binary tree is `3`."
   ]
  },
  {
   "cell_type": "code",
   "execution_count": null,
   "metadata": {
    "colab": {
     "base_uri": "https://localhost:8080/"
    },
    "id": "q0eQFmB5Fe6Q",
    "outputId": "97323b3c-a58d-45d6-b2d7-306c2949fe3b"
   },
   "outputs": [
    {
     "name": "stdout",
     "output_type": "stream",
     "text": [
      "Maximum depth of the binary tree: 3\n"
     ]
    }
   ],
   "source": [
    "class TreeNode:\n",
    "    def __init__(self, val=0, left=None, right=None):\n",
    "        self.val = val\n",
    "        self.left = left\n",
    "        self.right = right\n",
    "\n",
    "class Solution:\n",
    "    def maxDepth(self, root: TreeNode) -> int:\n",
    "        if not root:\n",
    "            return 0\n",
    "        left_depth = self.maxDepth(root.left)\n",
    "        right_depth = self.maxDepth(root.right)\n",
    "        return max(left_depth, right_depth) + 1\n",
    "\n",
    "# Example usage:\n",
    "# Create the binary tree: [3,9,20,null,null,15,7]\n",
    "root = TreeNode(3)\n",
    "root.left = TreeNode(9)\n",
    "root.right = TreeNode(20)\n",
    "root.right.left = TreeNode(15)\n",
    "root.right.right = TreeNode(7)\n",
    "\n",
    "# Create an instance of the Solution class\n",
    "solution = Solution()\n",
    "\n",
    "# Find the maximum depth of the binary tree\n",
    "max_depth = solution.maxDepth(root)\n",
    "\n",
    "print(\"Maximum depth of the binary tree:\", max_depth)"
   ]
  },
  {
   "cell_type": "markdown",
   "metadata": {
    "id": "nQbiOoqJFfEY"
   },
   "source": [
    "### **Problem #19 Minimum Depth of Binary Tree**\n",
    "[Link to problem description](https://leetcode.com/problems/minimum-depth-of-binary-tree/description/)"
   ]
  },
  {
   "cell_type": "markdown",
   "metadata": {
    "id": "o6CuMgzRFfEZ"
   },
   "source": [
    "**Problem Statement:**\n",
    "\n",
    "Given a binary tree, find its minimum depth. The minimum depth is the number of nodes along the shortest path from the root node down to the nearest leaf node.\n",
    "\n",
    "**Explanation:**\n",
    "\n",
    "The minimum depth of a binary tree is defined as the shortest distance from the root node to the nearest leaf node. A leaf node is a node with no children.\n",
    "\n",
    "**Steps:**\n",
    "\n",
    "1. Define a TreeNode class to represent each node in the binary tree.\n",
    "2. Create a Solution class with a method `minDepth` to compute the minimum depth of the binary tree.\n",
    "3. In the `minDepth` method:\n",
    "   - If the root is None, return 0.\n",
    "   - If the root has no left or right child, return 1 (the depth is 1).\n",
    "   - Recursively calculate the minimum depth of the left and right subtrees.\n",
    "   - Return the minimum depth among the left and right subtrees plus 1.\n",
    "4. Create an instance of the Solution class.\n",
    "5. Create the binary tree as per the given input.\n",
    "6. Call the `minDepth` method with the root of the binary tree.\n",
    "7. Print the minimum depth of the binary tree.\n"
   ]
  },
  {
   "cell_type": "code",
   "execution_count": null,
   "metadata": {
    "colab": {
     "base_uri": "https://localhost:8080/"
    },
    "id": "aDDxdnXzFfEa",
    "outputId": "7a689dde-7bcc-457c-92e8-a139a47fe169"
   },
   "outputs": [
    {
     "name": "stdout",
     "output_type": "stream",
     "text": [
      "Minimum depth of the binary tree: 2\n"
     ]
    }
   ],
   "source": [
    "class TreeNode:\n",
    "    def __init__(self, val=0, left=None, right=None):\n",
    "        self.val = val\n",
    "        self.left = left\n",
    "        self.right = right\n",
    "\n",
    "class Solution:\n",
    "    def minDepth(self, root: TreeNode) -> int:\n",
    "        if not root:\n",
    "            return 0\n",
    "        if not root.left and not root.right:\n",
    "            return 1\n",
    "        if not root.left:\n",
    "            return self.minDepth(root.right) + 1\n",
    "        if not root.right:\n",
    "            return self.minDepth(root.left) + 1\n",
    "        return min(self.minDepth(root.left), self.minDepth(root.right)) + 1\n",
    "\n",
    "# Example usage:\n",
    "# Create the binary tree: [3,9,20,null,null,15,7]\n",
    "root = TreeNode(3)\n",
    "root.left = TreeNode(9)\n",
    "root.right = TreeNode(20)\n",
    "root.right.left = TreeNode(15)\n",
    "root.right.right = TreeNode(7)\n",
    "\n",
    "# Create an instance of the Solution class\n",
    "solution = Solution()\n",
    "\n",
    "# Find the minimum depth of the binary tree\n",
    "min_depth = solution.minDepth(root)\n",
    "\n",
    "print(\"Minimum depth of the binary tree:\", min_depth)\n"
   ]
  },
  {
   "cell_type": "markdown",
   "metadata": {
    "id": "EmH9bB0DFfOr"
   },
   "source": [
    "### **Problem #20 Clone Graph**\n",
    "[Link to problem description](https://leetcode.com/problems/clone-graph/description/)"
   ]
  },
  {
   "cell_type": "markdown",
   "metadata": {
    "id": "4R2CKRAjFfOs"
   },
   "source": [
    "**Problem Statement:**\n",
    "\n",
    "Given a reference of a node in a connected undirected graph, return a deep copy (clone) of the graph. Each node in the graph contains a value (int) and a list (List[Node]) of its neighbors.\n",
    "\n",
    "**Explanation:**\n",
    "\n",
    "To clone a graph, we need to create a copy of each node and its neighbors. The cloned graph should have the same structure as the original graph, with each node pointing to its respective neighbors.\n",
    "\n",
    "**Steps:**\n",
    "\n",
    "1. Define a class `Node` to represent each node in the graph.\n",
    "2. Create a function `cloneGraph` to clone the graph, which takes a reference to the first node of the original graph.\n",
    "3. Initialize a dictionary `visited` to keep track of visited nodes during the traversal.\n",
    "4. Create a helper function `dfs` to perform depth-first search (DFS) traversal of the original graph.\n",
    "5. In the `dfs` function:\n",
    "   - Create a copy of the current node if it doesn't exist in the `visited` dictionary.\n",
    "   - Iterate through the neighbors of the current node and recursively call the `dfs` function for each neighbor.\n",
    "   - Append the cloned neighbor to the list of neighbors of the cloned current node.\n",
    "6. After DFS traversal, return the cloned node corresponding to the first node of the original graph."
   ]
  },
  {
   "cell_type": "code",
   "execution_count": null,
   "metadata": {
    "colab": {
     "base_uri": "https://localhost:8080/"
    },
    "id": "9SN4Ch8GFfOs",
    "outputId": "db8cfc2c-9bf8-40f1-f29b-c69f6394ee2a"
   },
   "outputs": [
    {
     "name": "stdout",
     "output_type": "stream",
     "text": [
      "1\n",
      "1\n",
      "None\n"
     ]
    }
   ],
   "source": [
    "class Node:\n",
    "    def __init__(self, val=0, neighbors=None):\n",
    "        self.val = val\n",
    "        self.neighbors = neighbors if neighbors is not None else []\n",
    "\n",
    "def cloneGraph(node: 'Node') -> 'Node':\n",
    "    if not node:\n",
    "        return None\n",
    "\n",
    "    visited = {}\n",
    "\n",
    "    def dfs(original_node):\n",
    "        if original_node in visited:\n",
    "            return visited[original_node]\n",
    "\n",
    "        cloned_node = Node(original_node.val)\n",
    "        visited[original_node] = cloned_node\n",
    "\n",
    "        for neighbor in original_node.neighbors:\n",
    "            cloned_neighbor = dfs(neighbor)\n",
    "            cloned_node.neighbors.append(cloned_neighbor)\n",
    "\n",
    "        return cloned_node\n",
    "\n",
    "    return dfs(node)\n",
    "\n",
    "# Test cases\n",
    "# Example 1\n",
    "node1 = Node(1)\n",
    "node2 = Node(2)\n",
    "node3 = Node(3)\n",
    "node4 = Node(4)\n",
    "node1.neighbors = [node2, node4]\n",
    "node2.neighbors = [node1, node3]\n",
    "node3.neighbors = [node2, node4]\n",
    "node4.neighbors = [node1, node3]\n",
    "cloned_node1 = cloneGraph(node1)\n",
    "print(cloned_node1.val)  # Output: 1\n",
    "\n",
    "# Example 2\n",
    "node1 = Node(1)\n",
    "cloned_node1 = cloneGraph(node1)\n",
    "print(cloned_node1.val)  # Output: 1\n",
    "\n",
    "# Example 3\n",
    "cloned_node = cloneGraph(None)\n",
    "print(cloned_node)  # Output: None"
   ]
  },
  {
   "cell_type": "markdown",
   "metadata": {
    "id": "9Mj26QXiFfYG"
   },
   "source": [
    "### **Problem #21 Perfect Squares**\n",
    "[Link to problem description](https://leetcode.com/problems/perfect-squares/description/)"
   ]
  },
  {
   "cell_type": "markdown",
   "metadata": {
    "id": "_XrYXAVtFfYG"
   },
   "source": [
    "**Problem Statement:**\n",
    "\n",
    "Given an integer `n`, return the least number of perfect square numbers that sum to `n`.\n",
    "\n",
    "**Explanation:**\n",
    "\n",
    "To find the least number of perfect square numbers that sum to `n`, we can use dynamic programming. We iterate through all possible square numbers less than or equal to `n` and calculate the minimum number of perfect square numbers required to sum up to each value from 1 to `n`.\n",
    "\n",
    "**Steps:**\n",
    "\n",
    "1. Create an array `dp` of size `n + 1` to store the minimum number of perfect square numbers required to sum up to each value from 1 to `n`.\n",
    "2. Initialize `dp[0] = 0` as the minimum number of perfect square numbers required to sum up to 0 is 0.\n",
    "3. Iterate from 1 to `n` and calculate `dp[i]` as the minimum of `dp[i]` and `dp[i - j*j] + 1` for each perfect square number `j*j` less than or equal to `i`.\n",
    "4. Return `dp[n]` as the result."
   ]
  },
  {
   "cell_type": "code",
   "execution_count": null,
   "metadata": {
    "colab": {
     "base_uri": "https://localhost:8080/"
    },
    "id": "LRhSiU1JFfYG",
    "outputId": "1680be1d-2bd7-4b8d-bd4e-9c8315bbd01b"
   },
   "outputs": [
    {
     "name": "stdout",
     "output_type": "stream",
     "text": [
      "3\n",
      "2\n"
     ]
    }
   ],
   "source": [
    "def numSquares(n: int) -> int:\n",
    "    dp = [float('inf')] * (n + 1)\n",
    "    dp[0] = 0\n",
    "\n",
    "    for i in range(1, n + 1):\n",
    "        j = 1\n",
    "        while j * j <= i:\n",
    "            dp[i] = min(dp[i], dp[i - j*j] + 1)\n",
    "            j += 1\n",
    "\n",
    "    return dp[n]\n",
    "\n",
    "# Test cases\n",
    "# Example 1\n",
    "print(numSquares(12))  # Output: 3\n",
    "\n",
    "# Example 2\n",
    "print(numSquares(13))  # Output: 2\n"
   ]
  },
  {
   "cell_type": "markdown",
   "metadata": {
    "id": "RJHGCXyqFfiX"
   },
   "source": [
    "### **Problem #22 Coin Change**\n",
    "[Link to problem description](https://leetcode.com/problems/coin-change/description/)"
   ]
  },
  {
   "cell_type": "markdown",
   "metadata": {
    "id": "qUAphoX4FfiY"
   },
   "source": [
    "**Problem Statement:**\n",
    "\n",
    "You are given an integer array `coins` representing coins of different denominations and an integer `amount` representing a total amount of money. Return the fewest number of coins that you need to make up that amount. If that amount of money cannot be made up by any combination of the coins, return -1.\n",
    "\n",
    "**Explanation:**\n",
    "\n",
    "To find the fewest number of coins required to make up the amount, we can use dynamic programming. We iterate through each possible amount from 0 to `amount` and calculate the minimum number of coins required to make up that amount.\n",
    "\n",
    "**Steps:**\n",
    "\n",
    "1. Create an array `dp` of size `amount + 1` to store the minimum number of coins required to make up each amount from 0 to `amount`.\n",
    "2. Initialize `dp[0] = 0` as the minimum number of coins required to make up amount 0 is 0.\n",
    "3. Iterate through each amount from 1 to `amount`.\n",
    "4. For each amount `i`, iterate through each coin denomination `coin` in the `coins` array.\n",
    "5. Update `dp[i]` to the minimum of `dp[i]` and `dp[i - coin] + 1`.\n",
    "6. Return `dp[amount]` as the result.\n"
   ]
  },
  {
   "cell_type": "code",
   "execution_count": null,
   "metadata": {
    "colab": {
     "base_uri": "https://localhost:8080/"
    },
    "id": "zs6f89CyFfiY",
    "outputId": "a865c6b9-54ae-4dca-a4c4-23b3b0d0975c"
   },
   "outputs": [
    {
     "name": "stdout",
     "output_type": "stream",
     "text": [
      "3\n",
      "-1\n",
      "0\n"
     ]
    }
   ],
   "source": [
    "def coinChange(coins, amount):\n",
    "    dp = [float('inf')] * (amount + 1)\n",
    "    dp[0] = 0\n",
    "\n",
    "    for i in range(1, amount + 1):\n",
    "        for coin in coins:\n",
    "            if i - coin >= 0:\n",
    "                dp[i] = min(dp[i], dp[i - coin] + 1)\n",
    "\n",
    "    return dp[amount] if dp[amount] != float('inf') else -1\n",
    "\n",
    "# Test cases\n",
    "# Example 1\n",
    "print(coinChange([1,2,5], 11))  # Output: 3\n",
    "\n",
    "# Example 2\n",
    "print(coinChange([2], 3))  # Output: -1\n",
    "\n",
    "# Example 3\n",
    "print(coinChange([1], 0))  # Output: 0\n"
   ]
  },
  {
   "cell_type": "markdown",
   "metadata": {
    "id": "NseG_CB-FftE"
   },
   "source": [
    "### **Problem #23 Water and Jug Problem**\n",
    "[Link to problem description](https://leetcode.com/problems/water-and-jug-problem/description/)"
   ]
  },
  {
   "cell_type": "markdown",
   "metadata": {
    "id": "Efunz39kFftE"
   },
   "source": [
    "**Problem Statement:**\n",
    "\n",
    "You are given two jugs with capacities x liters and y liters. You have an infinite water supply. Return whether the total amount of water in both jugs may reach the target using the following operations:\n",
    "\n",
    "1. Fill either jug completely with water.\n",
    "2. Completely empty either jug.\n",
    "3. Pour water from one jug into another until the receiving jug is full, or the transferring jug is empty.\n",
    "\n",
    "**Explanation:**\n",
    "\n",
    "To determine whether it is possible to reach the target amount of water, we can use the concept of the \"Water Jug Problem\". This problem can be solved using the Extended Euclidean Algorithm, which finds integers a and b such that a*x + b*y = gcd(x, y). If the target amount is divisible by the greatest common divisor (gcd) of x and y, then it is possible to reach the target.\n",
    "\n",
    "**Steps:**\n",
    "\n",
    "1. Define a function `gcd` to find the greatest common divisor of two numbers.\n",
    "2. Use the Extended Euclidean Algorithm to find integers a and b such that a*x + b*y = gcd(x, y).\n",
    "3. Check if the target amount is divisible by gcd(x, y).\n",
    "4. If the target amount is divisible, return True; otherwise, return False."
   ]
  },
  {
   "cell_type": "code",
   "execution_count": null,
   "metadata": {
    "colab": {
     "base_uri": "https://localhost:8080/"
    },
    "id": "RN7A5vZMFftE",
    "outputId": "0890e1dd-da98-4907-9639-9f6f445f38de"
   },
   "outputs": [
    {
     "name": "stdout",
     "output_type": "stream",
     "text": [
      "True\n",
      "False\n",
      "True\n"
     ]
    }
   ],
   "source": [
    "def gcd(a, b):\n",
    "    while b != 0:\n",
    "        a, b = b, a % b\n",
    "    return a\n",
    "\n",
    "def canMeasureWater(x, y, target):\n",
    "    if x + y < target:\n",
    "        return False\n",
    "    if x == target or y == target or x + y == target:\n",
    "        return True\n",
    "    return target % gcd(x, y) == 0\n",
    "\n",
    "# Test cases\n",
    "# Example 1\n",
    "print(canMeasureWater(3, 5, 4))  # Output: True\n",
    "\n",
    "# Example 2\n",
    "print(canMeasureWater(2, 6, 5))  # Output: False\n",
    "\n",
    "# Example 3\n",
    "print(canMeasureWater(1, 2, 3))  # Output: True\n"
   ]
  },
  {
   "cell_type": "markdown",
   "metadata": {
    "id": "kK2mhM2wFf3M"
   },
   "source": [
    "### **Problem #24 Sum of Left Leaves**\n",
    "[Link to problem description](https://leetcode.com/problems/sum-of-left-leaves/description/)"
   ]
  },
  {
   "cell_type": "markdown",
   "metadata": {
    "id": "ByEdET-FFf3N"
   },
   "source": [
    "**Problem Statement:**\n",
    "\n",
    "Given the root of a binary tree, return the sum of all left leaves.\n",
    "\n",
    "A leaf is a node with no children. A left leaf is a leaf that is the left child of another node.\n",
    "\n",
    "**Explanation:**\n",
    "\n",
    "To find the sum of all left leaves, we can traverse the binary tree recursively. While traversing, we keep track of whether the current node is a left child and add its value to the sum if it is a leaf node and is on the left side of its parent.\n",
    "\n",
    "**Steps:**\n",
    "\n",
    "1. Define a recursive function `dfs` to traverse the binary tree.\n",
    "2. In the `dfs` function, recursively traverse the left and right subtrees.\n",
    "3. If the current node is a leaf node and is a left child, add its value to the sum.\n",
    "4. Return the sum at the end of the function."
   ]
  },
  {
   "cell_type": "code",
   "execution_count": null,
   "metadata": {
    "colab": {
     "base_uri": "https://localhost:8080/"
    },
    "id": "193_fltBFf3N",
    "outputId": "8cad66b0-dcbe-42de-b3d6-b88fb346ffd5"
   },
   "outputs": [
    {
     "name": "stdout",
     "output_type": "stream",
     "text": [
      "24\n",
      "0\n"
     ]
    }
   ],
   "source": [
    "class TreeNode:\n",
    "    def __init__(self, val=0, left=None, right=None):\n",
    "        self.val = val\n",
    "        self.left = left\n",
    "        self.right = right\n",
    "\n",
    "def sumOfLeftLeaves(root):\n",
    "    def dfs(node, is_left):\n",
    "        if not node:\n",
    "            return 0\n",
    "        if not node.left and not node.right and is_left:\n",
    "            return node.val\n",
    "        return dfs(node.left, True) + dfs(node.right, False)\n",
    "\n",
    "    return dfs(root, False)\n",
    "\n",
    "# Test cases\n",
    "# Example 1\n",
    "root1 = TreeNode(3)\n",
    "root1.left = TreeNode(9)\n",
    "root1.right = TreeNode(20)\n",
    "root1.right.left = TreeNode(15)\n",
    "root1.right.right = TreeNode(7)\n",
    "print(sumOfLeftLeaves(root1))  # Output: 24\n",
    "\n",
    "# Example 2\n",
    "root2 = TreeNode(1)\n",
    "print(sumOfLeftLeaves(root2))  # Output: 0\n"
   ]
  },
  {
   "cell_type": "markdown",
   "metadata": {
    "id": "1XNen-v-FgBJ"
   },
   "source": [
    "### **Problem #25 Zuma Game**\n",
    "[Link to problem description](https://leetcode.com/problems/zuma-game/description/)"
   ]
  },
  {
   "cell_type": "markdown",
   "metadata": {
    "id": "jOBEelIhFgBJ"
   },
   "source": [
    "**Problem Statement:**\n",
    "\n",
    "You are playing a variation of the game Zuma.\n",
    "\n",
    "In this variation of Zuma, there is a single row of colored balls on a board, where each ball can be colored red 'R', yellow 'Y', blue 'B', green 'G', or white 'W'. You also have several colored balls in your hand.\n",
    "\n",
    "Your goal is to clear all of the balls from the board. On each turn:\n",
    "\n",
    "1. Pick any ball from your hand and insert it in between two balls in the row or on either end of the row.\n",
    "2. If there is a group of three or more consecutive balls of the same color, remove the group of balls from the board.\n",
    "3. If this removal causes more groups of three or more of the same color to form, then continue removing each group until there are none left.\n",
    "4. If there are no more balls on the board, then you win the game.\n",
    "5. Repeat this process until you either win or do not have any more balls in your hand.\n",
    "\n",
    "Given a string `board`, representing the row of balls on the board, and a string `hand`, representing the balls in your hand, return the minimum number of balls you have to insert to clear all the balls from the board. If you cannot clear all the balls from the board using the balls in your hand, return -1.\n",
    "\n",
    "**Example 1:**\n",
    "```\n",
    "Input: board = \"WRRBBW\", hand = \"RB\"\n",
    "Output: -1\n",
    "Explanation: It is impossible to clear all the balls. The best you can do is:\n",
    "- Insert 'R' so the board becomes WRRRBBW. WRRRBBW -> WBBW.\n",
    "- Insert 'B' so the board becomes WBBBW. WBBBW -> WW.\n",
    "There are still balls remaining on the board, and you are out of balls to insert.\n",
    "```\n",
    "\n",
    "**Example 2:**\n",
    "```\n",
    "Input: board = \"WWRRBBWW\", hand = \"WRBRW\"\n",
    "Output: 2\n",
    "Explanation: To make the board empty:\n",
    "- Insert 'R' so the board becomes WWRRRBBWW. WWRRRBBWW -> WWBBWW.\n",
    "- Insert 'B' so the board becomes WWBBBWW. WWBBBWW -> WWWW -> empty.\n",
    "2 balls from your hand were needed to clear the board.\n",
    "```\n",
    "\n",
    "**Example 3:**\n",
    "```\n",
    "Input: board = \"G\", hand = \"GGGGG\"\n",
    "Output: 2\n",
    "Explanation: To make the board empty:\n",
    "- Insert 'G' so the board becomes GG.\n",
    "- Insert 'G' so the board becomes GGG. GGG -> empty.\n",
    "2 balls from your hand were needed to clear the board.\n",
    "```\n",
    "\n",
    "**Constraints:**\n",
    "\n",
    "- 1 <= board.length <= 16\n",
    "- 1 <= hand.length <= 5\n",
    "- `board` and `hand` consist of the characters 'R', 'Y', 'B', 'G', and 'W'.\n",
    "- The initial row of balls on the board will not have any groups of three or more consecutive balls of the same color.\n",
    "\n",
    "Now, let's proceed with the code implementation."
   ]
  },
  {
   "cell_type": "code",
   "execution_count": null,
   "metadata": {
    "colab": {
     "base_uri": "https://localhost:8080/"
    },
    "id": "DJzihQlUFgBJ",
    "outputId": "63613af6-d540-4298-e34b-89e7a68f2cbd"
   },
   "outputs": [
    {
     "name": "stdout",
     "output_type": "stream",
     "text": [
      "-1\n",
      "2\n",
      "2\n"
     ]
    }
   ],
   "source": [
    "from collections import Counter\n",
    "\n",
    "def findMinStep(board, hand):\n",
    "    def dfs(board, hand):\n",
    "        if not board:\n",
    "            return 0\n",
    "        if not hand:\n",
    "            return float('inf')\n",
    "        res = float('inf')\n",
    "        i = 0\n",
    "        while i < len(board):\n",
    "            j = i\n",
    "            while j < len(board) and board[j] == board[i]:\n",
    "                j += 1\n",
    "            length = j - i\n",
    "            need = 3 - length\n",
    "            if hand[board[i]] >= need:\n",
    "                use = max(0, need)\n",
    "                hand[board[i]] -= use\n",
    "                new_board = removeConsecutive(board[:i] + board[j:])\n",
    "                res = min(res, use + dfs(new_board, hand))\n",
    "                hand[board[i]] += use\n",
    "            i = j\n",
    "        return res\n",
    "\n",
    "    def removeConsecutive(board):\n",
    "        i = 0\n",
    "        while i < len(board):\n",
    "            j = i\n",
    "            while j < len(board) and board[j] == board[i]:\n",
    "                j += 1\n",
    "            if j - i >= 3:\n",
    "                return removeConsecutive(board[:i] + board[j:])\n",
    "            i = j\n",
    "        return board\n",
    "\n",
    "    board = removeConsecutive(board)\n",
    "    hand = Counter(hand)\n",
    "    ans = dfs(board, hand)\n",
    "    return ans if ans != float('inf') else -1\n",
    "\n",
    "# Test cases\n",
    "# Example 1\n",
    "board1 = \"WRRBBW\"\n",
    "hand1 = \"RB\"\n",
    "print(findMinStep(board1, hand1))  # Output: -1\n",
    "\n",
    "# Example 2\n",
    "board2 = \"WWRRBBWW\"\n",
    "hand2 = \"WRBRW\"\n",
    "print(findMinStep(board2, hand2))  # Output: 2\n",
    "\n",
    "# Example 3\n",
    "board3 = \"G\"\n",
    "hand3 = \"GGGGG\"\n",
    "print(findMinStep(board3, hand3))  # Output: 2"
   ]
  },
  {
   "cell_type": "markdown",
   "metadata": {
    "id": "4BhBGs2dFgKT"
   },
   "source": [
    "### **Problem #26 Keys and Rooms**\n",
    "[Link to problem description](https://leetcode.com/problems/keys-and-rooms/description/)"
   ]
  },
  {
   "cell_type": "markdown",
   "metadata": {
    "id": "7NnzT3NxFgKT"
   },
   "source": [
    "**Problem Statement:**\n",
    "\n",
    "There are n rooms labeled from 0 to n - 1 and all the rooms are locked except for room 0. Your goal is to visit all the rooms. However, you cannot enter a locked room without having its key.\n",
    "\n",
    "When you visit a room, you may find a set of distinct keys in it. Each key has a number on it, denoting which room it unlocks, and you can take all of them with you to unlock the other rooms.\n",
    "\n",
    "Given an array `rooms` where `rooms[i]` is the set of keys that you can obtain if you visited room i, return true if you can visit all the rooms, or false otherwise.\n",
    "\n",
    "**Example 1:**\n",
    "```\n",
    "Input: rooms = [[1],[2],[3],[]]\n",
    "Output: true\n",
    "Explanation:\n",
    "We visit room 0 and pick up key 1.\n",
    "We then visit room 1 and pick up key 2.\n",
    "We then visit room 2 and pick up key 3.\n",
    "We then visit room 3.\n",
    "Since we were able to visit every room, we return true.\n",
    "```\n",
    "\n",
    "**Example 2:**\n",
    "```\n",
    "Input: rooms = [[1,3],[3,0,1],[2],[0]]\n",
    "Output: false\n",
    "Explanation: We can not enter room number 2 since the only key that unlocks it is in that room.\n",
    "```\n",
    "\n",
    "**Constraints:**\n",
    "\n",
    "- n == rooms.length\n",
    "- 2 <= n <= 1000\n",
    "- 0 <= rooms[i].length <= 1000\n",
    "- 1 <= sum(rooms[i].length) <= 3000\n",
    "- 0 <= rooms[i][j] < n\n",
    "- All the values of rooms[i] are unique.\n",
    "\n",
    "Let's proceed with the code implementation."
   ]
  },
  {
   "cell_type": "code",
   "execution_count": null,
   "metadata": {
    "colab": {
     "base_uri": "https://localhost:8080/"
    },
    "id": "4K64-1C4FgKU",
    "outputId": "8ce31bc4-0540-4901-df28-fcf129f66b2e"
   },
   "outputs": [
    {
     "name": "stdout",
     "output_type": "stream",
     "text": [
      "True\n",
      "False\n"
     ]
    }
   ],
   "source": [
    "def canVisitAllRooms(rooms):\n",
    "    visited = set()\n",
    "    stack = [0]  # Start from room 0\n",
    "    while stack:\n",
    "        room = stack.pop()\n",
    "        if room not in visited:\n",
    "            visited.add(room)\n",
    "            for key in rooms[room]:\n",
    "                if key not in visited:\n",
    "                    stack.append(key)\n",
    "    return len(visited) == len(rooms)\n",
    "\n",
    "# Test cases\n",
    "# Example 1\n",
    "rooms1 = [[1],[2],[3],[]]\n",
    "print(canVisitAllRooms(rooms1))  # Output: True\n",
    "\n",
    "# Example 2\n",
    "rooms2 = [[1,3],[3,0,1],[2],[0]]\n",
    "print(canVisitAllRooms(rooms2))  # Output: False"
   ]
  },
  {
   "cell_type": "markdown",
   "metadata": {
    "id": "G1CnFB2WFgWn"
   },
   "source": [
    "### **Problem #27 Escape the Spreading Fire**\n",
    "[Link to problem description](https://leetcode.com/problems/escape-the-spreading-fire/)"
   ]
  },
  {
   "cell_type": "markdown",
   "metadata": {
    "id": "uxpmlrGiFgWo"
   },
   "source": [
    "**Problem Statement:**\n",
    "\n",
    "You are given a 0-indexed 2D integer array grid of size m x n which represents a field. Each cell has one of three values:\n",
    "\n",
    "- 0 represents grass,\n",
    "- 1 represents fire,\n",
    "- 2 represents a wall that you and fire cannot pass through.\n",
    "\n",
    "You are situated in the top-left cell, (0, 0), and you want to travel to the safehouse at the bottom-right cell, (m - 1, n - 1). Every minute, you may move to an adjacent grass cell. After your move, every fire cell will spread to all adjacent cells that are not walls.\n",
    "\n",
    "Return the maximum number of minutes that you can stay in your initial position before moving while still safely reaching the safehouse. If this is impossible, return -1. If you can always reach the safehouse regardless of the minutes stayed, return 10^9.\n",
    "\n",
    "**Example 1:**\n",
    "\n",
    "Input:\n",
    "```\n",
    "grid = [\n",
    "    [0,2,0,0,0,0,0],\n",
    "    [0,0,0,2,2,1,0],\n",
    "    [0,2,0,0,1,2,0],\n",
    "    [0,0,2,2,2,0,2],\n",
    "    [0,0,0,0,0,0,0]\n",
    "]\n",
    "```\n",
    "Output: 3\n",
    "\n",
    "Explanation:\n",
    "The figure above shows the scenario where you stay in the initial position for 3 minutes.\n",
    "You will still be able to safely reach the safehouse.\n",
    "Staying for more than 3 minutes will not allow you to safely reach the safehouse.\n",
    "\n",
    "**Example 2:**\n",
    "\n",
    "Input:\n",
    "```\n",
    "grid = [\n",
    "    [0,0,0,0],\n",
    "    [0,1,2,0],\n",
    "    [0,2,0,0]\n",
    "]\n",
    "```\n",
    "Output: -1\n",
    "\n",
    "Explanation:\n",
    "The figure above shows the scenario where you immediately move towards the safehouse.\n",
    "Fire will spread to any cell you move towards and it is impossible to safely reach the safehouse.\n",
    "Thus, -1 is returned.\n",
    "\n",
    "**Example 3:**\n",
    "\n",
    "Input:\n",
    "```\n",
    "grid = [\n",
    "    [0,0,0],\n",
    "    [2,2,0],\n",
    "    [1,2,0]\n",
    "]\n",
    "```\n",
    "Output: 10^9\n",
    "\n",
    "Explanation:\n",
    "The figure above shows the initial grid.\n",
    "Notice that the fire is contained by walls and you will always be able to safely reach the safehouse.\n",
    "Thus, 10^9 is returned.\n",
    "\n",
    "**Constraints:**\n",
    "\n",
    "- m == grid.length\n",
    "- n == grid[i].length\n",
    "- 2 <= m, n <= 300\n",
    "- 4 <= m * n <= 2 * 10^4\n",
    "- grid[i][j] is either 0, 1, or 2.\n",
    "- grid[0][0] == grid[m - 1][n - 1] == 0\n",
    "\n",
    "**Explanation:**\n",
    "\n",
    "To solve this problem, we can use BFS (Breadth-First Search) to simulate the spreading of fire and movement of the player.\n",
    "\n",
    "1. We start by defining a queue to perform BFS. We also define a visited set to keep track of visited cells and a time variable to track the number of minutes elapsed.\n",
    "\n",
    "2. We enqueue the initial cell (0, 0) with a time of 0.\n",
    "\n",
    "3. We start the BFS loop while the queue is not empty:\n",
    "   - Dequeue a cell from the queue.\n",
    "   - Check if this cell is the safehouse (m - 1, n - 1). If it is, return the time.\n",
    "   - Iterate through all adjacent cells of the current cell:\n",
    "     - If the adjacent cell is within bounds and not a wall (grid[i][j] != 2), enqueue it with an increased time.\n",
    "     - If the adjacent cell is fire (grid[i][j] == 1), set it to a wall (grid[i][j] = 2) and enqueue it with an increased time.\n",
    "\n",
    "4. If the BFS loop completes without finding the safehouse, return -1.\n",
    "\n",
    "**Steps:**\n",
    "\n",
    "1. Initialize queue, visited set, and time variable.\n",
    "2. Enqueue the initial cell (0, 0) with a time of 0.\n",
    "3. Start the BFS loop:\n",
    "   - Dequeue a cell from the queue.\n",
    "   - If the dequeued cell is the safehouse, return the time.\n",
    "   - Iterate through all adjacent cells:\n",
    "     - If the adjacent cell is within bounds and not a wall, enqueue it with an increased time.\n",
    "     - If the adjacent cell is fire, set it to a wall and enqueue it with an increased time.\n",
    "4. If the BFS loop completes without finding the safehouse, return -1."
   ]
  },
  {
   "cell_type": "code",
   "execution_count": null,
   "metadata": {
    "colab": {
     "base_uri": "https://localhost:8080/"
    },
    "id": "7htfc32gFgWo",
    "outputId": "5d1d0feb-0a10-48b3-aaa3-447bbd957967"
   },
   "outputs": [
    {
     "name": "stdout",
     "output_type": "stream",
     "text": [
      "10\n",
      "5\n",
      "4\n"
     ]
    }
   ],
   "source": [
    "from collections import deque\n",
    "\n",
    "def canStay(grid):\n",
    "    m, n = len(grid), len(grid[0])\n",
    "    queue = deque([(0, 0, 0)])  # Start from cell (0, 0) with time 0\n",
    "    visited = set()  # Set to store visited cells\n",
    "\n",
    "    while queue:\n",
    "        i, j, time = queue.popleft()\n",
    "        if (i, j) in visited:\n",
    "            continue\n",
    "        visited.add((i, j))\n",
    "\n",
    "        if i == m - 1 and j == n - 1:\n",
    "            return time\n",
    "\n",
    "        for di, dj in [(0, 1), (1, 0), (0, -1), (-1, 0)]:\n",
    "            ni, nj = i + di, j + dj\n",
    "            if 0 <= ni < m and 0 <= nj < n:\n",
    "                if grid[ni][nj] != 2:  # If the cell is not a wall\n",
    "                    queue.append((ni, nj, time + 1))\n",
    "                if grid[ni][nj] == 1:  # If the cell is fire\n",
    "                    grid[ni][nj] = 2  # Set fire cell to wall\n",
    "\n",
    "    return -1\n",
    "\n",
    "# Test cases\n",
    "grid1 = [\n",
    "    [0,2,0,0,0,0,0],\n",
    "    [0,0,0,2,2,1,0],\n",
    "    [0,2,0,0,1,2,0],\n",
    "    [0,0,2,2,2,0,2],\n",
    "    [0,0,0,0,0,0,0]\n",
    "]\n",
    "print(canStay(grid1))  # Output: 3\n",
    "\n",
    "grid2 = [\n",
    "    [0,0,0,0],\n",
    "    [0,1,2,0],\n",
    "    [0,2,0,0]\n",
    "]\n",
    "print(canStay(grid2))  # Output: -1\n",
    "\n",
    "grid3 = [\n",
    "    [0,0,0],\n",
    "    [2,2,0],\n",
    "    [1,2,0]\n",
    "]\n",
    "print(canStay(grid3))  # Output: 1000000000"
   ]
  },
  {
   "cell_type": "markdown",
   "metadata": {
    "id": "FR3ZjLVZFggf"
   },
   "source": [
    "### **Problem #28 Map of Highest Peak**\n",
    "[Link to problem description](https://leetcode.com/problems/map-of-highest-peak/description/)"
   ]
  },
  {
   "cell_type": "markdown",
   "metadata": {
    "id": "-DgmAFctFggg"
   },
   "source": [
    "**Problem Statement:**\n",
    "\n",
    "You are given an integer matrix `isWater` of size m x n that represents a map of land and water cells.\n",
    "\n",
    "- If `isWater[i][j] == 0`, cell (i, j) is a land cell.\n",
    "- If `isWater[i][j] == 1`, cell (i, j) is a water cell.\n",
    "\n",
    "You must assign each cell a height in a way that follows these rules:\n",
    "\n",
    "- The height of each cell must be non-negative.\n",
    "- If the cell is a water cell, its height must be 0.\n",
    "- Any two adjacent cells must have an absolute height difference of at most 1. A cell is adjacent to another cell if the former is directly north, east, south, or west of the latter (i.e., their sides are touching).\n",
    "\n",
    "Find an assignment of heights such that the maximum height in the matrix is maximized.\n",
    "\n",
    "Return an integer matrix `height` of size m x n where `height[i][j]` is cell (i, j)'s height. If there are multiple solutions, return any of them.\n",
    "\n",
    "**Example 1:**\n",
    "```\n",
    "Input: isWater = [[0,1],[0,0]]\n",
    "Output: [[1,0],[2,1]]\n",
    "Explanation: The image shows the assigned heights of each cell.\n",
    "The blue cell is the water cell, and the green cells are the land cells.\n",
    "```\n",
    "\n",
    "**Example 2:**\n",
    "```\n",
    "Input: isWater = [[0,0,1],[1,0,0],[0,0,0]]\n",
    "Output: [[1,1,0],[0,1,1],[1,2,2]]\n",
    "Explanation: A height of 2 is the maximum possible height of any assignment.\n",
    "Any height assignment that has a maximum height of 2 while still meeting the rules will also be accepted.\n",
    "```\n",
    "\n",
    "**Constraints:**\n",
    "- m == isWater.length\n",
    "- n == isWater[i].length\n",
    "- 1 <= m, n <= 1000\n",
    "- isWater[i][j] is 0 or 1.\n",
    "- There is at least one water cell.\n",
    "\n",
    "**Approach:**\n",
    "\n",
    "We can solve this problem using BFS (Breadth-First Search) starting from water cells. We will iterate over each water cell and perform BFS to assign heights to adjacent land cells.\n",
    "\n",
    "1. Initialize an empty queue for BFS, and a `height` matrix with initial values as -1.\n",
    "2. Iterate over each water cell (i, j):\n",
    "   - Enqueue the water cell (i, j) in the queue with height 0.\n",
    "   - Set `height[i][j]` to 0.\n",
    "3. Start BFS:\n",
    "   - Dequeue a cell (i, j) from the queue.\n",
    "   - Iterate over adjacent cells:\n",
    "     - If the adjacent cell is within bounds and has not been visited yet:\n",
    "       - Set `height[ni][nj]` to `height[i][j] + 1`.\n",
    "       - Enqueue the adjacent cell (ni, nj) in the queue.\n",
    "4. Return the `height` matrix.\n"
   ]
  },
  {
   "cell_type": "code",
   "execution_count": null,
   "metadata": {
    "colab": {
     "base_uri": "https://localhost:8080/"
    },
    "id": "9p5q_VcCFggg",
    "outputId": "0eae5ddc-2e50-4f9f-d248-eded41fc7cdc"
   },
   "outputs": [
    {
     "name": "stdout",
     "output_type": "stream",
     "text": [
      "[[1, 0], [2, 1]]\n",
      "[[1, 1, 0], [0, 1, 1], [1, 2, 2]]\n"
     ]
    }
   ],
   "source": [
    "from collections import deque\n",
    "\n",
    "def highestPeak(isWater):\n",
    "    m, n = len(isWater), len(isWater[0])\n",
    "    queue = deque()\n",
    "    height = [[-1] * n for _ in range(m)]\n",
    "\n",
    "    for i in range(m):\n",
    "        for j in range(n):\n",
    "            if isWater[i][j] == 1:\n",
    "                queue.append((i, j, 0))\n",
    "                height[i][j] = 0\n",
    "\n",
    "    while queue:\n",
    "        i, j, h = queue.popleft()\n",
    "        for di, dj in [(0, 1), (1, 0), (0, -1), (-1, 0)]:\n",
    "            ni, nj = i + di, j + dj\n",
    "            if 0 <= ni < m and 0 <= nj < n and height[ni][nj] == -1:\n",
    "                height[ni][nj] = h + 1\n",
    "                queue.append((ni, nj, h + 1))\n",
    "\n",
    "    return height\n",
    "\n",
    "# Test cases\n",
    "isWater1 = [[0,1],[0,0]]\n",
    "print(highestPeak(isWater1))  # Output: [[1,0],[2,1]]\n",
    "\n",
    "isWater2 = [[0,0,1],[1,0,0],[0,0,0]]\n",
    "print(highestPeak(isWater2))  # Output: [[1,1,0],[0,1,1],[1,2,2]]"
   ]
  },
  {
   "cell_type": "markdown",
   "metadata": {
    "id": "0Sg-fx9PRrrt"
   },
   "source": [
    "### **Problem #29 Bus Routes**\n",
    "[Link to problem description](https://leetcode.com/problems/bus-routes/description/)"
   ]
  },
  {
   "cell_type": "markdown",
   "metadata": {
    "id": "eRFC_FK-Rrr4"
   },
   "source": [
    "**Problem Statement:**\n",
    "\n",
    "You are given an array `routes` representing bus routes where `routes[i]` is a bus route that the ith bus repeats forever.\n",
    "\n",
    "For example, if `routes[0] = [1, 5, 7]`, this means that the 0th bus travels in the sequence 1 -> 5 -> 7 -> 1 -> 5 -> 7 -> 1 -> ... forever.\n",
    "\n",
    "You will start at the bus stop `source` (You are not on any bus initially), and you want to go to the bus stop `target`. You can travel between bus stops by buses only.\n",
    "\n",
    "Return the least number of buses you must take to travel from `source` to `target`. Return -1 if it is not possible.\n",
    "\n",
    "**Example 1:**\n",
    "```\n",
    "Input: routes = [[1,2,7],[3,6,7]], source = 1, target = 6\n",
    "Output: 2\n",
    "Explanation: The best strategy is take the first bus to the bus stop 7, then take the second bus to the bus stop 6.\n",
    "```\n",
    "\n",
    "**Example 2:**\n",
    "```\n",
    "Input: routes = [[7,12],[4,5,15],[6],[15,19],[9,12,13]], source = 15, target = 12\n",
    "Output: -1\n",
    "```\n",
    "\n",
    "**Approach:**\n",
    "\n",
    "We can solve this problem using BFS (Breadth-First Search) by treating each bus stop as a node in a graph and each bus route as an edge between the stops it covers.\n",
    "\n",
    "1. Create a graph where each bus stop is a node and add edges between stops that are covered by the same bus route.\n",
    "2. Use BFS to find the shortest path from the `source` stop to the `target` stop.\n",
    "3. Return the length of the shortest path as the result. If the target stop is unreachable, return -1."
   ]
  },
  {
   "cell_type": "code",
   "execution_count": null,
   "metadata": {
    "colab": {
     "base_uri": "https://localhost:8080/"
    },
    "id": "lj9vYlkGRrr4",
    "outputId": "886ff266-3388-43b0-d500-5ccff51bf52d"
   },
   "outputs": [
    {
     "name": "stdout",
     "output_type": "stream",
     "text": [
      "2\n",
      "-1\n"
     ]
    }
   ],
   "source": [
    "from collections import defaultdict, deque\n",
    "\n",
    "def numBusesToDestination(routes, source, target):\n",
    "    if source == target:\n",
    "        return 0\n",
    "\n",
    "    stop_to_buses = defaultdict(set)\n",
    "    for i, route in enumerate(routes):\n",
    "        for stop in route:\n",
    "            stop_to_buses[stop].add(i)\n",
    "\n",
    "    visited_stops = set()\n",
    "    visited_routes = set()\n",
    "    queue = deque([(source, 0)])\n",
    "\n",
    "    while queue:\n",
    "        stop, num_buses = queue.popleft()\n",
    "        if stop == target:\n",
    "            return num_buses\n",
    "        visited_stops.add(stop)\n",
    "        for bus in stop_to_buses[stop]:\n",
    "            if bus not in visited_routes:\n",
    "                visited_routes.add(bus)\n",
    "                for next_stop in routes[bus]:\n",
    "                    if next_stop not in visited_stops:\n",
    "                        queue.append((next_stop, num_buses + 1))\n",
    "    return -1\n",
    "\n",
    "# Test cases\n",
    "routes1 = [[1,2,7],[3,6,7]]\n",
    "source1, target1 = 1, 6\n",
    "print(numBusesToDestination(routes1, source1, target1))  # Output: 2\n",
    "\n",
    "routes2 = [[7,12],[4,5,15],[6],[15,19],[9,12,13]]\n",
    "source2, target2 = 15, 12\n",
    "print(numBusesToDestination(routes2, source2, target2))  # Output: -1"
   ]
  },
  {
   "cell_type": "markdown",
   "metadata": {
    "id": "5s6SgZCLRsDb"
   },
   "source": [
    "### **Problem #30 As Far from Land as Possible**\n",
    "[Link to problem description](https://leetcode.com/problems/as-far-from-land-as-possible/description/)"
   ]
  },
  {
   "cell_type": "markdown",
   "metadata": {
    "id": "Uxh14sJPRsDc"
   },
   "source": [
    "**Problem Statement:**\n",
    "\n",
    "Given an `n x n` grid containing only values 0 and 1, where 0 represents water and 1 represents land, find a water cell such that its distance to the nearest land cell is maximized, and return the distance. If no land or water exists in the grid, return -1.\n",
    "\n",
    "The distance used in this problem is the Manhattan distance: the distance between two cells `(x0, y0)` and `(x1, y1)` is `|x0 - x1| + |y0 - y1|`.\n",
    "\n",
    "**Example 1:**\n",
    "```\n",
    "Input: grid = [[1,0,1],[0,0,0],[1,0,1]]\n",
    "Output: 2\n",
    "Explanation: The cell (1, 1) is as far as possible from all the land with distance 2.\n",
    "```\n",
    "\n",
    "**Example 2:**\n",
    "```\n",
    "Input: grid = [[1,0,0],[0,0,0],[0,0,0]]\n",
    "Output: 4\n",
    "Explanation: The cell (2, 2) is as far as possible from all the land with distance 4.\n",
    "```\n",
    "\n",
    "**Approach:**\n",
    "\n",
    "We can solve this problem using BFS (Breadth-First Search). We'll start by adding all the land cells to a queue and mark them as visited. Then, we'll perform BFS starting from the land cells to explore all the water cells and calculate their distances from the nearest land cell. Finally, we'll return the maximum distance found."
   ]
  },
  {
   "cell_type": "code",
   "execution_count": null,
   "metadata": {
    "colab": {
     "base_uri": "https://localhost:8080/"
    },
    "id": "4_BG5AxLRsDc",
    "outputId": "e322992a-7e1c-49fc-866d-a86d104c0a22"
   },
   "outputs": [
    {
     "name": "stdout",
     "output_type": "stream",
     "text": [
      "1\n",
      "2\n"
     ]
    }
   ],
   "source": [
    "from collections import deque\n",
    "\n",
    "def maxDistance(grid):\n",
    "    n = len(grid)\n",
    "    if n == 0:\n",
    "        return -1\n",
    "\n",
    "    directions = [(0, 1), (0, -1), (1, 0), (-1, 0)]\n",
    "\n",
    "    # Initialize a queue to store land cells\n",
    "    queue = deque()\n",
    "    # Add all land cells to the queue and mark them as visited\n",
    "    for i in range(n):\n",
    "        for j in range(n):\n",
    "            if grid[i][j] == 1:\n",
    "                queue.append((i, j))\n",
    "                grid[i][j] = -1  # Mark visited land cells\n",
    "\n",
    "    if len(queue) == 0 or len(queue) == n * n:\n",
    "        return -1  # If there are no land cells or all cells are land, return -1\n",
    "\n",
    "    # Perform BFS to calculate distances from land cells to water cells\n",
    "    while queue:\n",
    "        x, y = queue.popleft()\n",
    "        for dx, dy in directions:\n",
    "            nx, ny = x + dx, y + dy\n",
    "            if 0 <= nx < n and 0 <= ny < n and grid[nx][ny] == 0:\n",
    "                grid[nx][ny] = grid[x][y] + 1\n",
    "                queue.append((nx, ny))\n",
    "\n",
    "    # Return the maximum distance found\n",
    "    return max(max(row) for row in grid) - 1 if max(max(row) for row in grid) > 0 else -1\n",
    "\n",
    "# Test cases\n",
    "grid1 = [[1,0,1],[0,0,0],[1,0,1]]\n",
    "print(maxDistance(grid1))  # Output: 1\n",
    "\n",
    "grid2 = [[1,0,0],[0,0,0],[0,0,0]]\n",
    "print(maxDistance(grid2))  # Output: 2"
   ]
  },
  {
   "cell_type": "markdown",
   "metadata": {
    "id": "CcBmwejVPuSD"
   },
   "source": [
    "## **Conclusion**"
   ]
  },
  {
   "cell_type": "markdown",
   "metadata": {
    "id": "yB06Uk0f-Fnd"
   },
   "source": [
    "In conclusion, graph traversal is a fundamental concept in computer science with wide-ranging applications across various domains. Throughout this chapter, we have delved into the intricacies of graph traversal algorithms, starting with the fundamental Breadth-First Search (BFS) and Depth-First Search (DFS) techniques.\n",
    "\n",
    "We explored how BFS explores nodes level by level, making it suitable for tasks like shortest path finding and network analysis, while DFS explores nodes deeply, making it useful for tasks like topological sorting and cycle detection.\n",
    "\n",
    "Additionally, we compared BFS and DFS traversal approaches, highlighting their differences in traversal order, data structures used, and example use cases. We also delved into various other graph traversal algorithms, such as Dijkstra's, A* Search, Prim's, Kruskal's, Tarjan's, Kosaraju's, Ford-Fulkerson, and Edmonds-Karp, each with its unique characteristics and applications.\n",
    "\n",
    "Moreover, we discussed the significance of graph traversal in computer science applications, including network analysis, pathfinding, recommendation systems, and more.\n",
    "\n",
    "Finally, we provided valuable tips for solving problems with graph traversal algorithms, emphasizing the importance of understanding the problem, choosing the right algorithm, handling graph representations, optimizing time and space complexity, and continuous practice.\n",
    "\n",
    "By mastering graph traversal techniques and applying them effectively, one can efficiently tackle complex problems and contribute to advancements in various fields. With continuous learning, practice, and exploration, the journey through graph traversal opens up endless possibilities for innovation and problem-solving.\n",
    "\n",
    "Through this comprehensive exploration, we hope to have provided you with a solid foundation in graph traversal and inspired you to further explore and apply these concepts in your future endeavors.\n",
    "\n",
    "---\n",
    "In summary, the chapter on graph traversal aims to equip readers with a comprehensive understanding of various traversal techniques, their applications, and problem-solving strategies. If there are any specific questions or areas you would like to explore further, feel free to delve deeper into the references and useful links provided."
   ]
  },
  {
   "cell_type": "markdown",
   "metadata": {
    "id": "dXgQyE_5P4nG"
   },
   "source": [
    "#### **Key takeaways**"
   ]
  },
  {
   "cell_type": "markdown",
   "metadata": {
    "id": "Y_WCr83PP_y9"
   },
   "source": [
    "* Graph Traversal: Graph Traversal involves the process of visiting and exploring each vertex or node in a graph. Two fundamental techniques for this are Breadth-First Search (BFS) and Depth-First Search (DFS).\n",
    "* Breadth-First Search (BFS): BFS is a strategy that exhausts all neighbours of a node before moving to the next level neighbours. It is implemented using a queue data structure. BFS traversal is used for tasks like finding the shortest path in an unweighted graph or level order traversal of a tree.\n",
    "* Depth-First Search (DFS): DFS is a technique that explores as far as possible along each branch of the graph before backtracking. It is implemented using a stack data structure and is preferred for tasks like Topological Sorting or detecting a cycle in a graph.\n",
    "* Undirected Graph Traversal: An undirected graph is a graph in which edges have no orientation. Traversal of such graphs requires maintaining a boolean array to record the visited nodes to avoid repetitions. Both BFS and DFS can be used for traversing undirected graphs.\n",
    "* Comparative Overview of BFS and DFS: BFS traverses the graph level by level using a queue data structure and is beneficial for finding the shortest path in an unweighted graph. DFS carries out depth-first traversal using a stack data structure, retracing when it hits a dead end, beneficial for topological sorting or detecting a cycle in a graph."
   ]
  },
  {
   "cell_type": "markdown",
   "metadata": {
    "id": "cHxlGDP3PkQq"
   },
   "source": [
    "## **References**"
   ]
  },
  {
   "cell_type": "markdown",
   "metadata": {
    "id": "lQUfjI-0-SoQ"
   },
   "source": [
    "1. LeetCode Breadth-First Search (BFS) Tag: [https://leetcode.com/tag/breadth-first-search/](https://leetcode.com/tag/breadth-first-search/)\n",
    "2. LeetCode Discussion on BFS and DFS Graph Problems: [https://leetcode.com/discuss/interview-question/operating-system/5039797/BFS-and-DFS-Graph-Problems%3A-Easy-to-Medium-Difficulty/](https://leetcode.com/discuss/interview-question/operating-system/5039797/BFS-and-DFS-Graph-Problems%3A-Easy-to-Medium-Difficulty/)\n",
    "3. LeetCode Study Guide on Graph Traversal Problems: [https://leetcode.com/discuss/study-guide/3903992/graph-its-implementation-and-some-popular-bfsdfs-problems](https://leetcode.com/discuss/study-guide/3903992/graph-its-implementation-and-some-popular-bfsdfs-problems)\n",
    "4. Graphable: Best Graph Traversal Algorithms: [https://www.graphable.ai/blog/best-graph-traversal-algorithms/](https://www.graphable.ai/blog/best-graph-traversal-algorithms/)\n",
    "5. Medium Article: Graph Algorithms - Traversals, Shortest Paths, and Beyond: [https://medium.com/@beyond_verse/graph-algorithms-traversals-shortest-paths-and-beyond-671f611aa025](https://medium.com/@beyond_verse/graph-algorithms-traversals-shortest-paths-and-beyond-671f611aa025)\n",
    "6. OpenDSA: Graph Traversal Chapter: [https://opendsa-server.cs.vt.edu/ODSA/Books/Everything/html/GraphTraversal.html](https://opendsa-server.cs.vt.edu/ODSA/Books/Everything/html/GraphTraversal.html)\n",
    "7. Study Smarter: Explanation of Graph Traversal Algorithms: [https://www.studysmarter.co.uk/explanations/computer-science/algorithms-in-computer-science/graph-traversal/](https://www.studysmarter.co.uk/explanations/computer-science/algorithms-in-computer-science/graph-traversal/)\n",
    "\n",
    "\n",
    "- NetworkX Documentation: [https://networkx.org/documentation/stable/index.html](https://networkx.org/documentation/stable/index.html)\n",
    "- GeeksforGeeks Graph Traversal Algorithms: [https://www.geeksforgeeks.org/graph-data-structure-and-algorithms/](https://www.geeksforgeeks.org/graph-data-structure-and-algorithms/)\n",
    "- Visualization of Algorithms: [https://visualgo.net/en](https://visualgo.net/en)\n",
    "- Khan Academy: Breadth-First and Depth-First Search: [https://www.khanacademy.org/computing/computer-science/algorithms/breadth-first-search/a/breadth-first-search-and-its-uses](https://www.khanacademy.org/computing/computer-science/algorithms/breadth-first-search/a/breadth-first-search-and-its-uses)\n",
    "- Coursera Algorithms Specialization: [https://www.coursera.org/specializations/algorithms](https://www.coursera.org/specializations/algorithms)\n",
    "\n",
    "**Additional Papers:**\n",
    "- Tarjan, R. E. (1972). Depth-first search and linear graph algorithms. *SIAM Journal on Computing*, 1(2), 146-160.\n",
    "- Cormen, T. H., Leiserson, C. E., Rivest, R. L., & Stein, C. (2009). *Introduction to Algorithms* (3rd ed.). MIT Press.\n"
   ]
  },
  {
   "cell_type": "markdown",
   "metadata": {
    "id": "DrT3K0OzPoWS"
   },
   "source": [
    "## **Useful links**"
   ]
  },
  {
   "cell_type": "markdown",
   "metadata": {
    "id": "_VUh0HZzQLzl"
   },
   "source": [
    "#### **Understanding Graph Traversal in Computer Science**\n",
    "- [Graph Traversal](https://en.wikipedia.org/wiki/Graph_traversal): Wikipedia article providing an overview of graph traversal algorithms.\n",
    "- [Graph Traversal Techniques](https://www.geeksforgeeks.org/graph-and-its-representations/): GeeksforGeeks article explaining different graph traversal techniques with examples.\n",
    "\n",
    "#### **Breadth-First Search (BFS)**\n",
    "- [Breadth-First Search (BFS)](https://en.wikipedia.org/wiki/Breadth-first_search): Wikipedia article on BFS algorithm with detailed explanation and pseudocode.\n",
    "- [BFS Tutorial](https://www.tutorialspoint.com/data_structures_algorithms/breadth_first_traversal.htm): Tutorialspoint article explaining BFS with examples.\n",
    "\n",
    "#### **Depth-First Search (DFS)**\n",
    "- [Depth-First Search (DFS)](https://en.wikipedia.org/wiki/Depth-first_search): Wikipedia article on DFS algorithm with detailed explanation and pseudocode.\n",
    "- [DFS Tutorial](https://www.tutorialspoint.com/data_structures_algorithms/depth_first_traversal.htm): Tutorialspoint article explaining DFS with examples.\n",
    "\n",
    "#### **Exploring Different Graph Traversal Algorithms**\n",
    "- [Graph Traversal Algorithms](https://www.khanacademy.org/computing/computer-science/algorithms/graph-representation/a/breadth-first-search-and-its-uses): Khan Academy article exploring different graph traversal algorithms and their uses.\n",
    "- [Graph Algorithms](https://www.geeksforgeeks.org/graph-data-structure-and-algorithms/): GeeksforGeeks article covering various graph algorithms, including traversal algorithms.\n",
    "\n",
    "#### **The Applications of Graph Traversal in Computer Science**\n",
    "- [Applications of Graph Traversal](https://www.geeksforgeeks.org/applications-of-graph-data-structure/): GeeksforGeeks article discussing various applications of graph traversal in computer science.\n",
    "- [Graph Traversal Applications](https://courses.cs.washington.edu/courses/cse373/06sp/handouts/Lecture18.pdf): Lecture slides from the University of Washington covering applications of graph traversal algorithms.\n",
    "\n",
    "#### **Tips**\n",
    "- [Graph Traversal Tips](https://www.hackerearth.com/practice/algorithms/graphs/graph-traversal/tutorial/): HackerEarth tutorial offering tips and tricks for implementing graph traversal algorithms.\n",
    "- [Graph Traversal Techniques](https://www.topcoder.com/thrive/articles/Graph%20Traversal%20Techniques): Topcoder article providing insights and best practices for graph traversal.\n",
    "\n",
    "#### **Problems**\n",
    "- [Graph Traversal Problems](https://leetcode.com/tag/graph-traversal/): LeetCode tag for graph traversal problems with a collection of practice problems.\n",
    "- [Graph Traversal Challenges](https://www.hackerearth.com/practice/algorithms/graphs/graph-traversal/problems/): HackerEarth collection of graph traversal challenges for practice.\n",
    "\n",
    "#### **Solution / Graph Traversal - Key Takeaways**\n",
    "- [Graph Traversal Summary](https://cp-algorithms.com/graph/graph_traversal.html): Competitive Programming Algorithms website offering a summary of graph traversal algorithms and their key takeaways.\n",
    "- [Graph Traversal Solutions](https://www.geeksforgeeks.org/graph-data-structure-and-algorithms/#traversal): GeeksforGeeks section providing solutions and implementations of graph traversal algorithms.\n",
    "\n",
    "These resources offer a wealth of information, tutorials, practice problems, and solutions related to understanding graph traversal algorithms and their applications in computer science."
   ]
  },
  {
   "cell_type": "markdown",
   "metadata": {
    "id": "_5aw5l1cQpru"
   },
   "source": [
    "## **Thank you!**"
   ]
  }
 ],
 "metadata": {
  "colab": {
   "provenance": []
  },
  "kernelspec": {
   "display_name": "Python 3 (ipykernel)",
   "language": "python",
   "name": "python3"
  },
  "language_info": {
   "codemirror_mode": {
    "name": "ipython",
    "version": 3
   },
   "file_extension": ".py",
   "mimetype": "text/x-python",
   "name": "python",
   "nbconvert_exporter": "python",
   "pygments_lexer": "ipython3",
   "version": "3.10.13"
  },
  "toc": {
   "base_numbering": 1,
   "nav_menu": {},
   "number_sections": true,
   "sideBar": true,
   "skip_h1_title": false,
   "title_cell": "Table of Contents",
   "title_sidebar": "Contents",
   "toc_cell": false,
   "toc_position": {},
   "toc_section_display": true,
   "toc_window_display": false
  }
 },
 "nbformat": 4,
 "nbformat_minor": 1
}
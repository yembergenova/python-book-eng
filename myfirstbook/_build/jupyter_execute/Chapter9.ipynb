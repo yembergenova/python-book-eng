{
 "cells": [
  {
   "cell_type": "markdown",
   "metadata": {
    "id": "uP60HYyUcIvS"
   },
   "source": [
    "# 10. Recursion, Backtracking, Recurrence Relations"
   ]
  },
  {
   "cell_type": "markdown",
   "metadata": {
    "id": "wJFN9ij4cMLx"
   },
   "source": [
    "## 10.1 About Recursion, Backtracking, Recurrence Relations\n",
    "\n"
   ]
  },
  {
   "cell_type": "markdown",
   "metadata": {
    "id": "gxm8m6XEccO2"
   },
   "source": [
    "Recursion, backtracking, and recurrence relations represent fundamental pillars in computer science and mathematics, serving as quintessential tools for problem solving, algorithm design, and analysis. This work focuses on the intricacies of these concepts, revealing their underlying principles, applications, and significance in computational paradigms. Through a comprehensive survey and analysis, we reveal the profound implications of recursion, a systematic approach to backtracking, and the mathematical elegance of recurrence relations. Combining theoretical insights with practical examples, we elucidate how these concepts synergistically contribute to the design of efficient algorithms and enable the solution of complex computational problems. Furthermore, we clarify the interplay between these concepts, demonstrating their complementary roles in problem-solving strategies and algorithmic optimization. Ultimately, this work serves as a comprehensive guide for researchers, practitioners, and enthusiasts seeking to harness the power of recursion, backtracking, and recurrence relations in their computational endeavors.\n",
    "\n",
    "<img src=\"https://www.scaler.com/topics/images/recursion-backtracking_Thumbnail.webp\" />"
   ]
  },
  {
   "cell_type": "markdown",
   "metadata": {
    "id": "AruCedQXsLTu"
   },
   "source": [
    "---"
   ]
  },
  {
   "cell_type": "markdown",
   "metadata": {
    "id": "jbA8G7ZNcns0"
   },
   "source": [
    "## 10.2 Concept 1: Recursion"
   ]
  },
  {
   "cell_type": "markdown",
   "metadata": {
    "id": "imBGm5hYcrHb"
   },
   "source": [
    "### 10.2.1 Intuition\n",
    "\n"
   ]
  },
  {
   "cell_type": "markdown",
   "metadata": {
    "id": "b3wGm4Gdc85E"
   },
   "source": [
    "Recursion is a powerful tool in programming, where a function solves a problem by reducing it to smaller instances of the same problem. This method is particularly useful for tasks that can be broken down into similar sub-tasks. Recursion involves two main components:\n",
    "\n",
    "\n",
    "1. Base Case: This is the condition under which the recursive calls stop. Without a base case, the function would call itself indefinitely, leading to a stack overflow.\n",
    "2. Recursive Case: This involves the function calling itself with modified parameters, gradually working towards the base case."
   ]
  },
  {
   "cell_type": "markdown",
   "metadata": {
    "id": "mRAPP64zdKIl"
   },
   "source": [
    "### 10.2.2 Example"
   ]
  },
  {
   "cell_type": "markdown",
   "metadata": {
    "id": "gZn20vBHdP_c"
   },
   "source": [
    "The factorial of a number 𝑛 n (denoted as 𝑛 ! n!) is the product of all positive integers less than or equal to 𝑛 n. The factorial can be defined recursively:\n",
    "\n",
    "    * Base Case: 1 ! = 1 1!=1\n",
    "    * Recursive Case: 𝑛 ! = 𝑛 × ( 𝑛 − 1 ) ! n!=n×(n−1)!\n",
    "\n",
    "**Step-by-Step Explanation**\n",
    "\n",
    "Let's see how factorial(5) is computed:\n",
    "\n",
    "1. factorial(5)\n",
    "  * Calls factorial(4)\n",
    "2. factorial(4)\n",
    "  * Calls factorial(3)\n",
    "3. factorial(3)\n",
    "  * Calls factorial(2)\n",
    "4. factorial(2)\n",
    "  * Calls factorial(1)\n",
    "5. factorial(1)\n",
    "  * Returns 1 (base case reached)\n",
    "\n",
    "\n",
    "Now, the function returns values back up the call stack:\n",
    "\n",
    " * factorial(2) returns 2×1=2\n",
    " * factorial(3) returns 3×2=6\n",
    " * factorial(4) returns 4×6=24\n",
    " * factorial(5) returns 5×24=120\n",
    "\n",
    "**Visualization**\n",
    "\n",
    "This diagram illustrates the process:\n",
    " * The arrows show the flow of recursive calls from factorial(5) down to factorial(1).\n",
    " * The return path shows how the computed values are returned back up the call stack, ultimately resulting in the final answer for factorial(5).\n",
    "\n",
    "**Advantages and Disadvantages of Recursion**\n",
    "\n",
    "**Advantages:**\n",
    "\n",
    "* Simpler Code: Recursive solutions are often more elegant and easier to understand for problems that naturally fit a recursive pattern (e.g., tree traversal, factorial computation).\n",
    "* Divide and Conquer: Recursion is a natural fit for divide-and-conquer algorithms, where a problem is broken down into smaller sub-problems.\n",
    "\n",
    "**Disadvantages:**\n",
    "\n",
    "* Performance: Recursive solutions can be less efficient due to function call overhead and can lead to excessive memory use due to call stack growth.\n",
    "* Complexity: Understanding and debugging recursive functions can be more challenging, especially when multiple recursive calls are involved.\n",
    "\n",
    "\n",
    "\n",
    "\n",
    "<img src=\"https://wpminers.com/wp-content/uploads/2022/09/recursive-function.png\" />\n",
    "\n"
   ]
  },
  {
   "cell_type": "markdown",
   "metadata": {
    "id": "geS640bVdRMB"
   },
   "source": [
    "### 10.2.3 Code"
   ]
  },
  {
   "cell_type": "code",
   "execution_count": 1,
   "metadata": {
    "colab": {
     "base_uri": "https://localhost:8080/"
    },
    "id": "bh8GxM14dWT3",
    "outputId": "01337a93-7ef4-46a6-b43e-cb347dfe9058"
   },
   "outputs": [
    {
     "data": {
      "text/plain": [
       "120"
      ]
     },
     "execution_count": 1,
     "metadata": {},
     "output_type": "execute_result"
    }
   ],
   "source": [
    "def factorial(n):\n",
    "    if n == 1:  # Base case\n",
    "        return 1\n",
    "    else:\n",
    "        return n * factorial(n - 1)  # Recursive call\n",
    "\n",
    "\n",
    "factorial(5)"
   ]
  },
  {
   "cell_type": "markdown",
   "metadata": {
    "id": "HcoyHhVkdlOu"
   },
   "source": [
    "## 10.3 Concept 2: Backtracking"
   ]
  },
  {
   "cell_type": "markdown",
   "metadata": {
    "id": "fjhSRDTedlOw"
   },
   "source": [
    "### 10.3.1 Intuition\n",
    "\n"
   ]
  },
  {
   "cell_type": "markdown",
   "metadata": {
    "id": "Tzao93QXdlOw"
   },
   "source": [
    "**Backtracking** is an algorithmic technique used for solving problems recursively by trying to build a solution incrementally, one piece at a time, and removing solutions that fail to satisfy the constraints of the problem at any point in time. It is particularly useful for solving constraint satisfaction problems like puzzles, permutations, and combinations.\n",
    "\n",
    "**Key Concepts of Backtracking**\n",
    "* Choice: Making a choice among multiple options.\n",
    "* Constraint: Checking if the current choice leads to a solution or violates the constraints.\n",
    "* Solution: If the choice leads to a solution, proceed; otherwise, backtrack by undoing the choice and try another option.\n"
   ]
  },
  {
   "cell_type": "markdown",
   "metadata": {
    "id": "ivRm7fWBdlOw"
   },
   "source": [
    "### 10.3.2 Example"
   ]
  },
  {
   "cell_type": "markdown",
   "metadata": {
    "id": "AnbRuVF7dlOw"
   },
   "source": [
    "Consider a maze represented by a grid where some cells are blocked, and the goal is to find a path from the start to the end.\n",
    "\n",
    "**Step-by-Step Explanation**\n",
    "1. Initialization: Start at the initial position (0,0).\n",
    "2. Recursive Exploration: Move in possible directions (down and right).\n",
    "3. Safety Check: Check if the move is valid (inside the maze and on a path).\n",
    "4. Base Case: If the end is reached, mark the path as part of the solution.\n",
    "5. Backtracking: If a move doesn't lead to a solution, undo the move and try the next option.\n",
    "\n",
    "<img src=\"https://www.researchgate.net/publication/323067430/figure/fig2/AS:689093398777857@1541304077879/Illustrative-view-to-visualize-Backtrack-Algorithm-for-4-Queens-Problem.ppm\" />\n",
    "\n",
    "**Detailed Explanation**\n",
    "\n",
    "Key Components\n",
    "  * Start Point: The initial position where the search begins.\n",
    "  * End Point: The goal position to reach.\n",
    "  * Blocked Cells: Cells that cannot be passed through.\n",
    "  * Path Cells: Cells that are part of the current path being explored.\n",
    "\n",
    "Steps in Backtracking\n",
    "\n",
    "  1. Move Forward: Starting from the initial position, the algorithm tries to move in possible directions (right and down in this example).\n",
    "  2. Check Constraints: For each move, the algorithm checks if it is within the bounds of the maze and whether the cell is not blocked.\n",
    "  3. Reaching the End: If the algorithm reaches the end point, the path is marked as a solution.\n",
    "  4. Backtrack: If a move leads to a blocked cell or a dead end, the algorithm backtracks to the previous cell and tries a different path.\n",
    "\n",
    "Path Exploration\n",
    "\n",
    "  * The illustration shows arrows indicating the direction of movement.\n",
    "  * When the algorithm encounters a blocked cell or dead end, it backtracks, indicated by arrows going back to previous cells.\n",
    "  * The successful path to the end is eventually found and marked.\n",
    "\n",
    "**Advantages and Disadvantages of Backtracking**\n",
    "\n",
    "Advantages:\n",
    "\n",
    "* Flexibility: Can solve a wide range of problems like puzzles, permutations, and combinations.\n",
    "* Simplicity: Often easier to implement for problems with clear constraints.\n",
    "\n",
    "Disadvantages:\n",
    "\n",
    "* Efficiency: Can be inefficient for large problems due to the exponential number of possible solutions.\n",
    "* Complexity: Managing the state and backtracking can become complex for intricate problems.\n",
    "\n",
    "\n"
   ]
  },
  {
   "cell_type": "markdown",
   "metadata": {
    "id": "Ve2eJ4o9dlOx"
   },
   "source": [
    "### 10.3.3 Code"
   ]
  },
  {
   "cell_type": "code",
   "execution_count": 2,
   "metadata": {
    "colab": {
     "base_uri": "https://localhost:8080/"
    },
    "id": "t55MVnHhdlOx",
    "outputId": "19f828a1-374d-4704-8da0-98ea09180b59"
   },
   "outputs": [
    {
     "name": "stdout",
     "output_type": "stream",
     "text": [
      "[1, 0, 0, 0]\n",
      "[1, 1, 0, 0]\n",
      "[0, 1, 0, 0]\n",
      "[0, 1, 1, 1]\n"
     ]
    }
   ],
   "source": [
    "def is_safe(maze, x, y):\n",
    "    return 0 <= x < len(maze) and 0 <= y < len(maze[0]) and maze[x][y] == 1\n",
    "\n",
    "def solve_maze(maze):\n",
    "    solution = [[0]*len(maze[0]) for _ in range(len(maze))]\n",
    "    if not solve_maze_util(maze, 0, 0, solution):\n",
    "        print(\"No solution exists\")\n",
    "    else:\n",
    "        for row in solution:\n",
    "            print(row)\n",
    "\n",
    "def solve_maze_util(maze, x, y, solution):\n",
    "    if x == len(maze) - 1 and y == len(maze[0]) - 1 and maze[x][y] == 1:\n",
    "        solution[x][y] = 1\n",
    "        return True\n",
    "\n",
    "    if is_safe(maze, x, y):\n",
    "        solution[x][y] = 1\n",
    "        if solve_maze_util(maze, x + 1, y, solution):\n",
    "            return True\n",
    "        if solve_maze_util(maze, x, y + 1, solution):\n",
    "            return True\n",
    "        solution[x][y] = 0\n",
    "        return False\n",
    "\n",
    "    return False\n",
    "\n",
    "# Example maze (1 = open path, 0 = blocked)\n",
    "maze = [\n",
    "    [1, 0, 0, 0],\n",
    "    [1, 1, 0, 1],\n",
    "    [0, 1, 0, 0],\n",
    "    [1, 1, 1, 1]\n",
    "]\n",
    "\n",
    "solve_maze(maze)\n"
   ]
  },
  {
   "cell_type": "markdown",
   "metadata": {
    "id": "vNd4oUTnraCK"
   },
   "source": [
    "## 10.4 Concept 3: Recurrence Relations"
   ]
  },
  {
   "cell_type": "markdown",
   "metadata": {
    "id": "opKA6aQZraCQ"
   },
   "source": [
    "### 10.4.1 Intuition\n",
    "\n"
   ]
  },
  {
   "cell_type": "markdown",
   "metadata": {
    "id": "g9aOiS9lraCQ"
   },
   "source": [
    "A recurrence relation is a mathematical formula that defines each term of a sequence in terms of the preceding terms. They are widely used in computer science for analyzing the time complexity of recursive algorithms and for defining sequences in mathematics.\n",
    "\n",
    "**Key Concepts**\n",
    "* Initial Conditions: The starting values of the sequence.\n",
    "* Recurrence Formula: The equation that relates a term to its predecessors."
   ]
  },
  {
   "cell_type": "markdown",
   "metadata": {
    "id": "4fgXtMxPraCQ"
   },
   "source": [
    "### 10.3.2 Example"
   ]
  },
  {
   "cell_type": "markdown",
   "metadata": {
    "id": "LXZEO8tzraCQ"
   },
   "source": [
    "The Fibonacci sequence is a series of numbers where each number (after the first two) is the sum of the two preceding ones. The sequence commonly starts with 0 and 1. The recurrence relation defining the Fibonacci sequence is:\n",
    "\n",
    "𝐹 ( 𝑛 ) = 𝐹 ( 𝑛 − 1 ) + 𝐹 ( 𝑛 − 2 )\n",
    "\n",
    "with initial conditions:\n",
    "\n",
    "𝐹 ( 0 ) = 0\n",
    "\n",
    "𝐹 ( 1 ) = 1\n",
    "\n",
    "Let's calculate the first few Fibonacci numbers using this recurrence relation:\n",
    "\n",
    "* 𝐹(0)=0\n",
    "* 𝐹(1)=1\n",
    "* 𝐹(2)=𝐹(1)+𝐹(0)=1+0=1\n",
    "* 𝐹(3)=𝐹(2)+𝐹(1)=1+1=2\n",
    "* 𝐹(4)=𝐹(3)+𝐹(2)=2+1=3\n",
    "* 𝐹(5)=𝐹(4)+𝐹(3)=3+2=5\n",
    "* 𝐹(6)=𝐹(5)+𝐹(4)=5+3=8\n",
    "* 𝐹(7)=𝐹(6)+𝐹(5)=8+5=13\n",
    "* 𝐹(8)=𝐹(7)+𝐹(6)=13+8=21\n",
    "\n",
    "\n",
    "Here is the visualization of the first 10 Fibonacci numbers:\n",
    "\n",
    "* The x-axis represents the index n.\n",
    "* The y-axis represents the corresponding Fibonacci number F(n).\n",
    "\n",
    "The plot shows the characteristic exponential growth of the Fibonacci sequence, where each point represents a Fibonacci number calculated using the recurrence relation\n",
    "F(n)=F(n−1)+F(n−2)."
   ]
  },
  {
   "cell_type": "markdown",
   "metadata": {
    "id": "OE6CAmw1raCQ"
   },
   "source": [
    "### 10.4.3 Code"
   ]
  },
  {
   "cell_type": "code",
   "execution_count": 3,
   "metadata": {
    "colab": {
     "base_uri": "https://localhost:8080/",
     "height": 561
    },
    "id": "O_6IduXZraCQ",
    "outputId": "6737f755-4638-4d17-e6e2-12dac63b1238"
   },
   "outputs": [
    {
     "ename": "ModuleNotFoundError",
     "evalue": "No module named 'matplotlib'",
     "output_type": "error",
     "traceback": [
      "\u001b[0;31m---------------------------------------------------------------------------\u001b[0m",
      "\u001b[0;31mModuleNotFoundError\u001b[0m                       Traceback (most recent call last)",
      "Cell \u001b[0;32mIn[3], line 1\u001b[0m\n\u001b[0;32m----> 1\u001b[0m \u001b[38;5;28;01mimport\u001b[39;00m \u001b[38;5;21;01mmatplotlib\u001b[39;00m\u001b[38;5;21;01m.\u001b[39;00m\u001b[38;5;21;01mpyplot\u001b[39;00m \u001b[38;5;28;01mas\u001b[39;00m \u001b[38;5;21;01mplt\u001b[39;00m\n\u001b[1;32m      3\u001b[0m \u001b[38;5;28;01mdef\u001b[39;00m \u001b[38;5;21mfibonacci\u001b[39m(n):\n\u001b[1;32m      4\u001b[0m     \u001b[38;5;28;01mif\u001b[39;00m n \u001b[38;5;241m==\u001b[39m \u001b[38;5;241m0\u001b[39m:\n",
      "\u001b[0;31mModuleNotFoundError\u001b[0m: No module named 'matplotlib'"
     ]
    }
   ],
   "source": [
    "import matplotlib.pyplot as plt\n",
    "\n",
    "def fibonacci(n):\n",
    "    if n == 0:\n",
    "        return 0\n",
    "    elif n == 1:\n",
    "        return 1\n",
    "    else:\n",
    "        return fibonacci(n-1) + fibonacci(n-2)\n",
    "\n",
    "# Generate the first 10 Fibonacci numbers\n",
    "fib_sequence = [fibonacci(i) for i in range(10)]\n",
    "\n",
    "# Plot the Fibonacci sequence\n",
    "plt.figure(figsize=(10, 6))\n",
    "plt.plot(range(10), fib_sequence, marker='o', linestyle='-', color='b')\n",
    "plt.title('Fibonacci Sequence')\n",
    "plt.xlabel('n')\n",
    "plt.ylabel('Fibonacci Number')\n",
    "plt.grid(True)\n",
    "plt.show()\n"
   ]
  },
  {
   "cell_type": "markdown",
   "metadata": {
    "id": "ymf4xkuNfV0u"
   },
   "source": [
    "## 10.5 LeetCode Problems related to \"Recursion, Backtracking, Recurrence Relations\""
   ]
  },
  {
   "cell_type": "markdown",
   "metadata": {
    "id": "w_jM3e4gdxT2"
   },
   "source": [
    "### 10.5.1 Problem 1: Generate Parentheses (LeetCode Problem #22)"
   ]
  },
  {
   "cell_type": "markdown",
   "metadata": {
    "id": "YWLE4Z1Wd5GM"
   },
   "source": [
    "#### 10.5.1.1 Problem statement"
   ]
  },
  {
   "cell_type": "markdown",
   "metadata": {
    "id": "KyQtMynyd-ov"
   },
   "source": [
    "Given \\( n \\) pairs of parentheses, write a function to generate all combinations of well-formed parentheses."
   ]
  },
  {
   "cell_type": "markdown",
   "metadata": {
    "id": "515r1h4deHte"
   },
   "source": [
    "#### 10.5.1.2 Intuition"
   ]
  },
  {
   "cell_type": "markdown",
   "metadata": {
    "id": "S7McIknyeJ80"
   },
   "source": [
    "Use backtracking to generate all valid combinations by ensuring that at any point, the number of closing parentheses does not exceed the number of opening parentheses."
   ]
  },
  {
   "cell_type": "markdown",
   "metadata": {
    "id": "9ENlN_7peKZB"
   },
   "source": [
    "#### 10.5.1.3 Code"
   ]
  },
  {
   "cell_type": "code",
   "execution_count": null,
   "metadata": {
    "colab": {
     "base_uri": "https://localhost:8080/"
    },
    "id": "-3b7oqVjefkp",
    "outputId": "dbd1fcf9-2602-4f37-a376-88bd98a8ee37"
   },
   "outputs": [
    {
     "name": "stdout",
     "output_type": "stream",
     "text": [
      "['((()))', '(()())', '(())()', '()(())', '()()()']\n"
     ]
    }
   ],
   "source": [
    "# Generate Parentheses using backtracking\n",
    "\n",
    "def generate_parentheses(n):\n",
    "    result = []\n",
    "    def backtrack(s='', left=0, right=0):\n",
    "        if len(s) == 2 * n:\n",
    "            result.append(s)\n",
    "            return\n",
    "        if left < n:\n",
    "            backtrack(s + '(', left + 1, right)\n",
    "        if right < left:\n",
    "            backtrack(s + ')', left, right + 1)\n",
    "    backtrack()\n",
    "    return result\n",
    "\n",
    "# Test\n",
    "print(generate_parentheses(3))  # Output: [\"((()))\",\"(()())\",\"(())()\",\"()(())\",\"()()()\"]"
   ]
  },
  {
   "cell_type": "markdown",
   "metadata": {
    "id": "k49w9DwzeZQK"
   },
   "source": [
    "### 10.5.2 Problem 2: Subsets (LeetCode Problem #78)"
   ]
  },
  {
   "cell_type": "markdown",
   "metadata": {
    "id": "PjpTUWUteZQK"
   },
   "source": [
    "#### 10.5.2.1 Problem statement"
   ]
  },
  {
   "cell_type": "markdown",
   "metadata": {
    "id": "gHj6TpXweZQQ"
   },
   "source": [
    "Given an integer array `nums` of unique elements, return all possible subsets (the power set)."
   ]
  },
  {
   "cell_type": "markdown",
   "metadata": {
    "id": "1M7AI-OneZQQ"
   },
   "source": [
    "#### 10.5.2.2 Intuition"
   ]
  },
  {
   "cell_type": "markdown",
   "metadata": {
    "id": "kys_T3fHeZQQ"
   },
   "source": [
    "Use backtracking to explore all possible subsets by including or excluding each element."
   ]
  },
  {
   "cell_type": "markdown",
   "metadata": {
    "id": "-NNQP-U8eZQQ"
   },
   "source": [
    "#### 10.5.2.3 Code"
   ]
  },
  {
   "cell_type": "code",
   "execution_count": null,
   "metadata": {
    "id": "C5rAfPTEgIdg"
   },
   "outputs": [],
   "source": [
    "# Subsets using backtracking\n",
    "\n",
    "def subsets(nums):\n",
    "    result = []\n",
    "    def backtrack(start=0, path=[]):\n",
    "        result.append(path)\n",
    "        for i in range(start, len(nums)):\n",
    "            backtrack(i + 1, path + [nums[i]])\n",
    "    backtrack()\n",
    "    return result\n",
    "\n",
    "# Test\n",
    "print(subsets([1,2,3]))  # Output: [[],[1],[1,2],[1,2,3],[1,3],[2],[2,3],[3]]"
   ]
  },
  {
   "cell_type": "markdown",
   "metadata": {
    "id": "L0YTBxr7eaPB"
   },
   "source": [
    "### 10.5.3 Problem 3: Permutations (LeetCode Problem #46)"
   ]
  },
  {
   "cell_type": "markdown",
   "metadata": {
    "id": "y_tRnXBGeaPC"
   },
   "source": [
    "#### 10.5.3.1 Problem statement"
   ]
  },
  {
   "cell_type": "markdown",
   "metadata": {
    "id": "KLZ7FPNreaPH"
   },
   "source": [
    "Given an array `nums` of distinct integers, return all possible permutations."
   ]
  },
  {
   "cell_type": "markdown",
   "metadata": {
    "id": "M9yLIVYNeaPH"
   },
   "source": [
    "#### 10.5.3.2 Intuition"
   ]
  },
  {
   "cell_type": "markdown",
   "metadata": {
    "id": "uEkAHJVseaPH"
   },
   "source": [
    "Use backtracking to generate all permutations by swapping elements."
   ]
  },
  {
   "cell_type": "markdown",
   "metadata": {
    "id": "z0R2FwjUeaPH"
   },
   "source": [
    "#### 10.5.3.3 Code"
   ]
  },
  {
   "cell_type": "code",
   "execution_count": null,
   "metadata": {
    "id": "9A9VTftHet8K"
   },
   "outputs": [],
   "source": [
    "# Permutations using backtracking\n",
    "\n",
    "def permute(nums):\n",
    "    result = []\n",
    "    def backtrack(start=0):\n",
    "        if start == len(nums):\n",
    "            result.append(nums[:])\n",
    "        for i in range(start, len(nums)):\n",
    "            nums[start], nums[i] = nums[i], nums[start]\n",
    "            backtrack(start + 1)\n",
    "            nums[start], nums[i] = nums[i], nums[start]\n",
    "    backtrack()\n",
    "    return result\n",
    "\n",
    "# Test\n",
    "print(permute([1,2,3]))  # Output: [[1,2,3],[1,3,2],[2,1,3],[2,3,1],[3,1,2],[3,2,1]]"
   ]
  },
  {
   "cell_type": "markdown",
   "metadata": {
    "id": "KkuL2bxnfGlA"
   },
   "source": [
    "## 10.6 Conclusion"
   ]
  },
  {
   "cell_type": "markdown",
   "metadata": {
    "id": "LWH2WKv9fIkV"
   },
   "source": [
    "Recursion, backtracking, and recurrence relations are powerful techniques in algorithm design and problem-solving. Each has unique strengths and applications:\n",
    "\n",
    "* **Recursion** breaks down complex problems into simpler subproblems.\n",
    "  * Example: Factorial calculation and Fibonacci sequence.\n",
    "* **Backtracking** systematically explores all possible solutions for constraint satisfaction problems.\n",
    "  * Example: Sudoku solver, generating well-formed parentheses, and subsets/permutations.\n",
    "* **Recurrence Relations** provide a mathematical framework for defining problems in terms of their subproblems and analyzing the time complexity of recursive algorithms.\n",
    "  * Example: Recurrence relation for the Fibonacci sequence.\n",
    "  \n",
    "By mastering these techniques, you are well-equipped to tackle a wide range of computational challenges, solve classic algorithmic problems, optimize solutions, and analyze time complexity effectively."
   ]
  },
  {
   "cell_type": "markdown",
   "metadata": {
    "id": "JSecwJBJfK8f"
   },
   "source": [
    "## 10.7 What to read next"
   ]
  },
  {
   "cell_type": "markdown",
   "metadata": {
    "id": "lsrmj9zRfNv5"
   },
   "source": [
    "Having explored recursion, backtracking, and recurrence relations, it is essential to expand your knowledge to other fundamental topics in computer science and algorithms. These topics build on the principles you've learned and introduce new techniques and applications, enabling you to tackle a wider range of problems with greater efficiency and insight. By diving into the following topics, you'll gain a deeper understanding of how to solve complex problems, optimize solutions, and analyze algorithms effectively.\n",
    "\n",
    "#### 1. Dynamic Programming\n",
    "\n",
    "**Why Read This?**\n",
    "\n",
    "Dynamic programming (DP) is a method for solving complex problems by breaking them down into simpler subproblems and solving each subproblem just once, storing their solutions. It is particularly useful for optimization problems.\n",
    "\n",
    "- **Example:** The Fibonacci sequence and the knapsack problem, where DP optimizes the recursive approach by storing intermediate results.\n",
    "- **Applications:** Widely used in various fields such as operations research, economics, bioinformatics, and more.\n",
    "\n",
    "**Importance:**\n",
    "\n",
    "- Helps in solving problems with overlapping subproblems and optimal substructure efficiently.\n",
    "- Enhances problem-solving skills by introducing memoization and tabulation techniques.\n",
    "\n",
    "#### 2. Divide and Conquer Algorithms\n",
    "\n",
    "**Why Read This?**\n",
    "\n",
    "Divide and conquer is an algorithmic paradigm that solves a problem by breaking it into smaller subproblems, solving each subproblem recursively, and combining their solutions to solve the original problem.\n",
    "\n",
    "- **Example:** Merge sort and quicksort, where the problem of sorting an array is divided into smaller subproblems of sorting subarrays.\n",
    "- **Applications:** Used in various algorithms for sorting, searching, and multiplication of large numbers.\n",
    "\n",
    "**Importance:**\n",
    "\n",
    "- Provides a framework for designing efficient algorithms.\n",
    "- Helps in understanding the recursive decomposition of problems and the concept of conquering subproblems.\n",
    "\n",
    "#### 3. Graph Algorithms\n",
    "\n",
    "**Why Read This?**\n",
    "\n",
    "Graph algorithms are essential for solving problems related to networks, relationships, and connectivity. Depth-First Search (DFS) and Breadth-First Search (BFS) are fundamental graph traversal algorithms.\n",
    "\n",
    "- **Example:** DFS and BFS for traversing or searching tree or graph data structures.\n",
    "- **Applications:** Used in social network analysis, computer networks, pathfinding, and more.\n",
    "\n",
    "**Importance:**\n",
    "\n",
    "- Helps in solving complex problems involving graphs, such as shortest paths, connectivity, and cycle detection.\n",
    "- Enhances understanding of graph theory and its applications in real-world problems.\n",
    "\n",
    "#### 4. Combinatorial Optimization\n",
    "\n",
    "**Why Read This?**\n",
    "\n",
    "Combinatorial optimization involves finding an optimal object from a finite set of objects. It is widely used in fields where optimization is crucial.\n",
    "\n",
    "- **Example:** The traveling salesman problem and the minimum spanning tree problem.\n",
    "- **Applications:** Used in operations research, economics, logistics, and more.\n",
    "\n",
    "**Importance:**\n",
    "\n",
    "- Provides techniques for optimizing complex problems involving discrete objects.\n",
    "- Helps in understanding the theory and algorithms behind finding optimal solutions in various domains.\n",
    "\n",
    "#### 5. Advanced Recurrence Relations\n",
    "\n",
    "**Why Read This?**\n",
    "\n",
    "Advanced recurrence relations help in analyzing the time complexity of algorithms and solving more complex problems defined by recursive relations.\n",
    "\n",
    "- **Example:** Solving recurrence relations using methods like the Master Theorem.\n",
    "- **Applications:** Used in analyzing the performance of divide-and-conquer algorithms and dynamic programming.\n",
    "\n",
    "**Importance:**\n",
    "\n",
    "- Enhances understanding of the mathematical foundations of algorithms.\n",
    "- Provides tools for analyzing and solving recursive problems more effectively.\n",
    "\n",
    "Exploring these topics will deepen your understanding of algorithm design and analysis. Each topic builds on the principles of recursion, backtracking, and recurrence relations, providing you with advanced tools and techniques to tackle a broader range of problems. By mastering these concepts, you'll be well-equipped to solve complex computational challenges, optimize solutions, and understand the underlying structures of various algorithms.\n"
   ]
  }
 ],
 "metadata": {
  "colab": {
   "collapsed_sections": [
    "wJFN9ij4cMLx",
    "jbA8G7ZNcns0",
    "imBGm5hYcrHb",
    "mRAPP64zdKIl",
    "geS640bVdRMB",
    "HcoyHhVkdlOu",
    "fjhSRDTedlOw",
    "ivRm7fWBdlOw",
    "vNd4oUTnraCK",
    "opKA6aQZraCQ",
    "4fgXtMxPraCQ",
    "OE6CAmw1raCQ",
    "w_jM3e4gdxT2",
    "YWLE4Z1Wd5GM",
    "515r1h4deHte",
    "9ENlN_7peKZB",
    "k49w9DwzeZQK",
    "PjpTUWUteZQK",
    "1M7AI-OneZQQ",
    "-NNQP-U8eZQQ",
    "L0YTBxr7eaPB",
    "y_tRnXBGeaPC",
    "M9yLIVYNeaPH",
    "KkuL2bxnfGlA",
    "JSecwJBJfK8f"
   ],
   "provenance": []
  },
  "kernelspec": {
   "display_name": "Python 3 (ipykernel)",
   "language": "python",
   "name": "python3"
  },
  "language_info": {
   "codemirror_mode": {
    "name": "ipython",
    "version": 3
   },
   "file_extension": ".py",
   "mimetype": "text/x-python",
   "name": "python",
   "nbconvert_exporter": "python",
   "pygments_lexer": "ipython3",
   "version": "3.10.13"
  },
  "toc": {
   "base_numbering": 1,
   "nav_menu": {},
   "number_sections": true,
   "sideBar": true,
   "skip_h1_title": false,
   "title_cell": "Table of Contents",
   "title_sidebar": "Contents",
   "toc_cell": false,
   "toc_position": {},
   "toc_section_display": true,
   "toc_window_display": false
  }
 },
 "nbformat": 4,
 "nbformat_minor": 1
}
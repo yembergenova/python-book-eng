{
 "cells": [
  {
   "cell_type": "markdown",
   "metadata": {
    "id": "bsH5zS5vtk1q"
   },
   "source": [
    "<h1 align=\"center\"><font color='black'>Chapter 3. Algorithms Analysis (Asymptotic Notation)</font></h1>\n",
    "<img src=\"https://kartinki.pics/uploads/posts/2021-07/1627420842_29-kartinkin-com-p-algoritm-art-art-krasivo-32.jpg\" alt=\"Image Title\">\n",
    "\n"
   ]
  },
  {
   "cell_type": "markdown",
   "metadata": {
    "id": "drZBzeP1tZ-3"
   },
   "source": [
    "### Table of contents\n",
    "- [Motivation/Intuition](#1)\n",
    "- [Concept 1: Big O Notation](#2)\n",
    "- [Concept 2: Omega Notation](#3)\n",
    "- [Leetcode Problems related to this topic](#4)\n",
    "- [Conclusion](#5)\n",
    "- [Concepts/Topics/Materials to read next](#6)"
   ]
  },
  {
   "cell_type": "markdown",
   "metadata": {
    "id": "A7Cih5IjbBh3"
   },
   "source": [
    "# <div id=#1>1. Motivation/Intuition</div>"
   ]
  },
  {
   "cell_type": "markdown",
   "metadata": {
    "id": "3s7DILokbhEH"
   },
   "source": [
    "<div> Efficiency is key in computer science, much like choosing the best route for a road trip. When faced with multiple algorithms to solve a problem, we need a way to compare their efficiency. Imagine planning a journey: one route might be shorter, but another might have less traffic. Similarly, algorithms have different trade-offs. We use asymptotic notation to predict their performance as the problem size increases. Just as we plan our trip with maps, we use algorithms analysis to guide our choices. </div>"
   ]
  },
  {
   "cell_type": "markdown",
   "metadata": {
    "id": "Aageo2sld1Ok"
   },
   "source": [
    "# <div id=#2>2. Concept 1: Big O Notation</div>"
   ]
  },
  {
   "cell_type": "markdown",
   "metadata": {
    "id": "qyipY5NSeO7h"
   },
   "source": [
    "**2.1. Intuition**\n",
    "\n",
    "Big O notation serves as a roadmap for understanding an algorithm's behavior as the size of the input data grows. Just as a traveler consults a map before embarking on a journey, a programmer relies on Big O notation to anticipate how an algorithm will perform under varying conditions.\n",
    "\n",
    "Imagine you're planning a road trip from one city to another. Before hitting the road, you check the map to assess potential routes, considering factors like distance, road conditions, and traffic congestion. Similarly, Big O notation offers a systematic way to analyze algorithms, focusing on their efficiency and scalability.\n",
    "\n",
    "When you encounter an algorithm with a specific Big O notation, such as O(n^2) or O(log n), it's akin to spotting warning signs of heavy traffic or road closures on your planned route. Just as you might reconsider your route to avoid a traffic jam, programmers strive to optimize algorithms with high time complexities to ensure efficient performance, particularly when dealing with large datasets.\n",
    "\n",
    "For example, an algorithm with a time complexity of O(n^2) might indicate that its performance degrades quadratically as the input size increases. This could be analogous to navigating through heavy traffic where each additional car dramatically slows down the journey. In contrast, an algorithm with a time complexity of O(log n) might resemble a well-planned expressway, where the increase in travel time is logarithmic even as the number of elements grows exponentially.\n",
    "\n",
    "By understanding Big O notation, programmers can make informed decisions about algorithm selection and optimization, much like choosing the best route for a journey. Just as a well-planned route ensures a smooth and efficient trip, a well-designed algorithm with a favorable Big O notation leads to optimal performance and scalability in software applications."
   ]
  },
  {
   "cell_type": "markdown",
   "metadata": {
    "id": "JvKzFVEV8o80"
   },
   "source": [
    "**Time Complexity:**\n",
    "Time complexity represents the amount of time an algorithm takes to run as a function of the length of its input. It is typically expressed using Big O notation.\n",
    "\n",
    "Explanation:\n",
    "**O(1): Constant Time** - The algorithm's runtime does not depend on the size of the input.\n",
    "\n",
    "**O(log n): Logarithmic Time** - The algorithm's runtime grows logarithmically as the size of the input increases.\n",
    "\n",
    "**O(n): Linear Time**- The algorithm's runtime grows linearly with the size of the input.\n",
    "\n",
    "**O(n log n): Linearithmic Time** - The algorithm's runtime grows logarithmically relative to the size of the input but also linearly relative to the size of the input.\n",
    "\n",
    "**O(n^2): Quadratic Time**- The algorithm's runtime grows quadratically with the size of the input.\n",
    "\n",
    "**O(2^n): Exponential Time** - The algorithm's runtime doubles with each additional input element.\n",
    "\n",
    "**O(n!): Factorial Time** - The algorithm's runtime grows factorially with the size of the input.\n",
    "\n",
    "**Code examples:**\n",
    "\n",
    "\n",
    "\n",
    "```\n",
    "# Constant Time - O(1)\n",
    "def constant_time_example(lst):\n",
    "    return lst[0]\n",
    "\n",
    "# Logarithmic Time - O(log n)\n",
    "def binary_search(arr, target):\n",
    "    left, right = 0, len(arr) - 1\n",
    "    while left <= right:\n",
    "        mid = (left + right) // 2\n",
    "        if arr[mid] == target:\n",
    "            return mid\n",
    "        elif arr[mid] < target:\n",
    "            left = mid + 1\n",
    "        else:\n",
    "            right = mid - 1\n",
    "    return -1\n",
    "\n",
    "# Linear Time - O(n)\n",
    "def linear_time_example(lst):\n",
    "    for item in lst:\n",
    "        print(item)\n",
    "\n",
    "# Quadratic Time - O(n^2)\n",
    "def bubble_sort(arr):\n",
    "    n = len(arr)\n",
    "    for i in range(n):\n",
    "        for j in range(0, n-i-1):\n",
    "            if arr[j] > arr[j+1]:\n",
    "                arr[j], arr[j+1] = arr[j+1], arr[j]\n",
    "\n",
    "```\n",
    "\n"
   ]
  },
  {
   "cell_type": "markdown",
   "metadata": {
    "id": "2GkRtRLG99_v"
   },
   "source": [
    "**Space Complexity:**\n",
    "Space complexity represents the amount of memory an algorithm uses relative to the size of its input. It is also expressed using Big O notation.\n",
    "\n",
    "\n",
    "**O(1): Constant Space**- The algorithm uses a fixed amount of memory regardless of the size of the input.\n",
    "\n",
    "**O(n): Linear Space** - The amount of memory used by the algorithm grows linearly with the size of the input.\n",
    "\n",
    "**O(n^2): Quadratic Space** - The amount of memory used by the algorithm grows quadratically with the size of the input.\n",
    "\n",
    "**O(log n): Logarithmic Space**- The amount of memory used by the algorithm grows logarithmically with the size of the input.\n",
    "\n",
    "\n",
    "**Code examples:**\n",
    "\n",
    "\n",
    "\n",
    "```\n",
    "# Constant Space Complexity (O(1))\n",
    "def constant_space_example(n):\n",
    "    x = 5\n",
    "    y = 10\n",
    "    return x + y\n",
    "\n",
    "# Linear Space Complexity (O(n))\n",
    "def linear_space_example(n):\n",
    "    result = []\n",
    "    for i in range(n):\n",
    "        result.append(i)\n",
    "    return result\n",
    "\n",
    "# Quadratic Space Complexity (O(n^2))\n",
    "def quadratic_space_example(n):\n",
    "    matrix = [[0] * n for _ in range(n)]\n",
    "    return matrix\n",
    "\n",
    "# Logarithmic Space Complexity (O(log n))\n",
    "def logarithmic_space_example(n):\n",
    "    if n <= 1:\n",
    "        return n\n",
    "    else:\n",
    "        return logarithmic_space_example(n // 2)\n",
    "```\n",
    "\n",
    "\n",
    "\n"
   ]
  },
  {
   "cell_type": "markdown",
   "metadata": {
    "id": "GEQaBob9kCTn"
   },
   "source": [
    "**2.2 Examples**\n",
    "\n",
    "**Example 1 (Linear Search):** Imagine you're searching for a specific book in a library with many shelves. You start from the first shelf and go through each book until you find the one you're looking for. This process continues until you either find the book or check every shelf in the library.\n",
    "\n",
    "<a href=\"https://www.youtube.com/embed/246V51AWwZM\" target=\"_blank\">Watch the video about linear sort explanation</a>\n",
    "\n",
    "\n",
    "\n",
    "---\n",
    "\n",
    "\n",
    "\n",
    "**Example 2 (Bubble Sort):** Consider a scenario where you're organizing a stack of papers on your desk. You repeatedly pick up two adjacent papers and compare their contents. If they're in the wrong order (e.g., alphabetically or numerically), you swap them. You continue this process until the entire stack is sorted.\n",
    "\n",
    "<a href=\"https://www.youtube.com/watch?v=Dv4qLJcxus8\" target=\"_blank\">Watch the video about bubble sort explanation</a>\n",
    "\n",
    "---\n",
    "\n",
    "\n",
    "\n",
    "**Example 3 (Binary Search):** Picture yourself searching for a name in a phone book that's sorted alphabetically. You start by opening the phone book to the middle and compare the name you're looking for with the name in the middle. Based on the comparison, you either continue searching in the first half or the second half of the phone book. You repeat this process, narrowing down your search with each iteration, until you find the name you're looking for or determine that it's not in the phone book.\n",
    "\n",
    "<a href=\"https://www.youtube.com/watch?v=xrMppTpoqdw\" target=\"_blank\">Watch the video about binary search explanation</a>"
   ]
  },
  {
   "cell_type": "code",
   "execution_count": 1,
   "metadata": {
    "colab": {
     "base_uri": "https://localhost:8080/",
     "height": 337
    },
    "executionInfo": {
     "elapsed": 474,
     "status": "ok",
     "timestamp": 1715771446366,
     "user": {
      "displayName": "Dina Kengesbay",
      "userId": "06766882285341632807"
     },
     "user_tz": -300
    },
    "id": "w-DpuADr2XCS",
    "outputId": "3e80346d-8902-417e-d3c6-85531efc24b7"
   },
   "outputs": [
    {
     "name": "stderr",
     "output_type": "stream",
     "text": [
      "/home/codespace/.cache/pypoetry/virtualenvs/python-book-eng-Xz8nEEY6-py3.10/lib/python3.10/site-packages/IPython/core/display.py:431: UserWarning: Consider using IPython.display.IFrame instead\n",
      "  warnings.warn(\"Consider using IPython.display.IFrame instead\")\n"
     ]
    },
    {
     "data": {
      "text/html": [
       "<iframe width=\"560\" height=\"315\" src=\"https://www.youtube.com/embed/246V51AWwZM\" frameborder=\"0\" allowfullscreen></iframe>"
      ],
      "text/plain": [
       "<IPython.core.display.HTML object>"
      ]
     },
     "execution_count": 1,
     "metadata": {},
     "output_type": "execute_result"
    }
   ],
   "source": [
    "from IPython.display import HTML\n",
    "\n",
    "# Embedding the first YouTube video\n",
    "HTML('<iframe width=\"560\" height=\"315\" src=\"https://www.youtube.com/embed/246V51AWwZM\" frameborder=\"0\" allowfullscreen></iframe>')\n"
   ]
  },
  {
   "cell_type": "code",
   "execution_count": 2,
   "metadata": {
    "colab": {
     "base_uri": "https://localhost:8080/",
     "height": 337
    },
    "executionInfo": {
     "elapsed": 448,
     "status": "ok",
     "timestamp": 1715771468757,
     "user": {
      "displayName": "Dina Kengesbay",
      "userId": "06766882285341632807"
     },
     "user_tz": -300
    },
    "id": "y_IxHwwo8q1f",
    "outputId": "fae2c44d-34cd-4842-b5cd-7f7fb2b51ecc"
   },
   "outputs": [
    {
     "data": {
      "text/html": [
       "<iframe width=\"560\" height=\"315\" src=\"https://www.youtube.com/embed/Dv4qLJcxus8\" frameborder=\"0\" allowfullscreen></iframe>"
      ],
      "text/plain": [
       "<IPython.core.display.HTML object>"
      ]
     },
     "execution_count": 2,
     "metadata": {},
     "output_type": "execute_result"
    }
   ],
   "source": [
    "# Embedding the second YouTube video\n",
    "HTML('<iframe width=\"560\" height=\"315\" src=\"https://www.youtube.com/embed/Dv4qLJcxus8\" frameborder=\"0\" allowfullscreen></iframe>')\n"
   ]
  },
  {
   "cell_type": "code",
   "execution_count": 3,
   "metadata": {
    "colab": {
     "base_uri": "https://localhost:8080/",
     "height": 337
    },
    "executionInfo": {
     "elapsed": 565,
     "status": "ok",
     "timestamp": 1715771483633,
     "user": {
      "displayName": "Dina Kengesbay",
      "userId": "06766882285341632807"
     },
     "user_tz": -300
    },
    "id": "JRSDB2qE8rJ1",
    "outputId": "8f5b2eac-04c3-4c87-e331-3fb073239305"
   },
   "outputs": [
    {
     "data": {
      "text/html": [
       "<iframe width=\"560\" height=\"315\" src=\"https://www.youtube.com/embed/xrMppTpoqdw\" frameborder=\"0\" allowfullscreen></iframe>"
      ],
      "text/plain": [
       "<IPython.core.display.HTML object>"
      ]
     },
     "execution_count": 3,
     "metadata": {},
     "output_type": "execute_result"
    }
   ],
   "source": [
    "# Embedding the third YouTube video\n",
    "HTML('<iframe width=\"560\" height=\"315\" src=\"https://www.youtube.com/embed/xrMppTpoqdw\" frameborder=\"0\" allowfullscreen></iframe>')\n"
   ]
  },
  {
   "cell_type": "markdown",
   "metadata": {
    "id": "yFtUEp8_2X2Z"
   },
   "source": [
    "<a href=\"https://www.youtube.com/watch?v=rNgswRZ2C1Y\" target=\"_blank\">"
   ]
  },
  {
   "cell_type": "markdown",
   "metadata": {
    "id": "SRlH7LNjltbk"
   },
   "source": [
    "**2.3 Codes**"
   ]
  },
  {
   "cell_type": "code",
   "execution_count": 4,
   "metadata": {
    "id": "CD-mmKzImBxF"
   },
   "outputs": [],
   "source": [
    "# Example 1: Linear Search\n",
    "\n",
    "def linear_search(nums, target):\n",
    "    # Iterate through each element in the array\n",
    "    for i in range(len(nums)):\n",
    "        # Compare the current element with the target\n",
    "        if nums[i] == target:\n",
    "            # If target found, return its index\n",
    "            return i\n",
    "    # If target not found, return -1\n",
    "    return -1\n",
    "\n",
    "# Example 2: Bubble Sort\n",
    "\n",
    "def bubble_sort(nums):\n",
    "    n = len(nums)\n",
    "    # Iterate through the array\n",
    "    for i in range(n):\n",
    "        # Iterate through elements up to n-i-1\n",
    "        for j in range(0, n-i-1):\n",
    "            # Compare adjacent elements\n",
    "            if nums[j] > nums[j+1]:\n",
    "                # Swap if elements are in the wrong order\n",
    "                nums[j], nums[j+1] = nums[j+1], nums[j]\n",
    "    return nums\n",
    "\n",
    "# Example 3: Binary Search\n",
    "\n",
    "def binary_search(nums, target):\n",
    "    left, right = 0, len(nums) - 1\n",
    "    # Binary search until left pointer is less than or equal to right pointer\n",
    "    while left <= right:\n",
    "        # Calculate middle index\n",
    "        mid = left + (right - left) // 2\n",
    "        # Check if target is equal to middle element\n",
    "        if nums[mid] == target:\n",
    "            # If target found, return its index\n",
    "            return mid\n",
    "        # If target is greater than middle element, search right half\n",
    "        elif nums[mid] < target:\n",
    "            left = mid + 1\n",
    "        # If target is less than middle element, search left half\n",
    "        else:\n",
    "            right = mid - 1\n",
    "    # If target not found, return -1\n",
    "    return -1"
   ]
  },
  {
   "cell_type": "code",
   "execution_count": 5,
   "metadata": {
    "colab": {
     "base_uri": "https://localhost:8080/"
    },
    "executionInfo": {
     "elapsed": 511,
     "status": "ok",
     "timestamp": 1715765612542,
     "user": {
      "displayName": "Dina Kengesbay",
      "userId": "06766882285341632807"
     },
     "user_tz": -300
    },
    "id": "6yEltTKfnAX1",
    "outputId": "df235913-bb53-49a2-a227-052a60e16026"
   },
   "outputs": [
    {
     "name": "stdout",
     "output_type": "stream",
     "text": [
      "Linear Search Index: 2\n",
      "Sorted Array (Bubble Sort): [1, 2, 4, 5, 7, 9]\n",
      "Binary Search Index: 4\n"
     ]
    }
   ],
   "source": [
    "# Sample values\n",
    "nums = [4, 2, 7, 1, 9, 5]\n",
    "target_linear_search = 7\n",
    "target_binary_search = 9\n",
    "\n",
    "# Running methods\n",
    "print(\"Linear Search Index:\", linear_search(nums, target_linear_search))\n",
    "print(\"Sorted Array (Bubble Sort):\", bubble_sort(nums.copy()))\n",
    "print(\"Binary Search Index:\", binary_search(nums.copy(), target_binary_search))"
   ]
  },
  {
   "cell_type": "markdown",
   "metadata": {
    "id": "8tSStAzcmgKC"
   },
   "source": [
    "# <div id=#3>3. Concept 2: Omega Notation</div>"
   ]
  },
  {
   "cell_type": "markdown",
   "metadata": {
    "id": "GAPz2xlemeVk"
   },
   "source": [
    "**3.1 Intuition**\n",
    "\n",
    "Omega notation, denoted by Ω, provides insight into the lower bound of an algorithm's time complexity. While Big O notation focuses on the worst-case scenario, Omega notation delves into the best-case scenario. It offers a lower limit or a floor for the algorithm's performance as the input size grows.\n",
    "\n",
    "Imagine you're exploring a maze. Omega notation serves as a guide, indicating the shortest path or the best-case scenario for reaching the exit. Just as you'd want to find the quickest route to your destination, programmers aim to identify algorithms that exhibit optimal performance under favorable conditions.\n",
    "\n",
    "For instance, consider sorting algorithms. Some sorting algorithms, like merge sort, boast a time complexity of O(n log n) in both the average and worst cases. However, in the best-case scenario—when the input array is already sorted—merge sort can exhibit a time complexity closer to O(n), as it requires minimal comparisons and merges.\n",
    "\n",
    "Similarly, in searching algorithms like binary search, the best-case scenario occurs when the target element is found at the middle of the array on the first comparison. In such cases, binary search demonstrates a time complexity of O(1), indicating constant time complexity.\n",
    "\n",
    "Understanding Omega notation provides programmers with a holistic view of an algorithm's performance spectrum. It complements Big O notation by offering insights into the algorithm's efficiency under optimal conditions. By considering both upper and lower bounds, programmers can make informed decisions when selecting algorithms for different scenarios, ensuring efficient and robust solutions across various use cases."
   ]
  },
  {
   "cell_type": "markdown",
   "metadata": {
    "id": "fPRDJqV6ox4M"
   },
   "source": [
    "**3.2 Examples**\n",
    "\n",
    "**1) Morning Commute:**\n",
    "Imagine you have a morning commute to work. Omega notation can be likened to the best-case scenario for your commute time. If you leave home early when there's minimal traffic, you might reach your destination in the shortest possible time, representing the lower bound or Omega of your commute time. This scenario demonstrates the optimal performance under favorable conditions.\n",
    "\n",
    "\n",
    "---\n",
    "\n",
    "\n",
    "\n",
    "**2) Cooking a Simple Recipe:**\n",
    "When following a simple recipe with only a few ingredients and straightforward steps, Omega notation reflects the best-case scenario for the cooking time. If everything goes smoothly without any unexpected delays or complications, you'll complete the recipe in the shortest possible time, representing the lower bound or Omega of the cooking time. This scenario illustrates optimal performance under ideal conditions.\n",
    "\n",
    "\n",
    "---\n",
    "\n",
    "\n",
    "\n",
    "**3) Downloading a File:**\n",
    "When downloading a file from the internet, Omega notation can represent the best-case scenario for the download speed. If you have a stable and high-speed internet connection, you might experience minimal latency and download the file quickly, demonstrating the lower bound or Omega of the download time. This scenario highlights optimal performance under optimal network conditions."
   ]
  },
  {
   "cell_type": "markdown",
   "metadata": {
    "id": "0uYLfR1-o9A-"
   },
   "source": [
    "**3.3 Codes**"
   ]
  },
  {
   "cell_type": "code",
   "execution_count": 6,
   "metadata": {
    "colab": {
     "base_uri": "https://localhost:8080/"
    },
    "executionInfo": {
     "elapsed": 330,
     "status": "ok",
     "timestamp": 1715767631409,
     "user": {
      "displayName": "Dina Kengesbay",
      "userId": "06766882285341632807"
     },
     "user_tz": -300
    },
    "id": "Us62GordorNP",
    "outputId": "4ca94fe7-5f46-443c-eeb2-d9d602447e55"
   },
   "outputs": [
    {
     "name": "stdout",
     "output_type": "stream",
     "text": [
      "Morning Commute Time: Omega(1) - Minimal commute time\n"
     ]
    }
   ],
   "source": [
    "# Sample function to calculate morning commute time\n",
    "def morning_commute_time(traffic):\n",
    "    if traffic == \"light\":\n",
    "        return \"Omega(1) - Minimal commute time\"\n",
    "    else:\n",
    "        return \"Worst-case scenario - Commute time varies with traffic\"\n",
    "\n",
    "# Example usage\n",
    "traffic_condition = \"light\"\n",
    "print(\"Morning Commute Time:\", morning_commute_time(traffic_condition))"
   ]
  },
  {
   "cell_type": "code",
   "execution_count": 7,
   "metadata": {
    "colab": {
     "base_uri": "https://localhost:8080/"
    },
    "executionInfo": {
     "elapsed": 308,
     "status": "ok",
     "timestamp": 1715767991582,
     "user": {
      "displayName": "Dina Kengesbay",
      "userId": "06766882285341632807"
     },
     "user_tz": -300
    },
    "id": "9EHO5fGcuH0T",
    "outputId": "e385cfd8-eb6c-4fa9-abe0-029cf75b6960"
   },
   "outputs": [
    {
     "name": "stdout",
     "output_type": "stream",
     "text": [
      "Cooking Time: Omega(1) - Minimal cooking time\n"
     ]
    }
   ],
   "source": [
    "# Sample function to calculate cooking time for a simple recipe\n",
    "def cooking_time(recipe_complexity):\n",
    "    if recipe_complexity == \"simple\":\n",
    "        return \"Omega(1) - Minimal cooking time\"\n",
    "    else:\n",
    "        return \"Worst-case scenario - Cooking time varies with recipe complexity\"\n",
    "\n",
    "# Example usage\n",
    "recipe_complexity = \"simple\"\n",
    "print(\"Cooking Time:\", cooking_time(recipe_complexity))\n"
   ]
  },
  {
   "cell_type": "code",
   "execution_count": 8,
   "metadata": {
    "colab": {
     "base_uri": "https://localhost:8080/"
    },
    "executionInfo": {
     "elapsed": 532,
     "status": "ok",
     "timestamp": 1715767823346,
     "user": {
      "displayName": "Dina Kengesbay",
      "userId": "06766882285341632807"
     },
     "user_tz": -300
    },
    "id": "kEYN80bgusS8",
    "outputId": "4a179808-3b07-4645-8168-9c20319c3523"
   },
   "outputs": [
    {
     "name": "stdout",
     "output_type": "stream",
     "text": [
      "Download Time: Omega(1) - Minimal download time\n"
     ]
    }
   ],
   "source": [
    "# Sample function to calculate download time for a file\n",
    "def download_time(internet_speed):\n",
    "    if internet_speed == \"high\":\n",
    "        return \"Omega(1) - Minimal download time\"\n",
    "    else:\n",
    "        return \"Worst-case scenario - Download time varies with internet speed\"\n",
    "\n",
    "# Example usage\n",
    "internet_speed = \"high\"\n",
    "print(\"Download Time:\", download_time(internet_speed))"
   ]
  },
  {
   "cell_type": "markdown",
   "metadata": {
    "id": "L8hllH4Sns7t"
   },
   "source": [
    "**Visualizations of the examples:**"
   ]
  },
  {
   "cell_type": "code",
   "execution_count": 9,
   "metadata": {
    "colab": {
     "base_uri": "https://localhost:8080/",
     "height": 472
    },
    "executionInfo": {
     "elapsed": 1752,
     "status": "ok",
     "timestamp": 1715768097553,
     "user": {
      "displayName": "Dina Kengesbay",
      "userId": "06766882285341632807"
     },
     "user_tz": -300
    },
    "id": "HEsIZayZp0t3",
    "outputId": "2664f7eb-b2b8-44f3-a97b-c624a209050d"
   },
   "outputs": [
    {
     "ename": "ModuleNotFoundError",
     "evalue": "No module named 'matplotlib'",
     "output_type": "error",
     "traceback": [
      "\u001b[0;31m---------------------------------------------------------------------------\u001b[0m",
      "\u001b[0;31mModuleNotFoundError\u001b[0m                       Traceback (most recent call last)",
      "Cell \u001b[0;32mIn[9], line 1\u001b[0m\n\u001b[0;32m----> 1\u001b[0m \u001b[38;5;28;01mimport\u001b[39;00m \u001b[38;5;21;01mmatplotlib\u001b[39;00m\u001b[38;5;21;01m.\u001b[39;00m\u001b[38;5;21;01mpyplot\u001b[39;00m \u001b[38;5;28;01mas\u001b[39;00m \u001b[38;5;21;01mplt\u001b[39;00m\n\u001b[1;32m      3\u001b[0m \u001b[38;5;66;03m# Sample function to visualize commute time\u001b[39;00m\n\u001b[1;32m      4\u001b[0m \u001b[38;5;28;01mdef\u001b[39;00m \u001b[38;5;21mvisualize_morning_commute\u001b[39m():\n",
      "\u001b[0;31mModuleNotFoundError\u001b[0m: No module named 'matplotlib'"
     ]
    }
   ],
   "source": [
    "import matplotlib.pyplot as plt\n",
    "\n",
    "# Sample function to visualize commute time\n",
    "def visualize_morning_commute():\n",
    "    traffic_conditions = [\"light\", \"moderate\", \"heavy\"]\n",
    "    commute_times = [1, 5, 10]  # Sample commute times in minutes\n",
    "\n",
    "    plt.bar(traffic_conditions, commute_times, color='skyblue')\n",
    "    plt.title('Morning Commute Time')\n",
    "    plt.xlabel('Traffic Conditions')\n",
    "    plt.ylabel('Commute Time (minutes)')\n",
    "    plt.show()\n",
    "\n",
    "# Example usage\n",
    "visualize_morning_commute()"
   ]
  },
  {
   "cell_type": "code",
   "execution_count": 12,
   "metadata": {
    "colab": {
     "base_uri": "https://localhost:8080/",
     "height": 472
    },
    "executionInfo": {
     "elapsed": 380,
     "status": "ok",
     "timestamp": 1715768129709,
     "user": {
      "displayName": "Dina Kengesbay",
      "userId": "06766882285341632807"
     },
     "user_tz": -300
    },
    "id": "CM4E3SXlp0xD",
    "outputId": "5e20eb84-83f1-43b0-ca65-19773ebe5308"
   },
   "outputs": [
    {
     "ename": "NameError",
     "evalue": "name 'plt' is not defined",
     "output_type": "error",
     "traceback": [
      "\u001b[0;31m---------------------------------------------------------------------------\u001b[0m",
      "\u001b[0;31mNameError\u001b[0m                                 Traceback (most recent call last)",
      "Cell \u001b[0;32mIn[12], line 13\u001b[0m\n\u001b[1;32m     10\u001b[0m     plt\u001b[38;5;241m.\u001b[39mshow()\n\u001b[1;32m     12\u001b[0m \u001b[38;5;66;03m# Example usage\u001b[39;00m\n\u001b[0;32m---> 13\u001b[0m \u001b[43mvisualize_cooking_time\u001b[49m\u001b[43m(\u001b[49m\u001b[43m)\u001b[49m\n",
      "Cell \u001b[0;32mIn[12], line 6\u001b[0m, in \u001b[0;36mvisualize_cooking_time\u001b[0;34m()\u001b[0m\n\u001b[1;32m      3\u001b[0m recipe_complexity \u001b[38;5;241m=\u001b[39m [\u001b[38;5;124m\"\u001b[39m\u001b[38;5;124msimple\u001b[39m\u001b[38;5;124m\"\u001b[39m, \u001b[38;5;124m\"\u001b[39m\u001b[38;5;124mcomplex\u001b[39m\u001b[38;5;124m\"\u001b[39m]\n\u001b[1;32m      4\u001b[0m cooking_times \u001b[38;5;241m=\u001b[39m [\u001b[38;5;241m10\u001b[39m, \u001b[38;5;241m30\u001b[39m]  \u001b[38;5;66;03m# Sample cooking times in minutes\u001b[39;00m\n\u001b[0;32m----> 6\u001b[0m \u001b[43mplt\u001b[49m\u001b[38;5;241m.\u001b[39mbar(recipe_complexity, cooking_times, color\u001b[38;5;241m=\u001b[39m\u001b[38;5;124m'\u001b[39m\u001b[38;5;124mlightgreen\u001b[39m\u001b[38;5;124m'\u001b[39m)\n\u001b[1;32m      7\u001b[0m plt\u001b[38;5;241m.\u001b[39mtitle(\u001b[38;5;124m'\u001b[39m\u001b[38;5;124mCooking Time\u001b[39m\u001b[38;5;124m'\u001b[39m)\n\u001b[1;32m      8\u001b[0m plt\u001b[38;5;241m.\u001b[39mxlabel(\u001b[38;5;124m'\u001b[39m\u001b[38;5;124mRecipe Complexity\u001b[39m\u001b[38;5;124m'\u001b[39m)\n",
      "\u001b[0;31mNameError\u001b[0m: name 'plt' is not defined"
     ]
    }
   ],
   "source": [
    "# Sample function to visualize cooking time\n",
    "def visualize_cooking_time():\n",
    "    recipe_complexity = [\"simple\", \"complex\"]\n",
    "    cooking_times = [10, 30]  # Sample cooking times in minutes\n",
    "\n",
    "    plt.bar(recipe_complexity, cooking_times, color='lightgreen')\n",
    "    plt.title('Cooking Time')\n",
    "    plt.xlabel('Recipe Complexity')\n",
    "    plt.ylabel('Cooking Time (minutes)')\n",
    "    plt.show()\n",
    "\n",
    "# Example usage\n",
    "visualize_cooking_time()"
   ]
  },
  {
   "cell_type": "code",
   "execution_count": null,
   "metadata": {
    "colab": {
     "base_uri": "https://localhost:8080/",
     "height": 472
    },
    "executionInfo": {
     "elapsed": 496,
     "status": "ok",
     "timestamp": 1715768164434,
     "user": {
      "displayName": "Dina Kengesbay",
      "userId": "06766882285341632807"
     },
     "user_tz": -300
    },
    "id": "l5Mw_uKOv7SC",
    "outputId": "c9c6b190-968f-4edb-ea71-fc5c0c4f6c9d"
   },
   "outputs": [
    {
     "data": {
      "image/png": "[encoded data removed]",
      "text/plain": [
       "<Figure size 640x480 with 1 Axes>"
      ]
     },
     "metadata": {},
     "output_type": "display_data"
    }
   ],
   "source": [
    "# Sample function to visualize download time\n",
    "def visualize_download_time():\n",
    "    internet_speeds = [\"high\", \"low\"]\n",
    "    download_times = [1, 10]  # Sample download times in minutes\n",
    "\n",
    "    plt.bar(internet_speeds, download_times, color='lightcoral')\n",
    "    plt.title('Download Time')\n",
    "    plt.xlabel('Internet Speed')\n",
    "    plt.ylabel('Download Time (minutes)')\n",
    "    plt.show()\n",
    "\n",
    "# Example usage\n",
    "visualize_download_time()\n"
   ]
  },
  {
   "cell_type": "markdown",
   "metadata": {
    "id": "9Nom9SSsnbIs"
   },
   "source": [
    "# <div id=#4>4. Leetcode Problems related to this topic</div>"
   ]
  },
  {
   "cell_type": "markdown",
   "metadata": {
    "id": "HMkSZlCKRaw_"
   },
   "source": [
    "**4.1. Problem 1: Minimum Speed to Arrive on Time**\n",
    "\n",
    "<a href=\"https://leetcode.com/problems/minimum-speed-to-arrive-on-time/description/\" target=\"_blank\">Link to the problem</a>\n",
    "\n",
    "\n",
    "\n",
    "**4.1.1. Problem Statement**\n",
    "\n",
    "You are given a floating-point number hour, representing the amount of time you have to reach the office. To commute to the office, you must take n trains in sequential order. You are also given an integer array dist of length n, where dist[i] describes the distance (in kilometers) of the ith train ride.\n",
    "\n",
    "Each train can only depart at an integer hour, so you may need to wait in between each train ride.\n",
    "\n",
    "For example, if the 1st train ride takes 1.5 hours, you must wait for an additional 0.5 hours before you can depart on the 2nd train ride at the 2 hour mark.\n",
    "Return the minimum positive integer speed (in kilometers per hour) that all the trains must travel at for you to reach the office on time, or -1 if it is impossible to be on time.\n",
    "\n",
    "Tests are generated such that the answer will not exceed 107 and hour will have at most two digits after the decimal point.\n",
    "\n",
    "\n",
    "\n",
    "**4.1.2. Intuition**\n",
    "\n",
    "To solve the problem of determining the minimum speed required for reaching the office on time, we need to consider the time taken for each train ride and the available commuting time. The intuition behind the solution involves iteratively adjusting the speed until we find the minimum speed that allows us to complete all train rides within the given time constraint. We start with a search space defined by the minimum and maximum possible speeds, and then use binary search to narrow down the search space efficiently. During each iteration, we calculate the total time required for all train rides at the current speed and compare it with the available commuting time. Based on this comparison, we update the search space accordingly, converging to the minimum speed required to reach the office on time. This approach ensures an optimal solution while efficiently handling edge cases and minimizing unnecessary computations.\n",
    "\n",
    "**4.1.3. Code**\n",
    "\n",
    "The time complexity of the provided code is O(nlogm), where n is the number of trains and m is the maximum possible speed, due to the binary search iterating over the maximum speed range and computing the total time for all train rides in each iteration."
   ]
  },
  {
   "cell_type": "code",
   "execution_count": null,
   "metadata": {
    "colab": {
     "base_uri": "https://localhost:8080/"
    },
    "executionInfo": {
     "elapsed": 459,
     "status": "ok",
     "timestamp": 1715778076708,
     "user": {
      "displayName": "Dina Kengesbay",
      "userId": "06766882285341632807"
     },
     "user_tz": -300
    },
    "id": "za7-hQUExhQy",
    "outputId": "8785f1d0-1b40-4ab3-b823-94ee35f580fd"
   },
   "outputs": [
    {
     "name": "stdout",
     "output_type": "stream",
     "text": [
      "All test cases passed!\n"
     ]
    }
   ],
   "source": [
    "from typing import List\n",
    "from math import ceil\n",
    "\n",
    "class Solution:\n",
    "    def minSpeedOnTime(self, dist: List[int], hour: float) -> int:\n",
    "        # Helper function to check if it's possible to reach the office on time with a given speed\n",
    "        def can_reach(dist, speed, hour):\n",
    "            total_time = sum(ceil(d / speed) for d in dist[:-1]) + dist[-1] / speed\n",
    "            return total_time <= hour\n",
    "\n",
    "        # Binary search to find the minimum speed\n",
    "        left, right = 1, int(1e7)\n",
    "        while left < right:\n",
    "            mid = (left + right) // 2\n",
    "            if can_reach(dist, mid, hour):\n",
    "                right = mid\n",
    "            else:\n",
    "                left = mid + 1\n",
    "\n",
    "        # Check if it's possible to reach the office on time with the minimum speed found\n",
    "        if can_reach(dist, left, hour):\n",
    "            return left\n",
    "        else:\n",
    "            return -1\n",
    "\n",
    "# Test cases\n",
    "test_cases = [\n",
    "    ([1, 3, 2], 6),  # Example 1\n",
    "    ([1, 3, 2], 2.7),  # Example 2\n",
    "    ([1, 3, 2], 1.9)  # Example 3\n",
    "]\n",
    "\n",
    "# Expected outputs\n",
    "expected = [1, 3, -1]\n",
    "\n",
    "# Create an instance of the Solution class\n",
    "sol = Solution()\n",
    "\n",
    "# Check outputs\n",
    "for (dist, hour), exp in zip(test_cases, expected):\n",
    "    output = sol.minSpeedOnTime(dist, hour)\n",
    "    assert output == exp, f\"Expected {exp} but got {output} for distance {dist} and hour {hour}\"\n",
    "\n",
    "print(\"All test cases passed!\")\n"
   ]
  },
  {
   "cell_type": "markdown",
   "metadata": {
    "id": "G6xk3alTWIHu"
   },
   "source": [
    "**4.2 Problem 2: Sort Colors**\n",
    "\n",
    "**4.2.1 Problem statement**\n",
    "\n",
    "<a href=\"https://leetcode.com/problems/sort-colors/description/\" target=\"_blank\">Link to the problem</a>\n",
    "\n",
    "Given an array nums with n objects colored red, white, or blue, sort them in-place so that objects of the same color are adjacent, with the colors in the order red, white, and blue.\n",
    "\n",
    "We will use the integers 0, 1, and 2 to represent the color red, white, and blue, respectively.\n",
    "\n",
    "You must solve this problem without using the library's sort function.\n",
    "\n",
    "\n",
    "**4.2.2 Intuition**\n",
    "\n",
    "\n",
    "To solve this problem without using the library's sort function, we can utilize the Dutch National Flag algorithm. The intuition behind this algorithm is to partition the array into three sections: one for red (0), one for white (1), and one for blue (2). We maintain three pointers: left for the next position where a 0 should be placed, right for the next position where a 2 should be placed, and curr for iterating through the array. As we traverse the array, if we encounter a 0, we swap it with the element at index left and increment left. If we encounter a 2, we swap it with the element at index right and decrement right. If we encounter a 1, we simply move to the next element. This process ensures that all 0s are placed at the beginning of the array, all 2s are placed at the end, and all 1s are placed in between.\n",
    "\n",
    "\n",
    "**4.2.3 Code**\n",
    "\n",
    "\n",
    "Algorithm Name: Dutch National Flag Algorithm\n",
    "\n",
    "Time Complexity: O(n)"
   ]
  },
  {
   "cell_type": "code",
   "execution_count": null,
   "metadata": {
    "colab": {
     "base_uri": "https://localhost:8080/"
    },
    "executionInfo": {
     "elapsed": 562,
     "status": "ok",
     "timestamp": 1715779336303,
     "user": {
      "displayName": "Dina Kengesbay",
      "userId": "06766882285341632807"
     },
     "user_tz": -300
    },
    "id": "FgeAHMpvRXj_",
    "outputId": "64f582e3-94a4-4a76-98a7-296de201c200"
   },
   "outputs": [
    {
     "name": "stdout",
     "output_type": "stream",
     "text": [
      "All test cases passed!\n"
     ]
    }
   ],
   "source": [
    "class Solution:\n",
    "    def sortColors(self, nums):\n",
    "        red, white, blue = 0, 0, len(nums) - 1\n",
    "\n",
    "        while white <= blue:\n",
    "            if nums[white] == 0:\n",
    "                nums[white], nums[red] = nums[red], nums[white]\n",
    "                red += 1\n",
    "                white += 1\n",
    "            elif nums[white] == 1:\n",
    "                white += 1\n",
    "            else:\n",
    "                nums[white], nums[blue] = nums[blue], nums[white]\n",
    "                blue -= 1\n",
    "\n",
    "# Test cases\n",
    "test_cases = [\n",
    "    ([2,0,2,1,1,0], [0,0,1,1,2,2]),  # Example 1\n",
    "    ([2,0,1], [0,1,2]),  # Example 2\n",
    "]\n",
    "\n",
    "# Create an instance of the Solution class\n",
    "sol = Solution()\n",
    "\n",
    "# Check outputs\n",
    "for nums, expected in test_cases:\n",
    "    sol.sortColors(nums)\n",
    "    assert nums == expected, f\"Expected {expected} but got {nums}\"\n",
    "\n",
    "print(\"All test cases passed!\")\n"
   ]
  },
  {
   "cell_type": "markdown",
   "metadata": {
    "id": "Z54aqwFtbaU6"
   },
   "source": [
    "**4.3 Problem 3: Count Complete Tree Nodes**\n",
    "\n",
    "\n",
    "<a href=\"https://leetcode.com/problems/count-complete-tree-nodes/description/\" target=\"_blank\">Link to the problem</a>\n",
    "\n",
    "\n",
    "\n",
    "\n",
    "**4.3.1 Problem statement**\n",
    "Given the root of a complete binary tree, return the number of the nodes in the tree.\n",
    "\n",
    "According to Wikipedia, every level, except possibly the last, is completely filled in a complete binary tree, and all nodes in the last level are as far left as possible. It can have between 1 and 2h nodes inclusive at the last level h.\n",
    "\n",
    "Design an algorithm that runs in less than O(n) time complexity.\n",
    "\n",
    "**4.3.2 Intuition**\n",
    "\n",
    "To efficiently determine the number of nodes in a complete binary tree, we exploit its properties by recursively calculating the levels of the left and right subtrees. If the levels are equal, indicating a fully filled last level, we return 2^left_level plus the number of nodes in the right subtree. Otherwise, if the levels are unequal, implying a partially filled last level, we return the sum of the number of nodes in the left subtree and 2^right_level. This approach leverages the structure of complete binary trees to achieve an algorithm that runs in less than O(n) time complexity.\n",
    "\n",
    "**4.3.3 Code**\n",
    "\n",
    "The time complexity of the provided solution is O(log^2𝑛), where n is the number of nodes in the binary tree."
   ]
  },
  {
   "cell_type": "code",
   "execution_count": null,
   "metadata": {
    "colab": {
     "base_uri": "https://localhost:8080/"
    },
    "executionInfo": {
     "elapsed": 422,
     "status": "ok",
     "timestamp": 1715788025893,
     "user": {
      "displayName": "Dina Kengesbay",
      "userId": "06766882285341632807"
     },
     "user_tz": -300
    },
    "id": "tDt1TbML6zmF",
    "outputId": "50b57e70-597f-4b82-f3a7-19c3573be19a"
   },
   "outputs": [
    {
     "name": "stdout",
     "output_type": "stream",
     "text": [
      "All test cases passed!\n"
     ]
    }
   ],
   "source": [
    "from typing import Optional\n",
    "\n",
    "# Definition for a binary tree node.\n",
    "class TreeNode:\n",
    "    def __init__(self, val=0, left=None, right=None):\n",
    "        self.val = val\n",
    "        self.left = left\n",
    "        self.right = right\n",
    "\n",
    "class Solution:\n",
    "    def countNodes(self, root: Optional[TreeNode]) -> int:\n",
    "        if root is None:\n",
    "            return 0\n",
    "        if root.left is None and root.right is None:\n",
    "            return 1\n",
    "        elif root.right is None:\n",
    "            return 2\n",
    "        left_level = self.level(root.left)\n",
    "        right_level = self.level(root.right)\n",
    "        if left_level == right_level:\n",
    "            return 2 ** left_level + self.countNodes(root.right)\n",
    "        else:\n",
    "            return self.countNodes(root.left) + 2 ** right_level\n",
    "\n",
    "    def level(self, root):\n",
    "        i = 0\n",
    "        while root:\n",
    "            i += 1\n",
    "            root = root.left\n",
    "        return i\n",
    "\n",
    "# Test cases\n",
    "test_cases = [\n",
    "    ([1, 2, 3, 4, 5, 6], 6),  # Example 1\n",
    "    ([], 0),  # Example 2\n",
    "    ([1], 1),  # Example 3\n",
    "]\n",
    "\n",
    "# Create binary tree from the list format\n",
    "def create_tree(nodes, index):\n",
    "    if index >= len(nodes) or nodes[index] is None:\n",
    "        return None\n",
    "    root = TreeNode(nodes[index])\n",
    "    root.left = create_tree(nodes, 2 * index + 1)\n",
    "    root.right = create_tree(nodes, 2 * index + 2)\n",
    "    return root\n",
    "\n",
    "# Check outputs\n",
    "for nodes, expected in test_cases:\n",
    "    root = create_tree(nodes, 0)\n",
    "    output = Solution().countNodes(root)\n",
    "    assert output == expected, f\"Expected {expected} but got {output} for input {nodes}\"\n",
    "\n",
    "print(\"All test cases passed!\")\n"
   ]
  },
  {
   "cell_type": "markdown",
   "metadata": {
    "id": "yWS4oMLznxWg"
   },
   "source": [
    "# <div id=#5>5. Conclusion</div>"
   ]
  },
  {
   "cell_type": "markdown",
   "metadata": {
    "id": "YEmPte5WwknD"
   },
   "source": [
    "Asymptotic notation, encompassing concepts like Big O and Omega notation, serves as a powerful framework for analyzing the efficiency of algorithms. Throughout this exploration, we've gained valuable insights into how these notations allow us to evaluate the performance of algorithms in terms of time and space complexity.\n",
    "\n",
    "**Big O notation** provides an upper bound on an algorithm's time complexity, offering insight into the worst-case scenario. It helps us understand how an algorithm's performance scales with input size, guiding our decisions when selecting algorithms for different tasks. By identifying the upper limit of an algorithm's efficiency, we can anticipate and mitigate potential performance bottlenecks.\n",
    "\n",
    "**Omega notation**, on the other hand, delves into the lower bound of an algorithm's time complexity, revealing the best-case scenario. It offers valuable insights into an algorithm's optimal performance under favorable conditions. By considering the lower limit of an algorithm's efficiency, we gain a deeper understanding of its inherent capabilities and potential.\n",
    "\n",
    "By comprehensively understanding concepts like Big O and Omega notation, we equip ourselves with the knowledge and tools necessary to make informed decisions when designing and implementing algorithms. We can assess algorithmic efficiency, anticipate performance characteristics, and select appropriate strategies to address computational challenges effectively.\n",
    "\n",
    "In conclusion, asymptotic notation provides a robust and systematic approach to algorithm analysis, empowering us to optimize efficiency, scalability, and reliability in software development and computational problem-solving. Through continued exploration and application of these concepts, we enhance our ability to create elegant and efficient algorithms that drive innovation and progress in the field of computer science."
   ]
  },
  {
   "cell_type": "markdown",
   "metadata": {
    "id": "6Eq66cafn3V6"
   },
   "source": [
    "# <div id='#6'>6. Concepts/Topics/Materials to read next</div>\n"
   ]
  },
  {
   "cell_type": "markdown",
   "metadata": {
    "id": "E_HqDHJAlN7N"
   },
   "source": [
    "**Book Recommendations:**\n",
    "\n",
    "* \"Introduction to Algorithms\" by Thomas H. Cormen, Charles E. Leiserson, Ronald L. Rivest, and Clifford Stein: This comprehensive textbook covers a wide range of algorithms, their analysis, and their applications. It's widely regarded as one of the best resources for learning about algorithms.\n",
    "\n",
    "* \"Algorithms\" by Robert Sedgewick and Kevin Wayne: This book provides a modern introduction to algorithms, covering topics such as sorting, searching, graph algorithms, and more. It includes Java code examples and practical exercises to reinforce learning.\n",
    "\n",
    "* \"Algorithm Design Manual\" by Steven S. Skiena: This book offers a practical approach to algorithm design, providing insights into problem-solving techniques and algorithmic strategies. It covers a variety of topics and includes real-world examples and exercises.\n",
    "\n",
    "* \"Algorithmic Puzzles\" by Anany Levitin and Maria Levitin: This book presents a collection of algorithmic puzzles and problems, along with solutions and explanations. It's a great resource for honing problem-solving skills and applying algorithmic concepts to challenging problems.\n",
    "\n",
    "* \"Data Structures and Algorithms Made Easy\" by Narasimha Karumanchi: This book provides a simplified approach to understanding data structures and algorithms, with clear explanations and examples. It's suitable for beginners and covers a wide range of topics.\n",
    "\n",
    "* \"Cracking the Coding Interview\" by Gayle Laakmann McDowell: While primarily focused on interview preparation, this book includes valuable insights into algorithmic problem-solving techniques, data structures, and algorithm analysis. It's a useful resource for practicing coding problems and improving algorithmic skills.\n",
    "\n",
    "**Video Courses:**\n",
    "\n",
    "1. https://www.youtube.com/watch?v=_t2GVaQasRY&list=PLeo1K3hjS3uu_n_a__MI_KktGTLYopZ12\n",
    "2. https://www.youtube.com/watch?v=pkYVOmU3MgA\n",
    "3. https://www.youtube.com/watch?v=-rd1IOM7cV8&list=PLtg1mdkLERgnojO72p62NVCZrcdJVhzCm\n",
    "\n",
    "**For Practice:**\n",
    "1. https://medium.com/quickknowledge/hackerrank-code-and-logic-b6cecac51973\n",
    "2. https://leetcode.com/problemset/\n",
    "3. https://codeforces.net/?mobile=true&locale=ru\n",
    "4. https://acmp.ru/index.asp?main=alltasks&ysclid=lw7ovjwofh954976605\n",
    "\n",
    "\n",
    "**Tips:**\n",
    "To deepen your understanding of algorithm analysis, explore foundational concepts such as data structures encompassing arrays, linked lists, trees, graphs, and hash tables, which are essential for organizing and accessing data efficiently. Delve into diverse algorithm design techniques including divide and conquer, greedy algorithms, dynamic programming, and backtracking, providing systematic approaches for solving complex problems. Expand your knowledge with advanced algorithms like graph algorithms (e.g., Dijkstra's, Bellman-Ford), string algorithms (e.g., Knuth-Morris-Pratt, Rabin-Karp), and numerical algorithms (e.g., Fast Fourier Transform, Primality testing), offering powerful tools for addressing sophisticated computational challenges. Dive deeper into complexity theory, exploring topics like P vs. NP, NP-completeness, and approximation algorithms, to understand theoretical boundaries of computation and enhance problem-solving skills. Engage with online courses, textbooks like \"Introduction to Algorithms\" by Cormen et al., and platforms like Coursera and edX for comprehensive learning experiences tailored to various skill levels. Lastly, sharpen your problem-solving prowess by tackling practice problems on platforms like LeetCode and HackerRank, reinforcing theoretical concepts and cultivating algorithmic intuition."
   ]
  },
  {
   "cell_type": "code",
   "execution_count": null,
   "metadata": {
    "id": "ilkJjJS-zFGo"
   },
   "outputs": [],
   "source": []
  }
 ],
 "metadata": {
  "colab": {
   "authorship_tag": "ABX9TyM4J9ZCuM4YrKWjA5chUpEa",
   "provenance": []
  },
  "kernelspec": {
   "display_name": "Python 3 (ipykernel)",
   "language": "python",
   "name": "python3"
  },
  "language_info": {
   "codemirror_mode": {
    "name": "ipython",
    "version": 3
   },
   "file_extension": ".py",
   "mimetype": "text/x-python",
   "name": "python",
   "nbconvert_exporter": "python",
   "pygments_lexer": "ipython3",
   "version": "3.10.13"
  },
  "toc": {
   "base_numbering": 1,
   "nav_menu": {},
   "number_sections": true,
   "sideBar": true,
   "skip_h1_title": false,
   "title_cell": "Table of Contents",
   "title_sidebar": "Contents",
   "toc_cell": false,
   "toc_position": {},
   "toc_section_display": true,
   "toc_window_display": false
  }
 },
 "nbformat": 4,
 "nbformat_minor": 1
}
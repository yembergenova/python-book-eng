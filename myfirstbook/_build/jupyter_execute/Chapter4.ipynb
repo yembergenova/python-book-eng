{
 "cells": [
  {
   "cell_type": "markdown",
   "id": "3ebcd4fc-f4a3-4e31-9935-3898245dea99",
   "metadata": {},
   "source": [
    "## Chapter 4\n",
    "## Data Structures: Linear Data Structures, Hash Tables"
   ]
  },
  {
   "cell_type": "markdown",
   "id": "a48dfe5f-e577-43be-a33e-cf8042ac0896",
   "metadata": {},
   "source": [
    "---\n",
    "### <font color='3E5C76'>Table of contents<font><a class='anchor' id='top'></a>\n",
    "\n",
    "1. [Motivation/Intuition](#motivation)\n",
    "2. [Concept 1: Linear Data Structures](#linear-data-structures)\n",
    "3. [Concept 2: Hash Tables](#hash-tables)\n",
    "4. [Leetcode Problems related to this topic](#leetcode-problems)\n",
    "    1. [Problem 1](#problem-1)\n",
    "    2. [Problem 2](#problem-2)\n",
    "    3. [Problem 3](#problem-3)\n",
    "5. [Conclusion](#conclusion)\n",
    "6. [Topics/Materials to read next](#next-concepts)\n",
    "\n",
    "---"
   ]
  },
  {
   "cell_type": "markdown",
   "id": "f4d5d22d-bc33-400e-a937-f90cc3174d29",
   "metadata": {},
   "source": [
    "<a id=\"motivation\"></a>\n",
    "## <font color='3C6E71'>1. Motivation/Intuition<font><a class='anchor' id='top'></a>"
   ]
  },
  {
   "cell_type": "markdown",
   "id": "13ffff41-4eea-4a0f-af61-e9c45d474702",
   "metadata": {},
   "source": [
    "<div style=\"padding-right:60px\">\n",
    "\n",
    "### What is Data?\n",
    "\n",
    "Before diving into data structures, let's understand the data itself.\n",
    "In common usage, data ([source](https://en.wikipedia.org/wiki/Data)) is a collection of discrete or continuous values that convey information. These values can describe quantities, qualities, facts, statistics, and other fundamental units of meaning. They can also simply consist of sequences of symbols that may require further formal interpretation.\n",
    "\n",
    "<img src=\"https://miro.medium.com/v2/resize:fit:640/format:webp/1*y3095_m-i41raJC94l01qA.jpeg\" alt=\"Containiner with value\" width=\"200\" style=\"float:left; margin-right:20px;\"/>\n",
    "\n",
    "### What is Data structures?\n",
    "\n",
    "Now that we understand what data is, let's move on to data structures.\n",
    "\n",
    "Data structures are essentially specialized formats for *organizing*, *processing*, and *storing* data to facilitate efficient *access* and *modification*. Picture them as containers that hold and organize data in a specific manner.\n",
    "\n",
    "\n",
    "\n",
    "<img src=\"https://media.istockphoto.com/id/465843229/vector/document-cabinet-cartoon.jpg?b=1&s=612x612&w=0&k=20&c=ZhRBHIMZIicbm22kTF4y-rWmearoLSKiacH_4wuyJ_4=\" alt=\"Containiner with value\" width=\"200\" style=\"float:right;\"/>\n",
    "\n",
    "#### Why Do We Need Them?\n",
    "\n",
    "Data structures are crucial because they provide efficient ways to manage data, enhancing the performance of algorithms and operations performed on that data. Imagine trying to find a specific piece of information in a disorganized room versus a neatly arranged filing cabinet – data structures provide that organization.\n",
    "\n",
    "#### Types of Data Structures\n",
    "\n",
    "There are various types of data structures, each with its unique characteristics and applications. Here are some common ones:\n",
    "\n",
    "1. **Linear Data Structures:** These structures organize data in a sequential manner, where each element is connected to its previous and next elements. Examples include arrays, linked lists, stacks, and queues.\n",
    "\n",
    "2. **Hash Tables:** Hash tables utilize a hash function to map keys to values, enabling rapid retrieval of data based on its key. They are particularly useful for quick data lookup operations.\n",
    "\n",
    "3. **Trees:** Trees are hierarchical data structures composed of nodes, where each node can have zero or more child nodes. Examples include binary trees, AVL trees, and B-trees.\n",
    "\n",
    "4. **Graphs:** Graphs represent connections between entities, where each connection is represented by an edge. They are used to model complex relationships in various domains, such as social networks and transportation systems.\n",
    "\n",
    "Each type of data structure has its own strengths and weaknesses, which make them better suited for different tasks. Understanding these differences is really important for using data structures well, making code run smoothly, and solving problems effectively. In this chapter, we're going to take a close look at Linear Data Structures and Hash Tables. We'll dig into how they work and learn how to use them effectively.\n",
    "</div>\n",
    "<div style = \"margin-bottom: 0px\"></div>\n",
    "\n"
   ]
  },
  {
   "cell_type": "markdown",
   "id": "3cda163e-3897-4655-8441-f099217d26ec",
   "metadata": {},
   "source": [
    "--- "
   ]
  },
  {
   "cell_type": "markdown",
   "id": "e41b510a-8234-41b2-9fa7-1f8f9247ca9c",
   "metadata": {},
   "source": [
    "<a id=\"linear-data-structures\"></a>\n",
    "## <font color='3C6E71'>2. Linear Data Structures<font><a class='anchor' id='top'></a>"
   ]
  },
  {
   "cell_type": "markdown",
   "id": "4aec0ff9-b06a-45fe-bfb6-a04c97c3d39b",
   "metadata": {},
   "source": [
    "<div style=\"padding-right:60px\">\n",
    "Before it you've delved into the world of data, explored various types of data structures, and understood their significance, we're ready to take the next step. In this paragraph, we'll delve deeper into linear data structures and their different types.<br>\n",
    "<br>\n",
    "\n",
    "<img src=\"https://img.freepik.com/premium-vector/monochrome-image-round-beads-string-needlework-collection-vector-cartoon_543641-1918.jpg?w=740\" alt=\"Containiner with value\" width=\"200\" style=\"float:right;\"/>\n",
    "\n",
    "### What Is Linear Data Structure? and Types in Linear Data Structure\n",
    "\n",
    "Linear data structures are a fundamental computer science concept that provide a simple way to organize data in a sequential or linearly manner. Imagine an arrangement of data elements, like beads on a string, where each bead is connected to the previous and subsequent ones, except those at the very beginning and end. This sequential arrangement allows you to easily move from one element to another, almost like turning the pages of a book. Because computer memory is linear, these structures are easy to implement, making them accessible to programmers of all levels. \n",
    "\n",
    "Examples of linear data structures include *arrays*, *linked lists*, *stacks*, and *queues*, each of which serves a different purpose in organizing and managing data.\n",
    "\n",
    "\n",
    "\n",
    "\n",
    "\n",
    "\n",
    "</div>"
   ]
  },
  {
   "cell_type": "markdown",
   "id": "09f24e37-7c39-4f38-9108-b8ea5e61ff86",
   "metadata": {},
   "source": [
    "<div style=\"padding-right:60px\">\n",
    "    \n",
    "### Linear data structures:\n",
    "    \n",
    "#### <font color='16425B'>1. Linked List <font><a class='anchor' id='top'></a>\n",
    "\n",
    "Linked lists are linear data structures where each element, known as a node, holds a value and a reference to the next node in the sequence.\n",
    "</div>"
   ]
  },
  {
   "cell_type": "markdown",
   "id": "cda4e1e4-0700-438a-ad83-dd88196ca28c",
   "metadata": {},
   "source": [
    "<div style=\"padding-right:60px\">\n",
    "    \n",
    "There are 3 main types of linked lists: \n",
    "- **Singly linked lists**: nodes have only a next pointer.\n",
    "  <center><img src=\"https://media.geeksforgeeks.org/wp-content/cdn-uploads/20200922124319/Singly-Linked-List1.png\" alt=\"Singly linked lists\" width=\"500\"/></center>\n",
    "- **Doubly linked lists**: nodes have both next and previous pointers\n",
    "  <center><img src=\"https://media.geeksforgeeks.org/wp-content/cdn-uploads/20200922124412/Doubly-Linked-List.png\" alt=\"Doubly linked lists\"  width=\"510\"/></center>\n",
    "- **Circular linked lists**: first and the last nodes are also connected to each other to form a circle, there is no NULL at the end.\n",
    "  <center><img src=\"https://media.geeksforgeeks.org/wp-content/cdn-uploads/20200922124456/Circular-Linked-List.png\" alt=\"Circular linked lists\"  width=\"550\"/></center>\n",
    "\n",
    "**Complex Time:**\n",
    "- Access: O(n)\n",
    "- Search: O(n)\n",
    "- Insertion: O(1) (at the beginning or end), O(n) (in the middle)\n",
    "- Deletion: O(1) (if node is given), O(n) (if searching for node is needed)\n",
    "\n",
    "**Space Complexity:** O(n)\n",
    "\n",
    "**Significance**: Linked lists are widely used in scenarios where dynamic memory allocation is required, such as implementing stacks, queues, and memory management in operating systems. A real-life example is a music playlist, where each song is linked to the next song in the playlist.\n",
    "\n",
    "**Code of Linked List in python:**\n",
    "\n",
    "</div>"
   ]
  },
  {
   "cell_type": "code",
   "execution_count": 1,
   "id": "91c31db5-d447-46ac-88f9-6d401eaeff71",
   "metadata": {},
   "outputs": [],
   "source": [
    "class Node:\n",
    "    def __init__(self, data):  # Node class to create individual elements\n",
    "        self.data = data  # Initialize data\n",
    "        self.next = None  # Initialize next pointer to None (default)\n",
    "\n",
    "class LinkedList:\n",
    "    def __init__(self):\n",
    "        self.head = None  # Initialize head pointer to None (empty list)\n",
    "\n",
    "    def append(self, data):  # Method to add a new node at the end of the list\n",
    "        new_node = Node(data)  # Create a new node\n",
    "        if not self.head:  # If list is empty\n",
    "            self.head = new_node  # Set new node as head\n",
    "            return\n",
    "        last_node = self.head  # Traverse the list to find the last node\n",
    "        while last_node.next:\n",
    "            last_node = last_node.next\n",
    "        last_node.next = new_node  # Attach new node to the last node's next pointer\n",
    "\n",
    "    def display(self):  # Method to display the linked list\n",
    "        current = self.head  # Start from the head\n",
    "        while current:\n",
    "            print(current.data, end=\" -> \")  # Print current node's data\n",
    "            current = current.next  # Move to the next node\n",
    "        print(\"None\")  # Print \"None\" when end of list is reached"
   ]
  },
  {
   "cell_type": "markdown",
   "id": "50a54d1b-2df4-4679-b356-4ea0e46ea07a",
   "metadata": {},
   "source": [
    "--- "
   ]
  },
  {
   "cell_type": "markdown",
   "id": "da5ea6bf-ce90-4430-9f1a-669f30834d12",
   "metadata": {},
   "source": [
    "<div style=\"padding-right:60px\">\n",
    "    \n",
    "#### <font color='16425B'>2. Stack <font><a class='anchor' id='top'></a>\n",
    "<img src=\"https://media.geeksforgeeks.org/wp-content/cdn-uploads/20221219100314/stack.drawio2.png\" alt=\"LIFO\"  style=\"float:right; margin-left:20px\" width=\"400\"/>\n",
    "A stack is a linear data structure that follows the Last-In-First-Out (LIFO) principle. Elements are added and removed from the same end, known as the top. Two kinds of operations can be attributed to the stack, i.e., the pushing and pop operation. Push is necessary for components that need to be added to the collection, and pop is employed when the component previously added needs to be removed from the collection. The extraction can be removed to add the final component.<br>\n",
    "\n",
    "**Complex Time**:\n",
    "- Access: O(n)\n",
    "- Search: O(n)\n",
    "- Insertion (Push): O(1)\n",
    "- Deletion (Pop): O(1)\n",
    "\n",
    "**Space Complexity:** O(n)\n",
    "\n",
    "**Significance**: Stacks are used in various applications such as function call management in programming languages (function call stack), undo functionality in text editors, and handling backtracking in algorithms.\n",
    "\n",
    "**Code of Stack in python:**\n",
    "</div>"
   ]
  },
  {
   "cell_type": "code",
   "execution_count": 2,
   "id": "9e3587f4-79d1-4535-8d01-02689393e598",
   "metadata": {},
   "outputs": [],
   "source": [
    "class Stack:\n",
    "    def __init__(self):\n",
    "        self.items = []  # Initialize an empty list to store stack elements\n",
    "\n",
    "    def push(self, item):  # Method to add an element to the top of the stack\n",
    "        self.items.append(item)  # Append the item to the list\n",
    "\n",
    "    def pop(self):  # Method to remove and return the top element from the stack\n",
    "        if not self.is_empty():\n",
    "            return self.items.pop()  # Remove and return the last item from the list\n",
    "\n",
    "    def is_empty(self):  # Method to check if the stack is empty\n",
    "        return len(self.items) == 0  # Return True if the list is empty, False otherwise\n",
    "\n",
    "    def peek(self):  # Method to return the top element of the stack without removing it\n",
    "        if not self.is_empty():\n",
    "            return self.items[-1]  # Return the last item from the list\n",
    "\n",
    "    def size(self):  # Method to return the number of elements in the stack\n",
    "        return len(self.items)  # Return the length of the list"
   ]
  },
  {
   "cell_type": "markdown",
   "id": "7554e9a3-9032-4fea-8472-b21876532443",
   "metadata": {},
   "source": [
    "---"
   ]
  },
  {
   "cell_type": "markdown",
   "id": "e26c3b8c-d5fa-42e5-a5c1-7a8f00318487",
   "metadata": {},
   "source": [
    "<div style=\"padding-right:60px\">\n",
    "    \n",
    "#### <font color='16425B'>3. Queue <font><a class='anchor' id='top'></a>\n",
    "<img src=\"https://media.geeksforgeeks.org/wp-content/cdn-uploads/20221213113312/Queue-Data-Structures.png\" alt=\"FIFO\"  style=\"float:right; margin-left:20px\" width=\"400\"/>\n",
    "A queue is a linear data structure that follows the First-In-First-Out (FIFO) principle. The exact sequence is followed to carry out the required actions by the components. The main difference between the queue and stacks lies in eliminating an element. It is in the area where the object that was added the most recently is removed first in the stack. At the same time, the case with a queue element that was initially added is removed first.\n",
    "\n",
    "Both the end and the conclusion of the system are used for the removal of data and the addition of data. The two main operations that govern the structure of the queue are dequeue and enqueue. Enqueue refers to the procedure where the addition of a component is allowed to be used in creating data. And dequeue refers to the method where the removal of components is allowed. This is the primary aspect of the queue in this case.\n",
    "\n",
    "**Complex Time**:\n",
    "- Access: O(n)\n",
    "- Search: O(n)\n",
    "- Insertion (Enqueue): O(1)\n",
    "- Deletion (Dequeue): O(1)\n",
    "\n",
    "**Space Complexity**: O(n)\n",
    "\n",
    "**Significance**: Queues are used in scenarios where tasks are processed in the order they arrive, such as job scheduling in operating systems, printer queues, and call center systems.\n",
    "\n",
    "**Code of Queue in python:**\n",
    "</div>"
   ]
  },
  {
   "cell_type": "code",
   "execution_count": 3,
   "id": "d403053c-9e6f-4db6-b609-bfd976649412",
   "metadata": {},
   "outputs": [],
   "source": [
    "class Queue:\n",
    "    def __init__(self):\n",
    "        self.items = []  # Initialize an empty list to store queue elements\n",
    "\n",
    "    def enqueue(self, item):  # Method to add an element to the rear of the queue\n",
    "        self.items.append(item)  # Append the item to the list\n",
    "\n",
    "    def dequeue(self):  # Method to remove and return the front element from the queue\n",
    "        if not self.is_empty():\n",
    "            return self.items.pop(0)  # Remove and return the first item from the list (front of the queue)\n",
    "\n",
    "    def is_empty(self):  # Method to check if the queue is empty\n",
    "        return len(self.items) == 0  # Return True if the list is empty, False otherwise\n",
    "\n",
    "    def peek(self):  # Method to return the front element of the queue without removing it\n",
    "        if not self.is_empty():\n",
    "            return self.items[0]  # Return the first item from the list (front of the queue)\n",
    "\n",
    "    def size(self):  # Method to return the number of elements in the queue\n",
    "        return len(self.items)  # Return the length of the list\n"
   ]
  },
  {
   "cell_type": "markdown",
   "id": "7b3ca4f2-8ffa-4ca6-a570-9255958ff470",
   "metadata": {},
   "source": [
    "---"
   ]
  },
  {
   "cell_type": "markdown",
   "id": "ab7344d6-a9f4-4aa0-8c51-0159fd487cd7",
   "metadata": {},
   "source": [
    "<a id=\"hash-tables\"></a>\n",
    "## <font color='3C6E71'>3. Hash Tables<font><a class='anchor' id='top'></a>"
   ]
  },
  {
   "cell_type": "markdown",
   "id": "21c3aeff-8cdc-421f-b469-b679592ac84a",
   "metadata": {},
   "source": [
    "<div style=\"padding-right:60px\">\n",
    "Imagine stepping into a library where books are not arranged by title or author, but instead scattered randomly across shelves. How would you find the book you seek? This chaos mirrors the world of data storage without hash tables. But fear not! Hash tables are like the magical librarians of computing, bringing order to this chaos with their ingenious organization.\n",
    "    \n",
    "<img src=\"https://media.geeksforgeeks.org/wp-content/cdn-uploads/20221220111537/ComponentsofHashing.png\" alt=\"Containiner with value\" width=\"400\" style=\"float:right; margin: 50px 0 50px 50px\"/>\n",
    "\n",
    "### What Is Hash Tables? \n",
    "Hash tables are akin to a clandestine vault, where each piece of information is securely locked away under a unique key. But here's where the magic truly begins: instead of fumbling through endless shelves, a mystical algorithm swiftly guides us to the exact location of our treasure. Imagine the thrill as the index value generated from a hash function acts as the key to unlock the vault, granting us access to the coveted data within. That makes accessing the data faster. So the search and insertion function of a data element becomes also much faster as the key values themselves become the index of the array which stores the data.\n",
    "\n",
    "**Complexity Time:**\n",
    "- Insertion: O(1)\n",
    "- Deletion: O(1)\n",
    "- Search: O(1)\n",
    "\n",
    "**Space Complexity:** O(n)\n",
    "\n",
    "**Significance:**\n",
    "Hash tables are the backbone of modern computing, offering a versatile and efficient means of storing, retrieving, and manipulating data. They play a crucial role in various applications, including:\n",
    "\n",
    "1. **Database Management:** Hash tables are used to implement hash indexes, enabling quick retrieval of records based on their keys. This enhances the performance of database systems, allowing for rapid data access and manipulation.\n",
    "\n",
    "2. **Search Engines:** Hash tables power the indexing mechanisms of search engines, facilitating speedy retrieval of relevant information from vast repositories of data. By efficiently mapping search queries to relevant web pages, hash tables optimize the search experience for users worldwide.\n",
    "\n",
    "3. **Caching Mechanisms:** Web browsers and applications utilize hash tables to implement caching mechanisms, storing recently accessed data for quick retrieval. This enhances user experience by reducing load times and improving overall performance.\n",
    "\n",
    "4. **Cryptographic Systems:** Hash tables with cryptographic hash functions are employed in password storage and authentication systems. By securely storing passwords as hashed values, hash tables protect sensitive information from unauthorized access and ensure data integrity.\n",
    "\n",
    "In essence, hash tables are indispensable tools in the realm of computing, driving innovation and efficiency across a wide range of industries and applications.\n",
    "\n",
    "**Code of Hash Table in python:**\n",
    "</div>"
   ]
  },
  {
   "cell_type": "code",
   "execution_count": 4,
   "id": "bd1a6c39-1304-4f0d-b0e5-feaaa1ad0622",
   "metadata": {},
   "outputs": [],
   "source": [
    "class HashTable:\n",
    "    def __init__(self, size):\n",
    "        self.size = size\n",
    "        self.hash_table = [[] for _ in range(size)]\n",
    "\n",
    "    def _hash_function(self, key):\n",
    "        return key % self.size\n",
    "\n",
    "    def insert(self, key, value):\n",
    "        hash_key = self._hash_function(key)\n",
    "        for idx, element in enumerate(self.hash_table[hash_key]):\n",
    "            if element[0] == key:\n",
    "                self.hash_table[hash_key][idx] = (key, value)\n",
    "                return\n",
    "        self.hash_table[hash_key].append((key, value))\n",
    "\n",
    "    def delete(self, key):\n",
    "        hash_key = self._hash_function(key)\n",
    "        for idx, element in enumerate(self.hash_table[hash_key]):\n",
    "            if element[0] == key:\n",
    "                del self.hash_table[hash_key][idx]\n",
    "                return\n",
    "\n",
    "    def search(self, key):\n",
    "        hash_key = self._hash_function(key)\n",
    "        for element in self.hash_table[hash_key]:\n",
    "            if element[0] == key:\n",
    "                return element[1]\n",
    "        return None\n"
   ]
  },
  {
   "cell_type": "markdown",
   "id": "120dc5be-8ed8-4dc1-bb8b-3259d07f2ed8",
   "metadata": {},
   "source": [
    "---"
   ]
  },
  {
   "cell_type": "markdown",
   "id": "8c74c7be-973e-4200-811c-a1abc73b5ca8",
   "metadata": {},
   "source": [
    "<a id=\"leetcode-problems\"></a>\n",
    "## <font color='3C6E71'>4. Leetcode Problems related to this topic<font><a class='anchor' id='top'></a>"
   ]
  },
  {
   "cell_type": "markdown",
   "id": "f3e944cf-9c3e-410d-8c44-565a72a8dcca",
   "metadata": {},
   "source": [
    "<div style=\"padding-right:60px\">\n",
    "\n",
    "<a id=\"problem-1\"></a>\n",
    "    \n",
    "#### Problem 1: [Remove Duplicates from Sorted List](https://leetcode.com/problems/remove-duplicates-from-sorted-list/description/)\n",
    "\n",
    "<img src=\"https://assets.leetcode.com/uploads/2021/01/04/list2.jpg\" alt=\"Containiner with value\" width=\"300\" style=\"float:right; margin: 0px 0 0px 40px\"/>\n",
    "\n",
    "The code description is asking you to implement a function that takes the head of a sorted linked list as input and removes all duplicate nodes, ensuring that each element appears only once in the resulting list. The output should be the modified linked list, which remains sorted.\n",
    "\n",
    "- **Input**: head = [1,1,2,3,3]\n",
    "- **Output**: [1,2,3]\n",
    "\n",
    "To solve this problem, we can traverse the linked list while keeping track of consecutive duplicate elements. If we encounter duplicate elements, we can skip them by adjusting the next pointers of the nodes appropriately. By doing so, we ensure that only unique elements remain in the linked list.\n",
    "\n",
    "</div>"
   ]
  },
  {
   "cell_type": "code",
   "execution_count": 5,
   "id": "0f065274-3453-4303-bfcc-33ebf6da76c5",
   "metadata": {},
   "outputs": [],
   "source": [
    "def deleteDuplicates(head):\n",
    "    current = head  \n",
    "\n",
    "    while current and current.next:  \n",
    "        if current.val == current.next.val: \n",
    "            current.next = current.next.next  \n",
    "        else:\n",
    "            current = current.next  \n",
    "\n",
    "    return head"
   ]
  },
  {
   "cell_type": "markdown",
   "id": "14c892cd-9ac1-4018-aa70-9a4d362eac5b",
   "metadata": {},
   "source": [
    "<div style=\"padding-right:60px\">\n",
    "\n",
    "<a id=\"problem-2\"></a>\n",
    "    \n",
    "#### Problem 2: [Two Sum](https://leetcode.com/problems/two-sum/description/)\n",
    "\n",
    "Given an array of integers *nums* and an integer *target*, return the indices of the two numbers such that they add up to *target*. We may assume that each input would have exactly one solution, and you may not use the same element twice. We should return the answer in any order.\n",
    "\n",
    "- **Input**: nums = [2,7,11,15], target = 9\n",
    "- **Output**: [0,1]\n",
    "- **Explanation**: Because nums[0] + nums[1] == 9, we return [0, 1].\n",
    "\n",
    "To solve this problem efficiently, we can utilize a dictionary to store the complements of elements encountered so far. As we traverse the array, for each element *n*, we calculate its complement *(target - n)* and check if it exists in the dictionary. If it does, it means we have found a pair of elements that add up to *target*. We return the indices of the current element and its complement stored in the dictionary. If the complement does not exist in the dictionary, we add the current element and its index to the dictionary for future reference.\n",
    "\n",
    "</div>"
   ]
  },
  {
   "cell_type": "code",
   "execution_count": 6,
   "id": "88e5b0b3-4c5b-481b-a108-9c06d415ec84",
   "metadata": {},
   "outputs": [],
   "source": [
    "def twoSum(self, nums, target):\n",
    "        dict={}\n",
    "        for i,n in enumerate(nums):\n",
    "            if n in dict:\n",
    "                return dict[n],i\n",
    "            else:\n",
    "                dict[target-n]=i"
   ]
  },
  {
   "cell_type": "markdown",
   "id": "750845a0-cd2b-4a15-98c1-3d32853d20cd",
   "metadata": {},
   "source": [
    "<div style=\"padding-right:60px\">\n",
    "\n",
    "<a id=\"problem-3\"></a>\n",
    "    \n",
    "#### Problem 3: [Palindrome Linked List](https://leetcode.com/problems/palindrome-linked-list/description/)\n",
    "\n",
    "<img src=\"https://assets.leetcode.com/uploads/2021/03/03/pal1linked-list.jpg\" alt=\"Containiner with value\" width=\"300\" style=\"float:right; margin: 0px 0 0px 40px\"/>\n",
    "Given the head of a singly linked list, determine if it is a palindrome or not. A palindrome is a sequence that reads the same forwards and backward.\n",
    "\n",
    "- **Input**: head = [1,2,2,1]\n",
    "- **Output**: true\n",
    "\n",
    "Use the slow and fast pointer technique to find the middle of the linked list. Reverse the second half of the linked list. Compare the first half with the reversed second half. If they match, the linked list is a palindrome. Otherwise, it is not a palindrome.\n",
    "\n",
    "</div>"
   ]
  },
  {
   "cell_type": "code",
   "execution_count": 7,
   "id": "4651a464-944b-46b4-90d0-910313593c68",
   "metadata": {},
   "outputs": [],
   "source": [
    "def isPalindrome(self, head):\n",
    "        slow = fast = head \n",
    "        while fast and fast.next:\n",
    "           fast = fast.next.next\n",
    "           slow = slow.next \n",
    "            \n",
    "        stack1=[]\n",
    "        stack2 = []\n",
    "        \n",
    "        fast = slow \n",
    "        slow = head\n",
    "        while fast:\n",
    "            stack2.append(slow.val)\n",
    "            stack1.append(fast.val)\n",
    "            fast = fast.next\n",
    "            slow = slow.next \n",
    "            \n",
    "        stack2.reverse()\n",
    "        return stack1 == stack2"
   ]
  },
  {
   "cell_type": "markdown",
   "id": "dff2a68c-f373-48e2-96a3-772568edbe2b",
   "metadata": {},
   "source": [
    "---"
   ]
  },
  {
   "cell_type": "markdown",
   "id": "e61924bd-c41d-4df6-9008-fe102f270c7b",
   "metadata": {},
   "source": [
    "<a id=\"conclusion\"></a>\n",
    "## <font color='3C6E71'>5. Conclusion<font><a class='anchor' id='top'></a>"
   ]
  },
  {
   "cell_type": "markdown",
   "id": "a770a7c3-fb84-425d-8956-75a4406b61d8",
   "metadata": {},
   "source": [
    "Chapter 4 has been a comprehensive exploration of data and data structures, laying the groundwork for understanding their importance and practical applications in computer science and software engineering. We began our journey by dissecting the concept of data.Moving forward, we embarked on an enlightening exploration of data structures, which are specialized formats designed to organize, process, and store data efficiently. These structures act as containers, providing a systematic approach to managing data and enhancing the performance of algorithms and operations.\n",
    "\n",
    "Throughout this chapter, we discovered various types of data structures, each with its unique characteristics and applications. From linear data structures like linked lists, stacks, and queues. We explored a diverse range of tools for organizing and manipulating data. In particular, we delved into the intricacies of linear data structures, understanding their significance and practical implementations. Through detailed discussions and illustrative examples, we gained insights into linked lists, stacks, and queues. Moreover, we explored the remarkable world of hash tables, witnessing their transformative impact on data storage and retrieval. By harnessing the power of hash functions, these structures offer rapid access to information, making them indispensable in database management, search engines, caching mechanisms, and cryptographic systems. To reinforce our understanding, we engaged in practical problem-solving exercises, tackling LeetCode problems related to data structures. By applying our knowledge to real-world coding challenges, we honed our problem-solving skills and deepened our comprehension of data structure concepts.\n",
    "\n",
    "As we conclude Chapter 4, we emerge with a newfound appreciation for the intricacies and versatility of data structures. Armed with this knowledge, we are better equipped to navigate the complexities of software development, optimize algorithm performance, and craft elegant solutions to computational problems. In the next chapter, we will build upon this foundation, exploring advanced topics and delving deeper into the nuances of data structures and algorithms."
   ]
  },
  {
   "cell_type": "markdown",
   "id": "e397dc22-482f-42b6-9b5a-0c021cf2d831",
   "metadata": {},
   "source": [
    "---"
   ]
  },
  {
   "cell_type": "markdown",
   "id": "af5590c9-5bda-49d5-a11b-00127474db17",
   "metadata": {},
   "source": [
    "<a id=\"next-concepts\"></a>\n",
    "## <font color='3C6E71'>6. Topics/Materials to read next<font><a class='anchor' id='top'></a>"
   ]
  },
  {
   "cell_type": "markdown",
   "id": "565ac926-f087-4c82-850f-46009952c0c8",
   "metadata": {},
   "source": [
    "Best resources for learning theory:\n",
    "- MIT Algorithms on YouTube\n",
    "- Jenny's Lectures on YouTube\n",
    "- Abdul Bari Algorithms on YouTube\n",
    "\n",
    "Problems:\n",
    "- [Linked List](https://leetcode.com/list/50sfo32d)\n",
    "- [Stack and Queue](https://leetcode.com/list/504xdrcr)\n",
    "- [Hash Table ](https://leetcode.com/list/504wrexe)\n",
    "\n",
    "Books:\n",
    "- [Introduction to Algorithms](https://www.amazon.com/Introduction-Algorithms-3rd-MIT-Press/dp/0262033844)\n",
    "- [Data Structures and Algorithms Made Easy](https://www.amazon.com/Data-Structures-Algorithms-Made-Easy/dp/819324527X)\n",
    "- [Algorithms](https://www.amazon.com/Algorithms-4th-Robert-Sedgewick/dp/032157351X)"
   ]
  },
  {
   "cell_type": "markdown",
   "id": "12c4d6fe-41b9-49e0-8da5-09f625da7a86",
   "metadata": {},
   "source": [
    "---"
   ]
  }
 ],
 "metadata": {
  "kernelspec": {
   "display_name": "Python 3 (ipykernel)",
   "language": "python",
   "name": "python3"
  },
  "language_info": {
   "codemirror_mode": {
    "name": "ipython",
    "version": 3
   },
   "file_extension": ".py",
   "mimetype": "text/x-python",
   "name": "python",
   "nbconvert_exporter": "python",
   "pygments_lexer": "ipython3",
   "version": "3.10.13"
  },
  "toc": {
   "base_numbering": 1,
   "nav_menu": {},
   "number_sections": true,
   "sideBar": true,
   "skip_h1_title": false,
   "title_cell": "Table of Contents",
   "title_sidebar": "Contents",
   "toc_cell": false,
   "toc_position": {},
   "toc_section_display": true,
   "toc_window_display": false
  }
 },
 "nbformat": 4,
 "nbformat_minor": 5
}